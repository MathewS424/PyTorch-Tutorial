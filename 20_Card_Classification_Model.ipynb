{
  "nbformat": 4,
  "nbformat_minor": 0,
  "metadata": {
    "colab": {
      "provenance": [],
      "authorship_tag": "ABX9TyMphpXpmPUQV08+kUd5kbpB",
      "include_colab_link": true
    },
    "kernelspec": {
      "name": "python3",
      "display_name": "Python 3"
    },
    "language_info": {
      "name": "python"
    }
  },
  "cells": [
    {
      "cell_type": "markdown",
      "metadata": {
        "id": "view-in-github",
        "colab_type": "text"
      },
      "source": [
        "<a href=\"https://colab.research.google.com/github/MathewS424/PyTorch-Tutorial/blob/main/20_Card_Classification_Model.ipynb\" target=\"_parent\"><img src=\"https://colab.research.google.com/assets/colab-badge.svg\" alt=\"Open In Colab\"/></a>"
      ]
    },
    {
      "cell_type": "markdown",
      "source": [
        "**BUILD YOUR FIRST PYTORCH MODEL IN MINUTES - PLAYINGCARD CLASSIFICATION**"
      ],
      "metadata": {
        "id": "iAt2XGb6kwUv"
      }
    },
    {
      "cell_type": "markdown",
      "source": [
        "**LINK - [https://www.kaggle.com/code/robikscube/train-your-first-pytorch-model-card-classifier](https://www.kaggle.com/code/robikscube/train-your-first-pytorch-model-card-classifier)**"
      ],
      "metadata": {
        "id": "S4pV_WgwKi7e"
      }
    },
    {
      "cell_type": "markdown",
      "source": [
        "Train Your Very First Pytorch Model!¶\n",
        "Let's learn through doing.\n",
        "\n",
        "In this notebook we will create an image classifier to detect playing cards.\n",
        "\n",
        "We will tackle this problem in 3 parts:\n",
        "\n",
        "  Pytorch Dataset  \n",
        "  Pytorch Model  \n",
        "  Pytorch Training Loop\n",
        "\n",
        "Almost every pytorch model training pipeline meets this paradigm."
      ],
      "metadata": {
        "id": "GvftFzOpmK9W"
      }
    },
    {
      "cell_type": "code",
      "source": [
        "import torch\n",
        "import torch.nn as nn\n",
        "import torch.optim as optim\n",
        "from torch.utils.data import Dataset, DataLoader\n",
        "import torchvision\n",
        "import torchvision.transforms as transforms\n",
        "from torchvision.datasets import ImageFolder\n",
        "import timm  #import timm is a Python command used to import the timm library, which stands for \"PyTorch Image Models\"\n",
        "\n",
        "import matplotlib.pyplot as plt\n",
        "import numpy as np\n",
        "import pandas as pd\n",
        "import sys"
      ],
      "metadata": {
        "id": "oIhpK0suk91m"
      },
      "execution_count": 6,
      "outputs": []
    },
    {
      "cell_type": "code",
      "source": [
        "print('System Version:', sys.version)\n",
        "print('PyTorch version', torch.__version__)\n",
        "print('Torchvision version', torchvision.__version__)\n",
        "print('Numpy version', np.__version__)\n",
        "print('Pandas version', pd.__version__)"
      ],
      "metadata": {
        "colab": {
          "base_uri": "https://localhost:8080/"
        },
        "id": "KvPi-N9QnJIu",
        "outputId": "500031b1-d335-4658-ad19-ed7c70c63b96"
      },
      "execution_count": 7,
      "outputs": [
        {
          "output_type": "stream",
          "name": "stdout",
          "text": [
            "System Version: 3.10.12 (main, Jul 29 2024, 16:56:48) [GCC 11.4.0]\n",
            "PyTorch version 2.3.1+cu121\n",
            "Torchvision version 0.18.1+cu121\n",
            "Numpy version 1.26.4\n",
            "Pandas version 2.1.4\n"
          ]
        }
      ]
    },
    {
      "cell_type": "markdown",
      "source": [
        "#**Step 1.** **Pytorch Dataset (and Dataloader)**    \n",
        "Would you learn how to bake a cake without first having the ingredients? No.\n",
        "\n",
        "The same thing can be said for training a pytorch model without first having the dataset setup correctly.\n",
        "\n",
        "This is why datasets are important:\n",
        "\n",
        "  It's an organized way to structure how the data and labels are loaded into the model.\n",
        "\n",
        "We can then wrap the dataset in a dataloader and pytorch will handle batching the shuffling the data for us when training the model!"
      ],
      "metadata": {
        "id": "WL8_apLrn-4m"
      }
    },
    {
      "cell_type": "code",
      "source": [
        "class PlayingCardDataset(Dataset):\n",
        "  def __init__(self, data_dir, transform=None):\n",
        "    self.data = ImageFolder(data_dir, transform=transform)\n",
        "\n",
        "  def __len__(self):\n",
        "    return len(self.data)\n",
        "\n",
        "  def __getitem__(self, idx):\n",
        "    return self.data[idx]\n",
        "\n",
        "  @property\n",
        "  def classes(self):\n",
        "    return self.data.classes"
      ],
      "metadata": {
        "id": "f5-15kqhoWl9"
      },
      "execution_count": 9,
      "outputs": []
    },
    {
      "cell_type": "code",
      "source": [
        "dataset = PlayingCardDataset(\n",
        "    data_dir='/kaggle/input/cards-image-datasetclassification/train'\n",
        ")  # for kaggle notebook"
      ],
      "metadata": {
        "colab": {
          "base_uri": "https://localhost:8080/",
          "height": 321
        },
        "id": "GEeO2iSCp8_1",
        "outputId": "da6c54a4-aed3-4543-a2c1-718ca466e957"
      },
      "execution_count": 10,
      "outputs": [
        {
          "output_type": "error",
          "ename": "FileNotFoundError",
          "evalue": "[Errno 2] No such file or directory: '/kaggle/input/cards-image-datasetclassification/train'",
          "traceback": [
            "\u001b[0;31m---------------------------------------------------------------------------\u001b[0m",
            "\u001b[0;31mFileNotFoundError\u001b[0m                         Traceback (most recent call last)",
            "\u001b[0;32m<ipython-input-10-81e3fe96c97e>\u001b[0m in \u001b[0;36m<cell line: 1>\u001b[0;34m()\u001b[0m\n\u001b[0;32m----> 1\u001b[0;31m dataset = PlayingCardDataset(\n\u001b[0m\u001b[1;32m      2\u001b[0m     \u001b[0mdata_dir\u001b[0m\u001b[0;34m=\u001b[0m\u001b[0;34m'/kaggle/input/cards-image-datasetclassification/train'\u001b[0m\u001b[0;34m\u001b[0m\u001b[0;34m\u001b[0m\u001b[0m\n\u001b[1;32m      3\u001b[0m )\n",
            "\u001b[0;32m<ipython-input-9-e03d0b0b8947>\u001b[0m in \u001b[0;36m__init__\u001b[0;34m(self, data_dir, transform)\u001b[0m\n\u001b[1;32m      1\u001b[0m \u001b[0;32mclass\u001b[0m \u001b[0mPlayingCardDataset\u001b[0m\u001b[0;34m(\u001b[0m\u001b[0mDataset\u001b[0m\u001b[0;34m)\u001b[0m\u001b[0;34m:\u001b[0m\u001b[0;34m\u001b[0m\u001b[0;34m\u001b[0m\u001b[0m\n\u001b[1;32m      2\u001b[0m   \u001b[0;32mdef\u001b[0m \u001b[0m__init__\u001b[0m\u001b[0;34m(\u001b[0m\u001b[0mself\u001b[0m\u001b[0;34m,\u001b[0m \u001b[0mdata_dir\u001b[0m\u001b[0;34m,\u001b[0m \u001b[0mtransform\u001b[0m\u001b[0;34m=\u001b[0m\u001b[0;32mNone\u001b[0m\u001b[0;34m)\u001b[0m\u001b[0;34m:\u001b[0m\u001b[0;34m\u001b[0m\u001b[0;34m\u001b[0m\u001b[0m\n\u001b[0;32m----> 3\u001b[0;31m     \u001b[0mself\u001b[0m\u001b[0;34m.\u001b[0m\u001b[0mdata\u001b[0m \u001b[0;34m=\u001b[0m \u001b[0mImageFolder\u001b[0m\u001b[0;34m(\u001b[0m\u001b[0mdata_dir\u001b[0m\u001b[0;34m,\u001b[0m \u001b[0mtransform\u001b[0m\u001b[0;34m=\u001b[0m\u001b[0mtransform\u001b[0m\u001b[0;34m)\u001b[0m\u001b[0;34m\u001b[0m\u001b[0;34m\u001b[0m\u001b[0m\n\u001b[0m\u001b[1;32m      4\u001b[0m \u001b[0;34m\u001b[0m\u001b[0m\n\u001b[1;32m      5\u001b[0m   \u001b[0;32mdef\u001b[0m \u001b[0m__len__\u001b[0m\u001b[0;34m(\u001b[0m\u001b[0mself\u001b[0m\u001b[0;34m)\u001b[0m\u001b[0;34m:\u001b[0m\u001b[0;34m\u001b[0m\u001b[0;34m\u001b[0m\u001b[0m\n",
            "\u001b[0;32m/usr/local/lib/python3.10/dist-packages/torchvision/datasets/folder.py\u001b[0m in \u001b[0;36m__init__\u001b[0;34m(self, root, transform, target_transform, loader, is_valid_file, allow_empty)\u001b[0m\n\u001b[1;32m    326\u001b[0m         \u001b[0mallow_empty\u001b[0m\u001b[0;34m:\u001b[0m \u001b[0mbool\u001b[0m \u001b[0;34m=\u001b[0m \u001b[0;32mFalse\u001b[0m\u001b[0;34m,\u001b[0m\u001b[0;34m\u001b[0m\u001b[0;34m\u001b[0m\u001b[0m\n\u001b[1;32m    327\u001b[0m     ):\n\u001b[0;32m--> 328\u001b[0;31m         super().__init__(\n\u001b[0m\u001b[1;32m    329\u001b[0m             \u001b[0mroot\u001b[0m\u001b[0;34m,\u001b[0m\u001b[0;34m\u001b[0m\u001b[0;34m\u001b[0m\u001b[0m\n\u001b[1;32m    330\u001b[0m             \u001b[0mloader\u001b[0m\u001b[0;34m,\u001b[0m\u001b[0;34m\u001b[0m\u001b[0;34m\u001b[0m\u001b[0m\n",
            "\u001b[0;32m/usr/local/lib/python3.10/dist-packages/torchvision/datasets/folder.py\u001b[0m in \u001b[0;36m__init__\u001b[0;34m(self, root, loader, extensions, transform, target_transform, is_valid_file, allow_empty)\u001b[0m\n\u001b[1;32m    147\u001b[0m     ) -> None:\n\u001b[1;32m    148\u001b[0m         \u001b[0msuper\u001b[0m\u001b[0;34m(\u001b[0m\u001b[0;34m)\u001b[0m\u001b[0;34m.\u001b[0m\u001b[0m__init__\u001b[0m\u001b[0;34m(\u001b[0m\u001b[0mroot\u001b[0m\u001b[0;34m,\u001b[0m \u001b[0mtransform\u001b[0m\u001b[0;34m=\u001b[0m\u001b[0mtransform\u001b[0m\u001b[0;34m,\u001b[0m \u001b[0mtarget_transform\u001b[0m\u001b[0;34m=\u001b[0m\u001b[0mtarget_transform\u001b[0m\u001b[0;34m)\u001b[0m\u001b[0;34m\u001b[0m\u001b[0;34m\u001b[0m\u001b[0m\n\u001b[0;32m--> 149\u001b[0;31m         \u001b[0mclasses\u001b[0m\u001b[0;34m,\u001b[0m \u001b[0mclass_to_idx\u001b[0m \u001b[0;34m=\u001b[0m \u001b[0mself\u001b[0m\u001b[0;34m.\u001b[0m\u001b[0mfind_classes\u001b[0m\u001b[0;34m(\u001b[0m\u001b[0mself\u001b[0m\u001b[0;34m.\u001b[0m\u001b[0mroot\u001b[0m\u001b[0;34m)\u001b[0m\u001b[0;34m\u001b[0m\u001b[0;34m\u001b[0m\u001b[0m\n\u001b[0m\u001b[1;32m    150\u001b[0m         samples = self.make_dataset(\n\u001b[1;32m    151\u001b[0m             \u001b[0mself\u001b[0m\u001b[0;34m.\u001b[0m\u001b[0mroot\u001b[0m\u001b[0;34m,\u001b[0m\u001b[0;34m\u001b[0m\u001b[0;34m\u001b[0m\u001b[0m\n",
            "\u001b[0;32m/usr/local/lib/python3.10/dist-packages/torchvision/datasets/folder.py\u001b[0m in \u001b[0;36mfind_classes\u001b[0;34m(self, directory)\u001b[0m\n\u001b[1;32m    232\u001b[0m             \u001b[0;34m(\u001b[0m\u001b[0mTuple\u001b[0m\u001b[0;34m[\u001b[0m\u001b[0mList\u001b[0m\u001b[0;34m[\u001b[0m\u001b[0mstr\u001b[0m\u001b[0;34m]\u001b[0m\u001b[0;34m,\u001b[0m \u001b[0mDict\u001b[0m\u001b[0;34m[\u001b[0m\u001b[0mstr\u001b[0m\u001b[0;34m,\u001b[0m \u001b[0mint\u001b[0m\u001b[0;34m]\u001b[0m\u001b[0;34m]\u001b[0m\u001b[0;34m)\u001b[0m\u001b[0;34m:\u001b[0m \u001b[0mList\u001b[0m \u001b[0mof\u001b[0m \u001b[0mall\u001b[0m \u001b[0mclasses\u001b[0m \u001b[0;32mand\u001b[0m \u001b[0mdictionary\u001b[0m \u001b[0mmapping\u001b[0m \u001b[0meach\u001b[0m \u001b[0;32mclass\u001b[0m \u001b[0mto\u001b[0m \u001b[0man\u001b[0m \u001b[0mindex\u001b[0m\u001b[0;34m.\u001b[0m\u001b[0;34m\u001b[0m\u001b[0;34m\u001b[0m\u001b[0m\n\u001b[1;32m    233\u001b[0m         \"\"\"\n\u001b[0;32m--> 234\u001b[0;31m         \u001b[0;32mreturn\u001b[0m \u001b[0mfind_classes\u001b[0m\u001b[0;34m(\u001b[0m\u001b[0mdirectory\u001b[0m\u001b[0;34m)\u001b[0m\u001b[0;34m\u001b[0m\u001b[0;34m\u001b[0m\u001b[0m\n\u001b[0m\u001b[1;32m    235\u001b[0m \u001b[0;34m\u001b[0m\u001b[0m\n\u001b[1;32m    236\u001b[0m     \u001b[0;32mdef\u001b[0m \u001b[0m__getitem__\u001b[0m\u001b[0;34m(\u001b[0m\u001b[0mself\u001b[0m\u001b[0;34m,\u001b[0m \u001b[0mindex\u001b[0m\u001b[0;34m:\u001b[0m \u001b[0mint\u001b[0m\u001b[0;34m)\u001b[0m \u001b[0;34m->\u001b[0m \u001b[0mTuple\u001b[0m\u001b[0;34m[\u001b[0m\u001b[0mAny\u001b[0m\u001b[0;34m,\u001b[0m \u001b[0mAny\u001b[0m\u001b[0;34m]\u001b[0m\u001b[0;34m:\u001b[0m\u001b[0;34m\u001b[0m\u001b[0;34m\u001b[0m\u001b[0m\n",
            "\u001b[0;32m/usr/local/lib/python3.10/dist-packages/torchvision/datasets/folder.py\u001b[0m in \u001b[0;36mfind_classes\u001b[0;34m(directory)\u001b[0m\n\u001b[1;32m     39\u001b[0m     \u001b[0mSee\u001b[0m \u001b[0;34m:\u001b[0m\u001b[0;32mclass\u001b[0m\u001b[0;34m:\u001b[0m\u001b[0;31m`\u001b[0m\u001b[0mDatasetFolder\u001b[0m\u001b[0;31m`\u001b[0m \u001b[0;32mfor\u001b[0m \u001b[0mdetails\u001b[0m\u001b[0;34m.\u001b[0m\u001b[0;34m\u001b[0m\u001b[0;34m\u001b[0m\u001b[0m\n\u001b[1;32m     40\u001b[0m     \"\"\"\n\u001b[0;32m---> 41\u001b[0;31m     \u001b[0mclasses\u001b[0m \u001b[0;34m=\u001b[0m \u001b[0msorted\u001b[0m\u001b[0;34m(\u001b[0m\u001b[0mentry\u001b[0m\u001b[0;34m.\u001b[0m\u001b[0mname\u001b[0m \u001b[0;32mfor\u001b[0m \u001b[0mentry\u001b[0m \u001b[0;32min\u001b[0m \u001b[0mos\u001b[0m\u001b[0;34m.\u001b[0m\u001b[0mscandir\u001b[0m\u001b[0;34m(\u001b[0m\u001b[0mdirectory\u001b[0m\u001b[0;34m)\u001b[0m \u001b[0;32mif\u001b[0m \u001b[0mentry\u001b[0m\u001b[0;34m.\u001b[0m\u001b[0mis_dir\u001b[0m\u001b[0;34m(\u001b[0m\u001b[0;34m)\u001b[0m\u001b[0;34m)\u001b[0m\u001b[0;34m\u001b[0m\u001b[0;34m\u001b[0m\u001b[0m\n\u001b[0m\u001b[1;32m     42\u001b[0m     \u001b[0;32mif\u001b[0m \u001b[0;32mnot\u001b[0m \u001b[0mclasses\u001b[0m\u001b[0;34m:\u001b[0m\u001b[0;34m\u001b[0m\u001b[0;34m\u001b[0m\u001b[0m\n\u001b[1;32m     43\u001b[0m         \u001b[0;32mraise\u001b[0m \u001b[0mFileNotFoundError\u001b[0m\u001b[0;34m(\u001b[0m\u001b[0;34mf\"Couldn't find any class folder in {directory}.\"\u001b[0m\u001b[0;34m)\u001b[0m\u001b[0;34m\u001b[0m\u001b[0;34m\u001b[0m\u001b[0m\n",
            "\u001b[0;31mFileNotFoundError\u001b[0m: [Errno 2] No such file or directory: '/kaggle/input/cards-image-datasetclassification/train'"
          ]
        }
      ]
    },
    {
      "cell_type": "code",
      "source": [
        "from google.colab import drive\n",
        "drive.mount('/content/drive')\n"
      ],
      "metadata": {
        "colab": {
          "base_uri": "https://localhost:8080/"
        },
        "id": "1HIBqbYU2JUM",
        "outputId": "ae8d4edb-1253-4a0b-a2c2-ae267a08c044"
      },
      "execution_count": 18,
      "outputs": [
        {
          "output_type": "stream",
          "name": "stdout",
          "text": [
            "Mounted at /content/drive\n"
          ]
        }
      ]
    },
    {
      "cell_type": "code",
      "source": [
        "zip_path = '/content/drive/My Drive/Card_datasets/archive.zip'\n"
      ],
      "metadata": {
        "id": "ZThGyadO2TuT"
      },
      "execution_count": 19,
      "outputs": []
    },
    {
      "cell_type": "code",
      "source": [
        "import os\n",
        "\n",
        "extract_path = '/content/playing_card_dataset'\n",
        "os.makedirs(extract_path, exist_ok=True)\n"
      ],
      "metadata": {
        "id": "ufKZQXKU2g-C"
      },
      "execution_count": 20,
      "outputs": []
    },
    {
      "cell_type": "code",
      "source": [
        "import zipfile\n",
        "\n",
        "with zipfile.ZipFile(zip_path, 'r') as zip_ref:\n",
        "    zip_ref.extractall(extract_path)\n",
        "\n",
        "print(f\"Dataset extracted to {extract_path}\")\n"
      ],
      "metadata": {
        "colab": {
          "base_uri": "https://localhost:8080/"
        },
        "id": "o5Z7B9A72jcr",
        "outputId": "1748f4ea-5300-4bf0-fd50-02cdb1dfcb3d"
      },
      "execution_count": 21,
      "outputs": [
        {
          "output_type": "stream",
          "name": "stdout",
          "text": [
            "Dataset extracted to /content/playing_card_dataset\n"
          ]
        }
      ]
    },
    {
      "cell_type": "code",
      "source": [
        "import os\n",
        "\n",
        "# List the files in the extracted directory\n",
        "extracted_files = os.listdir(extract_path)\n",
        "print(\"Files in extracted directory:\", extracted_files)\n"
      ],
      "metadata": {
        "colab": {
          "base_uri": "https://localhost:8080/"
        },
        "id": "jJAYdOBD2p4s",
        "outputId": "bbea9a36-0da3-46dd-cb10-2e2f6472503b"
      },
      "execution_count": 22,
      "outputs": [
        {
          "output_type": "stream",
          "name": "stdout",
          "text": [
            "Files in extracted directory: ['train', 'cards.csv', '53cards-53-(200 X 200)-100.00.h5', 'test', '14card types-14-(200 X 200)-94.61.h5', 'valid']\n"
          ]
        }
      ]
    },
    {
      "cell_type": "code",
      "source": [
        "dataset = PlayingCardDataset(\n",
        "    data_dir='/content/playing_card_dataset'\n",
        ")"
      ],
      "metadata": {
        "id": "F-_lqzA_3U3D"
      },
      "execution_count": 23,
      "outputs": []
    },
    {
      "cell_type": "code",
      "source": [
        "len(dataset)   # full datasets len"
      ],
      "metadata": {
        "colab": {
          "base_uri": "https://localhost:8080/"
        },
        "id": "XdRg8SRR3YfL",
        "outputId": "e74b4697-f191-4a93-a1a8-d6a7833900c8"
      },
      "execution_count": 24,
      "outputs": [
        {
          "output_type": "execute_result",
          "data": {
            "text/plain": [
              "8154"
            ]
          },
          "metadata": {},
          "execution_count": 24
        }
      ]
    },
    {
      "cell_type": "code",
      "source": [
        "dataset[5]  # (image, label)"
      ],
      "metadata": {
        "colab": {
          "base_uri": "https://localhost:8080/"
        },
        "id": "QFI-YZYWC6-l",
        "outputId": "67b06335-f0e6-4028-d134-9c265b97e291"
      },
      "execution_count": 25,
      "outputs": [
        {
          "output_type": "execute_result",
          "data": {
            "text/plain": [
              "(<PIL.Image.Image image mode=RGB size=224x224>, 0)"
            ]
          },
          "metadata": {},
          "execution_count": 25
        }
      ]
    },
    {
      "cell_type": "code",
      "source": [
        "image, label = dataset[5]\n",
        "print(label)\n",
        "image"
      ],
      "metadata": {
        "colab": {
          "base_uri": "https://localhost:8080/",
          "height": 258
        },
        "id": "UL78b39QDhc9",
        "outputId": "9135fd28-a0a6-4450-f6e0-2f0796af6908"
      },
      "execution_count": 30,
      "outputs": [
        {
          "output_type": "stream",
          "name": "stdout",
          "text": [
            "0\n"
          ]
        },
        {
          "output_type": "execute_result",
          "data": {
            "text/plain": [
              "<PIL.Image.Image image mode=RGB size=224x224>"
            ],
            "image/png": "[encoded data removed]"
          },
          "metadata": {},
          "execution_count": 30
        }
      ]
    },
    {
      "cell_type": "code",
      "source": [
        "dataset = PlayingCardDataset(\n",
        "    data_dir='/content/playing_card_dataset/train'\n",
        ")"
      ],
      "metadata": {
        "id": "xAd0X1F4E5Ul"
      },
      "execution_count": 31,
      "outputs": []
    },
    {
      "cell_type": "code",
      "source": [
        "len(dataset)      # train datasets len"
      ],
      "metadata": {
        "colab": {
          "base_uri": "https://localhost:8080/"
        },
        "id": "CJu2Ezi5E8su",
        "outputId": "4106b5e0-86ec-4a6c-c4b8-214257151f56"
      },
      "execution_count": 32,
      "outputs": [
        {
          "output_type": "execute_result",
          "data": {
            "text/plain": [
              "7624"
            ]
          },
          "metadata": {},
          "execution_count": 32
        }
      ]
    },
    {
      "cell_type": "code",
      "source": [
        "# Get a dictionary associating target values with folder names\n",
        "data_dir = '/content/playing_card_dataset/train'\n",
        "target_to_class = {v: k for k, v in ImageFolder(data_dir).class_to_idx.items()}\n",
        "print(target_to_class)"
      ],
      "metadata": {
        "colab": {
          "base_uri": "https://localhost:8080/"
        },
        "id": "Eh5ai5ivDzkt",
        "outputId": "4a104b9b-7a19-47c9-8f1d-f72c3f565c44"
      },
      "execution_count": 28,
      "outputs": [
        {
          "output_type": "stream",
          "name": "stdout",
          "text": [
            "{0: 'ace of clubs', 1: 'ace of diamonds', 2: 'ace of hearts', 3: 'ace of spades', 4: 'eight of clubs', 5: 'eight of diamonds', 6: 'eight of hearts', 7: 'eight of spades', 8: 'five of clubs', 9: 'five of diamonds', 10: 'five of hearts', 11: 'five of spades', 12: 'four of clubs', 13: 'four of diamonds', 14: 'four of hearts', 15: 'four of spades', 16: 'jack of clubs', 17: 'jack of diamonds', 18: 'jack of hearts', 19: 'jack of spades', 20: 'joker', 21: 'king of clubs', 22: 'king of diamonds', 23: 'king of hearts', 24: 'king of spades', 25: 'nine of clubs', 26: 'nine of diamonds', 27: 'nine of hearts', 28: 'nine of spades', 29: 'queen of clubs', 30: 'queen of diamonds', 31: 'queen of hearts', 32: 'queen of spades', 33: 'seven of clubs', 34: 'seven of diamonds', 35: 'seven of hearts', 36: 'seven of spades', 37: 'six of clubs', 38: 'six of diamonds', 39: 'six of hearts', 40: 'six of spades', 41: 'ten of clubs', 42: 'ten of diamonds', 43: 'ten of hearts', 44: 'ten of spades', 45: 'three of clubs', 46: 'three of diamonds', 47: 'three of hearts', 48: 'three of spades', 49: 'two of clubs', 50: 'two of diamonds', 51: 'two of hearts', 52: 'two of spades'}\n"
          ]
        }
      ]
    },
    {
      "cell_type": "code",
      "source": [
        "# Ensure all images in datasets are same size\n",
        "transform = transforms.Compose([\n",
        "    transforms.Resize((128, 128)),\n",
        "    transforms.ToTensor()\n",
        "])  # Resize all images to 128x128 pixels and convert it to tensor\n",
        "\n",
        "data_dir = '/content/playing_card_dataset/train'\n",
        "dataset = PlayingCardDataset(data_dir, transform)\n"
      ],
      "metadata": {
        "id": "o6jF5qpwEWgd"
      },
      "execution_count": 38,
      "outputs": []
    },
    {
      "cell_type": "code",
      "source": [
        "dataset[100]"
      ],
      "metadata": {
        "colab": {
          "base_uri": "https://localhost:8080/"
        },
        "id": "pWvJIuzhFHdF",
        "outputId": "c7f9fb00-af6b-494b-a6e8-936400cfcbb1"
      },
      "execution_count": 34,
      "outputs": [
        {
          "output_type": "execute_result",
          "data": {
            "text/plain": [
              "(tensor([[[0.0000, 0.0039, 0.0078,  ..., 0.0039, 0.0039, 0.0039],\n",
              "          [0.0039, 0.0078, 0.0431,  ..., 0.0196, 0.0039, 0.0078],\n",
              "          [0.0235, 0.0392, 0.3490,  ..., 0.2392, 0.0314, 0.0118],\n",
              "          ...,\n",
              "          [0.0039, 0.0235, 0.2392,  ..., 0.2196, 0.0314, 0.0118],\n",
              "          [0.0039, 0.0039, 0.0235,  ..., 0.0118, 0.0078, 0.0039],\n",
              "          [0.0039, 0.0078, 0.0039,  ..., 0.0039, 0.0039, 0.0039]],\n",
              " \n",
              "         [[0.0078, 0.0078, 0.0039,  ..., 0.0039, 0.0039, 0.0039],\n",
              "          [0.0039, 0.0039, 0.0392,  ..., 0.0196, 0.0039, 0.0078],\n",
              "          [0.0078, 0.0275, 0.3373,  ..., 0.2392, 0.0275, 0.0078],\n",
              "          ...,\n",
              "          [0.0039, 0.0235, 0.2431,  ..., 0.2196, 0.0314, 0.0078],\n",
              "          [0.0039, 0.0039, 0.0235,  ..., 0.0157, 0.0078, 0.0039],\n",
              "          [0.0039, 0.0078, 0.0039,  ..., 0.0078, 0.0078, 0.0039]],\n",
              " \n",
              "         [[0.0196, 0.0196, 0.0118,  ..., 0.0118, 0.0118, 0.0118],\n",
              "          [0.0118, 0.0078, 0.0353,  ..., 0.0157, 0.0039, 0.0078],\n",
              "          [0.0118, 0.0196, 0.3137,  ..., 0.2196, 0.0235, 0.0078],\n",
              "          ...,\n",
              "          [0.0078, 0.0196, 0.2157,  ..., 0.1961, 0.0196, 0.0000],\n",
              "          [0.0196, 0.0118, 0.0157,  ..., 0.0078, 0.0039, 0.0039],\n",
              "          [0.0235, 0.0235, 0.0118,  ..., 0.0118, 0.0118, 0.0118]]]),\n",
              " 0)"
            ]
          },
          "metadata": {},
          "execution_count": 34
        }
      ]
    },
    {
      "cell_type": "code",
      "source": [
        "image, label = dataset[100]\n",
        "print(label)\n",
        "print(image.shape) # output:torch.Size([3, 128, 128]) 3 is channel red , green, blue\n",
        "image   # No picture since its converted to tensor"
      ],
      "metadata": {
        "colab": {
          "base_uri": "https://localhost:8080/"
        },
        "id": "qht-wFPIFcZm",
        "outputId": "ef785d63-50f4-4c44-aa22-ad466817ed0b"
      },
      "execution_count": 36,
      "outputs": [
        {
          "output_type": "stream",
          "name": "stdout",
          "text": [
            "0\n",
            "torch.Size([3, 128, 128])\n"
          ]
        },
        {
          "output_type": "execute_result",
          "data": {
            "text/plain": [
              "tensor([[[0.0000, 0.0039, 0.0078,  ..., 0.0039, 0.0039, 0.0039],\n",
              "         [0.0039, 0.0078, 0.0431,  ..., 0.0196, 0.0039, 0.0078],\n",
              "         [0.0235, 0.0392, 0.3490,  ..., 0.2392, 0.0314, 0.0118],\n",
              "         ...,\n",
              "         [0.0039, 0.0235, 0.2392,  ..., 0.2196, 0.0314, 0.0118],\n",
              "         [0.0039, 0.0039, 0.0235,  ..., 0.0118, 0.0078, 0.0039],\n",
              "         [0.0039, 0.0078, 0.0039,  ..., 0.0039, 0.0039, 0.0039]],\n",
              "\n",
              "        [[0.0078, 0.0078, 0.0039,  ..., 0.0039, 0.0039, 0.0039],\n",
              "         [0.0039, 0.0039, 0.0392,  ..., 0.0196, 0.0039, 0.0078],\n",
              "         [0.0078, 0.0275, 0.3373,  ..., 0.2392, 0.0275, 0.0078],\n",
              "         ...,\n",
              "         [0.0039, 0.0235, 0.2431,  ..., 0.2196, 0.0314, 0.0078],\n",
              "         [0.0039, 0.0039, 0.0235,  ..., 0.0157, 0.0078, 0.0039],\n",
              "         [0.0039, 0.0078, 0.0039,  ..., 0.0078, 0.0078, 0.0039]],\n",
              "\n",
              "        [[0.0196, 0.0196, 0.0118,  ..., 0.0118, 0.0118, 0.0118],\n",
              "         [0.0118, 0.0078, 0.0353,  ..., 0.0157, 0.0039, 0.0078],\n",
              "         [0.0118, 0.0196, 0.3137,  ..., 0.2196, 0.0235, 0.0078],\n",
              "         ...,\n",
              "         [0.0078, 0.0196, 0.2157,  ..., 0.1961, 0.0196, 0.0000],\n",
              "         [0.0196, 0.0118, 0.0157,  ..., 0.0078, 0.0039, 0.0039],\n",
              "         [0.0235, 0.0235, 0.0118,  ..., 0.0118, 0.0118, 0.0118]]])"
            ]
          },
          "metadata": {},
          "execution_count": 36
        }
      ]
    },
    {
      "cell_type": "code",
      "source": [
        "# iterate over dataset\n",
        "for image, label in dataset:\n",
        "    break\n",
        "print(label)\n",
        "image"
      ],
      "metadata": {
        "colab": {
          "base_uri": "https://localhost:8080/"
        },
        "id": "icKzqdTiG73V",
        "outputId": "8be3a5ad-4ac3-4b05-ac10-3612b14b663f"
      },
      "execution_count": 37,
      "outputs": [
        {
          "output_type": "stream",
          "name": "stdout",
          "text": [
            "0\n"
          ]
        },
        {
          "output_type": "execute_result",
          "data": {
            "text/plain": [
              "tensor([[[1.0000, 1.0000, 1.0000,  ..., 1.0000, 1.0000, 1.0000],\n",
              "         [1.0000, 1.0000, 1.0000,  ..., 1.0000, 1.0000, 1.0000],\n",
              "         [1.0000, 1.0000, 1.0000,  ..., 1.0000, 1.0000, 1.0000],\n",
              "         ...,\n",
              "         [0.0784, 0.0824, 0.0745,  ..., 1.0000, 1.0000, 1.0000],\n",
              "         [0.7490, 0.7451, 0.7412,  ..., 1.0000, 1.0000, 1.0000],\n",
              "         [0.9961, 0.9961, 0.9961,  ..., 1.0000, 1.0000, 1.0000]],\n",
              "\n",
              "        [[1.0000, 1.0000, 1.0000,  ..., 1.0000, 1.0000, 1.0000],\n",
              "         [1.0000, 1.0000, 1.0000,  ..., 1.0000, 1.0000, 1.0000],\n",
              "         [1.0000, 1.0000, 1.0000,  ..., 1.0000, 1.0000, 1.0000],\n",
              "         ...,\n",
              "         [0.0745, 0.0784, 0.0706,  ..., 1.0000, 1.0000, 1.0000],\n",
              "         [0.7451, 0.7451, 0.7373,  ..., 1.0000, 1.0000, 1.0000],\n",
              "         [0.9961, 0.9961, 0.9961,  ..., 1.0000, 1.0000, 1.0000]],\n",
              "\n",
              "        [[1.0000, 1.0000, 1.0000,  ..., 1.0000, 1.0000, 1.0000],\n",
              "         [1.0000, 1.0000, 1.0000,  ..., 1.0000, 1.0000, 1.0000],\n",
              "         [1.0000, 1.0000, 1.0000,  ..., 1.0000, 1.0000, 1.0000],\n",
              "         ...,\n",
              "         [0.0627, 0.0627, 0.0588,  ..., 1.0000, 1.0000, 1.0000],\n",
              "         [0.7373, 0.7373, 0.7294,  ..., 1.0000, 1.0000, 1.0000],\n",
              "         [0.9882, 0.9882, 0.9882,  ..., 1.0000, 1.0000, 1.0000]]])"
            ]
          },
          "metadata": {},
          "execution_count": 37
        }
      ]
    },
    {
      "cell_type": "markdown",
      "source": [
        "**Dataloaders**      \n",
        "Batching our dataset\n",
        "It's faster to train the model in batches instead of one at a time.                       \n",
        "**Shuffle = True for training and False for Testing**"
      ],
      "metadata": {
        "id": "DOTISKJJG-ds"
      }
    },
    {
      "cell_type": "code",
      "source": [
        "dataloader = DataLoader(dataset, batch_size=32, shuffle=True)"
      ],
      "metadata": {
        "id": "amUxQKFVHE_9"
      },
      "execution_count": 39,
      "outputs": []
    },
    {
      "cell_type": "code",
      "source": [
        "for image, label in dataloader:\n",
        "    break\n",
        "image.shape, label.shape  # (torch.Size([32, 3, 128, 128]), torch.Size([32])) 32 batches\n",
        "print(label)\n",
        "print(image)"
      ],
      "metadata": {
        "colab": {
          "base_uri": "https://localhost:8080/"
        },
        "id": "qvPMY5mLIcaE",
        "outputId": "fd115c15-9a96-43b3-e12d-71e0b7b9cdbd"
      },
      "execution_count": 43,
      "outputs": [
        {
          "output_type": "stream",
          "name": "stdout",
          "text": [
            "tensor([24, 36, 14, 28, 20, 39, 20, 25, 19,  0,  6, 28, 14, 34, 21, 49,  9, 13,\n",
            "         3, 10, 32, 44, 34, 12, 31, 32, 12, 11, 28, 42, 50, 35])\n",
            "tensor([[[[0.9961, 0.9961, 1.0000,  ..., 1.0000, 0.9961, 1.0000],\n",
            "          [0.9922, 0.9961, 1.0000,  ..., 0.9961, 0.9961, 1.0000],\n",
            "          [1.0000, 1.0000, 1.0000,  ..., 0.9922, 0.9961, 1.0000],\n",
            "          ...,\n",
            "          [1.0000, 1.0000, 1.0000,  ..., 0.9882, 0.9882, 0.9922],\n",
            "          [0.9961, 1.0000, 1.0000,  ..., 0.9922, 0.9961, 0.9961],\n",
            "          [0.9961, 0.9961, 1.0000,  ..., 0.9922, 1.0000, 0.9961]],\n",
            "\n",
            "         [[0.9961, 0.9961, 1.0000,  ..., 1.0000, 0.9961, 1.0000],\n",
            "          [0.9922, 0.9961, 1.0000,  ..., 0.9961, 0.9961, 1.0000],\n",
            "          [1.0000, 1.0000, 1.0000,  ..., 0.9922, 0.9961, 1.0000],\n",
            "          ...,\n",
            "          [1.0000, 1.0000, 1.0000,  ..., 0.9882, 0.9882, 0.9922],\n",
            "          [0.9961, 1.0000, 1.0000,  ..., 0.9922, 0.9961, 0.9961],\n",
            "          [0.9961, 0.9961, 1.0000,  ..., 0.9922, 1.0000, 0.9961]],\n",
            "\n",
            "         [[0.9961, 0.9961, 1.0000,  ..., 1.0000, 0.9961, 1.0000],\n",
            "          [0.9922, 0.9961, 1.0000,  ..., 0.9961, 0.9961, 1.0000],\n",
            "          [1.0000, 1.0000, 1.0000,  ..., 0.9922, 0.9961, 1.0000],\n",
            "          ...,\n",
            "          [1.0000, 1.0000, 1.0000,  ..., 0.9882, 0.9882, 0.9922],\n",
            "          [0.9961, 1.0000, 1.0000,  ..., 0.9922, 0.9961, 0.9961],\n",
            "          [0.9961, 0.9961, 1.0000,  ..., 0.9922, 1.0000, 0.9961]]],\n",
            "\n",
            "\n",
            "        [[[0.9216, 0.9529, 0.9529,  ..., 0.9725, 0.9725, 0.9725],\n",
            "          [0.9451, 0.9686, 0.9686,  ..., 0.9608, 0.9490, 0.9451],\n",
            "          [0.9608, 0.9216, 0.7765,  ..., 0.9686, 0.9608, 0.9608],\n",
            "          ...,\n",
            "          [0.9725, 0.9725, 0.9647,  ..., 0.9843, 0.9725, 0.9843],\n",
            "          [0.9686, 0.9686, 0.9647,  ..., 0.9765, 0.9686, 0.9843],\n",
            "          [0.9647, 0.9647, 0.9608,  ..., 0.9725, 0.9686, 0.9843]],\n",
            "\n",
            "         [[0.9255, 0.9569, 0.9569,  ..., 0.9804, 0.9804, 0.9804],\n",
            "          [0.9490, 0.9725, 0.9725,  ..., 0.9686, 0.9569, 0.9529],\n",
            "          [0.9647, 0.9255, 0.7804,  ..., 0.9765, 0.9686, 0.9686],\n",
            "          ...,\n",
            "          [0.9725, 0.9725, 0.9647,  ..., 0.9843, 0.9725, 0.9843],\n",
            "          [0.9686, 0.9686, 0.9647,  ..., 0.9765, 0.9686, 0.9843],\n",
            "          [0.9647, 0.9647, 0.9608,  ..., 0.9725, 0.9686, 0.9843]],\n",
            "\n",
            "         [[0.9333, 0.9647, 0.9647,  ..., 0.9765, 0.9765, 0.9765],\n",
            "          [0.9569, 0.9804, 0.9804,  ..., 0.9647, 0.9529, 0.9490],\n",
            "          [0.9725, 0.9333, 0.7882,  ..., 0.9725, 0.9647, 0.9647],\n",
            "          ...,\n",
            "          [0.9725, 0.9725, 0.9647,  ..., 0.9922, 0.9804, 0.9922],\n",
            "          [0.9686, 0.9686, 0.9647,  ..., 0.9843, 0.9765, 0.9922],\n",
            "          [0.9647, 0.9647, 0.9608,  ..., 0.9804, 0.9765, 0.9922]]],\n",
            "\n",
            "\n",
            "        [[[0.9569, 0.9529, 0.9490,  ..., 0.9412, 0.9373, 0.9373],\n",
            "          [0.9490, 0.9451, 0.9451,  ..., 0.9373, 0.9373, 0.9373],\n",
            "          [0.9294, 0.9294, 0.9255,  ..., 0.9373, 0.9373, 0.9373],\n",
            "          ...,\n",
            "          [0.5922, 0.6039, 0.6235,  ..., 0.9255, 0.9294, 0.9373],\n",
            "          [0.5961, 0.6039, 0.6235,  ..., 0.9255, 0.9333, 0.9412],\n",
            "          [0.6039, 0.6118, 0.6275,  ..., 0.9294, 0.9412, 0.9451]],\n",
            "\n",
            "         [[0.9569, 0.9529, 0.9490,  ..., 0.9412, 0.9373, 0.9373],\n",
            "          [0.9490, 0.9451, 0.9451,  ..., 0.9373, 0.9373, 0.9373],\n",
            "          [0.9294, 0.9294, 0.9255,  ..., 0.9373, 0.9373, 0.9373],\n",
            "          ...,\n",
            "          [0.5922, 0.6039, 0.6235,  ..., 0.9294, 0.9294, 0.9255],\n",
            "          [0.5961, 0.6039, 0.6235,  ..., 0.9255, 0.9255, 0.9216],\n",
            "          [0.6039, 0.6118, 0.6275,  ..., 0.9216, 0.9216, 0.9216]],\n",
            "\n",
            "         [[0.9569, 0.9529, 0.9490,  ..., 0.9412, 0.9373, 0.9373],\n",
            "          [0.9490, 0.9451, 0.9451,  ..., 0.9373, 0.9373, 0.9373],\n",
            "          [0.9294, 0.9294, 0.9255,  ..., 0.9373, 0.9373, 0.9373],\n",
            "          ...,\n",
            "          [0.5922, 0.6039, 0.6235,  ..., 0.9412, 0.9373, 0.9373],\n",
            "          [0.5961, 0.6039, 0.6235,  ..., 0.9412, 0.9373, 0.9373],\n",
            "          [0.6039, 0.6118, 0.6275,  ..., 0.9412, 0.9373, 0.9373]]],\n",
            "\n",
            "\n",
            "        ...,\n",
            "\n",
            "\n",
            "        [[[0.4824, 0.4902, 0.4980,  ..., 0.4235, 0.4157, 0.4078],\n",
            "          [0.4941, 0.4902, 0.4824,  ..., 0.4118, 0.3922, 0.3804],\n",
            "          [0.4824, 0.4706, 0.4392,  ..., 0.3961, 0.3725, 0.3529],\n",
            "          ...,\n",
            "          [0.7098, 0.7255, 0.7725,  ..., 0.5961, 0.4667, 0.3882],\n",
            "          [0.7137, 0.7373, 0.7961,  ..., 0.6078, 0.5020, 0.4353],\n",
            "          [0.7216, 0.7490, 0.8118,  ..., 0.5882, 0.5020, 0.4549]],\n",
            "\n",
            "         [[0.4667, 0.4745, 0.4824,  ..., 0.3882, 0.3765, 0.3686],\n",
            "          [0.4784, 0.4745, 0.4667,  ..., 0.3765, 0.3529, 0.3412],\n",
            "          [0.4667, 0.4549, 0.4235,  ..., 0.3608, 0.3333, 0.3137],\n",
            "          ...,\n",
            "          [0.7216, 0.7333, 0.7490,  ..., 0.6000, 0.4706, 0.3922],\n",
            "          [0.7294, 0.7412, 0.7647,  ..., 0.6118, 0.5059, 0.4392],\n",
            "          [0.7373, 0.7529, 0.7725,  ..., 0.5882, 0.5020, 0.4549]],\n",
            "\n",
            "         [[0.4314, 0.4392, 0.4471,  ..., 0.3529, 0.3412, 0.3294],\n",
            "          [0.4431, 0.4392, 0.4314,  ..., 0.3412, 0.3176, 0.3020],\n",
            "          [0.4314, 0.4196, 0.3882,  ..., 0.3255, 0.2941, 0.2745],\n",
            "          ...,\n",
            "          [0.7725, 0.7843, 0.8000,  ..., 0.5451, 0.4157, 0.3373],\n",
            "          [0.7765, 0.7922, 0.8157,  ..., 0.5569, 0.4510, 0.3882],\n",
            "          [0.7843, 0.8000, 0.8275,  ..., 0.5412, 0.4549, 0.4078]]],\n",
            "\n",
            "\n",
            "        [[[0.1961, 0.6941, 0.9686,  ..., 0.9608, 0.9569, 0.9529],\n",
            "          [0.4510, 0.8980, 0.9686,  ..., 0.9608, 0.9608, 0.9529],\n",
            "          [0.7333, 0.9294, 0.9569,  ..., 0.9529, 0.9569, 0.9529],\n",
            "          ...,\n",
            "          [0.9765, 0.9647, 0.9725,  ..., 0.9608, 0.9569, 0.9451],\n",
            "          [0.9373, 0.9686, 0.9725,  ..., 0.9686, 0.9529, 0.9412],\n",
            "          [0.7647, 0.9412, 0.9647,  ..., 0.9843, 0.9451, 0.9451]],\n",
            "\n",
            "         [[0.2039, 0.6941, 0.9647,  ..., 0.9608, 0.9490, 0.9647],\n",
            "          [0.4510, 0.8941, 0.9647,  ..., 0.9569, 0.9412, 0.9529],\n",
            "          [0.7333, 0.9216, 0.9490,  ..., 0.9569, 0.9490, 0.9529],\n",
            "          ...,\n",
            "          [0.9804, 0.9608, 0.9647,  ..., 0.9529, 0.9529, 0.9412],\n",
            "          [0.9412, 0.9569, 0.9608,  ..., 0.9569, 0.9451, 0.9451],\n",
            "          [0.7647, 0.9294, 0.9529,  ..., 0.9765, 0.9373, 0.9490]],\n",
            "\n",
            "         [[0.2000, 0.6941, 0.9647,  ..., 0.9529, 0.9529, 0.9608],\n",
            "          [0.4510, 0.8941, 0.9647,  ..., 0.9529, 0.9490, 0.9569],\n",
            "          [0.7333, 0.9255, 0.9529,  ..., 0.9490, 0.9529, 0.9608],\n",
            "          ...,\n",
            "          [0.9686, 0.9608, 0.9765,  ..., 0.9529, 0.9490, 0.9373],\n",
            "          [0.9373, 0.9608, 0.9686,  ..., 0.9608, 0.9490, 0.9412],\n",
            "          [0.7686, 0.9333, 0.9529,  ..., 0.9765, 0.9490, 0.9569]]],\n",
            "\n",
            "\n",
            "        [[[0.9882, 0.9765, 0.9412,  ..., 0.9843, 0.9882, 0.9922],\n",
            "          [0.9765, 0.9765, 0.9569,  ..., 0.9843, 0.9843, 0.9882],\n",
            "          [0.9765, 0.9686, 0.9686,  ..., 0.9882, 0.9843, 0.9843],\n",
            "          ...,\n",
            "          [0.9922, 0.9922, 0.9922,  ..., 0.9765, 0.9804, 0.9843],\n",
            "          [0.9922, 0.9922, 0.9882,  ..., 0.9804, 0.9922, 1.0000],\n",
            "          [0.9961, 0.9922, 0.9882,  ..., 0.9843, 0.9922, 1.0000]],\n",
            "\n",
            "         [[0.9569, 0.9725, 0.9804,  ..., 0.9765, 0.9804, 0.9843],\n",
            "          [0.9647, 0.9804, 0.9804,  ..., 0.9765, 0.9765, 0.9804],\n",
            "          [0.9765, 0.9765, 0.9843,  ..., 0.9804, 0.9765, 0.9765],\n",
            "          ...,\n",
            "          [0.9961, 0.9961, 0.9961,  ..., 0.9922, 0.9961, 0.9961],\n",
            "          [0.9922, 0.9922, 0.9922,  ..., 0.9882, 0.9922, 0.9961],\n",
            "          [0.9922, 0.9922, 0.9961,  ..., 0.9804, 0.9882, 0.9922]],\n",
            "\n",
            "         [[0.9569, 0.9647, 0.9725,  ..., 0.9804, 0.9843, 0.9882],\n",
            "          [0.9686, 0.9765, 0.9804,  ..., 0.9804, 0.9804, 0.9843],\n",
            "          [0.9882, 0.9882, 0.9882,  ..., 0.9843, 0.9804, 0.9804],\n",
            "          ...,\n",
            "          [0.9961, 0.9961, 1.0000,  ..., 0.9765, 0.9843, 0.9882],\n",
            "          [0.9843, 0.9922, 0.9961,  ..., 0.9765, 0.9843, 0.9882],\n",
            "          [0.9765, 0.9843, 0.9882,  ..., 0.9804, 0.9922, 0.9961]]]])\n"
          ]
        }
      ]
    },
    {
      "cell_type": "code",
      "source": [],
      "metadata": {
        "id": "rWq0lNFDJS-8"
      },
      "execution_count": null,
      "outputs": []
    },
    {
      "cell_type": "markdown",
      "source": [
        "\n",
        "\n",
        "**### Understanding the `DataLoader` and Output Shapes**\n",
        "\n",
        "1. **`DataLoader` Creation:**\n",
        "\n",
        "   ```python\n",
        "   dataloader = DataLoader(dataset, batch_size=32, shuffle=True)\n",
        "   ```\n",
        "\n",
        "   - **`dataset`**: This is the dataset you created using `PlayingCardDataset`.\n",
        "   - **`batch_size=32`**: This means that each batch will contain 32 images and their corresponding labels.\n",
        "   - **`shuffle=True`**: This means the dataset will be shuffled before being divided into batches. This helps in training by ensuring the model doesn’t see the images in the same order every epoch.\n",
        "\n",
        "2. **Iterating Through the DataLoader:**\n",
        "\n",
        "   ```python\n",
        "   for image, label in dataloader:\n",
        "       break\n",
        "   ```\n",
        "\n",
        "   - This loop gets one batch of images and labels from the `dataloader`.\n",
        "   - `break` exits the loop after the first batch is retrieved, so you’re only looking at the first batch.\n",
        "\n",
        "3. **Understanding the Output Shapes:**\n",
        "\n",
        "   ```python\n",
        "   image.shape, label.shape\n",
        "   ```\n",
        "\n",
        "   The shapes are:\n",
        "\n",
        "   - **`image.shape`**: `torch.Size([32, 3, 128, 128])`\n",
        "     - **32**: This is the batch size, so there are 32 images in the batch.\n",
        "     - **3**: This is the number of color channels (RGB) for each image.\n",
        "     - **128x128**: This is the height and width of each image after resizing.\n",
        "\n",
        "   - **`label.shape`**: `torch.Size([32])`\n",
        "     - **32**: This is the number of labels, corresponding to the 32 images in the batch. Each label is a single integer representing the class of the corresponding image.\n",
        "\n",
        "### Summary\n",
        "\n",
        "- The `DataLoader` divides the dataset into batches. Each batch has a size of 32 images and their corresponding labels, as specified by `batch_size=32`.\n",
        "- **`image.shape`** indicates that each batch contains 32 images, where each image has 3 color channels and is of size 128x128 pixels.\n",
        "- **`label.shape`** indicates that there are 32 labels, one for each image in the batch.\n",
        "\n",
        "So yes, each batch from the `DataLoader` contains 32 images, and each image has the dimensions `(3, 128, 128)`."
      ],
      "metadata": {
        "id": "qwgJ6ciEJCBk"
      }
    },
    {
      "cell_type": "markdown",
      "source": [
        "# Step 2. Pytorch Model\n",
        "Pytorch datasets have a structured way of organizing your data, pytorch models follow a similar paradigm.\n",
        "\n",
        "We could create the model from scratch defining each layer.\n",
        "                               \n",
        "However for tasks like image classification, many of the state of the art architectures are readily available and we can import them from packages like timm.                                  \n",
        "Understanding the pytorch model is all about understanding the shape the data is at each layer, and the main one we need to modify for a task is the final layer. Here we have 53 targets, so we will modify the last layer for this."
      ],
      "metadata": {
        "id": "7fPXFa3EJ0xU"
      }
    },
    {
      "cell_type": "code",
      "source": [
        "class SimpleCardClassifier(nn.Module):\n",
        "  def __init__(self, num_classes=53):\n",
        "    super().__init__()\n",
        "    self.base_model = timm.create_model('efficientnet_b0', pretrained=True, num_classes=0)\n",
        "\n",
        "  def forward(self, x):\n",
        "    return self.model(x)"
      ],
      "metadata": {
        "id": "f1YnrQMKKa2T"
      },
      "execution_count": null,
      "outputs": []
    }
  ]
}