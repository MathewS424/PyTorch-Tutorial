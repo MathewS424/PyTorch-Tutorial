{
  "nbformat": 4,
  "nbformat_minor": 0,
  "metadata": {
    "colab": {
      "provenance": [],
      "gpuType": "T4",
      "authorship_tag": "ABX9TyONSDbXOHKx/tCK192T/l2t",
      "include_colab_link": true
    },
    "kernelspec": {
      "name": "python3",
      "display_name": "Python 3"
    },
    "language_info": {
      "name": "python"
    },
    "accelerator": "GPU",
    "widgets": {
      "application/vnd.jupyter.widget-state+json": {
        "ee2722b751a64105abc5b43ec92eeb58": {
          "model_module": "@jupyter-widgets/controls",
          "model_name": "HBoxModel",
          "model_module_version": "1.5.0",
          "state": {
            "_dom_classes": [],
            "_model_module": "@jupyter-widgets/controls",
            "_model_module_version": "1.5.0",
            "_model_name": "HBoxModel",
            "_view_count": null,
            "_view_module": "@jupyter-widgets/controls",
            "_view_module_version": "1.5.0",
            "_view_name": "HBoxView",
            "box_style": "",
            "children": [
              "IPY_MODEL_e285256193de4dd988a92c43b64fb726",
              "IPY_MODEL_d32091d970a8473897debb328e703bb0",
              "IPY_MODEL_b0c08ff0d4d34de7bfe1f9c1332b2de1"
            ],
            "layout": "IPY_MODEL_8b9885f3928b4a5b8ca584c5871ecf78"
          }
        },
        "e285256193de4dd988a92c43b64fb726": {
          "model_module": "@jupyter-widgets/controls",
          "model_name": "HTMLModel",
          "model_module_version": "1.5.0",
          "state": {
            "_dom_classes": [],
            "_model_module": "@jupyter-widgets/controls",
            "_model_module_version": "1.5.0",
            "_model_name": "HTMLModel",
            "_view_count": null,
            "_view_module": "@jupyter-widgets/controls",
            "_view_module_version": "1.5.0",
            "_view_name": "HTMLView",
            "description": "",
            "description_tooltip": null,
            "layout": "IPY_MODEL_e62842be02a8446781b2b68341223372",
            "placeholder": "​",
            "style": "IPY_MODEL_8202f567bc1746b99448cb46bc48145f",
            "value": "model.safetensors: 100%"
          }
        },
        "d32091d970a8473897debb328e703bb0": {
          "model_module": "@jupyter-widgets/controls",
          "model_name": "FloatProgressModel",
          "model_module_version": "1.5.0",
          "state": {
            "_dom_classes": [],
            "_model_module": "@jupyter-widgets/controls",
            "_model_module_version": "1.5.0",
            "_model_name": "FloatProgressModel",
            "_view_count": null,
            "_view_module": "@jupyter-widgets/controls",
            "_view_module_version": "1.5.0",
            "_view_name": "ProgressView",
            "bar_style": "success",
            "description": "",
            "description_tooltip": null,
            "layout": "IPY_MODEL_63ecceb39557497eaf9f0036286111fa",
            "max": 21355344,
            "min": 0,
            "orientation": "horizontal",
            "style": "IPY_MODEL_a141944709334024a93fc67f61fceac4",
            "value": 21355344
          }
        },
        "b0c08ff0d4d34de7bfe1f9c1332b2de1": {
          "model_module": "@jupyter-widgets/controls",
          "model_name": "HTMLModel",
          "model_module_version": "1.5.0",
          "state": {
            "_dom_classes": [],
            "_model_module": "@jupyter-widgets/controls",
            "_model_module_version": "1.5.0",
            "_model_name": "HTMLModel",
            "_view_count": null,
            "_view_module": "@jupyter-widgets/controls",
            "_view_module_version": "1.5.0",
            "_view_name": "HTMLView",
            "description": "",
            "description_tooltip": null,
            "layout": "IPY_MODEL_eaea10c8de0844aa908000b0cd66ceb4",
            "placeholder": "​",
            "style": "IPY_MODEL_cc8bb937ced14ff5a020e715fc0f07a0",
            "value": " 21.4M/21.4M [00:00&lt;00:00, 65.3MB/s]"
          }
        },
        "8b9885f3928b4a5b8ca584c5871ecf78": {
          "model_module": "@jupyter-widgets/base",
          "model_name": "LayoutModel",
          "model_module_version": "1.2.0",
          "state": {
            "_model_module": "@jupyter-widgets/base",
            "_model_module_version": "1.2.0",
            "_model_name": "LayoutModel",
            "_view_count": null,
            "_view_module": "@jupyter-widgets/base",
            "_view_module_version": "1.2.0",
            "_view_name": "LayoutView",
            "align_content": null,
            "align_items": null,
            "align_self": null,
            "border": null,
            "bottom": null,
            "display": null,
            "flex": null,
            "flex_flow": null,
            "grid_area": null,
            "grid_auto_columns": null,
            "grid_auto_flow": null,
            "grid_auto_rows": null,
            "grid_column": null,
            "grid_gap": null,
            "grid_row": null,
            "grid_template_areas": null,
            "grid_template_columns": null,
            "grid_template_rows": null,
            "height": null,
            "justify_content": null,
            "justify_items": null,
            "left": null,
            "margin": null,
            "max_height": null,
            "max_width": null,
            "min_height": null,
            "min_width": null,
            "object_fit": null,
            "object_position": null,
            "order": null,
            "overflow": null,
            "overflow_x": null,
            "overflow_y": null,
            "padding": null,
            "right": null,
            "top": null,
            "visibility": null,
            "width": null
          }
        },
        "e62842be02a8446781b2b68341223372": {
          "model_module": "@jupyter-widgets/base",
          "model_name": "LayoutModel",
          "model_module_version": "1.2.0",
          "state": {
            "_model_module": "@jupyter-widgets/base",
            "_model_module_version": "1.2.0",
            "_model_name": "LayoutModel",
            "_view_count": null,
            "_view_module": "@jupyter-widgets/base",
            "_view_module_version": "1.2.0",
            "_view_name": "LayoutView",
            "align_content": null,
            "align_items": null,
            "align_self": null,
            "border": null,
            "bottom": null,
            "display": null,
            "flex": null,
            "flex_flow": null,
            "grid_area": null,
            "grid_auto_columns": null,
            "grid_auto_flow": null,
            "grid_auto_rows": null,
            "grid_column": null,
            "grid_gap": null,
            "grid_row": null,
            "grid_template_areas": null,
            "grid_template_columns": null,
            "grid_template_rows": null,
            "height": null,
            "justify_content": null,
            "justify_items": null,
            "left": null,
            "margin": null,
            "max_height": null,
            "max_width": null,
            "min_height": null,
            "min_width": null,
            "object_fit": null,
            "object_position": null,
            "order": null,
            "overflow": null,
            "overflow_x": null,
            "overflow_y": null,
            "padding": null,
            "right": null,
            "top": null,
            "visibility": null,
            "width": null
          }
        },
        "8202f567bc1746b99448cb46bc48145f": {
          "model_module": "@jupyter-widgets/controls",
          "model_name": "DescriptionStyleModel",
          "model_module_version": "1.5.0",
          "state": {
            "_model_module": "@jupyter-widgets/controls",
            "_model_module_version": "1.5.0",
            "_model_name": "DescriptionStyleModel",
            "_view_count": null,
            "_view_module": "@jupyter-widgets/base",
            "_view_module_version": "1.2.0",
            "_view_name": "StyleView",
            "description_width": ""
          }
        },
        "63ecceb39557497eaf9f0036286111fa": {
          "model_module": "@jupyter-widgets/base",
          "model_name": "LayoutModel",
          "model_module_version": "1.2.0",
          "state": {
            "_model_module": "@jupyter-widgets/base",
            "_model_module_version": "1.2.0",
            "_model_name": "LayoutModel",
            "_view_count": null,
            "_view_module": "@jupyter-widgets/base",
            "_view_module_version": "1.2.0",
            "_view_name": "LayoutView",
            "align_content": null,
            "align_items": null,
            "align_self": null,
            "border": null,
            "bottom": null,
            "display": null,
            "flex": null,
            "flex_flow": null,
            "grid_area": null,
            "grid_auto_columns": null,
            "grid_auto_flow": null,
            "grid_auto_rows": null,
            "grid_column": null,
            "grid_gap": null,
            "grid_row": null,
            "grid_template_areas": null,
            "grid_template_columns": null,
            "grid_template_rows": null,
            "height": null,
            "justify_content": null,
            "justify_items": null,
            "left": null,
            "margin": null,
            "max_height": null,
            "max_width": null,
            "min_height": null,
            "min_width": null,
            "object_fit": null,
            "object_position": null,
            "order": null,
            "overflow": null,
            "overflow_x": null,
            "overflow_y": null,
            "padding": null,
            "right": null,
            "top": null,
            "visibility": null,
            "width": null
          }
        },
        "a141944709334024a93fc67f61fceac4": {
          "model_module": "@jupyter-widgets/controls",
          "model_name": "ProgressStyleModel",
          "model_module_version": "1.5.0",
          "state": {
            "_model_module": "@jupyter-widgets/controls",
            "_model_module_version": "1.5.0",
            "_model_name": "ProgressStyleModel",
            "_view_count": null,
            "_view_module": "@jupyter-widgets/base",
            "_view_module_version": "1.2.0",
            "_view_name": "StyleView",
            "bar_color": null,
            "description_width": ""
          }
        },
        "eaea10c8de0844aa908000b0cd66ceb4": {
          "model_module": "@jupyter-widgets/base",
          "model_name": "LayoutModel",
          "model_module_version": "1.2.0",
          "state": {
            "_model_module": "@jupyter-widgets/base",
            "_model_module_version": "1.2.0",
            "_model_name": "LayoutModel",
            "_view_count": null,
            "_view_module": "@jupyter-widgets/base",
            "_view_module_version": "1.2.0",
            "_view_name": "LayoutView",
            "align_content": null,
            "align_items": null,
            "align_self": null,
            "border": null,
            "bottom": null,
            "display": null,
            "flex": null,
            "flex_flow": null,
            "grid_area": null,
            "grid_auto_columns": null,
            "grid_auto_flow": null,
            "grid_auto_rows": null,
            "grid_column": null,
            "grid_gap": null,
            "grid_row": null,
            "grid_template_areas": null,
            "grid_template_columns": null,
            "grid_template_rows": null,
            "height": null,
            "justify_content": null,
            "justify_items": null,
            "left": null,
            "margin": null,
            "max_height": null,
            "max_width": null,
            "min_height": null,
            "min_width": null,
            "object_fit": null,
            "object_position": null,
            "order": null,
            "overflow": null,
            "overflow_x": null,
            "overflow_y": null,
            "padding": null,
            "right": null,
            "top": null,
            "visibility": null,
            "width": null
          }
        },
        "cc8bb937ced14ff5a020e715fc0f07a0": {
          "model_module": "@jupyter-widgets/controls",
          "model_name": "DescriptionStyleModel",
          "model_module_version": "1.5.0",
          "state": {
            "_model_module": "@jupyter-widgets/controls",
            "_model_module_version": "1.5.0",
            "_model_name": "DescriptionStyleModel",
            "_view_count": null,
            "_view_module": "@jupyter-widgets/base",
            "_view_module_version": "1.2.0",
            "_view_name": "StyleView",
            "description_width": ""
          }
        },
        "8eb8f0f6c2c042ac97bae2eaa52c4a61": {
          "model_module": "@jupyter-widgets/controls",
          "model_name": "HBoxModel",
          "model_module_version": "1.5.0",
          "state": {
            "_dom_classes": [],
            "_model_module": "@jupyter-widgets/controls",
            "_model_module_version": "1.5.0",
            "_model_name": "HBoxModel",
            "_view_count": null,
            "_view_module": "@jupyter-widgets/controls",
            "_view_module_version": "1.5.0",
            "_view_name": "HBoxView",
            "box_style": "",
            "children": [
              "IPY_MODEL_9f7f537982a5409fbd53c798945a8e65",
              "IPY_MODEL_698be5f4e7de4d99ad8f00708c82196d",
              "IPY_MODEL_43e9d8f2396443acaa1cf22c9b045678"
            ],
            "layout": "IPY_MODEL_0d5f6a8e6b7b44acb8d8cb810fa5dfd4"
          }
        },
        "9f7f537982a5409fbd53c798945a8e65": {
          "model_module": "@jupyter-widgets/controls",
          "model_name": "HTMLModel",
          "model_module_version": "1.5.0",
          "state": {
            "_dom_classes": [],
            "_model_module": "@jupyter-widgets/controls",
            "_model_module_version": "1.5.0",
            "_model_name": "HTMLModel",
            "_view_count": null,
            "_view_module": "@jupyter-widgets/controls",
            "_view_module_version": "1.5.0",
            "_view_name": "HTMLView",
            "description": "",
            "description_tooltip": null,
            "layout": "IPY_MODEL_dd7f79e18e2348e89a6a76c7e2aa69dd",
            "placeholder": "​",
            "style": "IPY_MODEL_215a0861fffd49bf83b33de8db14f00b",
            "value": "Training loop: 100%"
          }
        },
        "698be5f4e7de4d99ad8f00708c82196d": {
          "model_module": "@jupyter-widgets/controls",
          "model_name": "FloatProgressModel",
          "model_module_version": "1.5.0",
          "state": {
            "_dom_classes": [],
            "_model_module": "@jupyter-widgets/controls",
            "_model_module_version": "1.5.0",
            "_model_name": "FloatProgressModel",
            "_view_count": null,
            "_view_module": "@jupyter-widgets/controls",
            "_view_module_version": "1.5.0",
            "_view_name": "ProgressView",
            "bar_style": "success",
            "description": "",
            "description_tooltip": null,
            "layout": "IPY_MODEL_34fbc79672014b5a8a1323f66b08252c",
            "max": 239,
            "min": 0,
            "orientation": "horizontal",
            "style": "IPY_MODEL_a220a31591ed41c98a9f1285f4f0da06",
            "value": 239
          }
        },
        "43e9d8f2396443acaa1cf22c9b045678": {
          "model_module": "@jupyter-widgets/controls",
          "model_name": "HTMLModel",
          "model_module_version": "1.5.0",
          "state": {
            "_dom_classes": [],
            "_model_module": "@jupyter-widgets/controls",
            "_model_module_version": "1.5.0",
            "_model_name": "HTMLModel",
            "_view_count": null,
            "_view_module": "@jupyter-widgets/controls",
            "_view_module_version": "1.5.0",
            "_view_name": "HTMLView",
            "description": "",
            "description_tooltip": null,
            "layout": "IPY_MODEL_66c57b608333402eb1a2055d3abd0301",
            "placeholder": "​",
            "style": "IPY_MODEL_739419873d774ada810e9516b47443bc",
            "value": " 239/239 [00:26&lt;00:00,  9.69it/s]"
          }
        },
        "0d5f6a8e6b7b44acb8d8cb810fa5dfd4": {
          "model_module": "@jupyter-widgets/base",
          "model_name": "LayoutModel",
          "model_module_version": "1.2.0",
          "state": {
            "_model_module": "@jupyter-widgets/base",
            "_model_module_version": "1.2.0",
            "_model_name": "LayoutModel",
            "_view_count": null,
            "_view_module": "@jupyter-widgets/base",
            "_view_module_version": "1.2.0",
            "_view_name": "LayoutView",
            "align_content": null,
            "align_items": null,
            "align_self": null,
            "border": null,
            "bottom": null,
            "display": null,
            "flex": null,
            "flex_flow": null,
            "grid_area": null,
            "grid_auto_columns": null,
            "grid_auto_flow": null,
            "grid_auto_rows": null,
            "grid_column": null,
            "grid_gap": null,
            "grid_row": null,
            "grid_template_areas": null,
            "grid_template_columns": null,
            "grid_template_rows": null,
            "height": null,
            "justify_content": null,
            "justify_items": null,
            "left": null,
            "margin": null,
            "max_height": null,
            "max_width": null,
            "min_height": null,
            "min_width": null,
            "object_fit": null,
            "object_position": null,
            "order": null,
            "overflow": null,
            "overflow_x": null,
            "overflow_y": null,
            "padding": null,
            "right": null,
            "top": null,
            "visibility": null,
            "width": null
          }
        },
        "dd7f79e18e2348e89a6a76c7e2aa69dd": {
          "model_module": "@jupyter-widgets/base",
          "model_name": "LayoutModel",
          "model_module_version": "1.2.0",
          "state": {
            "_model_module": "@jupyter-widgets/base",
            "_model_module_version": "1.2.0",
            "_model_name": "LayoutModel",
            "_view_count": null,
            "_view_module": "@jupyter-widgets/base",
            "_view_module_version": "1.2.0",
            "_view_name": "LayoutView",
            "align_content": null,
            "align_items": null,
            "align_self": null,
            "border": null,
            "bottom": null,
            "display": null,
            "flex": null,
            "flex_flow": null,
            "grid_area": null,
            "grid_auto_columns": null,
            "grid_auto_flow": null,
            "grid_auto_rows": null,
            "grid_column": null,
            "grid_gap": null,
            "grid_row": null,
            "grid_template_areas": null,
            "grid_template_columns": null,
            "grid_template_rows": null,
            "height": null,
            "justify_content": null,
            "justify_items": null,
            "left": null,
            "margin": null,
            "max_height": null,
            "max_width": null,
            "min_height": null,
            "min_width": null,
            "object_fit": null,
            "object_position": null,
            "order": null,
            "overflow": null,
            "overflow_x": null,
            "overflow_y": null,
            "padding": null,
            "right": null,
            "top": null,
            "visibility": null,
            "width": null
          }
        },
        "215a0861fffd49bf83b33de8db14f00b": {
          "model_module": "@jupyter-widgets/controls",
          "model_name": "DescriptionStyleModel",
          "model_module_version": "1.5.0",
          "state": {
            "_model_module": "@jupyter-widgets/controls",
            "_model_module_version": "1.5.0",
            "_model_name": "DescriptionStyleModel",
            "_view_count": null,
            "_view_module": "@jupyter-widgets/base",
            "_view_module_version": "1.2.0",
            "_view_name": "StyleView",
            "description_width": ""
          }
        },
        "34fbc79672014b5a8a1323f66b08252c": {
          "model_module": "@jupyter-widgets/base",
          "model_name": "LayoutModel",
          "model_module_version": "1.2.0",
          "state": {
            "_model_module": "@jupyter-widgets/base",
            "_model_module_version": "1.2.0",
            "_model_name": "LayoutModel",
            "_view_count": null,
            "_view_module": "@jupyter-widgets/base",
            "_view_module_version": "1.2.0",
            "_view_name": "LayoutView",
            "align_content": null,
            "align_items": null,
            "align_self": null,
            "border": null,
            "bottom": null,
            "display": null,
            "flex": null,
            "flex_flow": null,
            "grid_area": null,
            "grid_auto_columns": null,
            "grid_auto_flow": null,
            "grid_auto_rows": null,
            "grid_column": null,
            "grid_gap": null,
            "grid_row": null,
            "grid_template_areas": null,
            "grid_template_columns": null,
            "grid_template_rows": null,
            "height": null,
            "justify_content": null,
            "justify_items": null,
            "left": null,
            "margin": null,
            "max_height": null,
            "max_width": null,
            "min_height": null,
            "min_width": null,
            "object_fit": null,
            "object_position": null,
            "order": null,
            "overflow": null,
            "overflow_x": null,
            "overflow_y": null,
            "padding": null,
            "right": null,
            "top": null,
            "visibility": null,
            "width": null
          }
        },
        "a220a31591ed41c98a9f1285f4f0da06": {
          "model_module": "@jupyter-widgets/controls",
          "model_name": "ProgressStyleModel",
          "model_module_version": "1.5.0",
          "state": {
            "_model_module": "@jupyter-widgets/controls",
            "_model_module_version": "1.5.0",
            "_model_name": "ProgressStyleModel",
            "_view_count": null,
            "_view_module": "@jupyter-widgets/base",
            "_view_module_version": "1.2.0",
            "_view_name": "StyleView",
            "bar_color": null,
            "description_width": ""
          }
        },
        "66c57b608333402eb1a2055d3abd0301": {
          "model_module": "@jupyter-widgets/base",
          "model_name": "LayoutModel",
          "model_module_version": "1.2.0",
          "state": {
            "_model_module": "@jupyter-widgets/base",
            "_model_module_version": "1.2.0",
            "_model_name": "LayoutModel",
            "_view_count": null,
            "_view_module": "@jupyter-widgets/base",
            "_view_module_version": "1.2.0",
            "_view_name": "LayoutView",
            "align_content": null,
            "align_items": null,
            "align_self": null,
            "border": null,
            "bottom": null,
            "display": null,
            "flex": null,
            "flex_flow": null,
            "grid_area": null,
            "grid_auto_columns": null,
            "grid_auto_flow": null,
            "grid_auto_rows": null,
            "grid_column": null,
            "grid_gap": null,
            "grid_row": null,
            "grid_template_areas": null,
            "grid_template_columns": null,
            "grid_template_rows": null,
            "height": null,
            "justify_content": null,
            "justify_items": null,
            "left": null,
            "margin": null,
            "max_height": null,
            "max_width": null,
            "min_height": null,
            "min_width": null,
            "object_fit": null,
            "object_position": null,
            "order": null,
            "overflow": null,
            "overflow_x": null,
            "overflow_y": null,
            "padding": null,
            "right": null,
            "top": null,
            "visibility": null,
            "width": null
          }
        },
        "739419873d774ada810e9516b47443bc": {
          "model_module": "@jupyter-widgets/controls",
          "model_name": "DescriptionStyleModel",
          "model_module_version": "1.5.0",
          "state": {
            "_model_module": "@jupyter-widgets/controls",
            "_model_module_version": "1.5.0",
            "_model_name": "DescriptionStyleModel",
            "_view_count": null,
            "_view_module": "@jupyter-widgets/base",
            "_view_module_version": "1.2.0",
            "_view_name": "StyleView",
            "description_width": ""
          }
        },
        "d191e0f78c5a4c6fad6fc33822c33d16": {
          "model_module": "@jupyter-widgets/controls",
          "model_name": "HBoxModel",
          "model_module_version": "1.5.0",
          "state": {
            "_dom_classes": [],
            "_model_module": "@jupyter-widgets/controls",
            "_model_module_version": "1.5.0",
            "_model_name": "HBoxModel",
            "_view_count": null,
            "_view_module": "@jupyter-widgets/controls",
            "_view_module_version": "1.5.0",
            "_view_name": "HBoxView",
            "box_style": "",
            "children": [
              "IPY_MODEL_52caedb765b849f5b68532b17e92873d",
              "IPY_MODEL_d709a7abed28485bbc4a18e94b57e9ad",
              "IPY_MODEL_d3ad48d939f845dcb86ebbb41ed97691"
            ],
            "layout": "IPY_MODEL_5c04eb11be004539b8b070e297dea51a"
          }
        },
        "52caedb765b849f5b68532b17e92873d": {
          "model_module": "@jupyter-widgets/controls",
          "model_name": "HTMLModel",
          "model_module_version": "1.5.0",
          "state": {
            "_dom_classes": [],
            "_model_module": "@jupyter-widgets/controls",
            "_model_module_version": "1.5.0",
            "_model_name": "HTMLModel",
            "_view_count": null,
            "_view_module": "@jupyter-widgets/controls",
            "_view_module_version": "1.5.0",
            "_view_name": "HTMLView",
            "description": "",
            "description_tooltip": null,
            "layout": "IPY_MODEL_f10f5cf70b2d45fab1d4a66bbd6450c1",
            "placeholder": "​",
            "style": "IPY_MODEL_841d5ea4572741f8bc07ad12de2382dd",
            "value": "Validation loop: 100%"
          }
        },
        "d709a7abed28485bbc4a18e94b57e9ad": {
          "model_module": "@jupyter-widgets/controls",
          "model_name": "FloatProgressModel",
          "model_module_version": "1.5.0",
          "state": {
            "_dom_classes": [],
            "_model_module": "@jupyter-widgets/controls",
            "_model_module_version": "1.5.0",
            "_model_name": "FloatProgressModel",
            "_view_count": null,
            "_view_module": "@jupyter-widgets/controls",
            "_view_module_version": "1.5.0",
            "_view_name": "ProgressView",
            "bar_style": "success",
            "description": "",
            "description_tooltip": null,
            "layout": "IPY_MODEL_67453760251f4b57b487be0fbf5bb4c9",
            "max": 9,
            "min": 0,
            "orientation": "horizontal",
            "style": "IPY_MODEL_f29e28ca37214c6ba3df81ee4338df0c",
            "value": 9
          }
        },
        "d3ad48d939f845dcb86ebbb41ed97691": {
          "model_module": "@jupyter-widgets/controls",
          "model_name": "HTMLModel",
          "model_module_version": "1.5.0",
          "state": {
            "_dom_classes": [],
            "_model_module": "@jupyter-widgets/controls",
            "_model_module_version": "1.5.0",
            "_model_name": "HTMLModel",
            "_view_count": null,
            "_view_module": "@jupyter-widgets/controls",
            "_view_module_version": "1.5.0",
            "_view_name": "HTMLView",
            "description": "",
            "description_tooltip": null,
            "layout": "IPY_MODEL_8ddc49f9012e4b2c9a09ff30240f6689",
            "placeholder": "​",
            "style": "IPY_MODEL_280a8d9ec11a4b8ca2d7aec47db4a3b4",
            "value": " 9/9 [00:00&lt;00:00, 14.07it/s]"
          }
        },
        "5c04eb11be004539b8b070e297dea51a": {
          "model_module": "@jupyter-widgets/base",
          "model_name": "LayoutModel",
          "model_module_version": "1.2.0",
          "state": {
            "_model_module": "@jupyter-widgets/base",
            "_model_module_version": "1.2.0",
            "_model_name": "LayoutModel",
            "_view_count": null,
            "_view_module": "@jupyter-widgets/base",
            "_view_module_version": "1.2.0",
            "_view_name": "LayoutView",
            "align_content": null,
            "align_items": null,
            "align_self": null,
            "border": null,
            "bottom": null,
            "display": null,
            "flex": null,
            "flex_flow": null,
            "grid_area": null,
            "grid_auto_columns": null,
            "grid_auto_flow": null,
            "grid_auto_rows": null,
            "grid_column": null,
            "grid_gap": null,
            "grid_row": null,
            "grid_template_areas": null,
            "grid_template_columns": null,
            "grid_template_rows": null,
            "height": null,
            "justify_content": null,
            "justify_items": null,
            "left": null,
            "margin": null,
            "max_height": null,
            "max_width": null,
            "min_height": null,
            "min_width": null,
            "object_fit": null,
            "object_position": null,
            "order": null,
            "overflow": null,
            "overflow_x": null,
            "overflow_y": null,
            "padding": null,
            "right": null,
            "top": null,
            "visibility": null,
            "width": null
          }
        },
        "f10f5cf70b2d45fab1d4a66bbd6450c1": {
          "model_module": "@jupyter-widgets/base",
          "model_name": "LayoutModel",
          "model_module_version": "1.2.0",
          "state": {
            "_model_module": "@jupyter-widgets/base",
            "_model_module_version": "1.2.0",
            "_model_name": "LayoutModel",
            "_view_count": null,
            "_view_module": "@jupyter-widgets/base",
            "_view_module_version": "1.2.0",
            "_view_name": "LayoutView",
            "align_content": null,
            "align_items": null,
            "align_self": null,
            "border": null,
            "bottom": null,
            "display": null,
            "flex": null,
            "flex_flow": null,
            "grid_area": null,
            "grid_auto_columns": null,
            "grid_auto_flow": null,
            "grid_auto_rows": null,
            "grid_column": null,
            "grid_gap": null,
            "grid_row": null,
            "grid_template_areas": null,
            "grid_template_columns": null,
            "grid_template_rows": null,
            "height": null,
            "justify_content": null,
            "justify_items": null,
            "left": null,
            "margin": null,
            "max_height": null,
            "max_width": null,
            "min_height": null,
            "min_width": null,
            "object_fit": null,
            "object_position": null,
            "order": null,
            "overflow": null,
            "overflow_x": null,
            "overflow_y": null,
            "padding": null,
            "right": null,
            "top": null,
            "visibility": null,
            "width": null
          }
        },
        "841d5ea4572741f8bc07ad12de2382dd": {
          "model_module": "@jupyter-widgets/controls",
          "model_name": "DescriptionStyleModel",
          "model_module_version": "1.5.0",
          "state": {
            "_model_module": "@jupyter-widgets/controls",
            "_model_module_version": "1.5.0",
            "_model_name": "DescriptionStyleModel",
            "_view_count": null,
            "_view_module": "@jupyter-widgets/base",
            "_view_module_version": "1.2.0",
            "_view_name": "StyleView",
            "description_width": ""
          }
        },
        "67453760251f4b57b487be0fbf5bb4c9": {
          "model_module": "@jupyter-widgets/base",
          "model_name": "LayoutModel",
          "model_module_version": "1.2.0",
          "state": {
            "_model_module": "@jupyter-widgets/base",
            "_model_module_version": "1.2.0",
            "_model_name": "LayoutModel",
            "_view_count": null,
            "_view_module": "@jupyter-widgets/base",
            "_view_module_version": "1.2.0",
            "_view_name": "LayoutView",
            "align_content": null,
            "align_items": null,
            "align_self": null,
            "border": null,
            "bottom": null,
            "display": null,
            "flex": null,
            "flex_flow": null,
            "grid_area": null,
            "grid_auto_columns": null,
            "grid_auto_flow": null,
            "grid_auto_rows": null,
            "grid_column": null,
            "grid_gap": null,
            "grid_row": null,
            "grid_template_areas": null,
            "grid_template_columns": null,
            "grid_template_rows": null,
            "height": null,
            "justify_content": null,
            "justify_items": null,
            "left": null,
            "margin": null,
            "max_height": null,
            "max_width": null,
            "min_height": null,
            "min_width": null,
            "object_fit": null,
            "object_position": null,
            "order": null,
            "overflow": null,
            "overflow_x": null,
            "overflow_y": null,
            "padding": null,
            "right": null,
            "top": null,
            "visibility": null,
            "width": null
          }
        },
        "f29e28ca37214c6ba3df81ee4338df0c": {
          "model_module": "@jupyter-widgets/controls",
          "model_name": "ProgressStyleModel",
          "model_module_version": "1.5.0",
          "state": {
            "_model_module": "@jupyter-widgets/controls",
            "_model_module_version": "1.5.0",
            "_model_name": "ProgressStyleModel",
            "_view_count": null,
            "_view_module": "@jupyter-widgets/base",
            "_view_module_version": "1.2.0",
            "_view_name": "StyleView",
            "bar_color": null,
            "description_width": ""
          }
        },
        "8ddc49f9012e4b2c9a09ff30240f6689": {
          "model_module": "@jupyter-widgets/base",
          "model_name": "LayoutModel",
          "model_module_version": "1.2.0",
          "state": {
            "_model_module": "@jupyter-widgets/base",
            "_model_module_version": "1.2.0",
            "_model_name": "LayoutModel",
            "_view_count": null,
            "_view_module": "@jupyter-widgets/base",
            "_view_module_version": "1.2.0",
            "_view_name": "LayoutView",
            "align_content": null,
            "align_items": null,
            "align_self": null,
            "border": null,
            "bottom": null,
            "display": null,
            "flex": null,
            "flex_flow": null,
            "grid_area": null,
            "grid_auto_columns": null,
            "grid_auto_flow": null,
            "grid_auto_rows": null,
            "grid_column": null,
            "grid_gap": null,
            "grid_row": null,
            "grid_template_areas": null,
            "grid_template_columns": null,
            "grid_template_rows": null,
            "height": null,
            "justify_content": null,
            "justify_items": null,
            "left": null,
            "margin": null,
            "max_height": null,
            "max_width": null,
            "min_height": null,
            "min_width": null,
            "object_fit": null,
            "object_position": null,
            "order": null,
            "overflow": null,
            "overflow_x": null,
            "overflow_y": null,
            "padding": null,
            "right": null,
            "top": null,
            "visibility": null,
            "width": null
          }
        },
        "280a8d9ec11a4b8ca2d7aec47db4a3b4": {
          "model_module": "@jupyter-widgets/controls",
          "model_name": "DescriptionStyleModel",
          "model_module_version": "1.5.0",
          "state": {
            "_model_module": "@jupyter-widgets/controls",
            "_model_module_version": "1.5.0",
            "_model_name": "DescriptionStyleModel",
            "_view_count": null,
            "_view_module": "@jupyter-widgets/base",
            "_view_module_version": "1.2.0",
            "_view_name": "StyleView",
            "description_width": ""
          }
        },
        "8e15db6c9cb845cfaecf08499cbea9e4": {
          "model_module": "@jupyter-widgets/controls",
          "model_name": "HBoxModel",
          "model_module_version": "1.5.0",
          "state": {
            "_dom_classes": [],
            "_model_module": "@jupyter-widgets/controls",
            "_model_module_version": "1.5.0",
            "_model_name": "HBoxModel",
            "_view_count": null,
            "_view_module": "@jupyter-widgets/controls",
            "_view_module_version": "1.5.0",
            "_view_name": "HBoxView",
            "box_style": "",
            "children": [
              "IPY_MODEL_4ff92090dbab45b9b315774f21c6098c",
              "IPY_MODEL_be9921f0201a4526a58a45d72f8e6ca2",
              "IPY_MODEL_d40a0f6ec0f24c41acaeb7cb3b85b136"
            ],
            "layout": "IPY_MODEL_3d087168080f4e64a969473fcc8be912"
          }
        },
        "4ff92090dbab45b9b315774f21c6098c": {
          "model_module": "@jupyter-widgets/controls",
          "model_name": "HTMLModel",
          "model_module_version": "1.5.0",
          "state": {
            "_dom_classes": [],
            "_model_module": "@jupyter-widgets/controls",
            "_model_module_version": "1.5.0",
            "_model_name": "HTMLModel",
            "_view_count": null,
            "_view_module": "@jupyter-widgets/controls",
            "_view_module_version": "1.5.0",
            "_view_name": "HTMLView",
            "description": "",
            "description_tooltip": null,
            "layout": "IPY_MODEL_ddb1b28faaaa4498a02c84ef3548746d",
            "placeholder": "​",
            "style": "IPY_MODEL_0505152b023f4557bbe532e3983048f4",
            "value": "Training loop: 100%"
          }
        },
        "be9921f0201a4526a58a45d72f8e6ca2": {
          "model_module": "@jupyter-widgets/controls",
          "model_name": "FloatProgressModel",
          "model_module_version": "1.5.0",
          "state": {
            "_dom_classes": [],
            "_model_module": "@jupyter-widgets/controls",
            "_model_module_version": "1.5.0",
            "_model_name": "FloatProgressModel",
            "_view_count": null,
            "_view_module": "@jupyter-widgets/controls",
            "_view_module_version": "1.5.0",
            "_view_name": "ProgressView",
            "bar_style": "success",
            "description": "",
            "description_tooltip": null,
            "layout": "IPY_MODEL_cc15403f70da4085a624fcd35c4f91c2",
            "max": 239,
            "min": 0,
            "orientation": "horizontal",
            "style": "IPY_MODEL_3b9b1e7ce2f841bab393fa2a5a3598b1",
            "value": 239
          }
        },
        "d40a0f6ec0f24c41acaeb7cb3b85b136": {
          "model_module": "@jupyter-widgets/controls",
          "model_name": "HTMLModel",
          "model_module_version": "1.5.0",
          "state": {
            "_dom_classes": [],
            "_model_module": "@jupyter-widgets/controls",
            "_model_module_version": "1.5.0",
            "_model_name": "HTMLModel",
            "_view_count": null,
            "_view_module": "@jupyter-widgets/controls",
            "_view_module_version": "1.5.0",
            "_view_name": "HTMLView",
            "description": "",
            "description_tooltip": null,
            "layout": "IPY_MODEL_51f6206254ed42dd94f587e180b8d920",
            "placeholder": "​",
            "style": "IPY_MODEL_7112f4496e1f4c30a564f162667e260e",
            "value": " 239/239 [00:26&lt;00:00, 11.03it/s]"
          }
        },
        "3d087168080f4e64a969473fcc8be912": {
          "model_module": "@jupyter-widgets/base",
          "model_name": "LayoutModel",
          "model_module_version": "1.2.0",
          "state": {
            "_model_module": "@jupyter-widgets/base",
            "_model_module_version": "1.2.0",
            "_model_name": "LayoutModel",
            "_view_count": null,
            "_view_module": "@jupyter-widgets/base",
            "_view_module_version": "1.2.0",
            "_view_name": "LayoutView",
            "align_content": null,
            "align_items": null,
            "align_self": null,
            "border": null,
            "bottom": null,
            "display": null,
            "flex": null,
            "flex_flow": null,
            "grid_area": null,
            "grid_auto_columns": null,
            "grid_auto_flow": null,
            "grid_auto_rows": null,
            "grid_column": null,
            "grid_gap": null,
            "grid_row": null,
            "grid_template_areas": null,
            "grid_template_columns": null,
            "grid_template_rows": null,
            "height": null,
            "justify_content": null,
            "justify_items": null,
            "left": null,
            "margin": null,
            "max_height": null,
            "max_width": null,
            "min_height": null,
            "min_width": null,
            "object_fit": null,
            "object_position": null,
            "order": null,
            "overflow": null,
            "overflow_x": null,
            "overflow_y": null,
            "padding": null,
            "right": null,
            "top": null,
            "visibility": null,
            "width": null
          }
        },
        "ddb1b28faaaa4498a02c84ef3548746d": {
          "model_module": "@jupyter-widgets/base",
          "model_name": "LayoutModel",
          "model_module_version": "1.2.0",
          "state": {
            "_model_module": "@jupyter-widgets/base",
            "_model_module_version": "1.2.0",
            "_model_name": "LayoutModel",
            "_view_count": null,
            "_view_module": "@jupyter-widgets/base",
            "_view_module_version": "1.2.0",
            "_view_name": "LayoutView",
            "align_content": null,
            "align_items": null,
            "align_self": null,
            "border": null,
            "bottom": null,
            "display": null,
            "flex": null,
            "flex_flow": null,
            "grid_area": null,
            "grid_auto_columns": null,
            "grid_auto_flow": null,
            "grid_auto_rows": null,
            "grid_column": null,
            "grid_gap": null,
            "grid_row": null,
            "grid_template_areas": null,
            "grid_template_columns": null,
            "grid_template_rows": null,
            "height": null,
            "justify_content": null,
            "justify_items": null,
            "left": null,
            "margin": null,
            "max_height": null,
            "max_width": null,
            "min_height": null,
            "min_width": null,
            "object_fit": null,
            "object_position": null,
            "order": null,
            "overflow": null,
            "overflow_x": null,
            "overflow_y": null,
            "padding": null,
            "right": null,
            "top": null,
            "visibility": null,
            "width": null
          }
        },
        "0505152b023f4557bbe532e3983048f4": {
          "model_module": "@jupyter-widgets/controls",
          "model_name": "DescriptionStyleModel",
          "model_module_version": "1.5.0",
          "state": {
            "_model_module": "@jupyter-widgets/controls",
            "_model_module_version": "1.5.0",
            "_model_name": "DescriptionStyleModel",
            "_view_count": null,
            "_view_module": "@jupyter-widgets/base",
            "_view_module_version": "1.2.0",
            "_view_name": "StyleView",
            "description_width": ""
          }
        },
        "cc15403f70da4085a624fcd35c4f91c2": {
          "model_module": "@jupyter-widgets/base",
          "model_name": "LayoutModel",
          "model_module_version": "1.2.0",
          "state": {
            "_model_module": "@jupyter-widgets/base",
            "_model_module_version": "1.2.0",
            "_model_name": "LayoutModel",
            "_view_count": null,
            "_view_module": "@jupyter-widgets/base",
            "_view_module_version": "1.2.0",
            "_view_name": "LayoutView",
            "align_content": null,
            "align_items": null,
            "align_self": null,
            "border": null,
            "bottom": null,
            "display": null,
            "flex": null,
            "flex_flow": null,
            "grid_area": null,
            "grid_auto_columns": null,
            "grid_auto_flow": null,
            "grid_auto_rows": null,
            "grid_column": null,
            "grid_gap": null,
            "grid_row": null,
            "grid_template_areas": null,
            "grid_template_columns": null,
            "grid_template_rows": null,
            "height": null,
            "justify_content": null,
            "justify_items": null,
            "left": null,
            "margin": null,
            "max_height": null,
            "max_width": null,
            "min_height": null,
            "min_width": null,
            "object_fit": null,
            "object_position": null,
            "order": null,
            "overflow": null,
            "overflow_x": null,
            "overflow_y": null,
            "padding": null,
            "right": null,
            "top": null,
            "visibility": null,
            "width": null
          }
        },
        "3b9b1e7ce2f841bab393fa2a5a3598b1": {
          "model_module": "@jupyter-widgets/controls",
          "model_name": "ProgressStyleModel",
          "model_module_version": "1.5.0",
          "state": {
            "_model_module": "@jupyter-widgets/controls",
            "_model_module_version": "1.5.0",
            "_model_name": "ProgressStyleModel",
            "_view_count": null,
            "_view_module": "@jupyter-widgets/base",
            "_view_module_version": "1.2.0",
            "_view_name": "StyleView",
            "bar_color": null,
            "description_width": ""
          }
        },
        "51f6206254ed42dd94f587e180b8d920": {
          "model_module": "@jupyter-widgets/base",
          "model_name": "LayoutModel",
          "model_module_version": "1.2.0",
          "state": {
            "_model_module": "@jupyter-widgets/base",
            "_model_module_version": "1.2.0",
            "_model_name": "LayoutModel",
            "_view_count": null,
            "_view_module": "@jupyter-widgets/base",
            "_view_module_version": "1.2.0",
            "_view_name": "LayoutView",
            "align_content": null,
            "align_items": null,
            "align_self": null,
            "border": null,
            "bottom": null,
            "display": null,
            "flex": null,
            "flex_flow": null,
            "grid_area": null,
            "grid_auto_columns": null,
            "grid_auto_flow": null,
            "grid_auto_rows": null,
            "grid_column": null,
            "grid_gap": null,
            "grid_row": null,
            "grid_template_areas": null,
            "grid_template_columns": null,
            "grid_template_rows": null,
            "height": null,
            "justify_content": null,
            "justify_items": null,
            "left": null,
            "margin": null,
            "max_height": null,
            "max_width": null,
            "min_height": null,
            "min_width": null,
            "object_fit": null,
            "object_position": null,
            "order": null,
            "overflow": null,
            "overflow_x": null,
            "overflow_y": null,
            "padding": null,
            "right": null,
            "top": null,
            "visibility": null,
            "width": null
          }
        },
        "7112f4496e1f4c30a564f162667e260e": {
          "model_module": "@jupyter-widgets/controls",
          "model_name": "DescriptionStyleModel",
          "model_module_version": "1.5.0",
          "state": {
            "_model_module": "@jupyter-widgets/controls",
            "_model_module_version": "1.5.0",
            "_model_name": "DescriptionStyleModel",
            "_view_count": null,
            "_view_module": "@jupyter-widgets/base",
            "_view_module_version": "1.2.0",
            "_view_name": "StyleView",
            "description_width": ""
          }
        },
        "9ff18b4729634218be930afc9b927b35": {
          "model_module": "@jupyter-widgets/controls",
          "model_name": "HBoxModel",
          "model_module_version": "1.5.0",
          "state": {
            "_dom_classes": [],
            "_model_module": "@jupyter-widgets/controls",
            "_model_module_version": "1.5.0",
            "_model_name": "HBoxModel",
            "_view_count": null,
            "_view_module": "@jupyter-widgets/controls",
            "_view_module_version": "1.5.0",
            "_view_name": "HBoxView",
            "box_style": "",
            "children": [
              "IPY_MODEL_eb9d5ba634d941329d8d4622bb4037f0",
              "IPY_MODEL_d847e16f29ac4a759dcfd137cb075adc",
              "IPY_MODEL_e005a1171d1a4c75bea86dfc873e2b3f"
            ],
            "layout": "IPY_MODEL_00dc7ff8abfc4253a2d80561e14118ea"
          }
        },
        "eb9d5ba634d941329d8d4622bb4037f0": {
          "model_module": "@jupyter-widgets/controls",
          "model_name": "HTMLModel",
          "model_module_version": "1.5.0",
          "state": {
            "_dom_classes": [],
            "_model_module": "@jupyter-widgets/controls",
            "_model_module_version": "1.5.0",
            "_model_name": "HTMLModel",
            "_view_count": null,
            "_view_module": "@jupyter-widgets/controls",
            "_view_module_version": "1.5.0",
            "_view_name": "HTMLView",
            "description": "",
            "description_tooltip": null,
            "layout": "IPY_MODEL_7cc48c1eb9004151a91f43380259734f",
            "placeholder": "​",
            "style": "IPY_MODEL_1854617cfbce40b1b074b4a2e72023dc",
            "value": "Validation loop: 100%"
          }
        },
        "d847e16f29ac4a759dcfd137cb075adc": {
          "model_module": "@jupyter-widgets/controls",
          "model_name": "FloatProgressModel",
          "model_module_version": "1.5.0",
          "state": {
            "_dom_classes": [],
            "_model_module": "@jupyter-widgets/controls",
            "_model_module_version": "1.5.0",
            "_model_name": "FloatProgressModel",
            "_view_count": null,
            "_view_module": "@jupyter-widgets/controls",
            "_view_module_version": "1.5.0",
            "_view_name": "ProgressView",
            "bar_style": "success",
            "description": "",
            "description_tooltip": null,
            "layout": "IPY_MODEL_49bfbe2d3a534c3885c0fce7b9036469",
            "max": 9,
            "min": 0,
            "orientation": "horizontal",
            "style": "IPY_MODEL_ad01ae3ace4343128423721407cb8b5e",
            "value": 9
          }
        },
        "e005a1171d1a4c75bea86dfc873e2b3f": {
          "model_module": "@jupyter-widgets/controls",
          "model_name": "HTMLModel",
          "model_module_version": "1.5.0",
          "state": {
            "_dom_classes": [],
            "_model_module": "@jupyter-widgets/controls",
            "_model_module_version": "1.5.0",
            "_model_name": "HTMLModel",
            "_view_count": null,
            "_view_module": "@jupyter-widgets/controls",
            "_view_module_version": "1.5.0",
            "_view_name": "HTMLView",
            "description": "",
            "description_tooltip": null,
            "layout": "IPY_MODEL_a7ace4d65d254c188bfe30fda9a5df5d",
            "placeholder": "​",
            "style": "IPY_MODEL_ec7a1a2bf78b45518697e6adfa473f29",
            "value": " 9/9 [00:00&lt;00:00, 15.07it/s]"
          }
        },
        "00dc7ff8abfc4253a2d80561e14118ea": {
          "model_module": "@jupyter-widgets/base",
          "model_name": "LayoutModel",
          "model_module_version": "1.2.0",
          "state": {
            "_model_module": "@jupyter-widgets/base",
            "_model_module_version": "1.2.0",
            "_model_name": "LayoutModel",
            "_view_count": null,
            "_view_module": "@jupyter-widgets/base",
            "_view_module_version": "1.2.0",
            "_view_name": "LayoutView",
            "align_content": null,
            "align_items": null,
            "align_self": null,
            "border": null,
            "bottom": null,
            "display": null,
            "flex": null,
            "flex_flow": null,
            "grid_area": null,
            "grid_auto_columns": null,
            "grid_auto_flow": null,
            "grid_auto_rows": null,
            "grid_column": null,
            "grid_gap": null,
            "grid_row": null,
            "grid_template_areas": null,
            "grid_template_columns": null,
            "grid_template_rows": null,
            "height": null,
            "justify_content": null,
            "justify_items": null,
            "left": null,
            "margin": null,
            "max_height": null,
            "max_width": null,
            "min_height": null,
            "min_width": null,
            "object_fit": null,
            "object_position": null,
            "order": null,
            "overflow": null,
            "overflow_x": null,
            "overflow_y": null,
            "padding": null,
            "right": null,
            "top": null,
            "visibility": null,
            "width": null
          }
        },
        "7cc48c1eb9004151a91f43380259734f": {
          "model_module": "@jupyter-widgets/base",
          "model_name": "LayoutModel",
          "model_module_version": "1.2.0",
          "state": {
            "_model_module": "@jupyter-widgets/base",
            "_model_module_version": "1.2.0",
            "_model_name": "LayoutModel",
            "_view_count": null,
            "_view_module": "@jupyter-widgets/base",
            "_view_module_version": "1.2.0",
            "_view_name": "LayoutView",
            "align_content": null,
            "align_items": null,
            "align_self": null,
            "border": null,
            "bottom": null,
            "display": null,
            "flex": null,
            "flex_flow": null,
            "grid_area": null,
            "grid_auto_columns": null,
            "grid_auto_flow": null,
            "grid_auto_rows": null,
            "grid_column": null,
            "grid_gap": null,
            "grid_row": null,
            "grid_template_areas": null,
            "grid_template_columns": null,
            "grid_template_rows": null,
            "height": null,
            "justify_content": null,
            "justify_items": null,
            "left": null,
            "margin": null,
            "max_height": null,
            "max_width": null,
            "min_height": null,
            "min_width": null,
            "object_fit": null,
            "object_position": null,
            "order": null,
            "overflow": null,
            "overflow_x": null,
            "overflow_y": null,
            "padding": null,
            "right": null,
            "top": null,
            "visibility": null,
            "width": null
          }
        },
        "1854617cfbce40b1b074b4a2e72023dc": {
          "model_module": "@jupyter-widgets/controls",
          "model_name": "DescriptionStyleModel",
          "model_module_version": "1.5.0",
          "state": {
            "_model_module": "@jupyter-widgets/controls",
            "_model_module_version": "1.5.0",
            "_model_name": "DescriptionStyleModel",
            "_view_count": null,
            "_view_module": "@jupyter-widgets/base",
            "_view_module_version": "1.2.0",
            "_view_name": "StyleView",
            "description_width": ""
          }
        },
        "49bfbe2d3a534c3885c0fce7b9036469": {
          "model_module": "@jupyter-widgets/base",
          "model_name": "LayoutModel",
          "model_module_version": "1.2.0",
          "state": {
            "_model_module": "@jupyter-widgets/base",
            "_model_module_version": "1.2.0",
            "_model_name": "LayoutModel",
            "_view_count": null,
            "_view_module": "@jupyter-widgets/base",
            "_view_module_version": "1.2.0",
            "_view_name": "LayoutView",
            "align_content": null,
            "align_items": null,
            "align_self": null,
            "border": null,
            "bottom": null,
            "display": null,
            "flex": null,
            "flex_flow": null,
            "grid_area": null,
            "grid_auto_columns": null,
            "grid_auto_flow": null,
            "grid_auto_rows": null,
            "grid_column": null,
            "grid_gap": null,
            "grid_row": null,
            "grid_template_areas": null,
            "grid_template_columns": null,
            "grid_template_rows": null,
            "height": null,
            "justify_content": null,
            "justify_items": null,
            "left": null,
            "margin": null,
            "max_height": null,
            "max_width": null,
            "min_height": null,
            "min_width": null,
            "object_fit": null,
            "object_position": null,
            "order": null,
            "overflow": null,
            "overflow_x": null,
            "overflow_y": null,
            "padding": null,
            "right": null,
            "top": null,
            "visibility": null,
            "width": null
          }
        },
        "ad01ae3ace4343128423721407cb8b5e": {
          "model_module": "@jupyter-widgets/controls",
          "model_name": "ProgressStyleModel",
          "model_module_version": "1.5.0",
          "state": {
            "_model_module": "@jupyter-widgets/controls",
            "_model_module_version": "1.5.0",
            "_model_name": "ProgressStyleModel",
            "_view_count": null,
            "_view_module": "@jupyter-widgets/base",
            "_view_module_version": "1.2.0",
            "_view_name": "StyleView",
            "bar_color": null,
            "description_width": ""
          }
        },
        "a7ace4d65d254c188bfe30fda9a5df5d": {
          "model_module": "@jupyter-widgets/base",
          "model_name": "LayoutModel",
          "model_module_version": "1.2.0",
          "state": {
            "_model_module": "@jupyter-widgets/base",
            "_model_module_version": "1.2.0",
            "_model_name": "LayoutModel",
            "_view_count": null,
            "_view_module": "@jupyter-widgets/base",
            "_view_module_version": "1.2.0",
            "_view_name": "LayoutView",
            "align_content": null,
            "align_items": null,
            "align_self": null,
            "border": null,
            "bottom": null,
            "display": null,
            "flex": null,
            "flex_flow": null,
            "grid_area": null,
            "grid_auto_columns": null,
            "grid_auto_flow": null,
            "grid_auto_rows": null,
            "grid_column": null,
            "grid_gap": null,
            "grid_row": null,
            "grid_template_areas": null,
            "grid_template_columns": null,
            "grid_template_rows": null,
            "height": null,
            "justify_content": null,
            "justify_items": null,
            "left": null,
            "margin": null,
            "max_height": null,
            "max_width": null,
            "min_height": null,
            "min_width": null,
            "object_fit": null,
            "object_position": null,
            "order": null,
            "overflow": null,
            "overflow_x": null,
            "overflow_y": null,
            "padding": null,
            "right": null,
            "top": null,
            "visibility": null,
            "width": null
          }
        },
        "ec7a1a2bf78b45518697e6adfa473f29": {
          "model_module": "@jupyter-widgets/controls",
          "model_name": "DescriptionStyleModel",
          "model_module_version": "1.5.0",
          "state": {
            "_model_module": "@jupyter-widgets/controls",
            "_model_module_version": "1.5.0",
            "_model_name": "DescriptionStyleModel",
            "_view_count": null,
            "_view_module": "@jupyter-widgets/base",
            "_view_module_version": "1.2.0",
            "_view_name": "StyleView",
            "description_width": ""
          }
        },
        "9fb6a94502164fc1b6ab4ca56395fc91": {
          "model_module": "@jupyter-widgets/controls",
          "model_name": "HBoxModel",
          "model_module_version": "1.5.0",
          "state": {
            "_dom_classes": [],
            "_model_module": "@jupyter-widgets/controls",
            "_model_module_version": "1.5.0",
            "_model_name": "HBoxModel",
            "_view_count": null,
            "_view_module": "@jupyter-widgets/controls",
            "_view_module_version": "1.5.0",
            "_view_name": "HBoxView",
            "box_style": "",
            "children": [
              "IPY_MODEL_4d2ad41b364248eca9e986031ced0ec4",
              "IPY_MODEL_7d14cd4d8a1143239518d0fa049dffbf",
              "IPY_MODEL_d4233dc2acb6440fb041069d3fcaa66a"
            ],
            "layout": "IPY_MODEL_33f06243b42c4b08a524aadc31161d57"
          }
        },
        "4d2ad41b364248eca9e986031ced0ec4": {
          "model_module": "@jupyter-widgets/controls",
          "model_name": "HTMLModel",
          "model_module_version": "1.5.0",
          "state": {
            "_dom_classes": [],
            "_model_module": "@jupyter-widgets/controls",
            "_model_module_version": "1.5.0",
            "_model_name": "HTMLModel",
            "_view_count": null,
            "_view_module": "@jupyter-widgets/controls",
            "_view_module_version": "1.5.0",
            "_view_name": "HTMLView",
            "description": "",
            "description_tooltip": null,
            "layout": "IPY_MODEL_032095c91f564accbdba865ec09d5f07",
            "placeholder": "​",
            "style": "IPY_MODEL_b5d680ecf766419c961e7a4b9194dd6b",
            "value": "Training loop: 100%"
          }
        },
        "7d14cd4d8a1143239518d0fa049dffbf": {
          "model_module": "@jupyter-widgets/controls",
          "model_name": "FloatProgressModel",
          "model_module_version": "1.5.0",
          "state": {
            "_dom_classes": [],
            "_model_module": "@jupyter-widgets/controls",
            "_model_module_version": "1.5.0",
            "_model_name": "FloatProgressModel",
            "_view_count": null,
            "_view_module": "@jupyter-widgets/controls",
            "_view_module_version": "1.5.0",
            "_view_name": "ProgressView",
            "bar_style": "success",
            "description": "",
            "description_tooltip": null,
            "layout": "IPY_MODEL_01ee84dbc5704f669da7fee33a6a9ea4",
            "max": 239,
            "min": 0,
            "orientation": "horizontal",
            "style": "IPY_MODEL_6b0c181b482f41408b068c571d1f3643",
            "value": 239
          }
        },
        "d4233dc2acb6440fb041069d3fcaa66a": {
          "model_module": "@jupyter-widgets/controls",
          "model_name": "HTMLModel",
          "model_module_version": "1.5.0",
          "state": {
            "_dom_classes": [],
            "_model_module": "@jupyter-widgets/controls",
            "_model_module_version": "1.5.0",
            "_model_name": "HTMLModel",
            "_view_count": null,
            "_view_module": "@jupyter-widgets/controls",
            "_view_module_version": "1.5.0",
            "_view_name": "HTMLView",
            "description": "",
            "description_tooltip": null,
            "layout": "IPY_MODEL_60a192ad420d47fb9e04ac7dc08f66e0",
            "placeholder": "​",
            "style": "IPY_MODEL_67b8d4f036f54f4fb3a4a865d9027059",
            "value": " 239/239 [00:26&lt;00:00,  9.66it/s]"
          }
        },
        "33f06243b42c4b08a524aadc31161d57": {
          "model_module": "@jupyter-widgets/base",
          "model_name": "LayoutModel",
          "model_module_version": "1.2.0",
          "state": {
            "_model_module": "@jupyter-widgets/base",
            "_model_module_version": "1.2.0",
            "_model_name": "LayoutModel",
            "_view_count": null,
            "_view_module": "@jupyter-widgets/base",
            "_view_module_version": "1.2.0",
            "_view_name": "LayoutView",
            "align_content": null,
            "align_items": null,
            "align_self": null,
            "border": null,
            "bottom": null,
            "display": null,
            "flex": null,
            "flex_flow": null,
            "grid_area": null,
            "grid_auto_columns": null,
            "grid_auto_flow": null,
            "grid_auto_rows": null,
            "grid_column": null,
            "grid_gap": null,
            "grid_row": null,
            "grid_template_areas": null,
            "grid_template_columns": null,
            "grid_template_rows": null,
            "height": null,
            "justify_content": null,
            "justify_items": null,
            "left": null,
            "margin": null,
            "max_height": null,
            "max_width": null,
            "min_height": null,
            "min_width": null,
            "object_fit": null,
            "object_position": null,
            "order": null,
            "overflow": null,
            "overflow_x": null,
            "overflow_y": null,
            "padding": null,
            "right": null,
            "top": null,
            "visibility": null,
            "width": null
          }
        },
        "032095c91f564accbdba865ec09d5f07": {
          "model_module": "@jupyter-widgets/base",
          "model_name": "LayoutModel",
          "model_module_version": "1.2.0",
          "state": {
            "_model_module": "@jupyter-widgets/base",
            "_model_module_version": "1.2.0",
            "_model_name": "LayoutModel",
            "_view_count": null,
            "_view_module": "@jupyter-widgets/base",
            "_view_module_version": "1.2.0",
            "_view_name": "LayoutView",
            "align_content": null,
            "align_items": null,
            "align_self": null,
            "border": null,
            "bottom": null,
            "display": null,
            "flex": null,
            "flex_flow": null,
            "grid_area": null,
            "grid_auto_columns": null,
            "grid_auto_flow": null,
            "grid_auto_rows": null,
            "grid_column": null,
            "grid_gap": null,
            "grid_row": null,
            "grid_template_areas": null,
            "grid_template_columns": null,
            "grid_template_rows": null,
            "height": null,
            "justify_content": null,
            "justify_items": null,
            "left": null,
            "margin": null,
            "max_height": null,
            "max_width": null,
            "min_height": null,
            "min_width": null,
            "object_fit": null,
            "object_position": null,
            "order": null,
            "overflow": null,
            "overflow_x": null,
            "overflow_y": null,
            "padding": null,
            "right": null,
            "top": null,
            "visibility": null,
            "width": null
          }
        },
        "b5d680ecf766419c961e7a4b9194dd6b": {
          "model_module": "@jupyter-widgets/controls",
          "model_name": "DescriptionStyleModel",
          "model_module_version": "1.5.0",
          "state": {
            "_model_module": "@jupyter-widgets/controls",
            "_model_module_version": "1.5.0",
            "_model_name": "DescriptionStyleModel",
            "_view_count": null,
            "_view_module": "@jupyter-widgets/base",
            "_view_module_version": "1.2.0",
            "_view_name": "StyleView",
            "description_width": ""
          }
        },
        "01ee84dbc5704f669da7fee33a6a9ea4": {
          "model_module": "@jupyter-widgets/base",
          "model_name": "LayoutModel",
          "model_module_version": "1.2.0",
          "state": {
            "_model_module": "@jupyter-widgets/base",
            "_model_module_version": "1.2.0",
            "_model_name": "LayoutModel",
            "_view_count": null,
            "_view_module": "@jupyter-widgets/base",
            "_view_module_version": "1.2.0",
            "_view_name": "LayoutView",
            "align_content": null,
            "align_items": null,
            "align_self": null,
            "border": null,
            "bottom": null,
            "display": null,
            "flex": null,
            "flex_flow": null,
            "grid_area": null,
            "grid_auto_columns": null,
            "grid_auto_flow": null,
            "grid_auto_rows": null,
            "grid_column": null,
            "grid_gap": null,
            "grid_row": null,
            "grid_template_areas": null,
            "grid_template_columns": null,
            "grid_template_rows": null,
            "height": null,
            "justify_content": null,
            "justify_items": null,
            "left": null,
            "margin": null,
            "max_height": null,
            "max_width": null,
            "min_height": null,
            "min_width": null,
            "object_fit": null,
            "object_position": null,
            "order": null,
            "overflow": null,
            "overflow_x": null,
            "overflow_y": null,
            "padding": null,
            "right": null,
            "top": null,
            "visibility": null,
            "width": null
          }
        },
        "6b0c181b482f41408b068c571d1f3643": {
          "model_module": "@jupyter-widgets/controls",
          "model_name": "ProgressStyleModel",
          "model_module_version": "1.5.0",
          "state": {
            "_model_module": "@jupyter-widgets/controls",
            "_model_module_version": "1.5.0",
            "_model_name": "ProgressStyleModel",
            "_view_count": null,
            "_view_module": "@jupyter-widgets/base",
            "_view_module_version": "1.2.0",
            "_view_name": "StyleView",
            "bar_color": null,
            "description_width": ""
          }
        },
        "60a192ad420d47fb9e04ac7dc08f66e0": {
          "model_module": "@jupyter-widgets/base",
          "model_name": "LayoutModel",
          "model_module_version": "1.2.0",
          "state": {
            "_model_module": "@jupyter-widgets/base",
            "_model_module_version": "1.2.0",
            "_model_name": "LayoutModel",
            "_view_count": null,
            "_view_module": "@jupyter-widgets/base",
            "_view_module_version": "1.2.0",
            "_view_name": "LayoutView",
            "align_content": null,
            "align_items": null,
            "align_self": null,
            "border": null,
            "bottom": null,
            "display": null,
            "flex": null,
            "flex_flow": null,
            "grid_area": null,
            "grid_auto_columns": null,
            "grid_auto_flow": null,
            "grid_auto_rows": null,
            "grid_column": null,
            "grid_gap": null,
            "grid_row": null,
            "grid_template_areas": null,
            "grid_template_columns": null,
            "grid_template_rows": null,
            "height": null,
            "justify_content": null,
            "justify_items": null,
            "left": null,
            "margin": null,
            "max_height": null,
            "max_width": null,
            "min_height": null,
            "min_width": null,
            "object_fit": null,
            "object_position": null,
            "order": null,
            "overflow": null,
            "overflow_x": null,
            "overflow_y": null,
            "padding": null,
            "right": null,
            "top": null,
            "visibility": null,
            "width": null
          }
        },
        "67b8d4f036f54f4fb3a4a865d9027059": {
          "model_module": "@jupyter-widgets/controls",
          "model_name": "DescriptionStyleModel",
          "model_module_version": "1.5.0",
          "state": {
            "_model_module": "@jupyter-widgets/controls",
            "_model_module_version": "1.5.0",
            "_model_name": "DescriptionStyleModel",
            "_view_count": null,
            "_view_module": "@jupyter-widgets/base",
            "_view_module_version": "1.2.0",
            "_view_name": "StyleView",
            "description_width": ""
          }
        },
        "06e53ede373d41f1a33ac60aff1a657c": {
          "model_module": "@jupyter-widgets/controls",
          "model_name": "HBoxModel",
          "model_module_version": "1.5.0",
          "state": {
            "_dom_classes": [],
            "_model_module": "@jupyter-widgets/controls",
            "_model_module_version": "1.5.0",
            "_model_name": "HBoxModel",
            "_view_count": null,
            "_view_module": "@jupyter-widgets/controls",
            "_view_module_version": "1.5.0",
            "_view_name": "HBoxView",
            "box_style": "",
            "children": [
              "IPY_MODEL_62efae09690a44bca740d896a3585274",
              "IPY_MODEL_add0572bb53148a9b846f21d4168520b",
              "IPY_MODEL_b613608597b74f4482c0842eb1d0301b"
            ],
            "layout": "IPY_MODEL_3a1ac526ce87496c9281724f1124ce2e"
          }
        },
        "62efae09690a44bca740d896a3585274": {
          "model_module": "@jupyter-widgets/controls",
          "model_name": "HTMLModel",
          "model_module_version": "1.5.0",
          "state": {
            "_dom_classes": [],
            "_model_module": "@jupyter-widgets/controls",
            "_model_module_version": "1.5.0",
            "_model_name": "HTMLModel",
            "_view_count": null,
            "_view_module": "@jupyter-widgets/controls",
            "_view_module_version": "1.5.0",
            "_view_name": "HTMLView",
            "description": "",
            "description_tooltip": null,
            "layout": "IPY_MODEL_a47c67dfb56446ea9deddbadbb000de1",
            "placeholder": "​",
            "style": "IPY_MODEL_d12c7d1414a940fbad898a277a78f71c",
            "value": "Validation loop: 100%"
          }
        },
        "add0572bb53148a9b846f21d4168520b": {
          "model_module": "@jupyter-widgets/controls",
          "model_name": "FloatProgressModel",
          "model_module_version": "1.5.0",
          "state": {
            "_dom_classes": [],
            "_model_module": "@jupyter-widgets/controls",
            "_model_module_version": "1.5.0",
            "_model_name": "FloatProgressModel",
            "_view_count": null,
            "_view_module": "@jupyter-widgets/controls",
            "_view_module_version": "1.5.0",
            "_view_name": "ProgressView",
            "bar_style": "success",
            "description": "",
            "description_tooltip": null,
            "layout": "IPY_MODEL_a04921b5bfc04c8c9e2c888b8f43cfd3",
            "max": 9,
            "min": 0,
            "orientation": "horizontal",
            "style": "IPY_MODEL_c29021c347714ec9abfbaa2d7031b676",
            "value": 9
          }
        },
        "b613608597b74f4482c0842eb1d0301b": {
          "model_module": "@jupyter-widgets/controls",
          "model_name": "HTMLModel",
          "model_module_version": "1.5.0",
          "state": {
            "_dom_classes": [],
            "_model_module": "@jupyter-widgets/controls",
            "_model_module_version": "1.5.0",
            "_model_name": "HTMLModel",
            "_view_count": null,
            "_view_module": "@jupyter-widgets/controls",
            "_view_module_version": "1.5.0",
            "_view_name": "HTMLView",
            "description": "",
            "description_tooltip": null,
            "layout": "IPY_MODEL_1daf91ac70bf4a76b72cd58cdef581cc",
            "placeholder": "​",
            "style": "IPY_MODEL_a78bb4a451eb4550870e0992f4d9e5c9",
            "value": " 9/9 [00:00&lt;00:00, 15.97it/s]"
          }
        },
        "3a1ac526ce87496c9281724f1124ce2e": {
          "model_module": "@jupyter-widgets/base",
          "model_name": "LayoutModel",
          "model_module_version": "1.2.0",
          "state": {
            "_model_module": "@jupyter-widgets/base",
            "_model_module_version": "1.2.0",
            "_model_name": "LayoutModel",
            "_view_count": null,
            "_view_module": "@jupyter-widgets/base",
            "_view_module_version": "1.2.0",
            "_view_name": "LayoutView",
            "align_content": null,
            "align_items": null,
            "align_self": null,
            "border": null,
            "bottom": null,
            "display": null,
            "flex": null,
            "flex_flow": null,
            "grid_area": null,
            "grid_auto_columns": null,
            "grid_auto_flow": null,
            "grid_auto_rows": null,
            "grid_column": null,
            "grid_gap": null,
            "grid_row": null,
            "grid_template_areas": null,
            "grid_template_columns": null,
            "grid_template_rows": null,
            "height": null,
            "justify_content": null,
            "justify_items": null,
            "left": null,
            "margin": null,
            "max_height": null,
            "max_width": null,
            "min_height": null,
            "min_width": null,
            "object_fit": null,
            "object_position": null,
            "order": null,
            "overflow": null,
            "overflow_x": null,
            "overflow_y": null,
            "padding": null,
            "right": null,
            "top": null,
            "visibility": null,
            "width": null
          }
        },
        "a47c67dfb56446ea9deddbadbb000de1": {
          "model_module": "@jupyter-widgets/base",
          "model_name": "LayoutModel",
          "model_module_version": "1.2.0",
          "state": {
            "_model_module": "@jupyter-widgets/base",
            "_model_module_version": "1.2.0",
            "_model_name": "LayoutModel",
            "_view_count": null,
            "_view_module": "@jupyter-widgets/base",
            "_view_module_version": "1.2.0",
            "_view_name": "LayoutView",
            "align_content": null,
            "align_items": null,
            "align_self": null,
            "border": null,
            "bottom": null,
            "display": null,
            "flex": null,
            "flex_flow": null,
            "grid_area": null,
            "grid_auto_columns": null,
            "grid_auto_flow": null,
            "grid_auto_rows": null,
            "grid_column": null,
            "grid_gap": null,
            "grid_row": null,
            "grid_template_areas": null,
            "grid_template_columns": null,
            "grid_template_rows": null,
            "height": null,
            "justify_content": null,
            "justify_items": null,
            "left": null,
            "margin": null,
            "max_height": null,
            "max_width": null,
            "min_height": null,
            "min_width": null,
            "object_fit": null,
            "object_position": null,
            "order": null,
            "overflow": null,
            "overflow_x": null,
            "overflow_y": null,
            "padding": null,
            "right": null,
            "top": null,
            "visibility": null,
            "width": null
          }
        },
        "d12c7d1414a940fbad898a277a78f71c": {
          "model_module": "@jupyter-widgets/controls",
          "model_name": "DescriptionStyleModel",
          "model_module_version": "1.5.0",
          "state": {
            "_model_module": "@jupyter-widgets/controls",
            "_model_module_version": "1.5.0",
            "_model_name": "DescriptionStyleModel",
            "_view_count": null,
            "_view_module": "@jupyter-widgets/base",
            "_view_module_version": "1.2.0",
            "_view_name": "StyleView",
            "description_width": ""
          }
        },
        "a04921b5bfc04c8c9e2c888b8f43cfd3": {
          "model_module": "@jupyter-widgets/base",
          "model_name": "LayoutModel",
          "model_module_version": "1.2.0",
          "state": {
            "_model_module": "@jupyter-widgets/base",
            "_model_module_version": "1.2.0",
            "_model_name": "LayoutModel",
            "_view_count": null,
            "_view_module": "@jupyter-widgets/base",
            "_view_module_version": "1.2.0",
            "_view_name": "LayoutView",
            "align_content": null,
            "align_items": null,
            "align_self": null,
            "border": null,
            "bottom": null,
            "display": null,
            "flex": null,
            "flex_flow": null,
            "grid_area": null,
            "grid_auto_columns": null,
            "grid_auto_flow": null,
            "grid_auto_rows": null,
            "grid_column": null,
            "grid_gap": null,
            "grid_row": null,
            "grid_template_areas": null,
            "grid_template_columns": null,
            "grid_template_rows": null,
            "height": null,
            "justify_content": null,
            "justify_items": null,
            "left": null,
            "margin": null,
            "max_height": null,
            "max_width": null,
            "min_height": null,
            "min_width": null,
            "object_fit": null,
            "object_position": null,
            "order": null,
            "overflow": null,
            "overflow_x": null,
            "overflow_y": null,
            "padding": null,
            "right": null,
            "top": null,
            "visibility": null,
            "width": null
          }
        },
        "c29021c347714ec9abfbaa2d7031b676": {
          "model_module": "@jupyter-widgets/controls",
          "model_name": "ProgressStyleModel",
          "model_module_version": "1.5.0",
          "state": {
            "_model_module": "@jupyter-widgets/controls",
            "_model_module_version": "1.5.0",
            "_model_name": "ProgressStyleModel",
            "_view_count": null,
            "_view_module": "@jupyter-widgets/base",
            "_view_module_version": "1.2.0",
            "_view_name": "StyleView",
            "bar_color": null,
            "description_width": ""
          }
        },
        "1daf91ac70bf4a76b72cd58cdef581cc": {
          "model_module": "@jupyter-widgets/base",
          "model_name": "LayoutModel",
          "model_module_version": "1.2.0",
          "state": {
            "_model_module": "@jupyter-widgets/base",
            "_model_module_version": "1.2.0",
            "_model_name": "LayoutModel",
            "_view_count": null,
            "_view_module": "@jupyter-widgets/base",
            "_view_module_version": "1.2.0",
            "_view_name": "LayoutView",
            "align_content": null,
            "align_items": null,
            "align_self": null,
            "border": null,
            "bottom": null,
            "display": null,
            "flex": null,
            "flex_flow": null,
            "grid_area": null,
            "grid_auto_columns": null,
            "grid_auto_flow": null,
            "grid_auto_rows": null,
            "grid_column": null,
            "grid_gap": null,
            "grid_row": null,
            "grid_template_areas": null,
            "grid_template_columns": null,
            "grid_template_rows": null,
            "height": null,
            "justify_content": null,
            "justify_items": null,
            "left": null,
            "margin": null,
            "max_height": null,
            "max_width": null,
            "min_height": null,
            "min_width": null,
            "object_fit": null,
            "object_position": null,
            "order": null,
            "overflow": null,
            "overflow_x": null,
            "overflow_y": null,
            "padding": null,
            "right": null,
            "top": null,
            "visibility": null,
            "width": null
          }
        },
        "a78bb4a451eb4550870e0992f4d9e5c9": {
          "model_module": "@jupyter-widgets/controls",
          "model_name": "DescriptionStyleModel",
          "model_module_version": "1.5.0",
          "state": {
            "_model_module": "@jupyter-widgets/controls",
            "_model_module_version": "1.5.0",
            "_model_name": "DescriptionStyleModel",
            "_view_count": null,
            "_view_module": "@jupyter-widgets/base",
            "_view_module_version": "1.2.0",
            "_view_name": "StyleView",
            "description_width": ""
          }
        },
        "41067b31ee8044ad99c17c36aa72f382": {
          "model_module": "@jupyter-widgets/controls",
          "model_name": "HBoxModel",
          "model_module_version": "1.5.0",
          "state": {
            "_dom_classes": [],
            "_model_module": "@jupyter-widgets/controls",
            "_model_module_version": "1.5.0",
            "_model_name": "HBoxModel",
            "_view_count": null,
            "_view_module": "@jupyter-widgets/controls",
            "_view_module_version": "1.5.0",
            "_view_name": "HBoxView",
            "box_style": "",
            "children": [
              "IPY_MODEL_0573e0bedbfc467192275de737c5ba3d",
              "IPY_MODEL_8227ebcbea2b415f9fc4111f16741206",
              "IPY_MODEL_c8e8588beb39409fbfffc2446c726aa0"
            ],
            "layout": "IPY_MODEL_4bf72241a0c84e7d84e4c7672dcf6041"
          }
        },
        "0573e0bedbfc467192275de737c5ba3d": {
          "model_module": "@jupyter-widgets/controls",
          "model_name": "HTMLModel",
          "model_module_version": "1.5.0",
          "state": {
            "_dom_classes": [],
            "_model_module": "@jupyter-widgets/controls",
            "_model_module_version": "1.5.0",
            "_model_name": "HTMLModel",
            "_view_count": null,
            "_view_module": "@jupyter-widgets/controls",
            "_view_module_version": "1.5.0",
            "_view_name": "HTMLView",
            "description": "",
            "description_tooltip": null,
            "layout": "IPY_MODEL_d5fa85ce0eb546b587d5854eff383a1c",
            "placeholder": "​",
            "style": "IPY_MODEL_888536bd6cd9426da1d87da8b9b73799",
            "value": "Training loop: 100%"
          }
        },
        "8227ebcbea2b415f9fc4111f16741206": {
          "model_module": "@jupyter-widgets/controls",
          "model_name": "FloatProgressModel",
          "model_module_version": "1.5.0",
          "state": {
            "_dom_classes": [],
            "_model_module": "@jupyter-widgets/controls",
            "_model_module_version": "1.5.0",
            "_model_name": "FloatProgressModel",
            "_view_count": null,
            "_view_module": "@jupyter-widgets/controls",
            "_view_module_version": "1.5.0",
            "_view_name": "ProgressView",
            "bar_style": "success",
            "description": "",
            "description_tooltip": null,
            "layout": "IPY_MODEL_2db4d071f6ea4f0c89149d15cbdfdb60",
            "max": 239,
            "min": 0,
            "orientation": "horizontal",
            "style": "IPY_MODEL_8edaaa75c57a485aac83b1257213c847",
            "value": 239
          }
        },
        "c8e8588beb39409fbfffc2446c726aa0": {
          "model_module": "@jupyter-widgets/controls",
          "model_name": "HTMLModel",
          "model_module_version": "1.5.0",
          "state": {
            "_dom_classes": [],
            "_model_module": "@jupyter-widgets/controls",
            "_model_module_version": "1.5.0",
            "_model_name": "HTMLModel",
            "_view_count": null,
            "_view_module": "@jupyter-widgets/controls",
            "_view_module_version": "1.5.0",
            "_view_name": "HTMLView",
            "description": "",
            "description_tooltip": null,
            "layout": "IPY_MODEL_da298ab32fe34cdd963c61a35072262f",
            "placeholder": "​",
            "style": "IPY_MODEL_3f2bb29e10b5450d9877bd4c656a0243",
            "value": " 239/239 [00:26&lt;00:00,  9.34it/s]"
          }
        },
        "4bf72241a0c84e7d84e4c7672dcf6041": {
          "model_module": "@jupyter-widgets/base",
          "model_name": "LayoutModel",
          "model_module_version": "1.2.0",
          "state": {
            "_model_module": "@jupyter-widgets/base",
            "_model_module_version": "1.2.0",
            "_model_name": "LayoutModel",
            "_view_count": null,
            "_view_module": "@jupyter-widgets/base",
            "_view_module_version": "1.2.0",
            "_view_name": "LayoutView",
            "align_content": null,
            "align_items": null,
            "align_self": null,
            "border": null,
            "bottom": null,
            "display": null,
            "flex": null,
            "flex_flow": null,
            "grid_area": null,
            "grid_auto_columns": null,
            "grid_auto_flow": null,
            "grid_auto_rows": null,
            "grid_column": null,
            "grid_gap": null,
            "grid_row": null,
            "grid_template_areas": null,
            "grid_template_columns": null,
            "grid_template_rows": null,
            "height": null,
            "justify_content": null,
            "justify_items": null,
            "left": null,
            "margin": null,
            "max_height": null,
            "max_width": null,
            "min_height": null,
            "min_width": null,
            "object_fit": null,
            "object_position": null,
            "order": null,
            "overflow": null,
            "overflow_x": null,
            "overflow_y": null,
            "padding": null,
            "right": null,
            "top": null,
            "visibility": null,
            "width": null
          }
        },
        "d5fa85ce0eb546b587d5854eff383a1c": {
          "model_module": "@jupyter-widgets/base",
          "model_name": "LayoutModel",
          "model_module_version": "1.2.0",
          "state": {
            "_model_module": "@jupyter-widgets/base",
            "_model_module_version": "1.2.0",
            "_model_name": "LayoutModel",
            "_view_count": null,
            "_view_module": "@jupyter-widgets/base",
            "_view_module_version": "1.2.0",
            "_view_name": "LayoutView",
            "align_content": null,
            "align_items": null,
            "align_self": null,
            "border": null,
            "bottom": null,
            "display": null,
            "flex": null,
            "flex_flow": null,
            "grid_area": null,
            "grid_auto_columns": null,
            "grid_auto_flow": null,
            "grid_auto_rows": null,
            "grid_column": null,
            "grid_gap": null,
            "grid_row": null,
            "grid_template_areas": null,
            "grid_template_columns": null,
            "grid_template_rows": null,
            "height": null,
            "justify_content": null,
            "justify_items": null,
            "left": null,
            "margin": null,
            "max_height": null,
            "max_width": null,
            "min_height": null,
            "min_width": null,
            "object_fit": null,
            "object_position": null,
            "order": null,
            "overflow": null,
            "overflow_x": null,
            "overflow_y": null,
            "padding": null,
            "right": null,
            "top": null,
            "visibility": null,
            "width": null
          }
        },
        "888536bd6cd9426da1d87da8b9b73799": {
          "model_module": "@jupyter-widgets/controls",
          "model_name": "DescriptionStyleModel",
          "model_module_version": "1.5.0",
          "state": {
            "_model_module": "@jupyter-widgets/controls",
            "_model_module_version": "1.5.0",
            "_model_name": "DescriptionStyleModel",
            "_view_count": null,
            "_view_module": "@jupyter-widgets/base",
            "_view_module_version": "1.2.0",
            "_view_name": "StyleView",
            "description_width": ""
          }
        },
        "2db4d071f6ea4f0c89149d15cbdfdb60": {
          "model_module": "@jupyter-widgets/base",
          "model_name": "LayoutModel",
          "model_module_version": "1.2.0",
          "state": {
            "_model_module": "@jupyter-widgets/base",
            "_model_module_version": "1.2.0",
            "_model_name": "LayoutModel",
            "_view_count": null,
            "_view_module": "@jupyter-widgets/base",
            "_view_module_version": "1.2.0",
            "_view_name": "LayoutView",
            "align_content": null,
            "align_items": null,
            "align_self": null,
            "border": null,
            "bottom": null,
            "display": null,
            "flex": null,
            "flex_flow": null,
            "grid_area": null,
            "grid_auto_columns": null,
            "grid_auto_flow": null,
            "grid_auto_rows": null,
            "grid_column": null,
            "grid_gap": null,
            "grid_row": null,
            "grid_template_areas": null,
            "grid_template_columns": null,
            "grid_template_rows": null,
            "height": null,
            "justify_content": null,
            "justify_items": null,
            "left": null,
            "margin": null,
            "max_height": null,
            "max_width": null,
            "min_height": null,
            "min_width": null,
            "object_fit": null,
            "object_position": null,
            "order": null,
            "overflow": null,
            "overflow_x": null,
            "overflow_y": null,
            "padding": null,
            "right": null,
            "top": null,
            "visibility": null,
            "width": null
          }
        },
        "8edaaa75c57a485aac83b1257213c847": {
          "model_module": "@jupyter-widgets/controls",
          "model_name": "ProgressStyleModel",
          "model_module_version": "1.5.0",
          "state": {
            "_model_module": "@jupyter-widgets/controls",
            "_model_module_version": "1.5.0",
            "_model_name": "ProgressStyleModel",
            "_view_count": null,
            "_view_module": "@jupyter-widgets/base",
            "_view_module_version": "1.2.0",
            "_view_name": "StyleView",
            "bar_color": null,
            "description_width": ""
          }
        },
        "da298ab32fe34cdd963c61a35072262f": {
          "model_module": "@jupyter-widgets/base",
          "model_name": "LayoutModel",
          "model_module_version": "1.2.0",
          "state": {
            "_model_module": "@jupyter-widgets/base",
            "_model_module_version": "1.2.0",
            "_model_name": "LayoutModel",
            "_view_count": null,
            "_view_module": "@jupyter-widgets/base",
            "_view_module_version": "1.2.0",
            "_view_name": "LayoutView",
            "align_content": null,
            "align_items": null,
            "align_self": null,
            "border": null,
            "bottom": null,
            "display": null,
            "flex": null,
            "flex_flow": null,
            "grid_area": null,
            "grid_auto_columns": null,
            "grid_auto_flow": null,
            "grid_auto_rows": null,
            "grid_column": null,
            "grid_gap": null,
            "grid_row": null,
            "grid_template_areas": null,
            "grid_template_columns": null,
            "grid_template_rows": null,
            "height": null,
            "justify_content": null,
            "justify_items": null,
            "left": null,
            "margin": null,
            "max_height": null,
            "max_width": null,
            "min_height": null,
            "min_width": null,
            "object_fit": null,
            "object_position": null,
            "order": null,
            "overflow": null,
            "overflow_x": null,
            "overflow_y": null,
            "padding": null,
            "right": null,
            "top": null,
            "visibility": null,
            "width": null
          }
        },
        "3f2bb29e10b5450d9877bd4c656a0243": {
          "model_module": "@jupyter-widgets/controls",
          "model_name": "DescriptionStyleModel",
          "model_module_version": "1.5.0",
          "state": {
            "_model_module": "@jupyter-widgets/controls",
            "_model_module_version": "1.5.0",
            "_model_name": "DescriptionStyleModel",
            "_view_count": null,
            "_view_module": "@jupyter-widgets/base",
            "_view_module_version": "1.2.0",
            "_view_name": "StyleView",
            "description_width": ""
          }
        },
        "1814c591882049d1b5a345288b447f85": {
          "model_module": "@jupyter-widgets/controls",
          "model_name": "HBoxModel",
          "model_module_version": "1.5.0",
          "state": {
            "_dom_classes": [],
            "_model_module": "@jupyter-widgets/controls",
            "_model_module_version": "1.5.0",
            "_model_name": "HBoxModel",
            "_view_count": null,
            "_view_module": "@jupyter-widgets/controls",
            "_view_module_version": "1.5.0",
            "_view_name": "HBoxView",
            "box_style": "",
            "children": [
              "IPY_MODEL_06e7e8aae03e468ebb50e61ab97e8f21",
              "IPY_MODEL_759eba4975a545aea4efd2c63bd6c823",
              "IPY_MODEL_c39e3cb8abc04b1d8a66ffd524fcc213"
            ],
            "layout": "IPY_MODEL_28886054535642a286a031f4c89a44f2"
          }
        },
        "06e7e8aae03e468ebb50e61ab97e8f21": {
          "model_module": "@jupyter-widgets/controls",
          "model_name": "HTMLModel",
          "model_module_version": "1.5.0",
          "state": {
            "_dom_classes": [],
            "_model_module": "@jupyter-widgets/controls",
            "_model_module_version": "1.5.0",
            "_model_name": "HTMLModel",
            "_view_count": null,
            "_view_module": "@jupyter-widgets/controls",
            "_view_module_version": "1.5.0",
            "_view_name": "HTMLView",
            "description": "",
            "description_tooltip": null,
            "layout": "IPY_MODEL_fd5c070ad7414dacb931df74fa1c9fce",
            "placeholder": "​",
            "style": "IPY_MODEL_0feae80c9e92457a918922f034e136c8",
            "value": "Validation loop: 100%"
          }
        },
        "759eba4975a545aea4efd2c63bd6c823": {
          "model_module": "@jupyter-widgets/controls",
          "model_name": "FloatProgressModel",
          "model_module_version": "1.5.0",
          "state": {
            "_dom_classes": [],
            "_model_module": "@jupyter-widgets/controls",
            "_model_module_version": "1.5.0",
            "_model_name": "FloatProgressModel",
            "_view_count": null,
            "_view_module": "@jupyter-widgets/controls",
            "_view_module_version": "1.5.0",
            "_view_name": "ProgressView",
            "bar_style": "success",
            "description": "",
            "description_tooltip": null,
            "layout": "IPY_MODEL_726ae7e81afc42a0bd14bbdd8af07b0e",
            "max": 9,
            "min": 0,
            "orientation": "horizontal",
            "style": "IPY_MODEL_8455188072934b2284915bfd062edcb6",
            "value": 9
          }
        },
        "c39e3cb8abc04b1d8a66ffd524fcc213": {
          "model_module": "@jupyter-widgets/controls",
          "model_name": "HTMLModel",
          "model_module_version": "1.5.0",
          "state": {
            "_dom_classes": [],
            "_model_module": "@jupyter-widgets/controls",
            "_model_module_version": "1.5.0",
            "_model_name": "HTMLModel",
            "_view_count": null,
            "_view_module": "@jupyter-widgets/controls",
            "_view_module_version": "1.5.0",
            "_view_name": "HTMLView",
            "description": "",
            "description_tooltip": null,
            "layout": "IPY_MODEL_1902342ea1464743befa854005c50380",
            "placeholder": "​",
            "style": "IPY_MODEL_9fa8e1a7e4de4fe6be74ba7610cad44d",
            "value": " 9/9 [00:00&lt;00:00, 15.89it/s]"
          }
        },
        "28886054535642a286a031f4c89a44f2": {
          "model_module": "@jupyter-widgets/base",
          "model_name": "LayoutModel",
          "model_module_version": "1.2.0",
          "state": {
            "_model_module": "@jupyter-widgets/base",
            "_model_module_version": "1.2.0",
            "_model_name": "LayoutModel",
            "_view_count": null,
            "_view_module": "@jupyter-widgets/base",
            "_view_module_version": "1.2.0",
            "_view_name": "LayoutView",
            "align_content": null,
            "align_items": null,
            "align_self": null,
            "border": null,
            "bottom": null,
            "display": null,
            "flex": null,
            "flex_flow": null,
            "grid_area": null,
            "grid_auto_columns": null,
            "grid_auto_flow": null,
            "grid_auto_rows": null,
            "grid_column": null,
            "grid_gap": null,
            "grid_row": null,
            "grid_template_areas": null,
            "grid_template_columns": null,
            "grid_template_rows": null,
            "height": null,
            "justify_content": null,
            "justify_items": null,
            "left": null,
            "margin": null,
            "max_height": null,
            "max_width": null,
            "min_height": null,
            "min_width": null,
            "object_fit": null,
            "object_position": null,
            "order": null,
            "overflow": null,
            "overflow_x": null,
            "overflow_y": null,
            "padding": null,
            "right": null,
            "top": null,
            "visibility": null,
            "width": null
          }
        },
        "fd5c070ad7414dacb931df74fa1c9fce": {
          "model_module": "@jupyter-widgets/base",
          "model_name": "LayoutModel",
          "model_module_version": "1.2.0",
          "state": {
            "_model_module": "@jupyter-widgets/base",
            "_model_module_version": "1.2.0",
            "_model_name": "LayoutModel",
            "_view_count": null,
            "_view_module": "@jupyter-widgets/base",
            "_view_module_version": "1.2.0",
            "_view_name": "LayoutView",
            "align_content": null,
            "align_items": null,
            "align_self": null,
            "border": null,
            "bottom": null,
            "display": null,
            "flex": null,
            "flex_flow": null,
            "grid_area": null,
            "grid_auto_columns": null,
            "grid_auto_flow": null,
            "grid_auto_rows": null,
            "grid_column": null,
            "grid_gap": null,
            "grid_row": null,
            "grid_template_areas": null,
            "grid_template_columns": null,
            "grid_template_rows": null,
            "height": null,
            "justify_content": null,
            "justify_items": null,
            "left": null,
            "margin": null,
            "max_height": null,
            "max_width": null,
            "min_height": null,
            "min_width": null,
            "object_fit": null,
            "object_position": null,
            "order": null,
            "overflow": null,
            "overflow_x": null,
            "overflow_y": null,
            "padding": null,
            "right": null,
            "top": null,
            "visibility": null,
            "width": null
          }
        },
        "0feae80c9e92457a918922f034e136c8": {
          "model_module": "@jupyter-widgets/controls",
          "model_name": "DescriptionStyleModel",
          "model_module_version": "1.5.0",
          "state": {
            "_model_module": "@jupyter-widgets/controls",
            "_model_module_version": "1.5.0",
            "_model_name": "DescriptionStyleModel",
            "_view_count": null,
            "_view_module": "@jupyter-widgets/base",
            "_view_module_version": "1.2.0",
            "_view_name": "StyleView",
            "description_width": ""
          }
        },
        "726ae7e81afc42a0bd14bbdd8af07b0e": {
          "model_module": "@jupyter-widgets/base",
          "model_name": "LayoutModel",
          "model_module_version": "1.2.0",
          "state": {
            "_model_module": "@jupyter-widgets/base",
            "_model_module_version": "1.2.0",
            "_model_name": "LayoutModel",
            "_view_count": null,
            "_view_module": "@jupyter-widgets/base",
            "_view_module_version": "1.2.0",
            "_view_name": "LayoutView",
            "align_content": null,
            "align_items": null,
            "align_self": null,
            "border": null,
            "bottom": null,
            "display": null,
            "flex": null,
            "flex_flow": null,
            "grid_area": null,
            "grid_auto_columns": null,
            "grid_auto_flow": null,
            "grid_auto_rows": null,
            "grid_column": null,
            "grid_gap": null,
            "grid_row": null,
            "grid_template_areas": null,
            "grid_template_columns": null,
            "grid_template_rows": null,
            "height": null,
            "justify_content": null,
            "justify_items": null,
            "left": null,
            "margin": null,
            "max_height": null,
            "max_width": null,
            "min_height": null,
            "min_width": null,
            "object_fit": null,
            "object_position": null,
            "order": null,
            "overflow": null,
            "overflow_x": null,
            "overflow_y": null,
            "padding": null,
            "right": null,
            "top": null,
            "visibility": null,
            "width": null
          }
        },
        "8455188072934b2284915bfd062edcb6": {
          "model_module": "@jupyter-widgets/controls",
          "model_name": "ProgressStyleModel",
          "model_module_version": "1.5.0",
          "state": {
            "_model_module": "@jupyter-widgets/controls",
            "_model_module_version": "1.5.0",
            "_model_name": "ProgressStyleModel",
            "_view_count": null,
            "_view_module": "@jupyter-widgets/base",
            "_view_module_version": "1.2.0",
            "_view_name": "StyleView",
            "bar_color": null,
            "description_width": ""
          }
        },
        "1902342ea1464743befa854005c50380": {
          "model_module": "@jupyter-widgets/base",
          "model_name": "LayoutModel",
          "model_module_version": "1.2.0",
          "state": {
            "_model_module": "@jupyter-widgets/base",
            "_model_module_version": "1.2.0",
            "_model_name": "LayoutModel",
            "_view_count": null,
            "_view_module": "@jupyter-widgets/base",
            "_view_module_version": "1.2.0",
            "_view_name": "LayoutView",
            "align_content": null,
            "align_items": null,
            "align_self": null,
            "border": null,
            "bottom": null,
            "display": null,
            "flex": null,
            "flex_flow": null,
            "grid_area": null,
            "grid_auto_columns": null,
            "grid_auto_flow": null,
            "grid_auto_rows": null,
            "grid_column": null,
            "grid_gap": null,
            "grid_row": null,
            "grid_template_areas": null,
            "grid_template_columns": null,
            "grid_template_rows": null,
            "height": null,
            "justify_content": null,
            "justify_items": null,
            "left": null,
            "margin": null,
            "max_height": null,
            "max_width": null,
            "min_height": null,
            "min_width": null,
            "object_fit": null,
            "object_position": null,
            "order": null,
            "overflow": null,
            "overflow_x": null,
            "overflow_y": null,
            "padding": null,
            "right": null,
            "top": null,
            "visibility": null,
            "width": null
          }
        },
        "9fa8e1a7e4de4fe6be74ba7610cad44d": {
          "model_module": "@jupyter-widgets/controls",
          "model_name": "DescriptionStyleModel",
          "model_module_version": "1.5.0",
          "state": {
            "_model_module": "@jupyter-widgets/controls",
            "_model_module_version": "1.5.0",
            "_model_name": "DescriptionStyleModel",
            "_view_count": null,
            "_view_module": "@jupyter-widgets/base",
            "_view_module_version": "1.2.0",
            "_view_name": "StyleView",
            "description_width": ""
          }
        },
        "05953df5e57b4512900e8669528165b2": {
          "model_module": "@jupyter-widgets/controls",
          "model_name": "HBoxModel",
          "model_module_version": "1.5.0",
          "state": {
            "_dom_classes": [],
            "_model_module": "@jupyter-widgets/controls",
            "_model_module_version": "1.5.0",
            "_model_name": "HBoxModel",
            "_view_count": null,
            "_view_module": "@jupyter-widgets/controls",
            "_view_module_version": "1.5.0",
            "_view_name": "HBoxView",
            "box_style": "",
            "children": [
              "IPY_MODEL_90cca27bc257493884420eed5da69c0b",
              "IPY_MODEL_6680cb52ab6443cca11d11a5f41a5054",
              "IPY_MODEL_1cedcaa1aac74d9bbeac965e5670c51c"
            ],
            "layout": "IPY_MODEL_19dfa87f5399411a9bb1e26bfddefde0"
          }
        },
        "90cca27bc257493884420eed5da69c0b": {
          "model_module": "@jupyter-widgets/controls",
          "model_name": "HTMLModel",
          "model_module_version": "1.5.0",
          "state": {
            "_dom_classes": [],
            "_model_module": "@jupyter-widgets/controls",
            "_model_module_version": "1.5.0",
            "_model_name": "HTMLModel",
            "_view_count": null,
            "_view_module": "@jupyter-widgets/controls",
            "_view_module_version": "1.5.0",
            "_view_name": "HTMLView",
            "description": "",
            "description_tooltip": null,
            "layout": "IPY_MODEL_36012ca8f3f84b1c8e3b54c74b558482",
            "placeholder": "​",
            "style": "IPY_MODEL_9f364168d609431a864a9ce8b124797c",
            "value": "Training loop: 100%"
          }
        },
        "6680cb52ab6443cca11d11a5f41a5054": {
          "model_module": "@jupyter-widgets/controls",
          "model_name": "FloatProgressModel",
          "model_module_version": "1.5.0",
          "state": {
            "_dom_classes": [],
            "_model_module": "@jupyter-widgets/controls",
            "_model_module_version": "1.5.0",
            "_model_name": "FloatProgressModel",
            "_view_count": null,
            "_view_module": "@jupyter-widgets/controls",
            "_view_module_version": "1.5.0",
            "_view_name": "ProgressView",
            "bar_style": "success",
            "description": "",
            "description_tooltip": null,
            "layout": "IPY_MODEL_6885a7218f9848fead83cbc70b4ebdb6",
            "max": 239,
            "min": 0,
            "orientation": "horizontal",
            "style": "IPY_MODEL_2e7abf17412e49289f784ef07d903703",
            "value": 239
          }
        },
        "1cedcaa1aac74d9bbeac965e5670c51c": {
          "model_module": "@jupyter-widgets/controls",
          "model_name": "HTMLModel",
          "model_module_version": "1.5.0",
          "state": {
            "_dom_classes": [],
            "_model_module": "@jupyter-widgets/controls",
            "_model_module_version": "1.5.0",
            "_model_name": "HTMLModel",
            "_view_count": null,
            "_view_module": "@jupyter-widgets/controls",
            "_view_module_version": "1.5.0",
            "_view_name": "HTMLView",
            "description": "",
            "description_tooltip": null,
            "layout": "IPY_MODEL_bf0b6152b64f44499dfa52160bf980b0",
            "placeholder": "​",
            "style": "IPY_MODEL_bfdfdcafaef34b03ad11d86c75e89c48",
            "value": " 239/239 [00:26&lt;00:00, 11.11it/s]"
          }
        },
        "19dfa87f5399411a9bb1e26bfddefde0": {
          "model_module": "@jupyter-widgets/base",
          "model_name": "LayoutModel",
          "model_module_version": "1.2.0",
          "state": {
            "_model_module": "@jupyter-widgets/base",
            "_model_module_version": "1.2.0",
            "_model_name": "LayoutModel",
            "_view_count": null,
            "_view_module": "@jupyter-widgets/base",
            "_view_module_version": "1.2.0",
            "_view_name": "LayoutView",
            "align_content": null,
            "align_items": null,
            "align_self": null,
            "border": null,
            "bottom": null,
            "display": null,
            "flex": null,
            "flex_flow": null,
            "grid_area": null,
            "grid_auto_columns": null,
            "grid_auto_flow": null,
            "grid_auto_rows": null,
            "grid_column": null,
            "grid_gap": null,
            "grid_row": null,
            "grid_template_areas": null,
            "grid_template_columns": null,
            "grid_template_rows": null,
            "height": null,
            "justify_content": null,
            "justify_items": null,
            "left": null,
            "margin": null,
            "max_height": null,
            "max_width": null,
            "min_height": null,
            "min_width": null,
            "object_fit": null,
            "object_position": null,
            "order": null,
            "overflow": null,
            "overflow_x": null,
            "overflow_y": null,
            "padding": null,
            "right": null,
            "top": null,
            "visibility": null,
            "width": null
          }
        },
        "36012ca8f3f84b1c8e3b54c74b558482": {
          "model_module": "@jupyter-widgets/base",
          "model_name": "LayoutModel",
          "model_module_version": "1.2.0",
          "state": {
            "_model_module": "@jupyter-widgets/base",
            "_model_module_version": "1.2.0",
            "_model_name": "LayoutModel",
            "_view_count": null,
            "_view_module": "@jupyter-widgets/base",
            "_view_module_version": "1.2.0",
            "_view_name": "LayoutView",
            "align_content": null,
            "align_items": null,
            "align_self": null,
            "border": null,
            "bottom": null,
            "display": null,
            "flex": null,
            "flex_flow": null,
            "grid_area": null,
            "grid_auto_columns": null,
            "grid_auto_flow": null,
            "grid_auto_rows": null,
            "grid_column": null,
            "grid_gap": null,
            "grid_row": null,
            "grid_template_areas": null,
            "grid_template_columns": null,
            "grid_template_rows": null,
            "height": null,
            "justify_content": null,
            "justify_items": null,
            "left": null,
            "margin": null,
            "max_height": null,
            "max_width": null,
            "min_height": null,
            "min_width": null,
            "object_fit": null,
            "object_position": null,
            "order": null,
            "overflow": null,
            "overflow_x": null,
            "overflow_y": null,
            "padding": null,
            "right": null,
            "top": null,
            "visibility": null,
            "width": null
          }
        },
        "9f364168d609431a864a9ce8b124797c": {
          "model_module": "@jupyter-widgets/controls",
          "model_name": "DescriptionStyleModel",
          "model_module_version": "1.5.0",
          "state": {
            "_model_module": "@jupyter-widgets/controls",
            "_model_module_version": "1.5.0",
            "_model_name": "DescriptionStyleModel",
            "_view_count": null,
            "_view_module": "@jupyter-widgets/base",
            "_view_module_version": "1.2.0",
            "_view_name": "StyleView",
            "description_width": ""
          }
        },
        "6885a7218f9848fead83cbc70b4ebdb6": {
          "model_module": "@jupyter-widgets/base",
          "model_name": "LayoutModel",
          "model_module_version": "1.2.0",
          "state": {
            "_model_module": "@jupyter-widgets/base",
            "_model_module_version": "1.2.0",
            "_model_name": "LayoutModel",
            "_view_count": null,
            "_view_module": "@jupyter-widgets/base",
            "_view_module_version": "1.2.0",
            "_view_name": "LayoutView",
            "align_content": null,
            "align_items": null,
            "align_self": null,
            "border": null,
            "bottom": null,
            "display": null,
            "flex": null,
            "flex_flow": null,
            "grid_area": null,
            "grid_auto_columns": null,
            "grid_auto_flow": null,
            "grid_auto_rows": null,
            "grid_column": null,
            "grid_gap": null,
            "grid_row": null,
            "grid_template_areas": null,
            "grid_template_columns": null,
            "grid_template_rows": null,
            "height": null,
            "justify_content": null,
            "justify_items": null,
            "left": null,
            "margin": null,
            "max_height": null,
            "max_width": null,
            "min_height": null,
            "min_width": null,
            "object_fit": null,
            "object_position": null,
            "order": null,
            "overflow": null,
            "overflow_x": null,
            "overflow_y": null,
            "padding": null,
            "right": null,
            "top": null,
            "visibility": null,
            "width": null
          }
        },
        "2e7abf17412e49289f784ef07d903703": {
          "model_module": "@jupyter-widgets/controls",
          "model_name": "ProgressStyleModel",
          "model_module_version": "1.5.0",
          "state": {
            "_model_module": "@jupyter-widgets/controls",
            "_model_module_version": "1.5.0",
            "_model_name": "ProgressStyleModel",
            "_view_count": null,
            "_view_module": "@jupyter-widgets/base",
            "_view_module_version": "1.2.0",
            "_view_name": "StyleView",
            "bar_color": null,
            "description_width": ""
          }
        },
        "bf0b6152b64f44499dfa52160bf980b0": {
          "model_module": "@jupyter-widgets/base",
          "model_name": "LayoutModel",
          "model_module_version": "1.2.0",
          "state": {
            "_model_module": "@jupyter-widgets/base",
            "_model_module_version": "1.2.0",
            "_model_name": "LayoutModel",
            "_view_count": null,
            "_view_module": "@jupyter-widgets/base",
            "_view_module_version": "1.2.0",
            "_view_name": "LayoutView",
            "align_content": null,
            "align_items": null,
            "align_self": null,
            "border": null,
            "bottom": null,
            "display": null,
            "flex": null,
            "flex_flow": null,
            "grid_area": null,
            "grid_auto_columns": null,
            "grid_auto_flow": null,
            "grid_auto_rows": null,
            "grid_column": null,
            "grid_gap": null,
            "grid_row": null,
            "grid_template_areas": null,
            "grid_template_columns": null,
            "grid_template_rows": null,
            "height": null,
            "justify_content": null,
            "justify_items": null,
            "left": null,
            "margin": null,
            "max_height": null,
            "max_width": null,
            "min_height": null,
            "min_width": null,
            "object_fit": null,
            "object_position": null,
            "order": null,
            "overflow": null,
            "overflow_x": null,
            "overflow_y": null,
            "padding": null,
            "right": null,
            "top": null,
            "visibility": null,
            "width": null
          }
        },
        "bfdfdcafaef34b03ad11d86c75e89c48": {
          "model_module": "@jupyter-widgets/controls",
          "model_name": "DescriptionStyleModel",
          "model_module_version": "1.5.0",
          "state": {
            "_model_module": "@jupyter-widgets/controls",
            "_model_module_version": "1.5.0",
            "_model_name": "DescriptionStyleModel",
            "_view_count": null,
            "_view_module": "@jupyter-widgets/base",
            "_view_module_version": "1.2.0",
            "_view_name": "StyleView",
            "description_width": ""
          }
        },
        "6a89f6f185104104911dd8722845e2da": {
          "model_module": "@jupyter-widgets/controls",
          "model_name": "HBoxModel",
          "model_module_version": "1.5.0",
          "state": {
            "_dom_classes": [],
            "_model_module": "@jupyter-widgets/controls",
            "_model_module_version": "1.5.0",
            "_model_name": "HBoxModel",
            "_view_count": null,
            "_view_module": "@jupyter-widgets/controls",
            "_view_module_version": "1.5.0",
            "_view_name": "HBoxView",
            "box_style": "",
            "children": [
              "IPY_MODEL_56d695078cf04f1bb4aa0e6abd418df2",
              "IPY_MODEL_c08b3a629f4945c28c00448bfd814eb2",
              "IPY_MODEL_c22cb1930bb94a6aa98a672bd1f21d99"
            ],
            "layout": "IPY_MODEL_bfa426ecc86a49769b63f7acee748084"
          }
        },
        "56d695078cf04f1bb4aa0e6abd418df2": {
          "model_module": "@jupyter-widgets/controls",
          "model_name": "HTMLModel",
          "model_module_version": "1.5.0",
          "state": {
            "_dom_classes": [],
            "_model_module": "@jupyter-widgets/controls",
            "_model_module_version": "1.5.0",
            "_model_name": "HTMLModel",
            "_view_count": null,
            "_view_module": "@jupyter-widgets/controls",
            "_view_module_version": "1.5.0",
            "_view_name": "HTMLView",
            "description": "",
            "description_tooltip": null,
            "layout": "IPY_MODEL_0e63899b049a4c989a776196222673d5",
            "placeholder": "​",
            "style": "IPY_MODEL_2e7893cc673e486bb2db68e54accf7f2",
            "value": "Validation loop: 100%"
          }
        },
        "c08b3a629f4945c28c00448bfd814eb2": {
          "model_module": "@jupyter-widgets/controls",
          "model_name": "FloatProgressModel",
          "model_module_version": "1.5.0",
          "state": {
            "_dom_classes": [],
            "_model_module": "@jupyter-widgets/controls",
            "_model_module_version": "1.5.0",
            "_model_name": "FloatProgressModel",
            "_view_count": null,
            "_view_module": "@jupyter-widgets/controls",
            "_view_module_version": "1.5.0",
            "_view_name": "ProgressView",
            "bar_style": "success",
            "description": "",
            "description_tooltip": null,
            "layout": "IPY_MODEL_99b40b1b694547beba156d1fddbcebf8",
            "max": 9,
            "min": 0,
            "orientation": "horizontal",
            "style": "IPY_MODEL_bf0ff63e799e4cc286e3e8aacd16ed11",
            "value": 9
          }
        },
        "c22cb1930bb94a6aa98a672bd1f21d99": {
          "model_module": "@jupyter-widgets/controls",
          "model_name": "HTMLModel",
          "model_module_version": "1.5.0",
          "state": {
            "_dom_classes": [],
            "_model_module": "@jupyter-widgets/controls",
            "_model_module_version": "1.5.0",
            "_model_name": "HTMLModel",
            "_view_count": null,
            "_view_module": "@jupyter-widgets/controls",
            "_view_module_version": "1.5.0",
            "_view_name": "HTMLView",
            "description": "",
            "description_tooltip": null,
            "layout": "IPY_MODEL_5fb37426f3fc46728521ef5e0a64307d",
            "placeholder": "​",
            "style": "IPY_MODEL_f1dc1e9b1a2449a0af338599322a6a98",
            "value": " 9/9 [00:00&lt;00:00, 15.03it/s]"
          }
        },
        "bfa426ecc86a49769b63f7acee748084": {
          "model_module": "@jupyter-widgets/base",
          "model_name": "LayoutModel",
          "model_module_version": "1.2.0",
          "state": {
            "_model_module": "@jupyter-widgets/base",
            "_model_module_version": "1.2.0",
            "_model_name": "LayoutModel",
            "_view_count": null,
            "_view_module": "@jupyter-widgets/base",
            "_view_module_version": "1.2.0",
            "_view_name": "LayoutView",
            "align_content": null,
            "align_items": null,
            "align_self": null,
            "border": null,
            "bottom": null,
            "display": null,
            "flex": null,
            "flex_flow": null,
            "grid_area": null,
            "grid_auto_columns": null,
            "grid_auto_flow": null,
            "grid_auto_rows": null,
            "grid_column": null,
            "grid_gap": null,
            "grid_row": null,
            "grid_template_areas": null,
            "grid_template_columns": null,
            "grid_template_rows": null,
            "height": null,
            "justify_content": null,
            "justify_items": null,
            "left": null,
            "margin": null,
            "max_height": null,
            "max_width": null,
            "min_height": null,
            "min_width": null,
            "object_fit": null,
            "object_position": null,
            "order": null,
            "overflow": null,
            "overflow_x": null,
            "overflow_y": null,
            "padding": null,
            "right": null,
            "top": null,
            "visibility": null,
            "width": null
          }
        },
        "0e63899b049a4c989a776196222673d5": {
          "model_module": "@jupyter-widgets/base",
          "model_name": "LayoutModel",
          "model_module_version": "1.2.0",
          "state": {
            "_model_module": "@jupyter-widgets/base",
            "_model_module_version": "1.2.0",
            "_model_name": "LayoutModel",
            "_view_count": null,
            "_view_module": "@jupyter-widgets/base",
            "_view_module_version": "1.2.0",
            "_view_name": "LayoutView",
            "align_content": null,
            "align_items": null,
            "align_self": null,
            "border": null,
            "bottom": null,
            "display": null,
            "flex": null,
            "flex_flow": null,
            "grid_area": null,
            "grid_auto_columns": null,
            "grid_auto_flow": null,
            "grid_auto_rows": null,
            "grid_column": null,
            "grid_gap": null,
            "grid_row": null,
            "grid_template_areas": null,
            "grid_template_columns": null,
            "grid_template_rows": null,
            "height": null,
            "justify_content": null,
            "justify_items": null,
            "left": null,
            "margin": null,
            "max_height": null,
            "max_width": null,
            "min_height": null,
            "min_width": null,
            "object_fit": null,
            "object_position": null,
            "order": null,
            "overflow": null,
            "overflow_x": null,
            "overflow_y": null,
            "padding": null,
            "right": null,
            "top": null,
            "visibility": null,
            "width": null
          }
        },
        "2e7893cc673e486bb2db68e54accf7f2": {
          "model_module": "@jupyter-widgets/controls",
          "model_name": "DescriptionStyleModel",
          "model_module_version": "1.5.0",
          "state": {
            "_model_module": "@jupyter-widgets/controls",
            "_model_module_version": "1.5.0",
            "_model_name": "DescriptionStyleModel",
            "_view_count": null,
            "_view_module": "@jupyter-widgets/base",
            "_view_module_version": "1.2.0",
            "_view_name": "StyleView",
            "description_width": ""
          }
        },
        "99b40b1b694547beba156d1fddbcebf8": {
          "model_module": "@jupyter-widgets/base",
          "model_name": "LayoutModel",
          "model_module_version": "1.2.0",
          "state": {
            "_model_module": "@jupyter-widgets/base",
            "_model_module_version": "1.2.0",
            "_model_name": "LayoutModel",
            "_view_count": null,
            "_view_module": "@jupyter-widgets/base",
            "_view_module_version": "1.2.0",
            "_view_name": "LayoutView",
            "align_content": null,
            "align_items": null,
            "align_self": null,
            "border": null,
            "bottom": null,
            "display": null,
            "flex": null,
            "flex_flow": null,
            "grid_area": null,
            "grid_auto_columns": null,
            "grid_auto_flow": null,
            "grid_auto_rows": null,
            "grid_column": null,
            "grid_gap": null,
            "grid_row": null,
            "grid_template_areas": null,
            "grid_template_columns": null,
            "grid_template_rows": null,
            "height": null,
            "justify_content": null,
            "justify_items": null,
            "left": null,
            "margin": null,
            "max_height": null,
            "max_width": null,
            "min_height": null,
            "min_width": null,
            "object_fit": null,
            "object_position": null,
            "order": null,
            "overflow": null,
            "overflow_x": null,
            "overflow_y": null,
            "padding": null,
            "right": null,
            "top": null,
            "visibility": null,
            "width": null
          }
        },
        "bf0ff63e799e4cc286e3e8aacd16ed11": {
          "model_module": "@jupyter-widgets/controls",
          "model_name": "ProgressStyleModel",
          "model_module_version": "1.5.0",
          "state": {
            "_model_module": "@jupyter-widgets/controls",
            "_model_module_version": "1.5.0",
            "_model_name": "ProgressStyleModel",
            "_view_count": null,
            "_view_module": "@jupyter-widgets/base",
            "_view_module_version": "1.2.0",
            "_view_name": "StyleView",
            "bar_color": null,
            "description_width": ""
          }
        },
        "5fb37426f3fc46728521ef5e0a64307d": {
          "model_module": "@jupyter-widgets/base",
          "model_name": "LayoutModel",
          "model_module_version": "1.2.0",
          "state": {
            "_model_module": "@jupyter-widgets/base",
            "_model_module_version": "1.2.0",
            "_model_name": "LayoutModel",
            "_view_count": null,
            "_view_module": "@jupyter-widgets/base",
            "_view_module_version": "1.2.0",
            "_view_name": "LayoutView",
            "align_content": null,
            "align_items": null,
            "align_self": null,
            "border": null,
            "bottom": null,
            "display": null,
            "flex": null,
            "flex_flow": null,
            "grid_area": null,
            "grid_auto_columns": null,
            "grid_auto_flow": null,
            "grid_auto_rows": null,
            "grid_column": null,
            "grid_gap": null,
            "grid_row": null,
            "grid_template_areas": null,
            "grid_template_columns": null,
            "grid_template_rows": null,
            "height": null,
            "justify_content": null,
            "justify_items": null,
            "left": null,
            "margin": null,
            "max_height": null,
            "max_width": null,
            "min_height": null,
            "min_width": null,
            "object_fit": null,
            "object_position": null,
            "order": null,
            "overflow": null,
            "overflow_x": null,
            "overflow_y": null,
            "padding": null,
            "right": null,
            "top": null,
            "visibility": null,
            "width": null
          }
        },
        "f1dc1e9b1a2449a0af338599322a6a98": {
          "model_module": "@jupyter-widgets/controls",
          "model_name": "DescriptionStyleModel",
          "model_module_version": "1.5.0",
          "state": {
            "_model_module": "@jupyter-widgets/controls",
            "_model_module_version": "1.5.0",
            "_model_name": "DescriptionStyleModel",
            "_view_count": null,
            "_view_module": "@jupyter-widgets/base",
            "_view_module_version": "1.2.0",
            "_view_name": "StyleView",
            "description_width": ""
          }
        }
      }
    }
  },
  "cells": [
    {
      "cell_type": "markdown",
      "metadata": {
        "id": "view-in-github",
        "colab_type": "text"
      },
      "source": [
        "<a href=\"https://colab.research.google.com/github/MathewS424/PyTorch-Tutorial/blob/main/20_Card_Classification_Model.ipynb\" target=\"_parent\"><img src=\"https://colab.research.google.com/assets/colab-badge.svg\" alt=\"Open In Colab\"/></a>"
      ]
    },
    {
      "cell_type": "markdown",
      "source": [
        "**BUILD YOUR FIRST PYTORCH MODEL IN MINUTES - PLAYINGCARD CLASSIFICATION**"
      ],
      "metadata": {
        "id": "iAt2XGb6kwUv"
      }
    },
    {
      "cell_type": "markdown",
      "source": [
        "**LINK - [https://www.kaggle.com/code/robikscube/train-your-first-pytorch-model-card-classifier](https://www.kaggle.com/code/robikscube/train-your-first-pytorch-model-card-classifier)**"
      ],
      "metadata": {
        "id": "S4pV_WgwKi7e"
      }
    },
    {
      "cell_type": "markdown",
      "source": [
        "[YouTube Tutorial!](https://youtu.be/tHL5STNJKag?si=MtkGcDz3Gf8Qb5jB)"
      ],
      "metadata": {
        "id": "fTePow8kfZOQ"
      }
    },
    {
      "cell_type": "markdown",
      "source": [
        "Train Your Very First Pytorch Model!¶\n",
        "Let's learn through doing.\n",
        "\n",
        "In this notebook we will create an image classifier to detect playing cards.\n",
        "\n",
        "We will tackle this problem in 3 parts:\n",
        "\n",
        "  Pytorch Dataset  \n",
        "  Pytorch Model  \n",
        "  Pytorch Training Loop\n",
        "\n",
        "Almost every pytorch model training pipeline meets this paradigm."
      ],
      "metadata": {
        "id": "GvftFzOpmK9W"
      }
    },
    {
      "cell_type": "code",
      "source": [
        "pip install timm"
      ],
      "metadata": {
        "id": "AHb73s1_LFWT",
        "outputId": "6773fc20-5ffe-49f0-c253-e0c83cf6121b",
        "colab": {
          "base_uri": "https://localhost:8080/"
        }
      },
      "execution_count": 2,
      "outputs": [
        {
          "output_type": "stream",
          "name": "stdout",
          "text": [
            "Collecting timm\n",
            "  Downloading timm-1.0.9-py3-none-any.whl.metadata (42 kB)\n",
            "\u001b[?25l     \u001b[90m━━━━━━━━━━━━━━━━━━━━━━━━━━━━━━━━━━━━━━━━\u001b[0m \u001b[32m0.0/42.4 kB\u001b[0m \u001b[31m?\u001b[0m eta \u001b[36m-:--:--\u001b[0m\r\u001b[2K     \u001b[90m━━━━━━━━━━━━━━━━━━━━━━━━━━━━━━━━━━━━━━━━\u001b[0m \u001b[32m42.4/42.4 kB\u001b[0m \u001b[31m2.0 MB/s\u001b[0m eta \u001b[36m0:00:00\u001b[0m\n",
            "\u001b[?25hRequirement already satisfied: torch in /usr/local/lib/python3.10/dist-packages (from timm) (2.3.1+cu121)\n",
            "Requirement already satisfied: torchvision in /usr/local/lib/python3.10/dist-packages (from timm) (0.18.1+cu121)\n",
            "Requirement already satisfied: pyyaml in /usr/local/lib/python3.10/dist-packages (from timm) (6.0.2)\n",
            "Requirement already satisfied: huggingface_hub in /usr/local/lib/python3.10/dist-packages (from timm) (0.23.5)\n",
            "Requirement already satisfied: safetensors in /usr/local/lib/python3.10/dist-packages (from timm) (0.4.4)\n",
            "Requirement already satisfied: filelock in /usr/local/lib/python3.10/dist-packages (from huggingface_hub->timm) (3.15.4)\n",
            "Requirement already satisfied: fsspec>=2023.5.0 in /usr/local/lib/python3.10/dist-packages (from huggingface_hub->timm) (2024.6.1)\n",
            "Requirement already satisfied: packaging>=20.9 in /usr/local/lib/python3.10/dist-packages (from huggingface_hub->timm) (24.1)\n",
            "Requirement already satisfied: requests in /usr/local/lib/python3.10/dist-packages (from huggingface_hub->timm) (2.32.3)\n",
            "Requirement already satisfied: tqdm>=4.42.1 in /usr/local/lib/python3.10/dist-packages (from huggingface_hub->timm) (4.66.5)\n",
            "Requirement already satisfied: typing-extensions>=3.7.4.3 in /usr/local/lib/python3.10/dist-packages (from huggingface_hub->timm) (4.12.2)\n",
            "Requirement already satisfied: sympy in /usr/local/lib/python3.10/dist-packages (from torch->timm) (1.13.2)\n",
            "Requirement already satisfied: networkx in /usr/local/lib/python3.10/dist-packages (from torch->timm) (3.3)\n",
            "Requirement already satisfied: jinja2 in /usr/local/lib/python3.10/dist-packages (from torch->timm) (3.1.4)\n",
            "Collecting nvidia-cuda-nvrtc-cu12==12.1.105 (from torch->timm)\n",
            "  Using cached nvidia_cuda_nvrtc_cu12-12.1.105-py3-none-manylinux1_x86_64.whl.metadata (1.5 kB)\n",
            "Collecting nvidia-cuda-runtime-cu12==12.1.105 (from torch->timm)\n",
            "  Using cached nvidia_cuda_runtime_cu12-12.1.105-py3-none-manylinux1_x86_64.whl.metadata (1.5 kB)\n",
            "Collecting nvidia-cuda-cupti-cu12==12.1.105 (from torch->timm)\n",
            "  Using cached nvidia_cuda_cupti_cu12-12.1.105-py3-none-manylinux1_x86_64.whl.metadata (1.6 kB)\n",
            "Collecting nvidia-cudnn-cu12==8.9.2.26 (from torch->timm)\n",
            "  Using cached nvidia_cudnn_cu12-8.9.2.26-py3-none-manylinux1_x86_64.whl.metadata (1.6 kB)\n",
            "Collecting nvidia-cublas-cu12==12.1.3.1 (from torch->timm)\n",
            "  Using cached nvidia_cublas_cu12-12.1.3.1-py3-none-manylinux1_x86_64.whl.metadata (1.5 kB)\n",
            "Collecting nvidia-cufft-cu12==11.0.2.54 (from torch->timm)\n",
            "  Using cached nvidia_cufft_cu12-11.0.2.54-py3-none-manylinux1_x86_64.whl.metadata (1.5 kB)\n",
            "Collecting nvidia-curand-cu12==10.3.2.106 (from torch->timm)\n",
            "  Using cached nvidia_curand_cu12-10.3.2.106-py3-none-manylinux1_x86_64.whl.metadata (1.5 kB)\n",
            "Collecting nvidia-cusolver-cu12==11.4.5.107 (from torch->timm)\n",
            "  Using cached nvidia_cusolver_cu12-11.4.5.107-py3-none-manylinux1_x86_64.whl.metadata (1.6 kB)\n",
            "Collecting nvidia-cusparse-cu12==12.1.0.106 (from torch->timm)\n",
            "  Using cached nvidia_cusparse_cu12-12.1.0.106-py3-none-manylinux1_x86_64.whl.metadata (1.6 kB)\n",
            "Collecting nvidia-nccl-cu12==2.20.5 (from torch->timm)\n",
            "  Using cached nvidia_nccl_cu12-2.20.5-py3-none-manylinux2014_x86_64.whl.metadata (1.8 kB)\n",
            "Collecting nvidia-nvtx-cu12==12.1.105 (from torch->timm)\n",
            "  Using cached nvidia_nvtx_cu12-12.1.105-py3-none-manylinux1_x86_64.whl.metadata (1.7 kB)\n",
            "Requirement already satisfied: triton==2.3.1 in /usr/local/lib/python3.10/dist-packages (from torch->timm) (2.3.1)\n",
            "Collecting nvidia-nvjitlink-cu12 (from nvidia-cusolver-cu12==11.4.5.107->torch->timm)\n",
            "  Using cached nvidia_nvjitlink_cu12-12.6.20-py3-none-manylinux2014_x86_64.whl.metadata (1.5 kB)\n",
            "Requirement already satisfied: numpy in /usr/local/lib/python3.10/dist-packages (from torchvision->timm) (1.26.4)\n",
            "Requirement already satisfied: pillow!=8.3.*,>=5.3.0 in /usr/local/lib/python3.10/dist-packages (from torchvision->timm) (9.4.0)\n",
            "Requirement already satisfied: MarkupSafe>=2.0 in /usr/local/lib/python3.10/dist-packages (from jinja2->torch->timm) (2.1.5)\n",
            "Requirement already satisfied: charset-normalizer<4,>=2 in /usr/local/lib/python3.10/dist-packages (from requests->huggingface_hub->timm) (3.3.2)\n",
            "Requirement already satisfied: idna<4,>=2.5 in /usr/local/lib/python3.10/dist-packages (from requests->huggingface_hub->timm) (3.7)\n",
            "Requirement already satisfied: urllib3<3,>=1.21.1 in /usr/local/lib/python3.10/dist-packages (from requests->huggingface_hub->timm) (2.0.7)\n",
            "Requirement already satisfied: certifi>=2017.4.17 in /usr/local/lib/python3.10/dist-packages (from requests->huggingface_hub->timm) (2024.7.4)\n",
            "Requirement already satisfied: mpmath<1.4,>=1.1.0 in /usr/local/lib/python3.10/dist-packages (from sympy->torch->timm) (1.3.0)\n",
            "Downloading timm-1.0.9-py3-none-any.whl (2.3 MB)\n",
            "\u001b[2K   \u001b[90m━━━━━━━━━━━━━━━━━━━━━━━━━━━━━━━━━━━━━━━━\u001b[0m \u001b[32m2.3/2.3 MB\u001b[0m \u001b[31m23.7 MB/s\u001b[0m eta \u001b[36m0:00:00\u001b[0m\n",
            "\u001b[?25hUsing cached nvidia_cublas_cu12-12.1.3.1-py3-none-manylinux1_x86_64.whl (410.6 MB)\n",
            "Using cached nvidia_cuda_cupti_cu12-12.1.105-py3-none-manylinux1_x86_64.whl (14.1 MB)\n",
            "Using cached nvidia_cuda_nvrtc_cu12-12.1.105-py3-none-manylinux1_x86_64.whl (23.7 MB)\n",
            "Using cached nvidia_cuda_runtime_cu12-12.1.105-py3-none-manylinux1_x86_64.whl (823 kB)\n",
            "Using cached nvidia_cudnn_cu12-8.9.2.26-py3-none-manylinux1_x86_64.whl (731.7 MB)\n",
            "Using cached nvidia_cufft_cu12-11.0.2.54-py3-none-manylinux1_x86_64.whl (121.6 MB)\n",
            "Using cached nvidia_curand_cu12-10.3.2.106-py3-none-manylinux1_x86_64.whl (56.5 MB)\n",
            "Using cached nvidia_cusolver_cu12-11.4.5.107-py3-none-manylinux1_x86_64.whl (124.2 MB)\n",
            "Using cached nvidia_cusparse_cu12-12.1.0.106-py3-none-manylinux1_x86_64.whl (196.0 MB)\n",
            "Using cached nvidia_nccl_cu12-2.20.5-py3-none-manylinux2014_x86_64.whl (176.2 MB)\n",
            "Using cached nvidia_nvtx_cu12-12.1.105-py3-none-manylinux1_x86_64.whl (99 kB)\n",
            "Using cached nvidia_nvjitlink_cu12-12.6.20-py3-none-manylinux2014_x86_64.whl (19.7 MB)\n",
            "Installing collected packages: nvidia-nvtx-cu12, nvidia-nvjitlink-cu12, nvidia-nccl-cu12, nvidia-curand-cu12, nvidia-cufft-cu12, nvidia-cuda-runtime-cu12, nvidia-cuda-nvrtc-cu12, nvidia-cuda-cupti-cu12, nvidia-cublas-cu12, nvidia-cusparse-cu12, nvidia-cudnn-cu12, nvidia-cusolver-cu12, timm\n",
            "Successfully installed nvidia-cublas-cu12-12.1.3.1 nvidia-cuda-cupti-cu12-12.1.105 nvidia-cuda-nvrtc-cu12-12.1.105 nvidia-cuda-runtime-cu12-12.1.105 nvidia-cudnn-cu12-8.9.2.26 nvidia-cufft-cu12-11.0.2.54 nvidia-curand-cu12-10.3.2.106 nvidia-cusolver-cu12-11.4.5.107 nvidia-cusparse-cu12-12.1.0.106 nvidia-nccl-cu12-2.20.5 nvidia-nvjitlink-cu12-12.6.20 nvidia-nvtx-cu12-12.1.105 timm-1.0.9\n"
          ]
        }
      ]
    },
    {
      "cell_type": "code",
      "source": [
        "import torch\n",
        "import torch.nn as nn\n",
        "import torch.optim as optim\n",
        "from torch.utils.data import Dataset, DataLoader\n",
        "import torchvision\n",
        "import torchvision.transforms as transforms\n",
        "from torchvision.datasets import ImageFolder\n",
        "import timm  #import timm is a Python command used to import the timm library, which stands for \"PyTorch Image Models\"\n",
        "\n",
        "import matplotlib.pyplot as plt\n",
        "import numpy as np\n",
        "import pandas as pd\n",
        "import sys\n",
        "from tqdm.notebook import tqdm"
      ],
      "metadata": {
        "id": "oIhpK0suk91m"
      },
      "execution_count": 3,
      "outputs": []
    },
    {
      "cell_type": "code",
      "source": [
        "print('System Version:', sys.version)\n",
        "print('PyTorch version', torch.__version__)\n",
        "print('Torchvision version', torchvision.__version__)\n",
        "print('Numpy version', np.__version__)\n",
        "print('Pandas version', pd.__version__)"
      ],
      "metadata": {
        "colab": {
          "base_uri": "https://localhost:8080/"
        },
        "id": "KvPi-N9QnJIu",
        "outputId": "f0fab779-6ec5-44bc-a956-69e40dabb86f"
      },
      "execution_count": 4,
      "outputs": [
        {
          "output_type": "stream",
          "name": "stdout",
          "text": [
            "System Version: 3.10.12 (main, Jul 29 2024, 16:56:48) [GCC 11.4.0]\n",
            "PyTorch version 2.3.1+cu121\n",
            "Torchvision version 0.18.1+cu121\n",
            "Numpy version 1.26.4\n",
            "Pandas version 2.1.4\n"
          ]
        }
      ]
    },
    {
      "cell_type": "markdown",
      "source": [
        "#**Step 1.** **Pytorch Dataset (and Dataloader)**    \n",
        "Would you learn how to bake a cake without first having the ingredients? No.\n",
        "\n",
        "The same thing can be said for training a pytorch model without first having the dataset setup correctly.\n",
        "\n",
        "This is why datasets are important:\n",
        "\n",
        "  It's an organized way to structure how the data and labels are loaded into the model.\n",
        "\n",
        "We can then wrap the dataset in a dataloader and pytorch will handle batching the shuffling the data for us when training the model!"
      ],
      "metadata": {
        "id": "WL8_apLrn-4m"
      }
    },
    {
      "cell_type": "code",
      "source": [
        "class PlayingCardDataset(Dataset):\n",
        "  def __init__(self, data_dir, transform=None):\n",
        "    self.data = ImageFolder(data_dir, transform=transform)\n",
        "\n",
        "  def __len__(self):\n",
        "    return len(self.data)\n",
        "\n",
        "  def __getitem__(self, idx):\n",
        "    return self.data[idx]\n",
        "\n",
        "  @property\n",
        "  def classes(self):\n",
        "    return self.data.classes"
      ],
      "metadata": {
        "id": "f5-15kqhoWl9"
      },
      "execution_count": 5,
      "outputs": []
    },
    {
      "cell_type": "code",
      "source": [
        "# dataset = PlayingCardDataset(\n",
        "#     data_dir='/kaggle/input/cards-image-datasetclassification/train'\n",
        "# )  # for kaggle notebook"
      ],
      "metadata": {
        "id": "GEeO2iSCp8_1"
      },
      "execution_count": 6,
      "outputs": []
    },
    {
      "cell_type": "code",
      "source": [
        "from google.colab import drive\n",
        "drive.mount('/content/drive')\n"
      ],
      "metadata": {
        "colab": {
          "base_uri": "https://localhost:8080/"
        },
        "id": "1HIBqbYU2JUM",
        "outputId": "8ec5acbf-d3f6-47e3-dd2f-aa5824b106fb"
      },
      "execution_count": 7,
      "outputs": [
        {
          "output_type": "stream",
          "name": "stdout",
          "text": [
            "Mounted at /content/drive\n"
          ]
        }
      ]
    },
    {
      "cell_type": "code",
      "source": [
        "zip_path = '/content/drive/My Drive/Card_datasets/archive.zip'\n"
      ],
      "metadata": {
        "id": "ZThGyadO2TuT"
      },
      "execution_count": 8,
      "outputs": []
    },
    {
      "cell_type": "code",
      "source": [
        "import os\n",
        "\n",
        "extract_path = '/content/playing_card_dataset'\n",
        "os.makedirs(extract_path, exist_ok=True)\n"
      ],
      "metadata": {
        "id": "ufKZQXKU2g-C"
      },
      "execution_count": 9,
      "outputs": []
    },
    {
      "cell_type": "code",
      "source": [
        "import zipfile\n",
        "\n",
        "with zipfile.ZipFile(zip_path, 'r') as zip_ref:\n",
        "    zip_ref.extractall(extract_path)\n",
        "\n",
        "print(f\"Dataset extracted to {extract_path}\")\n"
      ],
      "metadata": {
        "colab": {
          "base_uri": "https://localhost:8080/"
        },
        "id": "o5Z7B9A72jcr",
        "outputId": "31c0d410-a520-4575-c540-8b2e2e9ce929"
      },
      "execution_count": 10,
      "outputs": [
        {
          "output_type": "stream",
          "name": "stdout",
          "text": [
            "Dataset extracted to /content/playing_card_dataset\n"
          ]
        }
      ]
    },
    {
      "cell_type": "code",
      "source": [
        "import os\n",
        "\n",
        "# List the files in the extracted directory\n",
        "extracted_files = os.listdir(extract_path)\n",
        "print(\"Files in extracted directory:\", extracted_files)\n"
      ],
      "metadata": {
        "colab": {
          "base_uri": "https://localhost:8080/"
        },
        "id": "jJAYdOBD2p4s",
        "outputId": "1e27a86d-885b-40ef-f021-914cd03a3f51"
      },
      "execution_count": 11,
      "outputs": [
        {
          "output_type": "stream",
          "name": "stdout",
          "text": [
            "Files in extracted directory: ['valid', '14card types-14-(200 X 200)-94.61.h5', 'cards.csv', 'train', 'test', '53cards-53-(200 X 200)-100.00.h5']\n"
          ]
        }
      ]
    },
    {
      "cell_type": "code",
      "source": [
        "dataset = PlayingCardDataset(\n",
        "    data_dir='/content/playing_card_dataset'\n",
        ")"
      ],
      "metadata": {
        "id": "F-_lqzA_3U3D"
      },
      "execution_count": 12,
      "outputs": []
    },
    {
      "cell_type": "code",
      "source": [
        "len(dataset)   # full datasets len"
      ],
      "metadata": {
        "colab": {
          "base_uri": "https://localhost:8080/"
        },
        "id": "XdRg8SRR3YfL",
        "outputId": "fa0d5ae7-4f4c-46a3-903a-b33d16b779c2"
      },
      "execution_count": 13,
      "outputs": [
        {
          "output_type": "execute_result",
          "data": {
            "text/plain": [
              "8154"
            ]
          },
          "metadata": {},
          "execution_count": 13
        }
      ]
    },
    {
      "cell_type": "code",
      "source": [
        "dataset[5]  # (image, label)"
      ],
      "metadata": {
        "colab": {
          "base_uri": "https://localhost:8080/"
        },
        "id": "QFI-YZYWC6-l",
        "outputId": "64ffd100-9b20-4600-f4dd-f25d1c3417e7"
      },
      "execution_count": 14,
      "outputs": [
        {
          "output_type": "execute_result",
          "data": {
            "text/plain": [
              "(<PIL.Image.Image image mode=RGB size=224x224>, 0)"
            ]
          },
          "metadata": {},
          "execution_count": 14
        }
      ]
    },
    {
      "cell_type": "code",
      "source": [
        "image, label = dataset[5]\n",
        "print(label)\n",
        "image"
      ],
      "metadata": {
        "colab": {
          "base_uri": "https://localhost:8080/",
          "height": 258
        },
        "id": "UL78b39QDhc9",
        "outputId": "89b9ace9-c221-45d2-a875-28f0cda58b82"
      },
      "execution_count": 15,
      "outputs": [
        {
          "output_type": "stream",
          "name": "stdout",
          "text": [
            "0\n"
          ]
        },
        {
          "output_type": "execute_result",
          "data": {
            "text/plain": [
              "<PIL.Image.Image image mode=RGB size=224x224>"
            ],
            "image/png": "[encoded data removed]"
          },
          "metadata": {},
          "execution_count": 15
        }
      ]
    },
    {
      "cell_type": "code",
      "source": [
        "dataset = PlayingCardDataset(\n",
        "    data_dir='/content/playing_card_dataset/train'\n",
        ")"
      ],
      "metadata": {
        "id": "xAd0X1F4E5Ul"
      },
      "execution_count": 16,
      "outputs": []
    },
    {
      "cell_type": "code",
      "source": [
        "len(dataset)      # train datasets len"
      ],
      "metadata": {
        "colab": {
          "base_uri": "https://localhost:8080/"
        },
        "id": "CJu2Ezi5E8su",
        "outputId": "da35218f-68ed-43f9-f4de-0d2e193cd2f2"
      },
      "execution_count": 17,
      "outputs": [
        {
          "output_type": "execute_result",
          "data": {
            "text/plain": [
              "7624"
            ]
          },
          "metadata": {},
          "execution_count": 17
        }
      ]
    },
    {
      "cell_type": "code",
      "source": [
        "dataset = PlayingCardDataset(\n",
        "    data_dir='/content/playing_card_dataset/test'\n",
        ")"
      ],
      "metadata": {
        "id": "6JSFchY2hebY"
      },
      "execution_count": 37,
      "outputs": []
    },
    {
      "cell_type": "code",
      "source": [
        "len(dataset)      # test datasets len"
      ],
      "metadata": {
        "id": "KFq5fBXJhixA",
        "outputId": "c12713b0-bffb-4cda-94d8-7faecf8f8fb2",
        "colab": {
          "base_uri": "https://localhost:8080/"
        }
      },
      "execution_count": 38,
      "outputs": [
        {
          "output_type": "execute_result",
          "data": {
            "text/plain": [
              "265"
            ]
          },
          "metadata": {},
          "execution_count": 38
        }
      ]
    },
    {
      "cell_type": "code",
      "source": [
        "# Get a dictionary associating target values with folder names\n",
        "data_dir = '/content/playing_card_dataset/train'\n",
        "target_to_class = {v: k for k, v in ImageFolder(data_dir).class_to_idx.items()}\n",
        "print(target_to_class)"
      ],
      "metadata": {
        "colab": {
          "base_uri": "https://localhost:8080/"
        },
        "id": "Eh5ai5ivDzkt",
        "outputId": "421ff6d2-8993-45bf-c65e-9abf7fe8f6c7"
      },
      "execution_count": 18,
      "outputs": [
        {
          "output_type": "stream",
          "name": "stdout",
          "text": [
            "{0: 'ace of clubs', 1: 'ace of diamonds', 2: 'ace of hearts', 3: 'ace of spades', 4: 'eight of clubs', 5: 'eight of diamonds', 6: 'eight of hearts', 7: 'eight of spades', 8: 'five of clubs', 9: 'five of diamonds', 10: 'five of hearts', 11: 'five of spades', 12: 'four of clubs', 13: 'four of diamonds', 14: 'four of hearts', 15: 'four of spades', 16: 'jack of clubs', 17: 'jack of diamonds', 18: 'jack of hearts', 19: 'jack of spades', 20: 'joker', 21: 'king of clubs', 22: 'king of diamonds', 23: 'king of hearts', 24: 'king of spades', 25: 'nine of clubs', 26: 'nine of diamonds', 27: 'nine of hearts', 28: 'nine of spades', 29: 'queen of clubs', 30: 'queen of diamonds', 31: 'queen of hearts', 32: 'queen of spades', 33: 'seven of clubs', 34: 'seven of diamonds', 35: 'seven of hearts', 36: 'seven of spades', 37: 'six of clubs', 38: 'six of diamonds', 39: 'six of hearts', 40: 'six of spades', 41: 'ten of clubs', 42: 'ten of diamonds', 43: 'ten of hearts', 44: 'ten of spades', 45: 'three of clubs', 46: 'three of diamonds', 47: 'three of hearts', 48: 'three of spades', 49: 'two of clubs', 50: 'two of diamonds', 51: 'two of hearts', 52: 'two of spades'}\n"
          ]
        }
      ]
    },
    {
      "cell_type": "code",
      "source": [
        "# Ensure all images in datasets are same size\n",
        "transform = transforms.Compose([\n",
        "    transforms.Resize((128, 128)),\n",
        "    transforms.ToTensor()\n",
        "])  # Resize all images to 128x128 pixels and convert it to tensor\n",
        "\n",
        "data_dir = '/content/playing_card_dataset/train'\n",
        "dataset = PlayingCardDataset(data_dir, transform)\n"
      ],
      "metadata": {
        "id": "o6jF5qpwEWgd"
      },
      "execution_count": 19,
      "outputs": []
    },
    {
      "cell_type": "code",
      "source": [
        "dataset[100]"
      ],
      "metadata": {
        "colab": {
          "base_uri": "https://localhost:8080/"
        },
        "id": "pWvJIuzhFHdF",
        "outputId": "497d49f1-563c-4374-bc14-5a7b7ece872e"
      },
      "execution_count": 20,
      "outputs": [
        {
          "output_type": "execute_result",
          "data": {
            "text/plain": [
              "(tensor([[[0.0000, 0.0039, 0.0078,  ..., 0.0039, 0.0039, 0.0039],\n",
              "          [0.0039, 0.0078, 0.0431,  ..., 0.0196, 0.0039, 0.0078],\n",
              "          [0.0235, 0.0392, 0.3490,  ..., 0.2392, 0.0314, 0.0118],\n",
              "          ...,\n",
              "          [0.0039, 0.0235, 0.2392,  ..., 0.2196, 0.0314, 0.0118],\n",
              "          [0.0039, 0.0039, 0.0235,  ..., 0.0118, 0.0078, 0.0039],\n",
              "          [0.0039, 0.0078, 0.0039,  ..., 0.0039, 0.0039, 0.0039]],\n",
              " \n",
              "         [[0.0078, 0.0078, 0.0039,  ..., 0.0039, 0.0039, 0.0039],\n",
              "          [0.0039, 0.0039, 0.0392,  ..., 0.0196, 0.0039, 0.0078],\n",
              "          [0.0078, 0.0275, 0.3373,  ..., 0.2392, 0.0275, 0.0078],\n",
              "          ...,\n",
              "          [0.0039, 0.0235, 0.2431,  ..., 0.2196, 0.0314, 0.0078],\n",
              "          [0.0039, 0.0039, 0.0235,  ..., 0.0157, 0.0078, 0.0039],\n",
              "          [0.0039, 0.0078, 0.0039,  ..., 0.0078, 0.0078, 0.0039]],\n",
              " \n",
              "         [[0.0196, 0.0196, 0.0118,  ..., 0.0118, 0.0118, 0.0118],\n",
              "          [0.0118, 0.0078, 0.0353,  ..., 0.0157, 0.0039, 0.0078],\n",
              "          [0.0118, 0.0196, 0.3137,  ..., 0.2196, 0.0235, 0.0078],\n",
              "          ...,\n",
              "          [0.0078, 0.0196, 0.2157,  ..., 0.1961, 0.0196, 0.0000],\n",
              "          [0.0196, 0.0118, 0.0157,  ..., 0.0078, 0.0039, 0.0039],\n",
              "          [0.0235, 0.0235, 0.0118,  ..., 0.0118, 0.0118, 0.0118]]]),\n",
              " 0)"
            ]
          },
          "metadata": {},
          "execution_count": 20
        }
      ]
    },
    {
      "cell_type": "code",
      "source": [
        "image, label = dataset[100]\n",
        "print(label)\n",
        "print(image.shape) # output:torch.Size([3, 128, 128]) 3 is channel red , green, blue\n",
        "image   # No picture since its converted to tensor"
      ],
      "metadata": {
        "colab": {
          "base_uri": "https://localhost:8080/"
        },
        "id": "qht-wFPIFcZm",
        "outputId": "c9e326c0-27f8-44b2-fb17-4f704945ed82"
      },
      "execution_count": 21,
      "outputs": [
        {
          "output_type": "stream",
          "name": "stdout",
          "text": [
            "0\n",
            "torch.Size([3, 128, 128])\n"
          ]
        },
        {
          "output_type": "execute_result",
          "data": {
            "text/plain": [
              "tensor([[[0.0000, 0.0039, 0.0078,  ..., 0.0039, 0.0039, 0.0039],\n",
              "         [0.0039, 0.0078, 0.0431,  ..., 0.0196, 0.0039, 0.0078],\n",
              "         [0.0235, 0.0392, 0.3490,  ..., 0.2392, 0.0314, 0.0118],\n",
              "         ...,\n",
              "         [0.0039, 0.0235, 0.2392,  ..., 0.2196, 0.0314, 0.0118],\n",
              "         [0.0039, 0.0039, 0.0235,  ..., 0.0118, 0.0078, 0.0039],\n",
              "         [0.0039, 0.0078, 0.0039,  ..., 0.0039, 0.0039, 0.0039]],\n",
              "\n",
              "        [[0.0078, 0.0078, 0.0039,  ..., 0.0039, 0.0039, 0.0039],\n",
              "         [0.0039, 0.0039, 0.0392,  ..., 0.0196, 0.0039, 0.0078],\n",
              "         [0.0078, 0.0275, 0.3373,  ..., 0.2392, 0.0275, 0.0078],\n",
              "         ...,\n",
              "         [0.0039, 0.0235, 0.2431,  ..., 0.2196, 0.0314, 0.0078],\n",
              "         [0.0039, 0.0039, 0.0235,  ..., 0.0157, 0.0078, 0.0039],\n",
              "         [0.0039, 0.0078, 0.0039,  ..., 0.0078, 0.0078, 0.0039]],\n",
              "\n",
              "        [[0.0196, 0.0196, 0.0118,  ..., 0.0118, 0.0118, 0.0118],\n",
              "         [0.0118, 0.0078, 0.0353,  ..., 0.0157, 0.0039, 0.0078],\n",
              "         [0.0118, 0.0196, 0.3137,  ..., 0.2196, 0.0235, 0.0078],\n",
              "         ...,\n",
              "         [0.0078, 0.0196, 0.2157,  ..., 0.1961, 0.0196, 0.0000],\n",
              "         [0.0196, 0.0118, 0.0157,  ..., 0.0078, 0.0039, 0.0039],\n",
              "         [0.0235, 0.0235, 0.0118,  ..., 0.0118, 0.0118, 0.0118]]])"
            ]
          },
          "metadata": {},
          "execution_count": 21
        }
      ]
    },
    {
      "cell_type": "code",
      "source": [
        "# iterate over dataset\n",
        "for image, label in dataset:\n",
        "    break\n",
        "print(label)\n",
        "image"
      ],
      "metadata": {
        "colab": {
          "base_uri": "https://localhost:8080/"
        },
        "id": "icKzqdTiG73V",
        "outputId": "777c8a11-29e4-427b-cebb-c38be692adcc"
      },
      "execution_count": 22,
      "outputs": [
        {
          "output_type": "stream",
          "name": "stdout",
          "text": [
            "0\n"
          ]
        },
        {
          "output_type": "execute_result",
          "data": {
            "text/plain": [
              "tensor([[[1.0000, 1.0000, 1.0000,  ..., 1.0000, 1.0000, 1.0000],\n",
              "         [1.0000, 1.0000, 1.0000,  ..., 1.0000, 1.0000, 1.0000],\n",
              "         [1.0000, 1.0000, 1.0000,  ..., 1.0000, 1.0000, 1.0000],\n",
              "         ...,\n",
              "         [0.0784, 0.0824, 0.0745,  ..., 1.0000, 1.0000, 1.0000],\n",
              "         [0.7490, 0.7451, 0.7412,  ..., 1.0000, 1.0000, 1.0000],\n",
              "         [0.9961, 0.9961, 0.9961,  ..., 1.0000, 1.0000, 1.0000]],\n",
              "\n",
              "        [[1.0000, 1.0000, 1.0000,  ..., 1.0000, 1.0000, 1.0000],\n",
              "         [1.0000, 1.0000, 1.0000,  ..., 1.0000, 1.0000, 1.0000],\n",
              "         [1.0000, 1.0000, 1.0000,  ..., 1.0000, 1.0000, 1.0000],\n",
              "         ...,\n",
              "         [0.0745, 0.0784, 0.0706,  ..., 1.0000, 1.0000, 1.0000],\n",
              "         [0.7451, 0.7451, 0.7373,  ..., 1.0000, 1.0000, 1.0000],\n",
              "         [0.9961, 0.9961, 0.9961,  ..., 1.0000, 1.0000, 1.0000]],\n",
              "\n",
              "        [[1.0000, 1.0000, 1.0000,  ..., 1.0000, 1.0000, 1.0000],\n",
              "         [1.0000, 1.0000, 1.0000,  ..., 1.0000, 1.0000, 1.0000],\n",
              "         [1.0000, 1.0000, 1.0000,  ..., 1.0000, 1.0000, 1.0000],\n",
              "         ...,\n",
              "         [0.0627, 0.0627, 0.0588,  ..., 1.0000, 1.0000, 1.0000],\n",
              "         [0.7373, 0.7373, 0.7294,  ..., 1.0000, 1.0000, 1.0000],\n",
              "         [0.9882, 0.9882, 0.9882,  ..., 1.0000, 1.0000, 1.0000]]])"
            ]
          },
          "metadata": {},
          "execution_count": 22
        }
      ]
    },
    {
      "cell_type": "markdown",
      "source": [
        "**Dataloaders**      \n",
        "Batching our dataset\n",
        "It's faster to train the model in batches instead of one at a time.                       \n",
        "**Shuffle = True for training and False for Testing**"
      ],
      "metadata": {
        "id": "DOTISKJJG-ds"
      }
    },
    {
      "cell_type": "code",
      "source": [
        "dataloader = DataLoader(dataset, batch_size=32, shuffle=True)"
      ],
      "metadata": {
        "id": "amUxQKFVHE_9"
      },
      "execution_count": 23,
      "outputs": []
    },
    {
      "cell_type": "code",
      "source": [
        "for image, label in dataloader:\n",
        "    break\n",
        "image.shape, label.shape  # (torch.Size([32, 3, 128, 128]), torch.Size([32])) 32 batches\n",
        "print(label)\n",
        "print(image)"
      ],
      "metadata": {
        "colab": {
          "base_uri": "https://localhost:8080/"
        },
        "id": "qvPMY5mLIcaE",
        "outputId": "9a3707ee-7c2f-4479-d246-3ac03fd53d25"
      },
      "execution_count": 24,
      "outputs": [
        {
          "output_type": "stream",
          "name": "stdout",
          "text": [
            "tensor([15,  6, 26, 33, 48, 23,  3, 15, 35, 19, 44, 33, 15, 50, 50,  8, 15, 29,\n",
            "        32, 36, 45, 50, 10, 37, 47, 26, 21, 26, 49, 30, 33,  3])\n",
            "tensor([[[[0.9373, 0.9137, 0.8471,  ..., 0.9961, 0.9882, 0.9843],\n",
            "          [0.9216, 0.8510, 0.9216,  ..., 1.0000, 0.9922, 0.9882],\n",
            "          [0.8745, 0.8902, 0.9765,  ..., 0.9961, 0.9961, 1.0000],\n",
            "          ...,\n",
            "          [0.9412, 0.8588, 0.9765,  ..., 1.0000, 1.0000, 0.9961],\n",
            "          [0.9765, 0.8706, 0.8863,  ..., 1.0000, 0.9961, 0.9961],\n",
            "          [0.9882, 0.9529, 0.8431,  ..., 0.9961, 0.9882, 0.9843]],\n",
            "\n",
            "         [[0.9451, 0.9176, 0.8510,  ..., 0.9961, 0.9922, 0.9882],\n",
            "          [0.9294, 0.8549, 0.9255,  ..., 1.0000, 0.9961, 0.9922],\n",
            "          [0.8824, 0.8941, 0.9804,  ..., 0.9961, 0.9961, 1.0000],\n",
            "          ...,\n",
            "          [0.9373, 0.8549, 0.9765,  ..., 1.0000, 1.0000, 1.0000],\n",
            "          [0.9765, 0.8667, 0.8902,  ..., 1.0000, 1.0000, 1.0000],\n",
            "          [0.9843, 0.9490, 0.8431,  ..., 0.9961, 0.9922, 0.9882]],\n",
            "\n",
            "         [[0.9333, 0.8980, 0.8314,  ..., 0.9765, 0.9686, 0.9647],\n",
            "          [0.9176, 0.8392, 0.9059,  ..., 0.9843, 0.9765, 0.9725],\n",
            "          [0.8706, 0.8784, 0.9608,  ..., 0.9882, 0.9843, 0.9882],\n",
            "          ...,\n",
            "          [0.9216, 0.8392, 0.9569,  ..., 0.9843, 0.9843, 0.9804],\n",
            "          [0.9608, 0.8510, 0.8706,  ..., 0.9843, 0.9765, 0.9765],\n",
            "          [0.9765, 0.9333, 0.8235,  ..., 0.9804, 0.9686, 0.9647]]],\n",
            "\n",
            "\n",
            "        [[[0.0196, 0.0549, 0.1098,  ..., 0.1961, 0.1294, 0.0902],\n",
            "          [0.0588, 0.0941, 0.0980,  ..., 0.5686, 0.4431, 0.3569],\n",
            "          [0.0431, 0.0941, 0.1020,  ..., 0.8863, 0.8392, 0.8039],\n",
            "          ...,\n",
            "          [0.0745, 0.0745, 0.1922,  ..., 0.8980, 0.9922, 0.9961],\n",
            "          [0.0784, 0.0784, 0.2039,  ..., 0.9451, 0.9725, 0.9804],\n",
            "          [0.0745, 0.0745, 0.2039,  ..., 0.9529, 0.9294, 0.9137]],\n",
            "\n",
            "         [[0.3804, 0.3804, 0.3882,  ..., 0.4118, 0.3569, 0.3176],\n",
            "          [0.4392, 0.4353, 0.3804,  ..., 0.7216, 0.6078, 0.5294],\n",
            "          [0.4314, 0.4431, 0.3725,  ..., 0.9608, 0.9255, 0.8941],\n",
            "          ...,\n",
            "          [0.4314, 0.4039, 0.4431,  ..., 0.8118, 0.9373, 0.9412],\n",
            "          [0.4235, 0.4039, 0.4510,  ..., 0.8941, 0.9412, 0.9569],\n",
            "          [0.4196, 0.4000, 0.4471,  ..., 0.9608, 0.9529, 0.9373]],\n",
            "\n",
            "         [[0.0353, 0.0510, 0.0824,  ..., 0.1882, 0.1255, 0.0863],\n",
            "          [0.0902, 0.1059, 0.0824,  ..., 0.5647, 0.4392, 0.3608],\n",
            "          [0.0784, 0.1137, 0.0941,  ..., 0.8824, 0.8392, 0.8039],\n",
            "          ...,\n",
            "          [0.0510, 0.0588, 0.1765,  ..., 0.7961, 0.9176, 0.9294],\n",
            "          [0.0471, 0.0588, 0.1804,  ..., 0.8667, 0.9137, 0.9294],\n",
            "          [0.0353, 0.0471, 0.1725,  ..., 0.9176, 0.9059, 0.8902]]],\n",
            "\n",
            "\n",
            "        [[[0.9725, 0.9804, 0.9608,  ..., 0.9922, 0.9922, 0.9922],\n",
            "          [0.9529, 0.9725, 0.9725,  ..., 0.9961, 0.9922, 0.9961],\n",
            "          [0.9686, 0.9882, 0.9843,  ..., 0.9922, 0.9882, 0.9922],\n",
            "          ...,\n",
            "          [0.9608, 0.9725, 0.9765,  ..., 0.9922, 0.9804, 0.9608],\n",
            "          [0.9490, 0.9686, 0.9765,  ..., 0.9843, 0.9725, 0.9608],\n",
            "          [0.9451, 0.9686, 0.9804,  ..., 0.9686, 0.9647, 0.9569]],\n",
            "\n",
            "         [[0.9804, 0.9882, 0.9882,  ..., 0.9961, 1.0000, 0.9882],\n",
            "          [0.9608, 0.9765, 0.9882,  ..., 1.0000, 1.0000, 0.9922],\n",
            "          [0.9725, 0.9843, 0.9922,  ..., 0.9922, 0.9922, 0.9843],\n",
            "          ...,\n",
            "          [0.9647, 0.9647, 0.9765,  ..., 0.9569, 0.9647, 0.9843],\n",
            "          [0.9608, 0.9686, 0.9804,  ..., 0.9725, 0.9725, 0.9725],\n",
            "          [0.9608, 0.9725, 0.9804,  ..., 0.9765, 0.9804, 0.9765]],\n",
            "\n",
            "         [[0.9255, 0.9216, 0.9020,  ..., 0.9137, 0.9059, 0.9098],\n",
            "          [0.9176, 0.9255, 0.9137,  ..., 0.9216, 0.9098, 0.9176],\n",
            "          [0.9333, 0.9412, 0.9255,  ..., 0.9216, 0.9098, 0.9137],\n",
            "          ...,\n",
            "          [0.8902, 0.9059, 0.9137,  ..., 0.8824, 0.8863, 0.8941],\n",
            "          [0.8863, 0.9059, 0.9098,  ..., 0.8863, 0.9020, 0.9059],\n",
            "          [0.8863, 0.9098, 0.9098,  ..., 0.8941, 0.9176, 0.9294]]],\n",
            "\n",
            "\n",
            "        ...,\n",
            "\n",
            "\n",
            "        [[[1.0000, 0.9961, 0.9961,  ..., 1.0000, 1.0000, 1.0000],\n",
            "          [1.0000, 1.0000, 1.0000,  ..., 1.0000, 1.0000, 1.0000],\n",
            "          [1.0000, 1.0000, 1.0000,  ..., 1.0000, 1.0000, 1.0000],\n",
            "          ...,\n",
            "          [0.9961, 0.9961, 0.9843,  ..., 0.9922, 0.9922, 0.9922],\n",
            "          [1.0000, 0.9922, 0.9882,  ..., 0.9922, 0.9882, 0.9882],\n",
            "          [0.9961, 0.9961, 0.9922,  ..., 0.9961, 0.9961, 0.9922]],\n",
            "\n",
            "         [[1.0000, 0.9961, 0.9961,  ..., 1.0000, 1.0000, 1.0000],\n",
            "          [1.0000, 1.0000, 1.0000,  ..., 1.0000, 1.0000, 1.0000],\n",
            "          [1.0000, 1.0000, 1.0000,  ..., 1.0000, 1.0000, 1.0000],\n",
            "          ...,\n",
            "          [0.9961, 0.9961, 0.9843,  ..., 0.9922, 0.9922, 0.9922],\n",
            "          [1.0000, 0.9922, 0.9882,  ..., 0.9922, 0.9882, 0.9882],\n",
            "          [0.9961, 0.9961, 0.9922,  ..., 0.9961, 0.9961, 0.9922]],\n",
            "\n",
            "         [[1.0000, 0.9961, 0.9961,  ..., 1.0000, 1.0000, 1.0000],\n",
            "          [1.0000, 1.0000, 1.0000,  ..., 1.0000, 1.0000, 1.0000],\n",
            "          [1.0000, 1.0000, 1.0000,  ..., 1.0000, 1.0000, 1.0000],\n",
            "          ...,\n",
            "          [0.9961, 0.9961, 0.9843,  ..., 0.9922, 0.9922, 0.9922],\n",
            "          [1.0000, 0.9922, 0.9882,  ..., 0.9922, 0.9882, 0.9882],\n",
            "          [0.9961, 0.9961, 0.9922,  ..., 0.9961, 0.9961, 0.9922]]],\n",
            "\n",
            "\n",
            "        [[[0.9137, 0.9137, 0.9098,  ..., 0.9255, 0.9176, 0.9176],\n",
            "          [0.9137, 0.9098, 0.9098,  ..., 0.9176, 0.9176, 0.9216],\n",
            "          [0.9137, 0.9098, 0.9098,  ..., 0.9020, 0.9137, 0.9176],\n",
            "          ...,\n",
            "          [0.9176, 0.9176, 0.9176,  ..., 0.8353, 0.9176, 0.9176],\n",
            "          [0.9137, 0.9098, 0.9176,  ..., 0.8941, 0.9176, 0.9137],\n",
            "          [0.9098, 0.9059, 0.9137,  ..., 0.9176, 0.9176, 0.9176]],\n",
            "\n",
            "         [[0.9176, 0.9176, 0.9137,  ..., 0.9137, 0.9176, 0.9176],\n",
            "          [0.9176, 0.9137, 0.9137,  ..., 0.9216, 0.9216, 0.9176],\n",
            "          [0.9176, 0.9137, 0.9098,  ..., 0.9255, 0.9216, 0.9176],\n",
            "          ...,\n",
            "          [0.9216, 0.9216, 0.9216,  ..., 0.8353, 0.9176, 0.9216],\n",
            "          [0.9176, 0.9137, 0.9216,  ..., 0.8941, 0.9176, 0.9176],\n",
            "          [0.9137, 0.9098, 0.9176,  ..., 0.9216, 0.9216, 0.9216]],\n",
            "\n",
            "         [[0.8980, 0.8980, 0.8941,  ..., 0.9020, 0.8980, 0.8941],\n",
            "          [0.8980, 0.8941, 0.8941,  ..., 0.9059, 0.9020, 0.9020],\n",
            "          [0.8980, 0.8941, 0.8980,  ..., 0.9059, 0.9020, 0.8980],\n",
            "          ...,\n",
            "          [0.9020, 0.9020, 0.9020,  ..., 0.8275, 0.9098, 0.9098],\n",
            "          [0.8980, 0.8941, 0.9020,  ..., 0.8824, 0.8980, 0.8980],\n",
            "          [0.8941, 0.8902, 0.8980,  ..., 0.9020, 0.8980, 0.8980]]],\n",
            "\n",
            "\n",
            "        [[[0.0039, 0.0039, 0.0118,  ..., 0.0314, 0.0275, 0.0314],\n",
            "          [0.0000, 0.0000, 0.0039,  ..., 0.0235, 0.0196, 0.0196],\n",
            "          [0.0039, 0.0000, 0.0000,  ..., 0.0078, 0.0078, 0.0118],\n",
            "          ...,\n",
            "          [0.0000, 0.0000, 0.0000,  ..., 0.0549, 0.0314, 0.0196],\n",
            "          [0.0000, 0.0000, 0.0000,  ..., 0.0235, 0.0157, 0.0118],\n",
            "          [0.0039, 0.0039, 0.0039,  ..., 0.0118, 0.0196, 0.0275]],\n",
            "\n",
            "         [[0.0039, 0.0039, 0.0078,  ..., 0.0078, 0.0039, 0.0000],\n",
            "          [0.0118, 0.0078, 0.0118,  ..., 0.0118, 0.0000, 0.0000],\n",
            "          [0.0275, 0.0235, 0.0157,  ..., 0.0078, 0.0039, 0.0039],\n",
            "          ...,\n",
            "          [0.0039, 0.0039, 0.0039,  ..., 0.0196, 0.0118, 0.0118],\n",
            "          [0.0039, 0.0039, 0.0039,  ..., 0.0157, 0.0275, 0.0353],\n",
            "          [0.0000, 0.0000, 0.0000,  ..., 0.0235, 0.0510, 0.0667]],\n",
            "\n",
            "         [[0.0039, 0.0039, 0.0118,  ..., 0.0118, 0.0118, 0.0039],\n",
            "          [0.0000, 0.0000, 0.0078,  ..., 0.0078, 0.0039, 0.0000],\n",
            "          [0.0000, 0.0000, 0.0039,  ..., 0.0039, 0.0000, 0.0000],\n",
            "          ...,\n",
            "          [0.0235, 0.0235, 0.0196,  ..., 0.0000, 0.0039, 0.0196],\n",
            "          [0.0235, 0.0235, 0.0235,  ..., 0.0039, 0.0235, 0.0510],\n",
            "          [0.0235, 0.0235, 0.0196,  ..., 0.0039, 0.0314, 0.0627]]]])\n"
          ]
        }
      ]
    },
    {
      "cell_type": "markdown",
      "source": [
        "\n",
        "\n",
        "**### Understanding the `DataLoader` and Output Shapes**\n",
        "\n",
        "1. **`DataLoader` Creation:**\n",
        "\n",
        "   ```python\n",
        "   dataloader = DataLoader(dataset, batch_size=32, shuffle=True)\n",
        "   ```\n",
        "\n",
        "   - **`dataset`**: This is the dataset you created using `PlayingCardDataset`.\n",
        "   - **`batch_size=32`**: This means that each batch will contain 32 images and their corresponding labels.\n",
        "   - **`shuffle=True`**: This means the dataset will be shuffled before being divided into batches. This helps in training by ensuring the model doesn’t see the images in the same order every epoch.\n",
        "\n",
        "2. **Iterating Through the DataLoader:**\n",
        "\n",
        "   ```python\n",
        "   for image, label in dataloader:\n",
        "       break\n",
        "   ```\n",
        "\n",
        "   - This loop gets one batch of images and labels from the `dataloader`.\n",
        "   - `break` exits the loop after the first batch is retrieved, so you’re only looking at the first batch.\n",
        "\n",
        "3. **Understanding the Output Shapes:**\n",
        "\n",
        "   ```python\n",
        "   image.shape, label.shape\n",
        "   ```\n",
        "\n",
        "   The shapes are:\n",
        "\n",
        "   - **`image.shape`**: `torch.Size([32, 3, 128, 128])`\n",
        "     - **32**: This is the batch size, so there are 32 images in the batch.\n",
        "     - **3**: This is the number of color channels (RGB) for each image.\n",
        "     - **128x128**: This is the height and width of each image after resizing.\n",
        "\n",
        "   - **`label.shape`**: `torch.Size([32])`\n",
        "     - **32**: This is the number of labels, corresponding to the 32 images in the batch. Each label is a single integer representing the class of the corresponding image.\n",
        "\n",
        "### Summary\n",
        "\n",
        "- The `DataLoader` divides the dataset into batches. Each batch has a size of 32 images and their corresponding labels, as specified by `batch_size=32`.\n",
        "- **`image.shape`** indicates that each batch contains 32 images, where each image has 3 color channels and is of size 128x128 pixels.\n",
        "- **`label.shape`** indicates that there are 32 labels, one for each image in the batch.\n",
        "\n",
        "So yes, each batch from the `DataLoader` contains 32 images, and each image has the dimensions `(3, 128, 128)`."
      ],
      "metadata": {
        "id": "qwgJ6ciEJCBk"
      }
    },
    {
      "cell_type": "markdown",
      "source": [
        "# Step 2. Pytorch Model\n",
        "Pytorch datasets have a structured way of organizing your data, pytorch models follow a similar paradigm.\n",
        "\n",
        "We could create the model from scratch defining each layer.\n",
        "                               \n",
        "However for tasks like image classification, many of the state of the art architectures are readily available and we can import them from packages like timm.                                  \n",
        "Understanding the pytorch model is all about understanding the shape the data is at each layer, and the main one we need to modify for a task is the final layer. Here we have 53 targets, so we will modify the last layer for this."
      ],
      "metadata": {
        "id": "7fPXFa3EJ0xU"
      }
    },
    {
      "cell_type": "code",
      "source": [
        "class SimpleCardClassifier(nn.Module):\n",
        "  def __init__(self, num_classes=53):\n",
        "    super(SimpleCardClassifier, self).__init__()\n",
        "    # Where we define all the parts of the model\n",
        "    self.base_model = timm.create_model('efficientnet_b0', pretrained=True)\n",
        "    self.features = nn.Sequential(*list(self.base_model.children())[:-1])\n",
        "\n",
        "    enet_out_size = 1280\n",
        "    # Make a classifier\n",
        "    self.classifier = nn.Linear(enet_out_size, num_classes)\n",
        "\n",
        "  def forward(self, x):\n",
        "    # Connect these parts and return output\n",
        "    x = self.features(x)\n",
        "    x = self.classifier(x)\n",
        "    return x"
      ],
      "metadata": {
        "id": "f1YnrQMKKa2T"
      },
      "execution_count": 25,
      "outputs": []
    },
    {
      "cell_type": "code",
      "source": [
        "model = SimpleCardClassifier(num_classes=53)"
      ],
      "metadata": {
        "id": "5Po7_gg3Ltd7",
        "outputId": "27426ec5-7cce-411a-8f20-c37a0ab740fb",
        "colab": {
          "base_uri": "https://localhost:8080/",
          "height": 173,
          "referenced_widgets": [
            "ee2722b751a64105abc5b43ec92eeb58",
            "e285256193de4dd988a92c43b64fb726",
            "d32091d970a8473897debb328e703bb0",
            "b0c08ff0d4d34de7bfe1f9c1332b2de1",
            "8b9885f3928b4a5b8ca584c5871ecf78",
            "e62842be02a8446781b2b68341223372",
            "8202f567bc1746b99448cb46bc48145f",
            "63ecceb39557497eaf9f0036286111fa",
            "a141944709334024a93fc67f61fceac4",
            "eaea10c8de0844aa908000b0cd66ceb4",
            "cc8bb937ced14ff5a020e715fc0f07a0"
          ]
        }
      },
      "execution_count": 26,
      "outputs": [
        {
          "output_type": "stream",
          "name": "stderr",
          "text": [
            "/usr/local/lib/python3.10/dist-packages/huggingface_hub/utils/_token.py:89: UserWarning: \n",
            "The secret `HF_TOKEN` does not exist in your Colab secrets.\n",
            "To authenticate with the Hugging Face Hub, create a token in your settings tab (https://huggingface.co/settings/tokens), set it as secret in your Google Colab and restart your session.\n",
            "You will be able to reuse this secret in all of your notebooks.\n",
            "Please note that authentication is recommended but still optional to access public models or datasets.\n",
            "  warnings.warn(\n"
          ]
        },
        {
          "output_type": "display_data",
          "data": {
            "text/plain": [
              "model.safetensors:   0%|          | 0.00/21.4M [00:00<?, ?B/s]"
            ],
            "application/vnd.jupyter.widget-view+json": {
              "version_major": 2,
              "version_minor": 0,
              "model_id": "ee2722b751a64105abc5b43ec92eeb58"
            }
          },
          "metadata": {}
        }
      ]
    },
    {
      "cell_type": "code",
      "source": [
        "print(str(model)[:500])     # Printing only beginning of model"
      ],
      "metadata": {
        "id": "Eu0pYhdGL1VS",
        "outputId": "8fdf7ab9-1894-4c78-9a20-4a2b40f9925b",
        "colab": {
          "base_uri": "https://localhost:8080/"
        }
      },
      "execution_count": 27,
      "outputs": [
        {
          "output_type": "stream",
          "name": "stdout",
          "text": [
            "SimpleCardClassifier(\n",
            "  (base_model): EfficientNet(\n",
            "    (conv_stem): Conv2d(3, 32, kernel_size=(3, 3), stride=(2, 2), padding=(1, 1), bias=False)\n",
            "    (bn1): BatchNormAct2d(\n",
            "      32, eps=1e-05, momentum=0.1, affine=True, track_running_stats=True\n",
            "      (drop): Identity()\n",
            "      (act): SiLU(inplace=True)\n",
            "    )\n",
            "    (blocks): Sequential(\n",
            "      (0): Sequential(\n",
            "        (0): DepthwiseSeparableConv(\n",
            "          (conv_dw): Conv2d(32, 32, kernel_size=(3, 3), stride=(1, 1), padding=(1, 1), groups=32, bias=Fa\n"
          ]
        }
      ]
    },
    {
      "cell_type": "code",
      "source": [
        "example_out = model(image) # check input , the model receive is of same format if no error model accept same format of image\n",
        "example_out.shape  # [batch_size, num_classes]"
      ],
      "metadata": {
        "id": "yYgEjk1-MOqc",
        "outputId": "83a78ebe-7e6e-48bc-d49d-3ceec4f05fc4",
        "colab": {
          "base_uri": "https://localhost:8080/"
        }
      },
      "execution_count": 28,
      "outputs": [
        {
          "output_type": "execute_result",
          "data": {
            "text/plain": [
              "torch.Size([32, 53])"
            ]
          },
          "metadata": {},
          "execution_count": 28
        }
      ]
    },
    {
      "cell_type": "markdown",
      "source": [
        "# Understanding `[:-1]`\n",
        "\n",
        "The code in question is:\n",
        "\n",
        "```python\n",
        "self.features = nn.Sequential(*list(self.base_model.children())[:-1])\n",
        "```\n",
        "\n",
        "1. **`self.base_model.children()`**:\n",
        "   - This retrieves the layers (or \"children\") of the model `self.base_model`. In this case, `self.base_model` is the EfficientNet-B0 model.\n",
        "\n",
        "2. **`list(self.base_model.children())`**:\n",
        "   - This converts the layers into a list. Each element in this list corresponds to a layer or a block of layers in the EfficientNet-B0 model.\n",
        "\n",
        "3. **`[:-1]`**:\n",
        "   - This is Python slicing syntax. `[:-1]` means \"all elements except the last one.\"\n",
        "   - So, when you do `list(self.base_model.children())[:-1]`, you're taking all the layers of the model **except the last one**.\n",
        "\n",
        "   The last layer in many pre-trained models (like EfficientNet-B0) is typically a fully connected layer that is used for classification based on the dataset it was originally trained on (e.g., ImageNet with 1000 classes). Since you're creating a custom classifier, you don't want to use this last layer.\n",
        "\n",
        "### **Why exclude the last layer?**\n",
        "\n",
        "In pre-trained models, the last layer (often a fully connected layer) is specifically designed for the classification task that the model was originally trained on (e.g., classifying 1000 different categories in ImageNet). However, when you're using this model for your own task (classifying 53 types of playing cards), you need to replace this layer with one that suits your specific task.\n",
        "\n",
        "So, by excluding the last layer, you're keeping all the useful feature extraction layers and removing the part that's specific to the original task. You then replace it with your custom classifier that outputs 53 classes.\n",
        "\n",
        "### **Order of Operations in the Model**\n",
        "\n",
        "1. **Model Creation**:\n",
        "   - You first create the EfficientNet-B0 model using `timm.create_model('efficientnet_b0', pretrained=True)`.\n",
        "   - This model includes a sequence of layers designed to extract features from images and then classify them based on these features.\n",
        "\n",
        "2. **Feature Extraction Setup**:\n",
        "   - `self.features = nn.Sequential(*list(self.base_model.children())[:-1])` creates a feature extractor by taking all the layers of EfficientNet-B0 except the last one. This part of the model will be used to convert input images into a feature representation (a tensor of features).\n",
        "   - **`nn.Sequential`**: This wraps the layers into a `Sequential` container so they are executed one after the other, in the same order they appear in the list.\n",
        "\n",
        "3. **Custom Classifier**:\n",
        "   - You define `self.classifier = nn.Linear(enet_out_size, num_classes)` to replace the original classifier with one suited to your task.\n",
        "   - The output of `self.features(x)` is passed into `self.classifier(x)`, where `x` is the image tensor after it has been processed by the feature extractor.\n",
        "\n",
        "4. **Forward Pass**:\n",
        "   - During the forward pass, the input image first goes through `self.features(x)`, which extracts features using the layers of EfficientNet-B0 (minus the last layer).\n",
        "   - The resulting features are then passed to `self.classifier(x)`, which outputs the final predictions (logits for each class).\n",
        "\n",
        "### **In Summary**\n",
        "\n",
        "- **Feature Extraction**: The `self.features` module (all layers of EfficientNet-B0 except the last one) processes the input image to extract relevant features.\n",
        "- **Classification**: The `self.classifier` layer takes these extracted features and produces class scores (logits) for each of the 53 classes.\n",
        "\n",
        "The `[:-1]` is crucial because it allows you to reuse the powerful feature extraction capabilities of a pre-trained model while discarding the part that isn’t useful for your new task. You then replace this with your classifier that is customized to the number of classes (53 in this case) that you need.\n",
        "\n",
        "\n",
        "\n",
        "#  `SimpleCardClassifier`\n",
        "\n",
        "### 1. **`super(SimpleCardClassifier, self).__init__()` vs `super().__init__()`**\n",
        "\n",
        "- **`super(SimpleCardClassifier, self).__init__()`**: This explicitly references the current class (`SimpleCardClassifier`) and the instance (`self`) to call the constructor of the parent class (`nn.Module`).\n",
        "- **`super().__init__()`**: This is a more concise way to call the parent class constructor. In Python 3, both versions are functionally equivalent, so you can use `super().__init__()` as a cleaner alternative.\n",
        "\n",
        "### 2. **What is `timm`?**\n",
        "\n",
        "- **`timm`** stands for \"PyTorch Image Models.\" It's a popular library that provides a wide range of pre-trained models for computer vision tasks. The models in `timm` are typically optimized for accuracy and efficiency.\n",
        "\n",
        "### 3. **`timm.create_model()`**\n",
        "\n",
        "```python\n",
        "self.base_model = timm.create_model('efficientnet_b0', pretrained=True)\n",
        "```\n",
        "\n",
        "- **`timm.create_model(model_name, pretrained=True)`**: This function loads a pre-trained model architecture specified by `model_name`.\n",
        "  - **`'efficientnet_b0'`**: This specifies the model architecture. EfficientNet-B0 is a type of convolutional neural network (CNN) that is optimized for performance and efficiency.\n",
        "  - **`pretrained=True`**: This indicates that you want to load the model with weights that were pre-trained on a large dataset (typically ImageNet). Using a pre-trained model helps with transfer learning, where the model starts with knowledge learned from another task.\n",
        "\n",
        "### 4. **`nn.Sequential` and `[:-1]`**\n",
        "\n",
        "```python\n",
        "self.features = nn.Sequential(*list(self.base_model.children())[:-1])\n",
        "```\n",
        "\n",
        "- **`nn.Sequential`**: This is a container module that allows you to chain layers or operations together sequentially. It executes them in the order they are passed.\n",
        "- **`list(self.base_model.children())[:-1]`**: This converts the layers (children) of `self.base_model` into a list and then excludes the last layer (`[:-1]` slices off the last item). The last layer is usually the classification head, which we don’t need because we’ll create our own classifier.\n",
        "\n",
        "### 5. **`enet_out_size = 1280`**\n",
        "\n",
        "- **`enet_out_size = 1280`**: This variable represents the output size of the feature extractor part of the EfficientNet-B0 model (i.e., the number of features before the final classification layer). For EfficientNet-B0, this is 1280. You can find this number in the model's architecture specifications.\n",
        "\n",
        "### 6. **Defining the Classifier**\n",
        "\n",
        "```python\n",
        "self.classifier = nn.Linear(enet_out_size, num_classes)\n",
        "```\n",
        "\n",
        "- **`nn.Linear(enet_out_size, num_classes)`**: This creates a fully connected (linear) layer that maps the 1280 features (from the feature extractor) to the `num_classes` outputs (in your case, 53 classes).\n",
        "  - **`enet_out_size = 1280`**: The input to the linear layer.\n",
        "  - **`num_classes = 53`**: The output of the linear layer, which corresponds to the number of playing card classes.\n",
        "\n",
        "### 7. **The `forward` Function**\n",
        "\n",
        "```python\n",
        "def forward(self, x):\n",
        "    x = self.features(x)\n",
        "    x = self.classifier(x)\n",
        "    return x\n",
        "```\n",
        "\n",
        "- **`forward`**: This method defines the forward pass of the model. It dictates how the input `x` passes through the layers of the model.\n",
        "  - **`self.features(x)`**: Passes the input `x` (the image tensor) through the feature extraction layers.\n",
        "  - **`self.classifier(x)`**: Takes the output from the feature extractor and passes it through the classifier to produce the final predictions (logits for each class).\n",
        "  - **`return x`**: Returns the final output from the classifier.\n",
        "\n",
        "### 8. **Why `num_classes=53`?**\n",
        "\n",
        "- **`num_classes=53`**: This is the number of different classes (types of playing cards) you want the model to classify. There are 53 unique types of cards, so your final layer needs to produce 53 output values (one for each class).\n",
        "\n",
        "### 9. **Understanding Output Shape**\n",
        "\n",
        "```python\n",
        "example_out = model(image)  # Check input\n",
        "example_out.shape  # [batch_size, num_classes]\n",
        "```\n",
        "\n",
        "- **`image`**: A batch of images passed into the model.\n",
        "- **`example_out.shape`**: The shape of the output from the model.\n",
        "  - **`batch_size`**: The number of images in a single batch. If you pass in a batch of 32 images, this would be 32.\n",
        "  - **`num_classes`**: The number of output classes. Since there are 53 classes, the output shape would be `[batch_size, 53]`.\n",
        "  \n",
        "  **Example**: If `batch_size` is 32, then `example_out.shape` will be `[32, 53]`, meaning that for each of the 32 images, the model provides a score for each of the 53 classes."
      ],
      "metadata": {
        "id": "D1SUXyPNQkVS"
      }
    },
    {
      "cell_type": "markdown",
      "source": [
        "# Step 3. The training loop\n",
        "# Now that we understand the general paradigm of pytorch datasets and models, we need to create the process of training this model.\n",
        "Some things to consider: We want to validate our model on data it has not been trained on, so usually we split our data into a train and validate datasets (I have whole videos on this). This is easy because we can just create two datasets using our existing class.  \n",
        "# Terms:  \n",
        "Epoch: One run through the entire training dataset.\n",
        "Step: One batch of data as defined in our dataloader\n",
        "This loop is one you will become familiar with when training models, you load in data to the model in batches - then calculate the loss and perform backpropagation. There are packages that package this for you, but it's good to have at least written it once to understand how it works.   \n",
        "# Two things to select:   \n",
        "optimizer, adam is the best place to start for most tasks.\n",
        "loss function: What the model will optimize for"
      ],
      "metadata": {
        "id": "HjA5u8-gREVS"
      }
    },
    {
      "cell_type": "code",
      "source": [
        "#Loss Function\n",
        "criterion = nn.CrossEntropyLoss()\n",
        "# Optimizer\n",
        "optimizer = optim.Adam(model.parameters(), lr=0.001)"
      ],
      "metadata": {
        "id": "EfR6F2GhRZfx"
      },
      "execution_count": 29,
      "outputs": []
    },
    {
      "cell_type": "code",
      "source": [
        "transform = transforms.Compose([\n",
        "    transforms.Resize((128, 128)),\n",
        "    transforms.ToTensor(),\n",
        "])\n",
        "\n",
        "# Paths to the dataset folders within the Colab file system\n",
        "train_folder = '/content/playing_card_dataset/train/'\n",
        "valid_folder = '/content/playing_card_dataset/valid/'\n",
        "test_folder = '/content/playing_card_dataset/test/'\n",
        "\n",
        "# Create datasets using the specified paths and transformation\n",
        "train_dataset = PlayingCardDataset(train_folder, transform=transform)\n",
        "val_dataset = PlayingCardDataset(valid_folder, transform=transform)\n",
        "test_dataset = PlayingCardDataset(test_folder, transform=transform)\n",
        "\n",
        "# Create DataLoaders for the datasets\n",
        "train_loader = DataLoader(train_dataset, batch_size=32, shuffle=True)\n",
        "val_loader = DataLoader(val_dataset, batch_size=32, shuffle=False)\n",
        "test_loader = DataLoader(test_dataset, batch_size=32, shuffle=False)\n"
      ],
      "metadata": {
        "id": "Fz9NHKCDTbgh"
      },
      "execution_count": 30,
      "outputs": []
    },
    {
      "cell_type": "code",
      "source": [
        "for image, label in train_loader:\n",
        "    break\n",
        "image.shape, label.shape\n"
      ],
      "metadata": {
        "id": "AURHonXUT-p5",
        "outputId": "64ac3de4-defa-4c50-99da-a31624862bf8",
        "colab": {
          "base_uri": "https://localhost:8080/"
        }
      },
      "execution_count": 31,
      "outputs": [
        {
          "output_type": "execute_result",
          "data": {
            "text/plain": [
              "(torch.Size([32, 3, 128, 128]), torch.Size([32]))"
            ]
          },
          "metadata": {},
          "execution_count": 31
        }
      ]
    },
    {
      "cell_type": "code",
      "source": [
        "device = torch.device(\"cuda:0\" if torch.cuda.is_available() else \"cpu\")\n",
        "print(device)\n",
        ""
      ],
      "metadata": {
        "id": "Ct_83GaNWuGQ",
        "outputId": "a0c44dac-a9eb-4754-e2d2-2847eab75c17",
        "colab": {
          "base_uri": "https://localhost:8080/"
        }
      },
      "execution_count": 32,
      "outputs": [
        {
          "output_type": "stream",
          "name": "stdout",
          "text": [
            "cuda:0\n"
          ]
        }
      ]
    },
    {
      "cell_type": "code",
      "source": [
        "num_epoch = 5 #epoch one run through entire training datasets\n",
        "train_losses, val_losses = [], []\n",
        "\n",
        "model = SimpleCardClassifier(num_classes=53)\n",
        "model.to(device)\n",
        "\n",
        "criterion = nn.CrossEntropyLoss()\n",
        "optimizer = optim.Adam(model.parameters(), lr=0.001)\n",
        "\n",
        "for epoch in range(num_epoch):\n",
        "  # Set the model to train\n",
        "  model.train()\n",
        "  running_loss = 0.0\n",
        "  for image, label in tqdm(train_loader, desc='Training loop'):\n",
        "    image, label = image.to(device), label.to(device)\n",
        "    # Zero the gradients\n",
        "    optimizer.zero_grad()\n",
        "    # Forward pass\n",
        "    output = model(image)\n",
        "    # Calculate the loss\n",
        "    loss = criterion(output, label)\n",
        "    # Backpropagation\n",
        "    loss.backward()  # update models weights in each step\n",
        "    # Update the weights\n",
        "    optimizer.step()\n",
        "    # Update the running loss\n",
        "    running_loss += loss.item() * label.size(0)\n",
        "\n",
        "  train_loss = running_loss / len(train_loader.dataset)\n",
        "  # Calculate the average training loss for the epoch\n",
        "  train_losses.append(train_loss)\n",
        "\n",
        "  # Validation phase\n",
        "  model.eval()\n",
        "  running_loss = 0.0\n",
        "  with torch.no_grad():\n",
        "    for image, label in tqdm(val_loader, desc='Validation loop'):\n",
        "      image, label = image.to(device), label.to(device)  # Ensure tensors are on the correct device\n",
        "      output = model(image)\n",
        "      loss = criterion(output, label)\n",
        "      running_loss += loss.item() * label.size(0)\n",
        "  val_loss = running_loss / len(val_loader.dataset)\n",
        "  val_losses.append(val_loss)\n",
        "\n",
        "  #Print epoch stats\n",
        "  print(f\"Epoch {epoch+1}/{num_epoch} - Train loss: {train_loss}, Validation loss: {val_loss}\")\n",
        "\n",
        "\n"
      ],
      "metadata": {
        "id": "k7DBwhmAUQkp",
        "outputId": "9e0b8676-cbac-46bd-a371-d0405219e4a9",
        "colab": {
          "base_uri": "https://localhost:8080/",
          "height": 424,
          "referenced_widgets": [
            "8eb8f0f6c2c042ac97bae2eaa52c4a61",
            "9f7f537982a5409fbd53c798945a8e65",
            "698be5f4e7de4d99ad8f00708c82196d",
            "43e9d8f2396443acaa1cf22c9b045678",
            "0d5f6a8e6b7b44acb8d8cb810fa5dfd4",
            "dd7f79e18e2348e89a6a76c7e2aa69dd",
            "215a0861fffd49bf83b33de8db14f00b",
            "34fbc79672014b5a8a1323f66b08252c",
            "a220a31591ed41c98a9f1285f4f0da06",
            "66c57b608333402eb1a2055d3abd0301",
            "739419873d774ada810e9516b47443bc",
            "d191e0f78c5a4c6fad6fc33822c33d16",
            "52caedb765b849f5b68532b17e92873d",
            "d709a7abed28485bbc4a18e94b57e9ad",
            "d3ad48d939f845dcb86ebbb41ed97691",
            "5c04eb11be004539b8b070e297dea51a",
            "f10f5cf70b2d45fab1d4a66bbd6450c1",
            "841d5ea4572741f8bc07ad12de2382dd",
            "67453760251f4b57b487be0fbf5bb4c9",
            "f29e28ca37214c6ba3df81ee4338df0c",
            "8ddc49f9012e4b2c9a09ff30240f6689",
            "280a8d9ec11a4b8ca2d7aec47db4a3b4",
            "8e15db6c9cb845cfaecf08499cbea9e4",
            "4ff92090dbab45b9b315774f21c6098c",
            "be9921f0201a4526a58a45d72f8e6ca2",
            "d40a0f6ec0f24c41acaeb7cb3b85b136",
            "3d087168080f4e64a969473fcc8be912",
            "ddb1b28faaaa4498a02c84ef3548746d",
            "0505152b023f4557bbe532e3983048f4",
            "cc15403f70da4085a624fcd35c4f91c2",
            "3b9b1e7ce2f841bab393fa2a5a3598b1",
            "51f6206254ed42dd94f587e180b8d920",
            "7112f4496e1f4c30a564f162667e260e",
            "9ff18b4729634218be930afc9b927b35",
            "eb9d5ba634d941329d8d4622bb4037f0",
            "d847e16f29ac4a759dcfd137cb075adc",
            "e005a1171d1a4c75bea86dfc873e2b3f",
            "00dc7ff8abfc4253a2d80561e14118ea",
            "7cc48c1eb9004151a91f43380259734f",
            "1854617cfbce40b1b074b4a2e72023dc",
            "49bfbe2d3a534c3885c0fce7b9036469",
            "ad01ae3ace4343128423721407cb8b5e",
            "a7ace4d65d254c188bfe30fda9a5df5d",
            "ec7a1a2bf78b45518697e6adfa473f29",
            "9fb6a94502164fc1b6ab4ca56395fc91",
            "4d2ad41b364248eca9e986031ced0ec4",
            "7d14cd4d8a1143239518d0fa049dffbf",
            "d4233dc2acb6440fb041069d3fcaa66a",
            "33f06243b42c4b08a524aadc31161d57",
            "032095c91f564accbdba865ec09d5f07",
            "b5d680ecf766419c961e7a4b9194dd6b",
            "01ee84dbc5704f669da7fee33a6a9ea4",
            "6b0c181b482f41408b068c571d1f3643",
            "60a192ad420d47fb9e04ac7dc08f66e0",
            "67b8d4f036f54f4fb3a4a865d9027059",
            "06e53ede373d41f1a33ac60aff1a657c",
            "62efae09690a44bca740d896a3585274",
            "add0572bb53148a9b846f21d4168520b",
            "b613608597b74f4482c0842eb1d0301b",
            "3a1ac526ce87496c9281724f1124ce2e",
            "a47c67dfb56446ea9deddbadbb000de1",
            "d12c7d1414a940fbad898a277a78f71c",
            "a04921b5bfc04c8c9e2c888b8f43cfd3",
            "c29021c347714ec9abfbaa2d7031b676",
            "1daf91ac70bf4a76b72cd58cdef581cc",
            "a78bb4a451eb4550870e0992f4d9e5c9",
            "41067b31ee8044ad99c17c36aa72f382",
            "0573e0bedbfc467192275de737c5ba3d",
            "8227ebcbea2b415f9fc4111f16741206",
            "c8e8588beb39409fbfffc2446c726aa0",
            "4bf72241a0c84e7d84e4c7672dcf6041",
            "d5fa85ce0eb546b587d5854eff383a1c",
            "888536bd6cd9426da1d87da8b9b73799",
            "2db4d071f6ea4f0c89149d15cbdfdb60",
            "8edaaa75c57a485aac83b1257213c847",
            "da298ab32fe34cdd963c61a35072262f",
            "3f2bb29e10b5450d9877bd4c656a0243",
            "1814c591882049d1b5a345288b447f85",
            "06e7e8aae03e468ebb50e61ab97e8f21",
            "759eba4975a545aea4efd2c63bd6c823",
            "c39e3cb8abc04b1d8a66ffd524fcc213",
            "28886054535642a286a031f4c89a44f2",
            "fd5c070ad7414dacb931df74fa1c9fce",
            "0feae80c9e92457a918922f034e136c8",
            "726ae7e81afc42a0bd14bbdd8af07b0e",
            "8455188072934b2284915bfd062edcb6",
            "1902342ea1464743befa854005c50380",
            "9fa8e1a7e4de4fe6be74ba7610cad44d",
            "05953df5e57b4512900e8669528165b2",
            "90cca27bc257493884420eed5da69c0b",
            "6680cb52ab6443cca11d11a5f41a5054",
            "1cedcaa1aac74d9bbeac965e5670c51c",
            "19dfa87f5399411a9bb1e26bfddefde0",
            "36012ca8f3f84b1c8e3b54c74b558482",
            "9f364168d609431a864a9ce8b124797c",
            "6885a7218f9848fead83cbc70b4ebdb6",
            "2e7abf17412e49289f784ef07d903703",
            "bf0b6152b64f44499dfa52160bf980b0",
            "bfdfdcafaef34b03ad11d86c75e89c48",
            "6a89f6f185104104911dd8722845e2da",
            "56d695078cf04f1bb4aa0e6abd418df2",
            "c08b3a629f4945c28c00448bfd814eb2",
            "c22cb1930bb94a6aa98a672bd1f21d99",
            "bfa426ecc86a49769b63f7acee748084",
            "0e63899b049a4c989a776196222673d5",
            "2e7893cc673e486bb2db68e54accf7f2",
            "99b40b1b694547beba156d1fddbcebf8",
            "bf0ff63e799e4cc286e3e8aacd16ed11",
            "5fb37426f3fc46728521ef5e0a64307d",
            "f1dc1e9b1a2449a0af338599322a6a98"
          ]
        }
      },
      "execution_count": 35,
      "outputs": [
        {
          "output_type": "display_data",
          "data": {
            "text/plain": [
              "Training loop:   0%|          | 0/239 [00:00<?, ?it/s]"
            ],
            "application/vnd.jupyter.widget-view+json": {
              "version_major": 2,
              "version_minor": 0,
              "model_id": "8eb8f0f6c2c042ac97bae2eaa52c4a61"
            }
          },
          "metadata": {}
        },
        {
          "output_type": "display_data",
          "data": {
            "text/plain": [
              "Validation loop:   0%|          | 0/9 [00:00<?, ?it/s]"
            ],
            "application/vnd.jupyter.widget-view+json": {
              "version_major": 2,
              "version_minor": 0,
              "model_id": "d191e0f78c5a4c6fad6fc33822c33d16"
            }
          },
          "metadata": {}
        },
        {
          "output_type": "stream",
          "name": "stdout",
          "text": [
            "Epoch 1/5 - Train loss: 1.4959212128788326, Validation loss: 0.3986052333184008\n"
          ]
        },
        {
          "output_type": "display_data",
          "data": {
            "text/plain": [
              "Training loop:   0%|          | 0/239 [00:00<?, ?it/s]"
            ],
            "application/vnd.jupyter.widget-view+json": {
              "version_major": 2,
              "version_minor": 0,
              "model_id": "8e15db6c9cb845cfaecf08499cbea9e4"
            }
          },
          "metadata": {}
        },
        {
          "output_type": "display_data",
          "data": {
            "text/plain": [
              "Validation loop:   0%|          | 0/9 [00:00<?, ?it/s]"
            ],
            "application/vnd.jupyter.widget-view+json": {
              "version_major": 2,
              "version_minor": 0,
              "model_id": "9ff18b4729634218be930afc9b927b35"
            }
          },
          "metadata": {}
        },
        {
          "output_type": "stream",
          "name": "stdout",
          "text": [
            "Epoch 2/5 - Train loss: 0.5545420655110951, Validation loss: 0.23799581190325178\n"
          ]
        },
        {
          "output_type": "display_data",
          "data": {
            "text/plain": [
              "Training loop:   0%|          | 0/239 [00:00<?, ?it/s]"
            ],
            "application/vnd.jupyter.widget-view+json": {
              "version_major": 2,
              "version_minor": 0,
              "model_id": "9fb6a94502164fc1b6ab4ca56395fc91"
            }
          },
          "metadata": {}
        },
        {
          "output_type": "display_data",
          "data": {
            "text/plain": [
              "Validation loop:   0%|          | 0/9 [00:00<?, ?it/s]"
            ],
            "application/vnd.jupyter.widget-view+json": {
              "version_major": 2,
              "version_minor": 0,
              "model_id": "06e53ede373d41f1a33ac60aff1a657c"
            }
          },
          "metadata": {}
        },
        {
          "output_type": "stream",
          "name": "stdout",
          "text": [
            "Epoch 3/5 - Train loss: 0.3346327127339582, Validation loss: 0.18580778769727024\n"
          ]
        },
        {
          "output_type": "display_data",
          "data": {
            "text/plain": [
              "Training loop:   0%|          | 0/239 [00:00<?, ?it/s]"
            ],
            "application/vnd.jupyter.widget-view+json": {
              "version_major": 2,
              "version_minor": 0,
              "model_id": "41067b31ee8044ad99c17c36aa72f382"
            }
          },
          "metadata": {}
        },
        {
          "output_type": "display_data",
          "data": {
            "text/plain": [
              "Validation loop:   0%|          | 0/9 [00:00<?, ?it/s]"
            ],
            "application/vnd.jupyter.widget-view+json": {
              "version_major": 2,
              "version_minor": 0,
              "model_id": "1814c591882049d1b5a345288b447f85"
            }
          },
          "metadata": {}
        },
        {
          "output_type": "stream",
          "name": "stdout",
          "text": [
            "Epoch 4/5 - Train loss: 0.23723353262978986, Validation loss: 0.101950260040895\n"
          ]
        },
        {
          "output_type": "display_data",
          "data": {
            "text/plain": [
              "Training loop:   0%|          | 0/239 [00:00<?, ?it/s]"
            ],
            "application/vnd.jupyter.widget-view+json": {
              "version_major": 2,
              "version_minor": 0,
              "model_id": "05953df5e57b4512900e8669528165b2"
            }
          },
          "metadata": {}
        },
        {
          "output_type": "display_data",
          "data": {
            "text/plain": [
              "Validation loop:   0%|          | 0/9 [00:00<?, ?it/s]"
            ],
            "application/vnd.jupyter.widget-view+json": {
              "version_major": 2,
              "version_minor": 0,
              "model_id": "6a89f6f185104104911dd8722845e2da"
            }
          },
          "metadata": {}
        },
        {
          "output_type": "stream",
          "name": "stdout",
          "text": [
            "Epoch 5/5 - Train loss: 0.2060814830831253, Validation loss: 0.13359503231520922\n"
          ]
        }
      ]
    },
    {
      "cell_type": "markdown",
      "source": [
        "**Visualize Losses**               \n",
        "We can plot our training and validation loss through this training, usually we do this at the end of each epoch. We see that our accuracy on the validation dataset is x!  "
      ],
      "metadata": {
        "id": "fEjjyiNBftTP"
      }
    },
    {
      "cell_type": "code",
      "source": [
        "plt.plot(train_losses, label='Training loss')\n",
        "plt.plot(val_losses, label='Validation loss')\n",
        "plt.legend()\n",
        "plt.title(\"Loss over epochs\")\n",
        "plt.show()"
      ],
      "metadata": {
        "id": "x9ezJhupf7Nn",
        "outputId": "835c409b-5b22-425e-bbcd-dc69b921f6ad",
        "colab": {
          "base_uri": "https://localhost:8080/",
          "height": 452
        }
      },
      "execution_count": 36,
      "outputs": [
        {
          "output_type": "display_data",
          "data": {
            "text/plain": [
              "<Figure size 640x480 with 1 Axes>"
            ],
            "image/png": "[encoded data removed]"
          },
          "metadata": {}
        }
      ]
    },
    {
      "cell_type": "markdown",
      "source": [
        "### Example Walkthrough\n",
        "\n",
        "# Imagine you're teaching a student to solve math problems:\n",
        "\n",
        "1. **Epoch**: Each time the student completes all the problems in a workbook, that’s one epoch.\n",
        "2. **Steps**: Each problem solved in the workbook is a step.\n",
        "3. **Gradients**: After solving a problem, you see which parts they got wrong and give feedback on how to improve.\n",
        "4. **Weights**: The student’s method or understanding that you adjust based on feedback.\n",
        "5. **Loss**: The difference between the student’s answers and the correct answers.\n",
        "6. **`loss.backward()`**: Determines how to adjust the student’s study approach based on their mistakes.\n",
        "7. **Optimizer**: Implements the adjustments in the student’s study plan based on feedback.\n",
        "8. **`model.train()` and Dropout**: When training, sometimes you test the student with fewer resources to make them adaptable, which is similar to dropout.\n",
        "\n",
        "By repeating this process over multiple epochs, the model (or student) gradually improves its performance and becomes better at predicting or solving problems."
      ],
      "metadata": {
        "id": "g20hgzIHthKN"
      }
    },
    {
      "cell_type": "markdown",
      "source": [
        "TODO - Find the Accurancy"
      ],
      "metadata": {
        "id": "KtpROMkHhDAo"
      }
    },
    {
      "cell_type": "code",
      "source": [
        "test_load_everything = DataLoader(test_dataset, batch_size=265, shuffle=False) # load full test data ,sizeof test_data or len = 265"
      ],
      "metadata": {
        "id": "V1O4bwhdhHTf"
      },
      "execution_count": 39,
      "outputs": []
    },
    {
      "cell_type": "code",
      "source": [
        "with torch.no_grad():\n",
        "  correct = 0\n",
        "  for image, label in test_load_everything:\n",
        "    image, label = image.to(device), label.to(device)  # Ensure tensors are on the correct device\n",
        "    y_val = model(image)\n",
        "    predicted = torch.max(y_val.data, 1)[1]\n",
        "    correct += (predicted == label).sum()"
      ],
      "metadata": {
        "id": "A2YpzVwkiRX3"
      },
      "execution_count": 41,
      "outputs": []
    },
    {
      "cell_type": "code",
      "source": [
        "# Did for corrrect\n",
        "correct.item()/len(test_dataset)*100"
      ],
      "metadata": {
        "id": "WL4HWy0Bir8w",
        "outputId": "75712eb5-5726-48b6-940d-60efa57a3c51",
        "colab": {
          "base_uri": "https://localhost:8080/"
        }
      },
      "execution_count": 42,
      "outputs": [
        {
          "output_type": "execute_result",
          "data": {
            "text/plain": [
              "96.22641509433963"
            ]
          },
          "metadata": {},
          "execution_count": 42
        }
      ]
    },
    {
      "cell_type": "markdown",
      "source": [
        "**OR ACCURANCY MEASURE FUNCTION**"
      ],
      "metadata": {
        "id": "ok3TfqEpjPNO"
      }
    },
    {
      "cell_type": "code",
      "source": [
        "def calculate_accuracy(model, data_loader, device):\n",
        "    model.eval()\n",
        "    correct = 0\n",
        "    total = 0\n",
        "    with torch.no_grad():\n",
        "        for images, labels in data_loader:\n",
        "            images, labels = images.to(device), labels.to(device)\n",
        "            outputs = model(images)\n",
        "            _, predicted = torch.max(outputs.data, 1)\n",
        "            total += labels.size(0)\n",
        "            correct += (predicted == labels).sum().item()\n",
        "    return 100 * correct / total\n",
        "\n",
        "# After training, calculate accuracy on the test set\n",
        "\n",
        "test_accuracy = calculate_accuracy(model, test_loader, device)\n",
        "print(f\"Test Accuracy: {test_accuracy}%\")"
      ],
      "metadata": {
        "id": "boHcMFF8jMB3",
        "outputId": "44a7bf87-2ba1-4efa-cee0-80309f630881",
        "colab": {
          "base_uri": "https://localhost:8080/"
        }
      },
      "execution_count": 43,
      "outputs": [
        {
          "output_type": "stream",
          "name": "stdout",
          "text": [
            "Test Accuracy: 96.22641509433963%\n"
          ]
        }
      ]
    },
    {
      "cell_type": "markdown",
      "source": [
        "**Bonus: Evaluating the Results**"
      ],
      "metadata": {
        "id": "r5DJz0Pmj5u2"
      }
    },
    {
      "cell_type": "code",
      "source": [
        "import torch\n",
        "import torchvision.transforms as transforms\n",
        "from PIL import Image\n",
        "import matplotlib.pyplot as plt\n",
        "import numpy as np\n",
        "\n",
        "# Load and preprocess the image\n",
        "def preprocess_image(image_path, transform):\n",
        "    image = Image.open(image_path).convert(\"RGB\")\n",
        "    return image, transform(image).unsqueeze(0)\n",
        "\n",
        "# Predict using the model\n",
        "def predict(model, image_tensor, device):\n",
        "    model.eval()\n",
        "    with torch.no_grad():\n",
        "        image_tensor = image_tensor.to(device)\n",
        "        outputs = model(image_tensor)\n",
        "        probabilities = torch.nn.functional.softmax(outputs, dim=1)\n",
        "    return probabilities.cpu().numpy().flatten()\n",
        "\n",
        "# Visualization\n",
        "def visualize_predictions(original_image, probabilities, class_names):\n",
        "    fig, axarr = plt.subplots(1, 2, figsize=(14, 7))\n",
        "\n",
        "    # Display image\n",
        "    axarr[0].imshow(original_image)\n",
        "    axarr[0].axis(\"off\")\n",
        "\n",
        "    # Display predictions\n",
        "    axarr[1].barh(class_names, probabilities)\n",
        "    axarr[1].set_xlabel(\"Probability\")\n",
        "    axarr[1].set_title(\"Class Predictions\")\n",
        "    axarr[1].set_xlim(0, 1)\n",
        "\n",
        "    plt.tight_layout()\n",
        "    plt.show()\n",
        "\n",
        "# Example usage\n",
        "test_image = \"/content/playing_card_dataset/test/five of diamonds/2.jpg\"\n",
        "transform = transforms.Compose([\n",
        "    transforms.Resize((128, 128)),\n",
        "    transforms.ToTensor()\n",
        "])\n",
        "\n",
        "original_image, image_tensor = preprocess_image(test_image, transform)\n",
        "probabilities = predict(model, image_tensor, device)\n",
        "\n",
        "# Assuming dataset.classes gives the class names\n",
        "class_names = dataset.classes\n",
        "visualize_predictions(original_image, probabilities, class_names)"
      ],
      "metadata": {
        "id": "8F_rZWe6j3vX",
        "outputId": "5a6759df-c65c-4bdf-bdfb-ae24b863d248",
        "colab": {
          "base_uri": "https://localhost:8080/",
          "height": 569
        }
      },
      "execution_count": 44,
      "outputs": [
        {
          "output_type": "display_data",
          "data": {
            "text/plain": [
              "<Figure size 1400x700 with 2 Axes>"
            ],
            "image/png": "[encoded data removed]"
          },
          "metadata": {}
        }
      ]
    },
    {
      "cell_type": "markdown",
      "source": [
        "### 1. **Epoch**\n",
        "\n",
        "- **What is an Epoch?**  \n",
        "  Think of an epoch like a complete round of training on your entire dataset. If you have a dataset of 1000 images and you train your model for 1 epoch, it means the model has seen all 1000 images once.\n",
        "\n",
        "- **Why Multiple Epochs?**  \n",
        "  One pass (epoch) through the data is usually not enough for the model to learn effectively. Multiple epochs mean the model sees the data several times, which helps it learn better and improve performance.\n",
        "\n",
        "### 2. **Steps**\n",
        "\n",
        "- **What is a Step?**  \n",
        "  A step corresponds to a single update of the model's parameters. During each step, you process a batch of data, compute the loss, calculate gradients, and then update the model’s weights.\n",
        "\n",
        "- **Example**:  \n",
        "  Suppose you have a dataset of 1000 images and you divide this into batches of 100 images. For each batch, the model will go through one step. If you train for 1 epoch, you’ll have 10 steps (1000 images / 100 images per batch).\n",
        "\n",
        "### 3. **Gradients**\n",
        "\n",
        "- **What are Gradients?**  \n",
        "  Gradients are a measure of how much a model's parameters (weights) should change to reduce the loss. They tell the optimizer in which direction to adjust the weights to make the model better at predicting.\n",
        "\n",
        "- **Example**:  \n",
        "  Imagine you’re at the top of a hill (high loss) and you want to go down to a valley (low loss). The gradient tells you which direction to walk to descend the hill. In the context of machine learning, gradients guide how the model’s weights should be adjusted to reduce the error in predictions.\n",
        "\n",
        "### 4. **Weights and Parameters**\n",
        "\n",
        "- **Weights and Parameters**:  \n",
        "  Weights are the parameters of the model that are adjusted during training. They determine how input data is transformed into predictions.\n",
        "\n",
        "- **Example**:  \n",
        "  In a simple linear model, weights determine how much influence each feature (input) has on the output prediction. If you have a model predicting house prices, weights might represent how much size or location influences the price.\n",
        "\n",
        "### 5. **Loss Calculation**\n",
        "\n",
        "- **What is Loss?**  \n",
        "  Loss is a measure of how far the model’s predictions are from the actual values. Lower loss means better performance.\n",
        "\n",
        "- **Loss Calculation and `loss.backward()`:**  \n",
        "  - **`loss.backward()`**: This computes the gradients of the loss function with respect to the model parameters. It’s like figuring out how to adjust the model’s weights to improve its predictions.\n",
        "  - **Does it Update the Model?**: No, `loss.backward()` doesn’t update the model. It calculates how the weights should be updated. The actual update happens with `optimizer.step()`.\n",
        "\n",
        "### 6. **Optimizer**\n",
        "\n",
        "- **What is an Optimizer?**  \n",
        "  An optimizer adjusts the model’s weights based on the gradients computed by `loss.backward()`.\n",
        "\n",
        "- **Example**:  \n",
        "  If the gradient suggests that increasing a weight will decrease the loss, the optimizer will adjust the weight in that direction.\n",
        "\n",
        "### 7. **`model.train()` and Dropout**\n",
        "\n",
        "- **`model.train()`**:  \n",
        "  This sets the model to training mode, enabling features like dropout, which are useful only during training.\n",
        "\n",
        "- **What is Dropout?**  \n",
        "  Dropout is a technique to prevent overfitting by randomly setting a fraction of input units to zero during training. This helps the model to not rely too much on any single feature and improves its generalization to new data.\n",
        "\n",
        "- **Example**:  \n",
        "  Imagine you’re training a student who knows all the answers to a test. If you make them solve problems with some questions hidden, they’ll learn better and become more adaptable. Dropout works similarly by hiding some neurons during training.\n",
        "\n",
        "### Putting It All Together\n",
        "\n",
        "1. **Epoch**: One complete run through the entire training dataset.\n",
        "2. **Steps**: Individual updates of the model's parameters during training, one per batch of data.\n",
        "3. **Gradients**: Values that tell us how to adjust the model’s weights to reduce the error.\n",
        "4. **Weights/Parameters**: The model’s adjustable settings that influence how it makes predictions.\n",
        "5. **Loss Calculation**: Measures how far off the model’s predictions are from the actual values.\n",
        "6. **`loss.backward()`**: Computes the necessary gradients to update the model's weights.\n",
        "7. **Optimizer**: Updates the model’s weights using the gradients computed.\n",
        "8. **`model.train()` and Dropout**: Prepares the model for training by enabling dropout, which helps prevent overfitting.\n"
      ],
      "metadata": {
        "id": "IQZOeHiqtX20"
      }
    }
  ]
}