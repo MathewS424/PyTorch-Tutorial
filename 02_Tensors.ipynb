{
  "nbformat": 4,
  "nbformat_minor": 0,
  "metadata": {
    "colab": {
      "provenance": [],
      "authorship_tag": "ABX9TyMDYW8KE5SG6haBFgRvKKKb",
      "include_colab_link": true
    },
    "kernelspec": {
      "name": "python3",
      "display_name": "Python 3"
    },
    "language_info": {
      "name": "python"
    }
  },
  "cells": [
    {
      "cell_type": "markdown",
      "metadata": {
        "id": "view-in-github",
        "colab_type": "text"
      },
      "source": [
        "<a href=\"https://colab.research.google.com/github/MathewS424/PyTorch-Tutorial/blob/main/02_Tensors.ipynb\" target=\"_parent\"><img src=\"https://colab.research.google.com/assets/colab-badge.svg\" alt=\"Open In Colab\"/></a>"
      ]
    },
    {
      "cell_type": "code",
      "execution_count": 1,
      "metadata": {
        "id": "8HfaYd7kGA2P"
      },
      "outputs": [],
      "source": [
        "import torch\n",
        "import numpy as np"
      ]
    },
    {
      "cell_type": "code",
      "source": [
        "my_list = [[1, 2, 3]]\n",
        "my_list"
      ],
      "metadata": {
        "colab": {
          "base_uri": "https://localhost:8080/"
        },
        "id": "C1Pl81w1GK0W",
        "outputId": "7a04de36-2101-4d22-8fbf-962e965a782a"
      },
      "execution_count": 2,
      "outputs": [
        {
          "output_type": "execute_result",
          "data": {
            "text/plain": [
              "[[1, 2, 3]]"
            ]
          },
          "metadata": {},
          "execution_count": 2
        }
      ]
    },
    {
      "cell_type": "code",
      "source": [
        "np1 = np.random.rand(3, 4)\n",
        "np1"
      ],
      "metadata": {
        "colab": {
          "base_uri": "https://localhost:8080/"
        },
        "id": "RyIpQ2IcGp_N",
        "outputId": "a9a356c3-cb8e-4164-94b3-2daf83f6c204"
      },
      "execution_count": 3,
      "outputs": [
        {
          "output_type": "execute_result",
          "data": {
            "text/plain": [
              "array([[0.11815363, 0.37201638, 0.97357544, 0.26415725],\n",
              "       [0.29174346, 0.84214303, 0.73850436, 0.59533981],\n",
              "       [0.32708227, 0.96305272, 0.95703219, 0.84614213]])"
            ]
          },
          "metadata": {},
          "execution_count": 3
        }
      ]
    },
    {
      "cell_type": "code",
      "source": [
        "np1.dtype"
      ],
      "metadata": {
        "colab": {
          "base_uri": "https://localhost:8080/"
        },
        "id": "O8008eh_GyQ9",
        "outputId": "f528dc6c-daf3-4159-c696-be778251794e"
      },
      "execution_count": 4,
      "outputs": [
        {
          "output_type": "execute_result",
          "data": {
            "text/plain": [
              "dtype('float64')"
            ]
          },
          "metadata": {},
          "execution_count": 4
        }
      ]
    },
    {
      "cell_type": "code",
      "source": [
        "tensor_2d = torch.randn(3, 4)\n",
        "tensor_2d"
      ],
      "metadata": {
        "colab": {
          "base_uri": "https://localhost:8080/"
        },
        "id": "s4c3XJUvG3sN",
        "outputId": "7d1ec816-5f66-4bad-b8d4-2047d7ca090c"
      },
      "execution_count": 5,
      "outputs": [
        {
          "output_type": "execute_result",
          "data": {
            "text/plain": [
              "tensor([[ 1.8413,  0.3929, -1.2807,  0.8641],\n",
              "        [ 0.6080, -0.7437,  1.0197, -0.4588],\n",
              "        [-0.6753,  1.9816,  0.9719,  0.5741]])"
            ]
          },
          "metadata": {},
          "execution_count": 5
        }
      ]
    },
    {
      "cell_type": "code",
      "source": [
        "tensor_3d = torch.zeros(3, 4)\n",
        "tensor_3d"
      ],
      "metadata": {
        "colab": {
          "base_uri": "https://localhost:8080/"
        },
        "id": "5IiQYCbKHC6E",
        "outputId": "55a23053-6e1a-4381-8070-730e4e2d47c0"
      },
      "execution_count": 6,
      "outputs": [
        {
          "output_type": "execute_result",
          "data": {
            "text/plain": [
              "tensor([[0., 0., 0., 0.],\n",
              "        [0., 0., 0., 0.],\n",
              "        [0., 0., 0., 0.]])"
            ]
          },
          "metadata": {},
          "execution_count": 6
        }
      ]
    },
    {
      "cell_type": "code",
      "source": [
        "# Create tensor from numpy\n",
        "tensor_from_numpy = torch.tensor(np1)\n",
        "print(tensor_from_numpy)\n",
        "tensor_from_numpy2 = torch.from_numpy(np1)\n",
        "tensor_from_numpy2"
      ],
      "metadata": {
        "colab": {
          "base_uri": "https://localhost:8080/"
        },
        "id": "yow6qj5fHqeU",
        "outputId": "eafb0d2f-ad2c-4a0c-f55f-6713ca502ab5"
      },
      "execution_count": 7,
      "outputs": [
        {
          "output_type": "stream",
          "name": "stdout",
          "text": [
            "tensor([[0.1182, 0.3720, 0.9736, 0.2642],\n",
            "        [0.2917, 0.8421, 0.7385, 0.5953],\n",
            "        [0.3271, 0.9631, 0.9570, 0.8461]], dtype=torch.float64)\n"
          ]
        },
        {
          "output_type": "execute_result",
          "data": {
            "text/plain": [
              "tensor([[0.1182, 0.3720, 0.9736, 0.2642],\n",
              "        [0.2917, 0.8421, 0.7385, 0.5953],\n",
              "        [0.3271, 0.9631, 0.9570, 0.8461]], dtype=torch.float64)"
            ]
          },
          "metadata": {},
          "execution_count": 7
        }
      ]
    }
  ]
}