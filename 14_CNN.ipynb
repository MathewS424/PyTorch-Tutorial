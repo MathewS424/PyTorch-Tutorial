{
  "nbformat": 4,
  "nbformat_minor": 0,
  "metadata": {
    "colab": {
      "provenance": [],
      "authorship_tag": "ABX9TyOV1AhUwT/1tush2r8ja2Q/",
      "include_colab_link": true
    },
    "kernelspec": {
      "name": "python3",
      "display_name": "Python 3"
    },
    "language_info": {
      "name": "python"
    }
  },
  "cells": [
    {
      "cell_type": "markdown",
      "metadata": {
        "id": "view-in-github",
        "colab_type": "text"
      },
      "source": [
        "<a href=\"https://colab.research.google.com/github/MathewS424/PyTorch-Tutorial/blob/main/14_CNN.ipynb\" target=\"_parent\"><img src=\"https://colab.research.google.com/assets/colab-badge.svg\" alt=\"Open In Colab\"/></a>"
      ]
    },
    {
      "cell_type": "markdown",
      "source": [
        "**IMPORT MNIST IMAGES - VIDEO 14**"
      ],
      "metadata": {
        "id": "qKsV6QWt3v0A"
      }
    },
    {
      "cell_type": "code",
      "source": [
        "import torch\n",
        "import torch.nn as nn\n",
        "import torch.nn.functional as F\n",
        "from torch.utils.data import DataLoader\n",
        "from torchvision import datasets, transforms\n",
        "from torchvision.utils import make_grid\n",
        "\n",
        "import numpy as np\n",
        "import pandas as pd\n",
        "from sklearn.metrics import confusion_matrix\n",
        "import matplotlib.pyplot as plt\n",
        "%matplotlib inline"
      ],
      "metadata": {
        "id": "u5XelT-x34mv"
      },
      "execution_count": 37,
      "outputs": []
    },
    {
      "cell_type": "code",
      "source": [
        "# Convert MNIST IMAGE Files into a Tensor of 4 -Dimensions(no.of images, height, width, Colorr channel)\n",
        "transform = transforms.ToTensor()"
      ],
      "metadata": {
        "id": "pE0m8TBh4svA"
      },
      "execution_count": 38,
      "outputs": []
    },
    {
      "cell_type": "code",
      "source": [
        "# Train Data\n",
        "train_data = datasets.MNIST(root='/cnn_data', train=True, download=True, transform=transform)"
      ],
      "metadata": {
        "id": "T01SBE2X5cmo"
      },
      "execution_count": 39,
      "outputs": []
    },
    {
      "cell_type": "code",
      "source": [
        "# Test Data\n",
        "test_data = datasets.MNIST(root='/cnn_data', train=False, download=True, transform=transform)"
      ],
      "metadata": {
        "id": "6Wxic42457Yv"
      },
      "execution_count": 40,
      "outputs": []
    },
    {
      "cell_type": "code",
      "source": [
        "train_data"
      ],
      "metadata": {
        "colab": {
          "base_uri": "https://localhost:8080/"
        },
        "id": "dephvVV26Ms_",
        "outputId": "d43cc264-e044-4a51-aad4-60b8f1f97321"
      },
      "execution_count": 41,
      "outputs": [
        {
          "output_type": "execute_result",
          "data": {
            "text/plain": [
              "Dataset MNIST\n",
              "    Number of datapoints: 60000\n",
              "    Root location: /cnn_data\n",
              "    Split: Train\n",
              "    StandardTransform\n",
              "Transform: ToTensor()"
            ]
          },
          "metadata": {},
          "execution_count": 41
        }
      ]
    },
    {
      "cell_type": "code",
      "source": [
        "test_data"
      ],
      "metadata": {
        "colab": {
          "base_uri": "https://localhost:8080/"
        },
        "id": "B21k1eSn6QNn",
        "outputId": "ad00f7f3-0e1a-4663-c84a-1e49307dd263"
      },
      "execution_count": 42,
      "outputs": [
        {
          "output_type": "execute_result",
          "data": {
            "text/plain": [
              "Dataset MNIST\n",
              "    Number of datapoints: 10000\n",
              "    Root location: /cnn_data\n",
              "    Split: Test\n",
              "    StandardTransform\n",
              "Transform: ToTensor()"
            ]
          },
          "metadata": {},
          "execution_count": 42
        }
      ]
    },
    {
      "cell_type": "code",
      "source": [
        "pwd"
      ],
      "metadata": {
        "colab": {
          "base_uri": "https://localhost:8080/",
          "height": 36
        },
        "id": "TXflMurn6Pe3",
        "outputId": "0831feb5-a2f4-4a94-9a35-b4476c8868fa"
      },
      "execution_count": 43,
      "outputs": [
        {
          "output_type": "execute_result",
          "data": {
            "text/plain": [
              "'/content'"
            ],
            "application/vnd.google.colaboratory.intrinsic+json": {
              "type": "string"
            }
          },
          "metadata": {},
          "execution_count": 43
        }
      ]
    },
    {
      "cell_type": "code",
      "source": [
        "ls"
      ],
      "metadata": {
        "colab": {
          "base_uri": "https://localhost:8080/"
        },
        "id": "wcxTQ09N6grv",
        "outputId": "43b75593-cbf8-4e81-a9a5-0f70dc935920"
      },
      "execution_count": 44,
      "outputs": [
        {
          "output_type": "stream",
          "name": "stdout",
          "text": [
            "\u001b[0m\u001b[01;34msample_data\u001b[0m/\n"
          ]
        }
      ]
    },
    {
      "cell_type": "code",
      "source": [
        "cd ../"
      ],
      "metadata": {
        "colab": {
          "base_uri": "https://localhost:8080/"
        },
        "id": "yHEjdA_56iw3",
        "outputId": "fb0efb9f-17a1-4701-d2ec-bdd0be4bce3f"
      },
      "execution_count": 45,
      "outputs": [
        {
          "output_type": "stream",
          "name": "stdout",
          "text": [
            "/\n"
          ]
        }
      ]
    },
    {
      "cell_type": "code",
      "source": [
        "pwd"
      ],
      "metadata": {
        "colab": {
          "base_uri": "https://localhost:8080/",
          "height": 36
        },
        "id": "wiy5soFk6lDH",
        "outputId": "26ad2045-043e-4d87-c074-a942f1ebfe4c"
      },
      "execution_count": 46,
      "outputs": [
        {
          "output_type": "execute_result",
          "data": {
            "text/plain": [
              "'/'"
            ],
            "application/vnd.google.colaboratory.intrinsic+json": {
              "type": "string"
            }
          },
          "metadata": {},
          "execution_count": 46
        }
      ]
    },
    {
      "cell_type": "code",
      "source": [
        "ls"
      ],
      "metadata": {
        "colab": {
          "base_uri": "https://localhost:8080/"
        },
        "id": "zicgC3di6oLf",
        "outputId": "69872751-c716-4a96-da46-e9d0dbe016af"
      },
      "execution_count": 47,
      "outputs": [
        {
          "output_type": "stream",
          "name": "stdout",
          "text": [
            "\u001b[0m\u001b[01;36mbin\u001b[0m@       cuda-keyring_1.0-1_all.deb  \u001b[01;34mhome\u001b[0m/   \u001b[01;36mlibx32\u001b[0m@                   \u001b[01;34mopt\u001b[0m/         \u001b[01;34mrun\u001b[0m/   \u001b[30;42mtmp\u001b[0m/\n",
            "\u001b[01;34mboot\u001b[0m/      \u001b[01;34mdatalab\u001b[0m/                    \u001b[01;36mlib\u001b[0m@    \u001b[01;34mmedia\u001b[0m/                    \u001b[01;34mproc\u001b[0m/        \u001b[01;36msbin\u001b[0m@  \u001b[01;34mtools\u001b[0m/\n",
            "\u001b[01;34mcnn_data\u001b[0m/  \u001b[01;34mdev\u001b[0m/                        \u001b[01;36mlib32\u001b[0m@  \u001b[01;34mmnt\u001b[0m/                      \u001b[01;34mpython-apt\u001b[0m/  \u001b[01;34msrv\u001b[0m/   \u001b[01;34musr\u001b[0m/\n",
            "\u001b[01;34mcontent\u001b[0m/   \u001b[01;34metc\u001b[0m/                        \u001b[01;36mlib64\u001b[0m@  NGC-DL-CONTAINER-LICENSE  \u001b[01;34mroot\u001b[0m/        \u001b[01;34msys\u001b[0m/   \u001b[01;34mvar\u001b[0m/\n"
          ]
        }
      ]
    },
    {
      "cell_type": "code",
      "source": [
        "cd cnn_data"
      ],
      "metadata": {
        "colab": {
          "base_uri": "https://localhost:8080/"
        },
        "id": "SHZBiso16tUP",
        "outputId": "2c00cec1-a8d1-4cb7-aacb-8c2481f4dc29"
      },
      "execution_count": 48,
      "outputs": [
        {
          "output_type": "stream",
          "name": "stdout",
          "text": [
            "/cnn_data\n"
          ]
        }
      ]
    },
    {
      "cell_type": "code",
      "source": [
        "ls"
      ],
      "metadata": {
        "colab": {
          "base_uri": "https://localhost:8080/"
        },
        "id": "FuqtwtwB60Cv",
        "outputId": "a35db7d0-0a09-4bf4-99e7-c5bd71d5be3c"
      },
      "execution_count": 49,
      "outputs": [
        {
          "output_type": "stream",
          "name": "stdout",
          "text": [
            "\u001b[0m\u001b[01;34mMNIST\u001b[0m/\n"
          ]
        }
      ]
    },
    {
      "cell_type": "code",
      "source": [
        "cd ../"
      ],
      "metadata": {
        "colab": {
          "base_uri": "https://localhost:8080/"
        },
        "id": "61tRNub866aP",
        "outputId": "d018f843-5aed-404d-d4f2-df60af08869e"
      },
      "execution_count": 50,
      "outputs": [
        {
          "output_type": "stream",
          "name": "stdout",
          "text": [
            "/\n"
          ]
        }
      ]
    },
    {
      "cell_type": "code",
      "source": [
        "ls"
      ],
      "metadata": {
        "colab": {
          "base_uri": "https://localhost:8080/"
        },
        "id": "QAn96zNr681-",
        "outputId": "edd47d27-c0bf-490f-bb1d-6497eb7c8da7"
      },
      "execution_count": 51,
      "outputs": [
        {
          "output_type": "stream",
          "name": "stdout",
          "text": [
            "\u001b[0m\u001b[01;36mbin\u001b[0m@       cuda-keyring_1.0-1_all.deb  \u001b[01;34mhome\u001b[0m/   \u001b[01;36mlibx32\u001b[0m@                   \u001b[01;34mopt\u001b[0m/         \u001b[01;34mrun\u001b[0m/   \u001b[30;42mtmp\u001b[0m/\n",
            "\u001b[01;34mboot\u001b[0m/      \u001b[01;34mdatalab\u001b[0m/                    \u001b[01;36mlib\u001b[0m@    \u001b[01;34mmedia\u001b[0m/                    \u001b[01;34mproc\u001b[0m/        \u001b[01;36msbin\u001b[0m@  \u001b[01;34mtools\u001b[0m/\n",
            "\u001b[01;34mcnn_data\u001b[0m/  \u001b[01;34mdev\u001b[0m/                        \u001b[01;36mlib32\u001b[0m@  \u001b[01;34mmnt\u001b[0m/                      \u001b[01;34mpython-apt\u001b[0m/  \u001b[01;34msrv\u001b[0m/   \u001b[01;34musr\u001b[0m/\n",
            "\u001b[01;34mcontent\u001b[0m/   \u001b[01;34metc\u001b[0m/                        \u001b[01;36mlib64\u001b[0m@  NGC-DL-CONTAINER-LICENSE  \u001b[01;34mroot\u001b[0m/        \u001b[01;34msys\u001b[0m/   \u001b[01;34mvar\u001b[0m/\n"
          ]
        }
      ]
    },
    {
      "cell_type": "code",
      "source": [
        "cd content/"
      ],
      "metadata": {
        "colab": {
          "base_uri": "https://localhost:8080/"
        },
        "id": "7pwmr7Zi6-_u",
        "outputId": "b828e2a4-fffe-49f2-9790-34bd48153fd4"
      },
      "execution_count": 52,
      "outputs": [
        {
          "output_type": "stream",
          "name": "stdout",
          "text": [
            "/content\n"
          ]
        }
      ]
    },
    {
      "cell_type": "code",
      "source": [
        "pwd"
      ],
      "metadata": {
        "colab": {
          "base_uri": "https://localhost:8080/",
          "height": 36
        },
        "id": "INicl3OK7CHG",
        "outputId": "27ae2b70-28b8-4994-8709-5beda4b8939a"
      },
      "execution_count": 53,
      "outputs": [
        {
          "output_type": "execute_result",
          "data": {
            "text/plain": [
              "'/content'"
            ],
            "application/vnd.google.colaboratory.intrinsic+json": {
              "type": "string"
            }
          },
          "metadata": {},
          "execution_count": 53
        }
      ]
    },
    {
      "cell_type": "markdown",
      "source": [
        "**CONVOLUTIONAL AND POOLING LAYERS - VIDEO 15**"
      ],
      "metadata": {
        "id": "_QzG9_VUAHlm"
      }
    },
    {
      "cell_type": "code",
      "source": [
        "# Create a small batch size for images ..that is 10\n",
        "train_loader = DataLoader(train_data, batch_size=10, shuffle=True)\n",
        "test_loader = DataLoader(test_data, batch_size=10, shuffle=False)"
      ],
      "metadata": {
        "id": "AS5ijlEiAPPW"
      },
      "execution_count": 54,
      "outputs": []
    },
    {
      "cell_type": "code",
      "source": [
        "# Define Our CNN Model\n",
        "# Describe convolutional layer and what  its doing (2 convolutional layers)\n",
        "# This is just am example in the next video we'll build out the actual model\n",
        "conv1 = nn.Conv2d(1, 6, 3, 1)\n",
        "conv2 =  nn.Conv2d(6, 16, 3, 1)  # we have not set padding parameters so the images becomes 26 X 26 it was 28 x 28 .\n",
        "# becaues the boundry of the MINIST images are unusefull so its skipped the data of that boundry part and become 26x26(check output of In [26]:x.shape)\n",
        "# Check Video -15 08:40"
      ],
      "metadata": {
        "id": "5aqTMrfMA84e"
      },
      "execution_count": 55,
      "outputs": []
    },
    {
      "cell_type": "code",
      "source": [
        "# Grab 1 MNIST RECORD/IMAGE\n",
        "for i, (X_train, y_train) in enumerate(train_data):\n",
        "  break"
      ],
      "metadata": {
        "id": "ynHO4tZBJ3P6"
      },
      "execution_count": 56,
      "outputs": []
    },
    {
      "cell_type": "code",
      "source": [
        "X_train.shape"
      ],
      "metadata": {
        "id": "UIs_RL3VKNSa",
        "outputId": "2529e980-a9f4-473b-d0be-01a6a0435221",
        "colab": {
          "base_uri": "https://localhost:8080/"
        }
      },
      "execution_count": 57,
      "outputs": [
        {
          "output_type": "execute_result",
          "data": {
            "text/plain": [
              "torch.Size([1, 28, 28])"
            ]
          },
          "metadata": {},
          "execution_count": 57
        }
      ]
    },
    {
      "cell_type": "code",
      "source": [
        "x = X_train.view(1, 1, 28, 28)"
      ],
      "metadata": {
        "id": "xf1H9iK-KiJr"
      },
      "execution_count": 58,
      "outputs": []
    },
    {
      "cell_type": "code",
      "source": [
        "# Perform our first convolution\n",
        "x = F.relu(conv1(x)) # Rectified Linear Unit for our activation function"
      ],
      "metadata": {
        "id": "u4EvjNBkKloT"
      },
      "execution_count": 59,
      "outputs": []
    },
    {
      "cell_type": "code",
      "source": [
        "# 1 images, 6 is the filter\n",
        "x.shape   # How it becomes 26 x 26 anser is in In[20] or # Check Video -15 08:40"
      ],
      "metadata": {
        "id": "Kh65Q51HLEob",
        "outputId": "93bf76f8-bea9-4c95-afab-5a760b6ad5a3",
        "colab": {
          "base_uri": "https://localhost:8080/"
        }
      },
      "execution_count": 60,
      "outputs": [
        {
          "output_type": "execute_result",
          "data": {
            "text/plain": [
              "torch.Size([1, 6, 26, 26])"
            ]
          },
          "metadata": {},
          "execution_count": 60
        }
      ]
    },
    {
      "cell_type": "code",
      "source": [
        "# pass through the pooling layer\n",
        "x = F.max_pool2d(x, 2, 2) #kernel of 2 and stride of 2"
      ],
      "metadata": {
        "id": "mFUdtcxUMoBL"
      },
      "execution_count": 61,
      "outputs": []
    },
    {
      "cell_type": "code",
      "source": [
        "x.shape  # 26 / 2 = 13"
      ],
      "metadata": {
        "id": "6s934VB6NA8S",
        "outputId": "d1066117-4114-4e57-db43-aebe2047925a",
        "colab": {
          "base_uri": "https://localhost:8080/"
        }
      },
      "execution_count": 62,
      "outputs": [
        {
          "output_type": "execute_result",
          "data": {
            "text/plain": [
              "torch.Size([1, 6, 13, 13])"
            ]
          },
          "metadata": {},
          "execution_count": 62
        }
      ]
    },
    {
      "cell_type": "code",
      "source": [
        "# Do our second Convolution\n",
        "x = F.relu(conv2(x))"
      ],
      "metadata": {
        "id": "Mg-JFw8MNO4C"
      },
      "execution_count": 63,
      "outputs": []
    },
    {
      "cell_type": "code",
      "source": [
        "x.shape  #  we did not set any padding in conv2 so the img pixel was 13 x 13 reduce 2 becomes 11 x 11\n",
        "# (reduced around outside of the images)"
      ],
      "metadata": {
        "id": "zzvNAMfwNgix",
        "outputId": "65cf250b-f47c-4d32-d914-e7aca4fc9940",
        "colab": {
          "base_uri": "https://localhost:8080/"
        }
      },
      "execution_count": 64,
      "outputs": [
        {
          "output_type": "execute_result",
          "data": {
            "text/plain": [
              "torch.Size([1, 16, 11, 11])"
            ]
          },
          "metadata": {},
          "execution_count": 64
        }
      ]
    },
    {
      "cell_type": "code",
      "source": [
        "# Do another pooling layer\n",
        "x = F.max_pool2d(x, 2, 2)  #kernel of 2 and stride of 2"
      ],
      "metadata": {
        "id": "EumfmlClN6GC"
      },
      "execution_count": 65,
      "outputs": []
    },
    {
      "cell_type": "code",
      "source": [
        "x.shape  # 11 / 2 = 5.5 but we have to round down, because you can't invent data to round up"
      ],
      "metadata": {
        "id": "KfgUMDR4OEXb",
        "outputId": "236e90f6-dea0-4023-ebbf-bacd4ad266c1",
        "colab": {
          "base_uri": "https://localhost:8080/"
        }
      },
      "execution_count": 66,
      "outputs": [
        {
          "output_type": "execute_result",
          "data": {
            "text/plain": [
              "torch.Size([1, 16, 5, 5])"
            ]
          },
          "metadata": {},
          "execution_count": 66
        }
      ]
    },
    {
      "cell_type": "code",
      "source": [
        "((28-2) / 2 -2) / 2  # order of reducing images from convolutional layer ,pooling layer to 5.5 pixel from 28 pixel initially"
      ],
      "metadata": {
        "id": "LOZVI3P3OpKL",
        "outputId": "540c2875-0976-49b7-cfe7-57c324b86ec4",
        "colab": {
          "base_uri": "https://localhost:8080/"
        }
      },
      "execution_count": 67,
      "outputs": [
        {
          "output_type": "execute_result",
          "data": {
            "text/plain": [
              "5.5"
            ]
          },
          "metadata": {},
          "execution_count": 67
        }
      ]
    },
    {
      "cell_type": "markdown",
      "source": [
        "**CONVOLUTIONAL NEURAL NETWOORK MODEL -VIDEO - 16**"
      ],
      "metadata": {
        "id": "9TkTAC_RQWcK"
      }
    },
    {
      "cell_type": "code",
      "source": [
        "# Model class - above code together\n",
        "class ConvolutionalNetwork(nn.Module):\n",
        "\n",
        "  def __init__(self):\n",
        "    super().__init__()\n",
        "    # 1st convolutional layer\n",
        "    self.conv1 = nn.Conv2d(1, 6, 3, 1)\n",
        "    # 2nd convolutional layer\n",
        "    self.conv2 = nn.Conv2d(6, 16, 3, 1)\n",
        "\n",
        "    # Fully connected Layer after Conv ,pooling layers its fully connected layer check image of CNN\n",
        "    self.fc1 = nn.Linear(5*5*16, 120)  # 120,84,10 are randoms\n",
        "    self.fc2 = nn.Linear(120, 84)\n",
        "    self.fc3 = nn.Linear(84, 10)\n",
        "\n",
        "  def forward(self, X):\n",
        "    X = F.relu(self.conv1(X))\n",
        "    X = F.max_pool2d(X, 2, 2)  # 2x2 kernel and stride of 2\n",
        "    # Second pass\n",
        "    X = F.relu(self.conv2(X))\n",
        "    X = F.max_pool2d(X, 2, 2)\n",
        "\n",
        "    # Re-View to flattten it out\n",
        "    X = X.view(-1, 5*5*16)  # -1 SO THAT WE CAN VARY THE BATCH SIZE\n",
        "\n",
        "    # Fully Connected Layers\n",
        "    X = F.relu(self.fc1(X))\n",
        "    X = F.relu(self.fc2(X))\n",
        "    x = self.fc3(X)\n",
        "\n",
        "    return F.log_softmax(X, dim=1)"
      ],
      "metadata": {
        "id": "jrVWM47fQfmw"
      },
      "execution_count": 68,
      "outputs": []
    },
    {
      "cell_type": "code",
      "source": [
        "# Create an Instance of  our model\n",
        "torch.manual_seed(41)\n",
        "model = ConvolutionalNetwork()\n",
        "model"
      ],
      "metadata": {
        "id": "sx0OO7RJT6b5",
        "outputId": "26d6b1b2-9f17-424b-e495-3fb934e1b44e",
        "colab": {
          "base_uri": "https://localhost:8080/"
        }
      },
      "execution_count": 69,
      "outputs": [
        {
          "output_type": "execute_result",
          "data": {
            "text/plain": [
              "ConvolutionalNetwork(\n",
              "  (conv1): Conv2d(1, 6, kernel_size=(3, 3), stride=(1, 1))\n",
              "  (conv2): Conv2d(6, 16, kernel_size=(3, 3), stride=(1, 1))\n",
              "  (fc1): Linear(in_features=400, out_features=120, bias=True)\n",
              "  (fc2): Linear(in_features=120, out_features=84, bias=True)\n",
              "  (fc3): Linear(in_features=84, out_features=10, bias=True)\n",
              ")"
            ]
          },
          "metadata": {},
          "execution_count": 69
        }
      ]
    },
    {
      "cell_type": "code",
      "source": [
        "# Loss Function Optimizer\n",
        "criterion = nn.CrossEntropyLoss()\n",
        "optimizer = torch.optim.Adam(model.parameters(), lr=0.001)  # learning rate of 0.01 smaller lr ,longer its gonna take to train"
      ],
      "metadata": {
        "id": "pZSO92-wUmb5"
      },
      "execution_count": 70,
      "outputs": []
    },
    {
      "cell_type": "markdown",
      "source": [
        "**### Detailed Explanation of the Code Lines**\n",
        "\n",
        "I'll explain each part of the code as if you're learning it for the first time, with a focus on what each line does, why certain parameters are used, and how the numbers fit into the overall picture.\n",
        "\n",
        "#### [3] Convert MNIST IMAGE Files into a Tensor of 4-Dimensions\n",
        "\n",
        "```python\n",
        "transform = transforms.ToTensor()\n",
        "```\n",
        "\n",
        "- **What it does:** This line of code converts images into a tensor, which is a multi-dimensional array that PyTorch can process.\n",
        "- **Why it's used:** The MNIST dataset images are originally in PIL format (Python Imaging Library), and we need to convert them into tensors so they can be used in deep learning models. Tensors allow the model to perform mathematical operations on the data.\n",
        "- **4-Dimensions:** When we convert an image to a tensor, it becomes a 4D tensor of shape `(number of images, channels, height, width)`. For grayscale images like MNIST, the number of channels is 1.\n",
        "\n",
        "#### [4] Train Data\n",
        "\n",
        "```python\n",
        "train_data = datasets.MNIST(root='/cnn_data', train=True, download=True, transform=transform)\n",
        "```\n",
        "\n",
        "- **What it does:** This line downloads the MNIST dataset and prepares it for training.\n",
        "- **Parameters:**\n",
        "  - `root='/cnn_data'`: Specifies the directory where the dataset will be stored.\n",
        "  - `train=True`: Indicates that we are downloading the training set.\n",
        "  - `download=True`: If the dataset isn't already in the specified directory, it will be downloaded.\n",
        "  - `transform=transform`: Applies the transformation (conversion to tensor) to each image in the dataset.\n",
        "  \n",
        "#### [5] Test Data\n",
        "\n",
        "```python\n",
        "test_data = datasets.MNIST(root='/cnn_data', train=False, download=True, transform=transform)\n",
        "```\n",
        "\n",
        "- **What it does:** Similar to the training data, but this line downloads the test set.\n",
        "- **Parameters:**\n",
        "  - `train=False`: This specifies that we are downloading the test set.\n",
        "\n",
        "#### [19] Create Data Loaders\n",
        "\n",
        "```python\n",
        "train_loader = DataLoader(train_data, batch_size=10, shuffle=True)\n",
        "test_loader = DataLoader(test_data, batch_size=10, shuffle=False)\n",
        "```\n",
        "\n",
        "- **What it does:** These lines create data loaders, which are tools that help load the data in batches for training and testing.\n",
        "- **Parameters:**\n",
        "  - `batch_size=10`: Specifies that each batch will contain 10 images. Smaller batches require less memory but take longer to train.\n",
        "  - `shuffle=True`: Randomly shuffles the training data at every epoch to help the model generalize better.\n",
        "  - `shuffle=False`: The test data is not shuffled because we want consistent results when evaluating the model.\n",
        "\n",
        "#### [20] Define Convolutional Layers\n",
        "\n",
        "```python\n",
        "conv1 = nn.Conv2d(1, 6, 3, 1)\n",
        "conv2 = nn.Conv2d(6, 16, 3, 1)\n",
        "```\n",
        "\n",
        "- **What it does:** These lines define two convolutional layers in the neural network.\n",
        "- **Parameters:**\n",
        "  - `1`: The number of input channels. For MNIST, this is 1 because the images are grayscale.\n",
        "  - `6` and `16`: The number of output channels (filters). Each filter will learn to detect different features in the image.\n",
        "  - `3`: The size of the convolutional filter (3x3).\n",
        "  - `1`: The stride, which indicates how the filter moves across the image. A stride of 1 means it moves 1 pixel at a time.\n",
        "\n",
        "#### [22] Grab One Image from the Dataset\n",
        "\n",
        "```python\n",
        "for i, (X_train, y_train) in enumerate(train_data):\n",
        "  break\n",
        "```\n",
        "\n",
        "- **What it does:** This code iterates over the dataset and breaks after getting the first image.\n",
        "- **Why it's used:** We want to grab a single image to see what it looks like and to check its shape.\n",
        "\n",
        "#### [24] Check Image Shape\n",
        "\n",
        "```python\n",
        "X_train.shape\n",
        "```\n",
        "\n",
        "- **What it does:** This line returns the shape of the image tensor.\n",
        "- **Output:** For an MNIST image, this would be `[1, 28, 28]`, meaning 1 channel (grayscale), and 28x28 pixels in height and width.\n",
        "\n",
        "#### [25] Reshape the Image\n",
        "\n",
        "```python\n",
        "x = X_train.view(1, 1, 28, 28)\n",
        "```\n",
        "\n",
        "- **What it does:** This reshapes the image to add an additional dimension, making it ready for the convolutional layer.\n",
        "- **Parameters:**\n",
        "  - `1, 1, 28, 28`: The shape of the tensor. The first `1` is the batch size, and the second `1` is the number of channels. The last two numbers are the height and width.\n",
        "\n",
        "#### [26] Perform the First Convolution\n",
        "\n",
        "```python\n",
        "x = F.relu(conv1(x))\n",
        "```\n",
        "\n",
        "- **What it does:** Applies the first convolutional layer followed by a ReLU activation function.\n",
        "- **Why ReLU:** ReLU (Rectified Linear Unit) introduces non-linearity to the model, allowing it to learn more complex patterns.\n",
        "\n",
        "#### [27] Check Shape After Convolution\n",
        "\n",
        "```python\n",
        "x.shape\n",
        "```\n",
        "\n",
        "- **Output:** The shape is `[1, 6, 26, 26]`. The height and width reduce to 26x26 because the 3x3 filter reduces the image size by 2 pixels in each dimension.\n",
        "\n",
        "#### [29] Apply Max Pooling\n",
        "\n",
        "```python\n",
        "x = F.max_pool2d(x, 2, 2)\n",
        "```\n",
        "\n",
        "- **What it does:** Applies a max pooling operation, which reduces the size of the image by taking the maximum value in each 2x2 region.\n",
        "- **Parameters:**\n",
        "  - `2, 2`: The size of the pooling filter and the stride. This reduces the image size by half.\n",
        "\n",
        "#### [30] Check Shape After Pooling\n",
        "\n",
        "```python\n",
        "x.shape\n",
        "```\n",
        "\n",
        "- **Output:** The shape is `[1, 6, 13, 13]`, as the pooling operation reduces the dimensions by half.\n",
        "\n",
        "#### [31] Perform the Second Convolution\n",
        "\n",
        "```python\n",
        "x = F.relu(conv2(x))\n",
        "```\n",
        "\n",
        "- **What it does:** Applies the second convolutional layer followed by ReLU activation.\n",
        "- **Shape Reduction:** The output shape after this operation becomes `[1, 16, 11, 11]` because the filter reduces the dimensions further.\n",
        "\n",
        "#### [33] Apply Second Max Pooling\n",
        "\n",
        "```python\n",
        "x = F.max_pool2d(x, 2, 2)\n",
        "```\n",
        "\n",
        "- **What it does:** Applies another max pooling operation to further reduce the size of the image.\n",
        "\n",
        "#### [35] Check Final Shape\n",
        "\n",
        "```python\n",
        "x.shape\n",
        "```\n",
        "\n",
        "- **Output:** The final shape is `[1, 16, 5, 5]`, after all the convolution and pooling operations.\n",
        "\n",
        "#### [40] Model Class\n",
        "\n",
        "```python\n",
        "class ConvolutionalNetwork(nn.Module):\n",
        "  def __init__(self):\n",
        "    super().__init__()\n",
        "    self.conv1 = nn.Conv2d(1, 6, 3, 1)\n",
        "    self.conv2 = nn.Conv2d(6, 16, 3, 1)\n",
        "```\n",
        "\n",
        "- **What it does:** Defines a convolutional neural network (CNN) class with two convolutional layers.\n",
        "- **Why Classes:** In PyTorch, models are usually defined as classes to organize layers and operations in a clean way.\n",
        "\n",
        "#### [41] Create Model Instance\n",
        "\n",
        "```python\n",
        "torch.manual_seed(41)\n",
        "model = ConvolutionalNetwork()\n",
        "```\n",
        "\n",
        "- **What it does:** Creates an instance of the model and sets a random seed for reproducibility.\n",
        "- **Why Seed:** Setting a seed ensures that the results are reproducible, meaning you'll get the same results every time you run the code.\n",
        "\n",
        "#### [42] Loss Function and Optimizer\n",
        "\n",
        "```python\n",
        "criterion = nn.CrossEntropyLoss()\n",
        "optimizer = torch.optim.Adam(model.parameters(), lr=0.001)\n",
        "```\n",
        "\n",
        "- **What it does:** Defines the loss function and the optimizer.\n",
        "- **Parameters:**\n",
        "  - `nn.CrossEntropyLoss()`: The loss function used for classification tasks, comparing the model's output with the true labels.\n",
        "  - `torch.optim.Adam`: An optimizer that adjusts the model parameters to minimize the loss function.\n",
        "  - `lr=0.001`: The learning rate, which controls how much to adjust the model parameters with each update. A smaller learning rate means more gradual learning.\n",
        "\n",
        "### Summary\n",
        "This code builds a basic Convolutional Neural Network (CNN) for the MNIST dataset. It includes data loading, model definition, and preparation for training by setting up the loss function and optimizer. Each step transforms the images and their dimensions, leading to the final structure that the model uses to make predictions."
      ],
      "metadata": {
        "id": "R6vkiRHQZNdp"
      }
    },
    {
      "cell_type": "markdown",
      "source": [
        "**TRAIN AND TEST CNN MODEL - VIDEO 17**"
      ],
      "metadata": {
        "id": "fsrpaijqZPJg"
      }
    },
    {
      "cell_type": "code",
      "source": [
        "import time\n",
        "start_time = time.time()\n",
        "\n",
        "# Create Variables To Tracks Things\n",
        "epochs = 5\n",
        "train_losses = []\n",
        "train_correct = []\n",
        "test_losses = []\n",
        "test_correct = []\n",
        "\n",
        "# For loop of Epochs\n",
        "for i in range(epochs):\n",
        "  trn_corr = 0\n",
        "  tst_corr = 0\n",
        "\n",
        "\n",
        "  # Train\n",
        "  for b, (X_train, y_train) in enumerate(train_loader):\n",
        "    b +=1  # start our batches at 1\n",
        "    y_pred = model(X_train)  # get predicted values from the training set.Not FLATTENED ITS 2d\n",
        "    loss = criterion(y_pred, y_train)  # compare the predicted\n",
        "\n",
        "\n",
        "    predicted = torch.max(y_pred.data, 1)[1] # add up the number of correct predictions.\n",
        "    batch_corr = (predicted == y_train).sum() # how many we got correct from this batch.\n",
        "    trn_corr += batch_corr  # keep track as we go along in training\n",
        "    # Update our parameters\n",
        "    optimizer.zero_grad()\n",
        "    loss.backward()\n",
        "    optimizer.step()\n",
        "\n",
        "    # Print out some results\n",
        "    if b%600 == 0:\n",
        "      print(f'Epoch: {i}  Batch: {b}  Loss: {loss.item()}')\n",
        "\n",
        "  train_losses.append(loss)\n",
        "  train_correct.append(trn_corr)\n",
        "\n",
        "  # Test\n",
        "  with torch.no_grad():   #No gradient so we dont update our weights and biases with test data\n",
        "    for b, (X_test, y_test) in enumerate(test_loader):\n",
        "      y_val = model(X_test)\n",
        "      predicted = torch.max(y_val.data, 1)[1]\n",
        "      tst_corr += (predicted == y_test).sum()\n",
        "\n",
        "  loss = criterion(y_val, y_test)\n",
        "  test_losses.append(loss)\n",
        "  test_correct.append(tst_corr)\n",
        "\n",
        "\n",
        "\n",
        "current_time = time.time()\n",
        "total = current_time - start_time\n",
        "print(f\"Training Took: {total/60} minutes!\")"
      ],
      "metadata": {
        "id": "5v8OrC1IZjbI",
        "outputId": "3192904b-d7dc-4b82-dcb7-5c5c36220593",
        "colab": {
          "base_uri": "https://localhost:8080/"
        }
      },
      "execution_count": 71,
      "outputs": [
        {
          "output_type": "stream",
          "name": "stdout",
          "text": [
            "Epoch: 0  Batch: 600  Loss: 2.0083041191101074\n",
            "Epoch: 0  Batch: 1200  Loss: 0.7496547102928162\n",
            "Epoch: 0  Batch: 1800  Loss: 1.0623587369918823\n",
            "Epoch: 0  Batch: 2400  Loss: 1.3695147037506104\n",
            "Epoch: 0  Batch: 3000  Loss: 1.33701491355896\n",
            "Epoch: 0  Batch: 3600  Loss: 1.4935998916625977\n",
            "Epoch: 0  Batch: 4200  Loss: 1.3344080448150635\n",
            "Epoch: 0  Batch: 4800  Loss: 0.8927677273750305\n",
            "Epoch: 0  Batch: 5400  Loss: 1.3537733554840088\n",
            "Epoch: 0  Batch: 6000  Loss: 0.8874192237854004\n",
            "Epoch: 1  Batch: 600  Loss: 1.3348031044006348\n",
            "Epoch: 1  Batch: 1200  Loss: 1.537589430809021\n",
            "Epoch: 1  Batch: 1800  Loss: 0.8963152170181274\n",
            "Epoch: 1  Batch: 2400  Loss: 0.44701719284057617\n",
            "Epoch: 1  Batch: 3000  Loss: 0.45811739563941956\n",
            "Epoch: 1  Batch: 3600  Loss: 0.16545189917087555\n",
            "Epoch: 1  Batch: 4200  Loss: 0.9942337870597839\n",
            "Epoch: 1  Batch: 4800  Loss: 0.4441848695278168\n",
            "Epoch: 1  Batch: 5400  Loss: 0.8866211771965027\n",
            "Epoch: 1  Batch: 6000  Loss: 0.3759973645210266\n",
            "Epoch: 2  Batch: 600  Loss: 0.060295574367046356\n",
            "Epoch: 2  Batch: 1200  Loss: 1.333251714706421\n",
            "Epoch: 2  Batch: 1800  Loss: 0.8921431303024292\n",
            "Epoch: 2  Batch: 2400  Loss: 0.04160857945680618\n",
            "Epoch: 2  Batch: 3000  Loss: 0.002939074533060193\n",
            "Epoch: 2  Batch: 3600  Loss: 0.4513418674468994\n",
            "Epoch: 2  Batch: 4200  Loss: 0.005928263068199158\n",
            "Epoch: 2  Batch: 4800  Loss: 0.44376546144485474\n",
            "Epoch: 2  Batch: 5400  Loss: 0.009979762136936188\n",
            "Epoch: 2  Batch: 6000  Loss: 1.5592882633209229\n",
            "Epoch: 3  Batch: 600  Loss: 0.003790641203522682\n",
            "Epoch: 3  Batch: 1200  Loss: 0.09051273763179779\n",
            "Epoch: 3  Batch: 1800  Loss: 0.4450441002845764\n",
            "Epoch: 3  Batch: 2400  Loss: 0.8865717053413391\n",
            "Epoch: 3  Batch: 3000  Loss: 0.443228155374527\n",
            "Epoch: 3  Batch: 3600  Loss: 0.4433196187019348\n",
            "Epoch: 3  Batch: 4200  Loss: 0.09532861411571503\n",
            "Epoch: 3  Batch: 4800  Loss: 0.4431685507297516\n",
            "Epoch: 3  Batch: 5400  Loss: 0.46626272797584534\n",
            "Epoch: 3  Batch: 6000  Loss: 0.46727997064590454\n",
            "Epoch: 4  Batch: 600  Loss: 0.8912502527236938\n",
            "Epoch: 4  Batch: 1200  Loss: 0.07137686759233475\n",
            "Epoch: 4  Batch: 1800  Loss: 1.3842637538909912\n",
            "Epoch: 4  Batch: 2400  Loss: 3.9606944483239204e-05\n",
            "Epoch: 4  Batch: 3000  Loss: 0.005249480716884136\n",
            "Epoch: 4  Batch: 3600  Loss: 0.4499781131744385\n",
            "Epoch: 4  Batch: 4200  Loss: 0.4510887563228607\n",
            "Epoch: 4  Batch: 4800  Loss: 1.7724231481552124\n",
            "Epoch: 4  Batch: 5400  Loss: 0.642021119594574\n",
            "Epoch: 4  Batch: 6000  Loss: 1.3292475938796997\n",
            "Training Took: 4.360734411080679 minutes!\n"
          ]
        }
      ]
    },
    {
      "cell_type": "markdown",
      "source": [
        "**GRAPH CNN RESULTS - VIDEO - 18**"
      ],
      "metadata": {
        "id": "-I22glqXUlWR"
      }
    },
    {
      "cell_type": "code",
      "source": [
        "# GRAPH THE LOSS AT EPOCH\n",
        "train_losses = [t1.item() for t1 in train_losses]\n",
        "test_losses = [t1.item() for t1 in test_losses]\n",
        "plt.plot(train_losses, label='Training Loss')\n",
        "plt.plot(test_losses, label='Testing Loss')\n",
        "plt.title('Loss at Epoch')\n",
        "plt.legend()"
      ],
      "metadata": {
        "colab": {
          "base_uri": "https://localhost:8080/",
          "height": 469
        },
        "id": "6cCwqRGqUxRx",
        "outputId": "750786ed-65c2-4941-da59-13868525727f"
      },
      "execution_count": 72,
      "outputs": [
        {
          "output_type": "execute_result",
          "data": {
            "text/plain": [
              "<matplotlib.legend.Legend at 0x7d187d7da1a0>"
            ]
          },
          "metadata": {},
          "execution_count": 72
        },
        {
          "output_type": "display_data",
          "data": {
            "text/plain": [
              "<Figure size 640x480 with 1 Axes>"
            ],
            "image/png": "[encoded data removed]"
          },
          "metadata": {}
        }
      ]
    },
    {
      "cell_type": "code",
      "source": [
        "# graph the accurancy at the end of each epoch\n",
        "plt.plot([t/600 for t in train_correct], label=\"Training Accuracy\")\n",
        "plt.plot([t/100 for t in test_correct], label=\"Testing Accuracy\")\n",
        "plt.title(\"Accuracy at Epoch\")\n",
        "plt.legend()"
      ],
      "metadata": {
        "colab": {
          "base_uri": "https://localhost:8080/",
          "height": 469
        },
        "id": "_aYUTe4OXEcp",
        "outputId": "03b53179-fa1e-4aad-e323-7e1fb8e13264"
      },
      "execution_count": 73,
      "outputs": [
        {
          "output_type": "execute_result",
          "data": {
            "text/plain": [
              "<matplotlib.legend.Legend at 0x7d1880659510>"
            ]
          },
          "metadata": {},
          "execution_count": 73
        },
        {
          "output_type": "display_data",
          "data": {
            "text/plain": [
              "<Figure size 640x480 with 1 Axes>"
            ],
            "image/png": "[encoded data removed]"
          },
          "metadata": {}
        }
      ]
    },
    {
      "cell_type": "code",
      "source": [
        "test_load_everything = DataLoader(test_data, batch_size=10000, shuffle=False)"
      ],
      "metadata": {
        "id": "EiSa8USDXxy5"
      },
      "execution_count": 75,
      "outputs": []
    },
    {
      "cell_type": "code",
      "source": [
        "with torch.no_grad():\n",
        "  correct = 0\n",
        "  for X_test, y_test in test_load_everything:\n",
        "    y_val = model(X_test)\n",
        "    predicted = torch.max(y_val.data, 1)[1]\n",
        "    correct += (predicted == y_test).sum()"
      ],
      "metadata": {
        "id": "zGf5jGVTYYPQ"
      },
      "execution_count": 76,
      "outputs": []
    },
    {
      "cell_type": "code",
      "source": [
        "# Did for corrrect\n",
        "correct.item()/len(test_data)*100\n"
      ],
      "metadata": {
        "colab": {
          "base_uri": "https://localhost:8080/"
        },
        "id": "RYsoMhdKYq4p",
        "outputId": "1c34428b-ea41-4be2-96d3-af1f6d56d4a1"
      },
      "execution_count": 77,
      "outputs": [
        {
          "output_type": "execute_result",
          "data": {
            "text/plain": [
              "87.45"
            ]
          },
          "metadata": {},
          "execution_count": 77
        }
      ]
    },
    {
      "cell_type": "markdown",
      "source": [
        "**SEND NEW IMAGE THRU THE MODEL - VIDEO 19**"
      ],
      "metadata": {
        "id": "qV6YJoBkZEqf"
      }
    },
    {
      "cell_type": "code",
      "source": [
        "# Grab an images with number in the image\n",
        "test_data[4111]"
      ],
      "metadata": {
        "colab": {
          "base_uri": "https://localhost:8080/"
        },
        "id": "gBWJQms5ZL-o",
        "outputId": "119b537c-e407-4dcb-f55c-5984a003bbbc"
      },
      "execution_count": 78,
      "outputs": [
        {
          "output_type": "execute_result",
          "data": {
            "text/plain": [
              "(tensor([[[0.0000, 0.0000, 0.0000, 0.0000, 0.0000, 0.0000, 0.0000, 0.0000,\n",
              "           0.0000, 0.0000, 0.0000, 0.0000, 0.0000, 0.0000, 0.0000, 0.0000,\n",
              "           0.0000, 0.0000, 0.0000, 0.0000, 0.0000, 0.0000, 0.0000, 0.0000,\n",
              "           0.0000, 0.0000, 0.0000, 0.0000],\n",
              "          [0.0000, 0.0000, 0.0000, 0.0000, 0.0000, 0.0000, 0.0000, 0.0000,\n",
              "           0.0000, 0.0000, 0.0000, 0.0000, 0.0000, 0.0000, 0.0000, 0.0000,\n",
              "           0.0000, 0.0000, 0.0000, 0.0000, 0.0000, 0.0000, 0.0000, 0.0000,\n",
              "           0.0000, 0.0000, 0.0000, 0.0000],\n",
              "          [0.0000, 0.0000, 0.0000, 0.0000, 0.0000, 0.0000, 0.0000, 0.0000,\n",
              "           0.0000, 0.0000, 0.0000, 0.0000, 0.0000, 0.0000, 0.0000, 0.0000,\n",
              "           0.0000, 0.0000, 0.0000, 0.0000, 0.0000, 0.0000, 0.0000, 0.0000,\n",
              "           0.0000, 0.0000, 0.0000, 0.0000],\n",
              "          [0.0000, 0.0000, 0.0000, 0.0000, 0.0000, 0.0000, 0.0000, 0.0000,\n",
              "           0.0000, 0.0000, 0.0000, 0.0000, 0.0000, 0.0000, 0.0000, 0.0000,\n",
              "           0.0000, 0.0000, 0.0000, 0.0000, 0.0000, 0.0000, 0.0000, 0.0000,\n",
              "           0.0000, 0.0000, 0.0000, 0.0000],\n",
              "          [0.0000, 0.0000, 0.0000, 0.0000, 0.0000, 0.0000, 0.0000, 0.0000,\n",
              "           0.0000, 0.0000, 0.0000, 0.0000, 0.0000, 0.0000, 0.0000, 0.0000,\n",
              "           0.0000, 0.0000, 0.0000, 0.0000, 0.0000, 0.0000, 0.0000, 0.0000,\n",
              "           0.0000, 0.0000, 0.0000, 0.0000],\n",
              "          [0.0000, 0.0000, 0.0000, 0.0000, 0.0000, 0.0000, 0.0000, 0.0000,\n",
              "           0.0000, 0.2706, 0.3137, 0.3843, 0.9961, 1.0000, 0.7569, 0.3137,\n",
              "           0.0118, 0.0000, 0.0000, 0.0000, 0.0000, 0.0000, 0.0000, 0.0000,\n",
              "           0.0000, 0.0000, 0.0000, 0.0000],\n",
              "          [0.0000, 0.0000, 0.0000, 0.0000, 0.0000, 0.0000, 0.0000, 0.0000,\n",
              "           0.3451, 0.9412, 0.9922, 0.9922, 0.9922, 0.9922, 0.9922, 0.9922,\n",
              "           0.6275, 0.2549, 0.0000, 0.0000, 0.0000, 0.0000, 0.0000, 0.0000,\n",
              "           0.0000, 0.0000, 0.0000, 0.0000],\n",
              "          [0.0000, 0.0000, 0.0000, 0.0000, 0.0000, 0.0000, 0.0000, 0.2275,\n",
              "           0.9647, 0.9922, 0.9922, 0.9922, 0.9922, 0.8157, 0.7490, 0.7490,\n",
              "           0.9843, 0.9529, 0.0941, 0.0000, 0.0000, 0.0000, 0.0000, 0.0000,\n",
              "           0.0000, 0.0000, 0.0000, 0.0000],\n",
              "          [0.0000, 0.0000, 0.0000, 0.0000, 0.0000, 0.0000, 0.0000, 0.6235,\n",
              "           0.9922, 0.9922, 0.7216, 0.4431, 0.4431, 0.1216, 0.0000, 0.0000,\n",
              "           0.4314, 0.4431, 0.0431, 0.0000, 0.0000, 0.0000, 0.0000, 0.0000,\n",
              "           0.0000, 0.0000, 0.0000, 0.0000],\n",
              "          [0.0000, 0.0000, 0.0000, 0.0000, 0.0000, 0.0549, 0.6000, 0.9843,\n",
              "           0.9922, 0.7216, 0.0706, 0.0000, 0.0000, 0.0000, 0.0000, 0.0000,\n",
              "           0.0000, 0.0000, 0.0000, 0.0000, 0.0000, 0.0000, 0.0000, 0.0000,\n",
              "           0.0000, 0.0000, 0.0000, 0.0000],\n",
              "          [0.0000, 0.0000, 0.0000, 0.0000, 0.0000, 0.3137, 0.9922, 0.9922,\n",
              "           0.7216, 0.0706, 0.0000, 0.0000, 0.0000, 0.0000, 0.0000, 0.0000,\n",
              "           0.0000, 0.0000, 0.0000, 0.0000, 0.0000, 0.0000, 0.0000, 0.0000,\n",
              "           0.0000, 0.0000, 0.0000, 0.0000],\n",
              "          [0.0000, 0.0000, 0.0000, 0.0000, 0.0000, 0.3137, 0.9922, 0.9922,\n",
              "           0.4431, 0.0000, 0.0000, 0.0000, 0.0000, 0.0000, 0.0000, 0.0000,\n",
              "           0.0000, 0.0000, 0.0235, 0.4627, 0.7922, 0.4353, 0.0000, 0.0000,\n",
              "           0.0000, 0.0000, 0.0000, 0.0000],\n",
              "          [0.0000, 0.0000, 0.0000, 0.0000, 0.0000, 0.3137, 0.9922, 0.9922,\n",
              "           0.4431, 0.0000, 0.0000, 0.0000, 0.0000, 0.0000, 0.0000, 0.0000,\n",
              "           0.0000, 0.0000, 0.4980, 0.9922, 0.9922, 0.5412, 0.0000, 0.0000,\n",
              "           0.0000, 0.0000, 0.0000, 0.0000],\n",
              "          [0.0000, 0.0000, 0.0000, 0.0000, 0.0000, 0.3020, 0.9765, 0.9922,\n",
              "           0.4627, 0.0078, 0.0000, 0.0000, 0.0000, 0.0000, 0.0000, 0.0000,\n",
              "           0.0000, 0.0000, 0.8941, 0.9922, 0.9922, 0.5412, 0.0000, 0.0000,\n",
              "           0.0000, 0.0000, 0.0000, 0.0000],\n",
              "          [0.0000, 0.0000, 0.0000, 0.0000, 0.0000, 0.0000, 0.6196, 0.9922,\n",
              "           0.9922, 0.3725, 0.0000, 0.0000, 0.0000, 0.0000, 0.0000, 0.0000,\n",
              "           0.0000, 0.0000, 0.8941, 0.9922, 0.9922, 0.5412, 0.0000, 0.0000,\n",
              "           0.0000, 0.0000, 0.0000, 0.0000],\n",
              "          [0.0000, 0.0000, 0.0000, 0.0000, 0.0000, 0.0000, 0.2118, 0.9490,\n",
              "           0.9922, 0.8196, 0.0000, 0.0000, 0.0000, 0.0000, 0.0000, 0.0000,\n",
              "           0.0000, 0.3882, 0.9569, 0.9922, 0.9922, 0.5412, 0.0000, 0.0000,\n",
              "           0.0000, 0.0000, 0.0000, 0.0000],\n",
              "          [0.0000, 0.0000, 0.0000, 0.0000, 0.0000, 0.0000, 0.0000, 0.7373,\n",
              "           0.9922, 0.9882, 0.9647, 0.8902, 0.2784, 0.2784, 0.2784, 0.2784,\n",
              "           0.9451, 0.9804, 0.9922, 0.9922, 0.9922, 0.6667, 0.0667, 0.0000,\n",
              "           0.0000, 0.0000, 0.0000, 0.0000],\n",
              "          [0.0000, 0.0000, 0.0000, 0.0000, 0.0000, 0.0000, 0.0000, 0.2431,\n",
              "           0.9922, 0.9922, 0.9922, 0.9922, 0.9922, 0.9922, 0.9922, 0.9922,\n",
              "           0.9922, 0.9922, 0.9922, 0.9922, 0.9922, 0.9922, 0.2353, 0.0000,\n",
              "           0.0000, 0.0000, 0.0000, 0.0000],\n",
              "          [0.0000, 0.0000, 0.0000, 0.0000, 0.0000, 0.0000, 0.0000, 0.0235,\n",
              "           0.0980, 0.6941, 0.8863, 0.9922, 0.9922, 0.9922, 0.9922, 0.9922,\n",
              "           0.7882, 0.7843, 0.7843, 0.8902, 0.9922, 0.9922, 0.2353, 0.0000,\n",
              "           0.0000, 0.0000, 0.0000, 0.0000],\n",
              "          [0.0000, 0.0000, 0.0000, 0.0000, 0.0000, 0.0000, 0.0000, 0.0000,\n",
              "           0.0000, 0.0000, 0.2314, 0.4784, 0.4784, 0.4784, 0.4784, 0.4784,\n",
              "           0.0157, 0.0000, 0.0000, 0.2510, 0.9059, 0.9922, 0.2353, 0.0000,\n",
              "           0.0000, 0.0000, 0.0000, 0.0000],\n",
              "          [0.0000, 0.0000, 0.0000, 0.0000, 0.0000, 0.0000, 0.0000, 0.0000,\n",
              "           0.0000, 0.0000, 0.0000, 0.0000, 0.0000, 0.0000, 0.0000, 0.0000,\n",
              "           0.0000, 0.0000, 0.0000, 0.0000, 0.8275, 0.9922, 0.8078, 0.0000,\n",
              "           0.0000, 0.0000, 0.0000, 0.0000],\n",
              "          [0.0000, 0.0000, 0.0000, 0.0000, 0.0000, 0.0000, 0.0000, 0.0000,\n",
              "           0.0000, 0.0000, 0.0000, 0.0000, 0.0000, 0.0000, 0.0000, 0.0000,\n",
              "           0.0000, 0.0000, 0.0000, 0.0000, 0.8275, 0.9922, 0.9529, 0.2784,\n",
              "           0.0000, 0.0000, 0.0000, 0.0000],\n",
              "          [0.0000, 0.0000, 0.0000, 0.0000, 0.0000, 0.0000, 0.0000, 0.0000,\n",
              "           0.0000, 0.0000, 0.0000, 0.0000, 0.0000, 0.0000, 0.0000, 0.0000,\n",
              "           0.0000, 0.0000, 0.0000, 0.0000, 0.2941, 0.9529, 0.9922, 0.9020,\n",
              "           0.2353, 0.0000, 0.0000, 0.0000],\n",
              "          [0.0000, 0.0000, 0.0000, 0.0000, 0.0000, 0.0000, 0.0000, 0.0000,\n",
              "           0.0000, 0.0000, 0.0000, 0.0000, 0.0000, 0.0000, 0.0000, 0.0000,\n",
              "           0.0000, 0.0000, 0.0000, 0.0000, 0.0000, 0.2784, 0.9020, 0.9922,\n",
              "           0.3059, 0.0000, 0.0000, 0.0000],\n",
              "          [0.0000, 0.0000, 0.0000, 0.0000, 0.0000, 0.0000, 0.0000, 0.0000,\n",
              "           0.0000, 0.0000, 0.0000, 0.0000, 0.0000, 0.0000, 0.0000, 0.0000,\n",
              "           0.0000, 0.0000, 0.0000, 0.0000, 0.0000, 0.0000, 0.7569, 0.9922,\n",
              "           0.3059, 0.0000, 0.0000, 0.0000],\n",
              "          [0.0000, 0.0000, 0.0000, 0.0000, 0.0000, 0.0000, 0.0000, 0.0000,\n",
              "           0.0000, 0.0000, 0.0000, 0.0000, 0.0000, 0.0000, 0.0000, 0.0000,\n",
              "           0.0000, 0.0000, 0.0000, 0.0000, 0.0000, 0.0000, 0.0000, 0.0000,\n",
              "           0.0000, 0.0000, 0.0000, 0.0000],\n",
              "          [0.0000, 0.0000, 0.0000, 0.0000, 0.0000, 0.0000, 0.0000, 0.0000,\n",
              "           0.0000, 0.0000, 0.0000, 0.0000, 0.0000, 0.0000, 0.0000, 0.0000,\n",
              "           0.0000, 0.0000, 0.0000, 0.0000, 0.0000, 0.0000, 0.0000, 0.0000,\n",
              "           0.0000, 0.0000, 0.0000, 0.0000],\n",
              "          [0.0000, 0.0000, 0.0000, 0.0000, 0.0000, 0.0000, 0.0000, 0.0000,\n",
              "           0.0000, 0.0000, 0.0000, 0.0000, 0.0000, 0.0000, 0.0000, 0.0000,\n",
              "           0.0000, 0.0000, 0.0000, 0.0000, 0.0000, 0.0000, 0.0000, 0.0000,\n",
              "           0.0000, 0.0000, 0.0000, 0.0000]]]),\n",
              " 9)"
            ]
          },
          "metadata": {},
          "execution_count": 78
        }
      ]
    },
    {
      "cell_type": "code",
      "source": [
        "# Grab an image without number in the image or without label\n",
        "test_data[4143][0]"
      ],
      "metadata": {
        "colab": {
          "base_uri": "https://localhost:8080/"
        },
        "id": "tDOfHkkPZyeg",
        "outputId": "01e11e99-7912-4b5e-f904-d701f7c7cd67"
      },
      "execution_count": 79,
      "outputs": [
        {
          "output_type": "execute_result",
          "data": {
            "text/plain": [
              "tensor([[[0.0000, 0.0000, 0.0000, 0.0000, 0.0000, 0.0000, 0.0000, 0.0000,\n",
              "          0.0000, 0.0000, 0.0000, 0.0000, 0.0000, 0.0000, 0.0000, 0.0000,\n",
              "          0.0000, 0.0000, 0.0000, 0.0000, 0.0000, 0.0000, 0.0000, 0.0000,\n",
              "          0.0000, 0.0000, 0.0000, 0.0000],\n",
              "         [0.0000, 0.0000, 0.0000, 0.0000, 0.0000, 0.0000, 0.0000, 0.0000,\n",
              "          0.0000, 0.0000, 0.0000, 0.0000, 0.0000, 0.0000, 0.0000, 0.0000,\n",
              "          0.0000, 0.0000, 0.0000, 0.0000, 0.0000, 0.0000, 0.0000, 0.0000,\n",
              "          0.0000, 0.0000, 0.0000, 0.0000],\n",
              "         [0.0000, 0.0000, 0.0000, 0.0000, 0.0000, 0.0000, 0.0000, 0.0000,\n",
              "          0.0000, 0.0000, 0.0000, 0.0000, 0.0000, 0.0000, 0.0000, 0.0000,\n",
              "          0.0000, 0.0000, 0.0000, 0.0000, 0.0000, 0.0000, 0.0000, 0.0000,\n",
              "          0.0000, 0.0000, 0.0000, 0.0000],\n",
              "         [0.0000, 0.0000, 0.0000, 0.0000, 0.0000, 0.0000, 0.0000, 0.0000,\n",
              "          0.0000, 0.0000, 0.0000, 0.0000, 0.0000, 0.0000, 0.0000, 0.0000,\n",
              "          0.0000, 0.0000, 0.0000, 0.0000, 0.0000, 0.0000, 0.0000, 0.0000,\n",
              "          0.0000, 0.0000, 0.0000, 0.0000],\n",
              "         [0.0000, 0.0000, 0.0000, 0.0000, 0.0000, 0.0000, 0.0000, 0.0000,\n",
              "          0.0000, 0.0000, 0.0000, 0.0000, 0.0000, 0.0000, 0.0000, 0.0000,\n",
              "          0.0000, 0.0000, 0.0000, 0.0000, 0.0000, 0.0000, 0.0000, 0.0000,\n",
              "          0.0000, 0.0000, 0.0000, 0.0000],\n",
              "         [0.0000, 0.0000, 0.0000, 0.0000, 0.0000, 0.0000, 0.0000, 0.0000,\n",
              "          0.0000, 0.0000, 0.0000, 0.0000, 0.0000, 0.0000, 0.0000, 0.0000,\n",
              "          0.0000, 0.0000, 0.0000, 0.0000, 0.0000, 0.0000, 0.0000, 0.0000,\n",
              "          0.0000, 0.0000, 0.0000, 0.0000],\n",
              "         [0.0000, 0.0000, 0.0000, 0.0000, 0.0000, 0.0000, 0.0000, 0.0000,\n",
              "          0.0000, 0.0000, 0.0000, 0.1765, 0.9098, 0.8275, 0.4980, 0.0627,\n",
              "          0.0000, 0.0000, 0.0000, 0.0000, 0.0000, 0.0000, 0.0000, 0.0000,\n",
              "          0.0000, 0.0000, 0.0000, 0.0000],\n",
              "         [0.0000, 0.0000, 0.0000, 0.0000, 0.0000, 0.0000, 0.0000, 0.0000,\n",
              "          0.0000, 0.0000, 0.0706, 0.7961, 0.9961, 0.9961, 0.9961, 0.8235,\n",
              "          0.3765, 0.0667, 0.0000, 0.0000, 0.0000, 0.0000, 0.0000, 0.0000,\n",
              "          0.0000, 0.0000, 0.0000, 0.0000],\n",
              "         [0.0000, 0.0000, 0.0000, 0.0000, 0.0000, 0.0000, 0.0000, 0.0000,\n",
              "          0.0000, 0.0000, 0.4353, 0.9961, 0.9961, 0.4667, 0.8941, 0.9961,\n",
              "          0.9961, 0.9412, 0.1490, 0.0000, 0.0000, 0.0000, 0.0000, 0.0000,\n",
              "          0.0000, 0.0000, 0.0000, 0.0000],\n",
              "         [0.0000, 0.0000, 0.0000, 0.0000, 0.0000, 0.0000, 0.0000, 0.0000,\n",
              "          0.0000, 0.0000, 0.8824, 0.9961, 0.7922, 0.0588, 0.1569, 0.8235,\n",
              "          0.9961, 0.9961, 0.4431, 0.0000, 0.0000, 0.0000, 0.0000, 0.0000,\n",
              "          0.0000, 0.0000, 0.0000, 0.0000],\n",
              "         [0.0000, 0.0000, 0.0000, 0.0000, 0.0000, 0.0000, 0.0000, 0.0000,\n",
              "          0.0000, 0.2314, 0.9569, 0.9961, 0.2706, 0.0000, 0.0000, 0.8157,\n",
              "          0.9961, 0.9961, 0.6902, 0.0000, 0.0000, 0.0000, 0.0000, 0.0000,\n",
              "          0.0000, 0.0000, 0.0000, 0.0000],\n",
              "         [0.0000, 0.0000, 0.0000, 0.0000, 0.0000, 0.0000, 0.0000, 0.0000,\n",
              "          0.0000, 0.7725, 0.9961, 0.9961, 0.1333, 0.0000, 0.2235, 0.9843,\n",
              "          0.9961, 0.9961, 0.5725, 0.0000, 0.0000, 0.0000, 0.0000, 0.0000,\n",
              "          0.0000, 0.0000, 0.0000, 0.0000],\n",
              "         [0.0000, 0.0000, 0.0000, 0.0000, 0.0000, 0.0000, 0.0000, 0.0000,\n",
              "          0.0000, 0.9176, 0.9961, 0.6235, 0.0157, 0.0392, 0.7176, 0.9961,\n",
              "          0.9961, 0.9961, 0.3843, 0.0000, 0.0000, 0.0000, 0.0000, 0.0000,\n",
              "          0.0000, 0.0000, 0.0000, 0.0000],\n",
              "         [0.0000, 0.0000, 0.0000, 0.0000, 0.0000, 0.0000, 0.0000, 0.0000,\n",
              "          0.0000, 0.9176, 0.9961, 0.1569, 0.0000, 0.6549, 0.9961, 0.9961,\n",
              "          0.9961, 0.9961, 0.2353, 0.0000, 0.0000, 0.0000, 0.0000, 0.0000,\n",
              "          0.0000, 0.0000, 0.0000, 0.0000],\n",
              "         [0.0000, 0.0000, 0.0000, 0.0000, 0.0000, 0.0000, 0.0000, 0.0000,\n",
              "          0.0000, 0.7373, 0.9961, 0.2824, 0.6588, 0.9765, 0.9961, 0.9961,\n",
              "          0.9961, 0.9961, 0.2353, 0.0000, 0.0000, 0.0000, 0.0000, 0.0000,\n",
              "          0.0000, 0.0000, 0.0000, 0.0000],\n",
              "         [0.0000, 0.0000, 0.0000, 0.0000, 0.0000, 0.0000, 0.0000, 0.0000,\n",
              "          0.0000, 0.3647, 0.9804, 0.9961, 0.9961, 0.9961, 0.9961, 0.9961,\n",
              "          0.9961, 0.9961, 0.2353, 0.0000, 0.0000, 0.0000, 0.0000, 0.0000,\n",
              "          0.0000, 0.0000, 0.0000, 0.0000],\n",
              "         [0.0000, 0.0000, 0.0000, 0.0000, 0.0000, 0.0000, 0.0000, 0.0000,\n",
              "          0.0000, 0.0000, 0.6784, 0.9961, 0.9961, 0.9961, 0.9451, 0.9961,\n",
              "          0.9961, 0.6824, 0.0392, 0.0000, 0.0000, 0.0000, 0.0000, 0.0000,\n",
              "          0.0000, 0.0000, 0.0000, 0.0000],\n",
              "         [0.0000, 0.0000, 0.0000, 0.0000, 0.0000, 0.0000, 0.0000, 0.0000,\n",
              "          0.0000, 0.0000, 0.0431, 0.4863, 0.8157, 0.4627, 0.5804, 0.9961,\n",
              "          0.9961, 0.8941, 0.0000, 0.0000, 0.0000, 0.0000, 0.0000, 0.0000,\n",
              "          0.0000, 0.0000, 0.0000, 0.0000],\n",
              "         [0.0000, 0.0000, 0.0000, 0.0000, 0.0000, 0.0000, 0.0000, 0.0000,\n",
              "          0.0000, 0.0000, 0.0000, 0.0000, 0.0000, 0.0000, 0.4941, 0.9961,\n",
              "          0.9961, 0.6235, 0.0000, 0.0000, 0.0000, 0.0000, 0.0000, 0.0000,\n",
              "          0.0000, 0.0000, 0.0000, 0.0000],\n",
              "         [0.0000, 0.0000, 0.0000, 0.0000, 0.0000, 0.0000, 0.0000, 0.0000,\n",
              "          0.0000, 0.0000, 0.0000, 0.0000, 0.0000, 0.0000, 0.7569, 0.9961,\n",
              "          0.9961, 0.5569, 0.0000, 0.0000, 0.0000, 0.0000, 0.0000, 0.0000,\n",
              "          0.0000, 0.0000, 0.0000, 0.0000],\n",
              "         [0.0000, 0.0000, 0.0000, 0.0000, 0.0000, 0.0000, 0.0000, 0.0000,\n",
              "          0.0000, 0.0000, 0.0000, 0.0000, 0.0000, 0.0000, 0.8314, 0.9961,\n",
              "          0.9961, 0.4157, 0.0000, 0.0000, 0.0000, 0.0000, 0.0000, 0.0000,\n",
              "          0.0000, 0.0000, 0.0000, 0.0000],\n",
              "         [0.0000, 0.0000, 0.0000, 0.0000, 0.0000, 0.0000, 0.0000, 0.0000,\n",
              "          0.0000, 0.0000, 0.0000, 0.0000, 0.0000, 0.0118, 0.8431, 0.9961,\n",
              "          0.9882, 0.2039, 0.0000, 0.0000, 0.0000, 0.0000, 0.0000, 0.0000,\n",
              "          0.0000, 0.0000, 0.0000, 0.0000],\n",
              "         [0.0000, 0.0000, 0.0000, 0.0000, 0.0000, 0.0000, 0.0000, 0.0000,\n",
              "          0.0000, 0.0000, 0.0000, 0.0000, 0.0000, 0.1882, 0.9961, 0.9961,\n",
              "          0.9255, 0.0863, 0.0000, 0.0000, 0.0000, 0.0000, 0.0000, 0.0000,\n",
              "          0.0000, 0.0000, 0.0000, 0.0000],\n",
              "         [0.0000, 0.0000, 0.0000, 0.0000, 0.0000, 0.0000, 0.0000, 0.0000,\n",
              "          0.0000, 0.0000, 0.0000, 0.0000, 0.0000, 0.5098, 0.9961, 1.0000,\n",
              "          0.5529, 0.0627, 0.0000, 0.0000, 0.0000, 0.0000, 0.0000, 0.0000,\n",
              "          0.0000, 0.0000, 0.0000, 0.0000],\n",
              "         [0.0000, 0.0000, 0.0000, 0.0000, 0.0000, 0.0000, 0.0000, 0.0000,\n",
              "          0.0000, 0.0000, 0.0000, 0.0000, 0.0000, 0.5098, 0.9961, 1.0000,\n",
              "          0.3059, 0.0000, 0.0000, 0.0000, 0.0000, 0.0000, 0.0000, 0.0000,\n",
              "          0.0000, 0.0000, 0.0000, 0.0000],\n",
              "         [0.0000, 0.0000, 0.0000, 0.0000, 0.0000, 0.0000, 0.0000, 0.0000,\n",
              "          0.0000, 0.0000, 0.0000, 0.0000, 0.0000, 0.3961, 0.9961, 0.7882,\n",
              "          0.0667, 0.0000, 0.0000, 0.0000, 0.0000, 0.0000, 0.0000, 0.0000,\n",
              "          0.0000, 0.0000, 0.0000, 0.0000],\n",
              "         [0.0000, 0.0000, 0.0000, 0.0000, 0.0000, 0.0000, 0.0000, 0.0000,\n",
              "          0.0000, 0.0000, 0.0000, 0.0000, 0.0000, 0.0000, 0.0000, 0.0000,\n",
              "          0.0000, 0.0000, 0.0000, 0.0000, 0.0000, 0.0000, 0.0000, 0.0000,\n",
              "          0.0000, 0.0000, 0.0000, 0.0000],\n",
              "         [0.0000, 0.0000, 0.0000, 0.0000, 0.0000, 0.0000, 0.0000, 0.0000,\n",
              "          0.0000, 0.0000, 0.0000, 0.0000, 0.0000, 0.0000, 0.0000, 0.0000,\n",
              "          0.0000, 0.0000, 0.0000, 0.0000, 0.0000, 0.0000, 0.0000, 0.0000,\n",
              "          0.0000, 0.0000, 0.0000, 0.0000]]])"
            ]
          },
          "metadata": {},
          "execution_count": 79
        }
      ]
    },
    {
      "cell_type": "code",
      "source": [
        "#Reshape it\n",
        "test_data[4143][0].reshape(28,28)"
      ],
      "metadata": {
        "colab": {
          "base_uri": "https://localhost:8080/"
        },
        "id": "BA6GvWitaiTg",
        "outputId": "61513dc5-da48-4b2f-98ec-7762dee838dd"
      },
      "execution_count": 80,
      "outputs": [
        {
          "output_type": "execute_result",
          "data": {
            "text/plain": [
              "tensor([[0.0000, 0.0000, 0.0000, 0.0000, 0.0000, 0.0000, 0.0000, 0.0000, 0.0000,\n",
              "         0.0000, 0.0000, 0.0000, 0.0000, 0.0000, 0.0000, 0.0000, 0.0000, 0.0000,\n",
              "         0.0000, 0.0000, 0.0000, 0.0000, 0.0000, 0.0000, 0.0000, 0.0000, 0.0000,\n",
              "         0.0000],\n",
              "        [0.0000, 0.0000, 0.0000, 0.0000, 0.0000, 0.0000, 0.0000, 0.0000, 0.0000,\n",
              "         0.0000, 0.0000, 0.0000, 0.0000, 0.0000, 0.0000, 0.0000, 0.0000, 0.0000,\n",
              "         0.0000, 0.0000, 0.0000, 0.0000, 0.0000, 0.0000, 0.0000, 0.0000, 0.0000,\n",
              "         0.0000],\n",
              "        [0.0000, 0.0000, 0.0000, 0.0000, 0.0000, 0.0000, 0.0000, 0.0000, 0.0000,\n",
              "         0.0000, 0.0000, 0.0000, 0.0000, 0.0000, 0.0000, 0.0000, 0.0000, 0.0000,\n",
              "         0.0000, 0.0000, 0.0000, 0.0000, 0.0000, 0.0000, 0.0000, 0.0000, 0.0000,\n",
              "         0.0000],\n",
              "        [0.0000, 0.0000, 0.0000, 0.0000, 0.0000, 0.0000, 0.0000, 0.0000, 0.0000,\n",
              "         0.0000, 0.0000, 0.0000, 0.0000, 0.0000, 0.0000, 0.0000, 0.0000, 0.0000,\n",
              "         0.0000, 0.0000, 0.0000, 0.0000, 0.0000, 0.0000, 0.0000, 0.0000, 0.0000,\n",
              "         0.0000],\n",
              "        [0.0000, 0.0000, 0.0000, 0.0000, 0.0000, 0.0000, 0.0000, 0.0000, 0.0000,\n",
              "         0.0000, 0.0000, 0.0000, 0.0000, 0.0000, 0.0000, 0.0000, 0.0000, 0.0000,\n",
              "         0.0000, 0.0000, 0.0000, 0.0000, 0.0000, 0.0000, 0.0000, 0.0000, 0.0000,\n",
              "         0.0000],\n",
              "        [0.0000, 0.0000, 0.0000, 0.0000, 0.0000, 0.0000, 0.0000, 0.0000, 0.0000,\n",
              "         0.0000, 0.0000, 0.0000, 0.0000, 0.0000, 0.0000, 0.0000, 0.0000, 0.0000,\n",
              "         0.0000, 0.0000, 0.0000, 0.0000, 0.0000, 0.0000, 0.0000, 0.0000, 0.0000,\n",
              "         0.0000],\n",
              "        [0.0000, 0.0000, 0.0000, 0.0000, 0.0000, 0.0000, 0.0000, 0.0000, 0.0000,\n",
              "         0.0000, 0.0000, 0.1765, 0.9098, 0.8275, 0.4980, 0.0627, 0.0000, 0.0000,\n",
              "         0.0000, 0.0000, 0.0000, 0.0000, 0.0000, 0.0000, 0.0000, 0.0000, 0.0000,\n",
              "         0.0000],\n",
              "        [0.0000, 0.0000, 0.0000, 0.0000, 0.0000, 0.0000, 0.0000, 0.0000, 0.0000,\n",
              "         0.0000, 0.0706, 0.7961, 0.9961, 0.9961, 0.9961, 0.8235, 0.3765, 0.0667,\n",
              "         0.0000, 0.0000, 0.0000, 0.0000, 0.0000, 0.0000, 0.0000, 0.0000, 0.0000,\n",
              "         0.0000],\n",
              "        [0.0000, 0.0000, 0.0000, 0.0000, 0.0000, 0.0000, 0.0000, 0.0000, 0.0000,\n",
              "         0.0000, 0.4353, 0.9961, 0.9961, 0.4667, 0.8941, 0.9961, 0.9961, 0.9412,\n",
              "         0.1490, 0.0000, 0.0000, 0.0000, 0.0000, 0.0000, 0.0000, 0.0000, 0.0000,\n",
              "         0.0000],\n",
              "        [0.0000, 0.0000, 0.0000, 0.0000, 0.0000, 0.0000, 0.0000, 0.0000, 0.0000,\n",
              "         0.0000, 0.8824, 0.9961, 0.7922, 0.0588, 0.1569, 0.8235, 0.9961, 0.9961,\n",
              "         0.4431, 0.0000, 0.0000, 0.0000, 0.0000, 0.0000, 0.0000, 0.0000, 0.0000,\n",
              "         0.0000],\n",
              "        [0.0000, 0.0000, 0.0000, 0.0000, 0.0000, 0.0000, 0.0000, 0.0000, 0.0000,\n",
              "         0.2314, 0.9569, 0.9961, 0.2706, 0.0000, 0.0000, 0.8157, 0.9961, 0.9961,\n",
              "         0.6902, 0.0000, 0.0000, 0.0000, 0.0000, 0.0000, 0.0000, 0.0000, 0.0000,\n",
              "         0.0000],\n",
              "        [0.0000, 0.0000, 0.0000, 0.0000, 0.0000, 0.0000, 0.0000, 0.0000, 0.0000,\n",
              "         0.7725, 0.9961, 0.9961, 0.1333, 0.0000, 0.2235, 0.9843, 0.9961, 0.9961,\n",
              "         0.5725, 0.0000, 0.0000, 0.0000, 0.0000, 0.0000, 0.0000, 0.0000, 0.0000,\n",
              "         0.0000],\n",
              "        [0.0000, 0.0000, 0.0000, 0.0000, 0.0000, 0.0000, 0.0000, 0.0000, 0.0000,\n",
              "         0.9176, 0.9961, 0.6235, 0.0157, 0.0392, 0.7176, 0.9961, 0.9961, 0.9961,\n",
              "         0.3843, 0.0000, 0.0000, 0.0000, 0.0000, 0.0000, 0.0000, 0.0000, 0.0000,\n",
              "         0.0000],\n",
              "        [0.0000, 0.0000, 0.0000, 0.0000, 0.0000, 0.0000, 0.0000, 0.0000, 0.0000,\n",
              "         0.9176, 0.9961, 0.1569, 0.0000, 0.6549, 0.9961, 0.9961, 0.9961, 0.9961,\n",
              "         0.2353, 0.0000, 0.0000, 0.0000, 0.0000, 0.0000, 0.0000, 0.0000, 0.0000,\n",
              "         0.0000],\n",
              "        [0.0000, 0.0000, 0.0000, 0.0000, 0.0000, 0.0000, 0.0000, 0.0000, 0.0000,\n",
              "         0.7373, 0.9961, 0.2824, 0.6588, 0.9765, 0.9961, 0.9961, 0.9961, 0.9961,\n",
              "         0.2353, 0.0000, 0.0000, 0.0000, 0.0000, 0.0000, 0.0000, 0.0000, 0.0000,\n",
              "         0.0000],\n",
              "        [0.0000, 0.0000, 0.0000, 0.0000, 0.0000, 0.0000, 0.0000, 0.0000, 0.0000,\n",
              "         0.3647, 0.9804, 0.9961, 0.9961, 0.9961, 0.9961, 0.9961, 0.9961, 0.9961,\n",
              "         0.2353, 0.0000, 0.0000, 0.0000, 0.0000, 0.0000, 0.0000, 0.0000, 0.0000,\n",
              "         0.0000],\n",
              "        [0.0000, 0.0000, 0.0000, 0.0000, 0.0000, 0.0000, 0.0000, 0.0000, 0.0000,\n",
              "         0.0000, 0.6784, 0.9961, 0.9961, 0.9961, 0.9451, 0.9961, 0.9961, 0.6824,\n",
              "         0.0392, 0.0000, 0.0000, 0.0000, 0.0000, 0.0000, 0.0000, 0.0000, 0.0000,\n",
              "         0.0000],\n",
              "        [0.0000, 0.0000, 0.0000, 0.0000, 0.0000, 0.0000, 0.0000, 0.0000, 0.0000,\n",
              "         0.0000, 0.0431, 0.4863, 0.8157, 0.4627, 0.5804, 0.9961, 0.9961, 0.8941,\n",
              "         0.0000, 0.0000, 0.0000, 0.0000, 0.0000, 0.0000, 0.0000, 0.0000, 0.0000,\n",
              "         0.0000],\n",
              "        [0.0000, 0.0000, 0.0000, 0.0000, 0.0000, 0.0000, 0.0000, 0.0000, 0.0000,\n",
              "         0.0000, 0.0000, 0.0000, 0.0000, 0.0000, 0.4941, 0.9961, 0.9961, 0.6235,\n",
              "         0.0000, 0.0000, 0.0000, 0.0000, 0.0000, 0.0000, 0.0000, 0.0000, 0.0000,\n",
              "         0.0000],\n",
              "        [0.0000, 0.0000, 0.0000, 0.0000, 0.0000, 0.0000, 0.0000, 0.0000, 0.0000,\n",
              "         0.0000, 0.0000, 0.0000, 0.0000, 0.0000, 0.7569, 0.9961, 0.9961, 0.5569,\n",
              "         0.0000, 0.0000, 0.0000, 0.0000, 0.0000, 0.0000, 0.0000, 0.0000, 0.0000,\n",
              "         0.0000],\n",
              "        [0.0000, 0.0000, 0.0000, 0.0000, 0.0000, 0.0000, 0.0000, 0.0000, 0.0000,\n",
              "         0.0000, 0.0000, 0.0000, 0.0000, 0.0000, 0.8314, 0.9961, 0.9961, 0.4157,\n",
              "         0.0000, 0.0000, 0.0000, 0.0000, 0.0000, 0.0000, 0.0000, 0.0000, 0.0000,\n",
              "         0.0000],\n",
              "        [0.0000, 0.0000, 0.0000, 0.0000, 0.0000, 0.0000, 0.0000, 0.0000, 0.0000,\n",
              "         0.0000, 0.0000, 0.0000, 0.0000, 0.0118, 0.8431, 0.9961, 0.9882, 0.2039,\n",
              "         0.0000, 0.0000, 0.0000, 0.0000, 0.0000, 0.0000, 0.0000, 0.0000, 0.0000,\n",
              "         0.0000],\n",
              "        [0.0000, 0.0000, 0.0000, 0.0000, 0.0000, 0.0000, 0.0000, 0.0000, 0.0000,\n",
              "         0.0000, 0.0000, 0.0000, 0.0000, 0.1882, 0.9961, 0.9961, 0.9255, 0.0863,\n",
              "         0.0000, 0.0000, 0.0000, 0.0000, 0.0000, 0.0000, 0.0000, 0.0000, 0.0000,\n",
              "         0.0000],\n",
              "        [0.0000, 0.0000, 0.0000, 0.0000, 0.0000, 0.0000, 0.0000, 0.0000, 0.0000,\n",
              "         0.0000, 0.0000, 0.0000, 0.0000, 0.5098, 0.9961, 1.0000, 0.5529, 0.0627,\n",
              "         0.0000, 0.0000, 0.0000, 0.0000, 0.0000, 0.0000, 0.0000, 0.0000, 0.0000,\n",
              "         0.0000],\n",
              "        [0.0000, 0.0000, 0.0000, 0.0000, 0.0000, 0.0000, 0.0000, 0.0000, 0.0000,\n",
              "         0.0000, 0.0000, 0.0000, 0.0000, 0.5098, 0.9961, 1.0000, 0.3059, 0.0000,\n",
              "         0.0000, 0.0000, 0.0000, 0.0000, 0.0000, 0.0000, 0.0000, 0.0000, 0.0000,\n",
              "         0.0000],\n",
              "        [0.0000, 0.0000, 0.0000, 0.0000, 0.0000, 0.0000, 0.0000, 0.0000, 0.0000,\n",
              "         0.0000, 0.0000, 0.0000, 0.0000, 0.3961, 0.9961, 0.7882, 0.0667, 0.0000,\n",
              "         0.0000, 0.0000, 0.0000, 0.0000, 0.0000, 0.0000, 0.0000, 0.0000, 0.0000,\n",
              "         0.0000],\n",
              "        [0.0000, 0.0000, 0.0000, 0.0000, 0.0000, 0.0000, 0.0000, 0.0000, 0.0000,\n",
              "         0.0000, 0.0000, 0.0000, 0.0000, 0.0000, 0.0000, 0.0000, 0.0000, 0.0000,\n",
              "         0.0000, 0.0000, 0.0000, 0.0000, 0.0000, 0.0000, 0.0000, 0.0000, 0.0000,\n",
              "         0.0000],\n",
              "        [0.0000, 0.0000, 0.0000, 0.0000, 0.0000, 0.0000, 0.0000, 0.0000, 0.0000,\n",
              "         0.0000, 0.0000, 0.0000, 0.0000, 0.0000, 0.0000, 0.0000, 0.0000, 0.0000,\n",
              "         0.0000, 0.0000, 0.0000, 0.0000, 0.0000, 0.0000, 0.0000, 0.0000, 0.0000,\n",
              "         0.0000]])"
            ]
          },
          "metadata": {},
          "execution_count": 80
        }
      ]
    },
    {
      "cell_type": "code",
      "source": [
        "# Show the image\n",
        "plt.imshow(test_data[4143][0].reshape(28,28))"
      ],
      "metadata": {
        "colab": {
          "base_uri": "https://localhost:8080/",
          "height": 447
        },
        "id": "top3rO4MasgA",
        "outputId": "e4b3ba51-1dc6-4c00-a52d-edafbc146ed7"
      },
      "execution_count": 81,
      "outputs": [
        {
          "output_type": "execute_result",
          "data": {
            "text/plain": [
              "<matplotlib.image.AxesImage at 0x7d1871257ca0>"
            ]
          },
          "metadata": {},
          "execution_count": 81
        },
        {
          "output_type": "display_data",
          "data": {
            "text/plain": [
              "<Figure size 640x480 with 1 Axes>"
            ],
            "image/png": "[encoded data removed]"
          },
          "metadata": {}
        }
      ]
    },
    {
      "cell_type": "code",
      "source": [
        "# Pass the image to the model\n",
        "model.eval()\n",
        "with torch.no_grad():\n",
        "  new_prediction = model(test_data[4143][0].view(1,1,28,28)) # batch size of 1, 1 color channel, 28x28 image\n",
        ""
      ],
      "metadata": {
        "id": "B7pWqOjSa0f5"
      },
      "execution_count": 82,
      "outputs": []
    },
    {
      "cell_type": "code",
      "source": [
        "# Check the new prediction.. get proability\n",
        "new_prediction"
      ],
      "metadata": {
        "colab": {
          "base_uri": "https://localhost:8080/"
        },
        "id": "TztivA9HbKEQ",
        "outputId": "9c204b24-bbf3-4ec2-ac03-689f8852a2d6"
      },
      "execution_count": 83,
      "outputs": [
        {
          "output_type": "execute_result",
          "data": {
            "text/plain": [
              "tensor([[-1.9952e+01, -1.9952e+01, -1.9952e+01, -1.7135e+01, -7.0726e+00,\n",
              "         -1.8772e+01, -1.9952e+01, -1.2943e+01, -1.1447e+01, -8.6163e-04,\n",
              "         -1.9952e+01, -1.9952e+01, -1.9952e+01, -1.9952e+01, -1.9952e+01,\n",
              "         -1.9952e+01, -1.9952e+01, -1.9952e+01, -1.9952e+01, -1.9952e+01,\n",
              "         -1.9952e+01, -1.9952e+01, -1.9952e+01, -1.9952e+01, -1.9952e+01,\n",
              "         -1.9952e+01, -1.9952e+01, -1.9952e+01, -1.9952e+01, -1.9952e+01,\n",
              "         -1.9952e+01, -1.9952e+01, -1.9952e+01, -1.9952e+01, -1.9952e+01,\n",
              "         -1.9952e+01, -1.9952e+01, -1.9952e+01, -1.9952e+01, -1.9952e+01,\n",
              "         -1.9952e+01, -1.9952e+01, -1.9952e+01, -1.9952e+01, -1.9952e+01,\n",
              "         -1.9952e+01, -1.9952e+01, -1.9952e+01, -1.9952e+01, -1.9952e+01,\n",
              "         -1.9952e+01, -1.9952e+01, -1.9952e+01, -1.9952e+01, -1.9952e+01,\n",
              "         -1.9952e+01, -1.9952e+01, -1.9952e+01, -1.9952e+01, -1.9952e+01,\n",
              "         -1.9952e+01, -1.9952e+01, -1.9952e+01, -1.9952e+01, -1.9952e+01,\n",
              "         -1.9952e+01, -1.9952e+01, -1.9952e+01, -1.9952e+01, -1.9952e+01,\n",
              "         -1.9952e+01, -1.9952e+01, -1.9952e+01, -1.9952e+01, -1.9952e+01,\n",
              "         -1.9952e+01, -1.9952e+01, -1.9952e+01, -1.9952e+01, -1.9952e+01,\n",
              "         -1.9952e+01, -1.9952e+01, -1.9952e+01, -1.9952e+01]])"
            ]
          },
          "metadata": {},
          "execution_count": 83
        }
      ]
    },
    {
      "cell_type": "code",
      "source": [
        "new_prediction.argmax()"
      ],
      "metadata": {
        "colab": {
          "base_uri": "https://localhost:8080/"
        },
        "id": "FONyCU5QbosA",
        "outputId": "f2d76e88-12c1-47f4-887f-6e68474debb9"
      },
      "execution_count": 84,
      "outputs": [
        {
          "output_type": "execute_result",
          "data": {
            "text/plain": [
              "tensor(9)"
            ]
          },
          "metadata": {},
          "execution_count": 84
        }
      ]
    },
    {
      "cell_type": "markdown",
      "source": [
        "Let's go through the code line by line, explaining every detail, including the parameters, numbers, and the purpose behind each part. I'll also explain CNNs and how they differ from simple neural networks.\n",
        "\n",
        "### Introduction to CNN vs. Simple Neural Networks\n",
        "\n",
        "- **Simple Neural Network (Fully Connected Neural Network):**\n",
        "  - A simple neural network consists of layers where each neuron is connected to every neuron in the next layer. This is known as a fully connected layer. These networks are powerful for tasks where the data doesn't have a specific structure, but they struggle with images because they don't capture spatial hierarchies (like edges, textures, etc.) in images.\n",
        "\n",
        "- **Convolutional Neural Network (CNN):**\n",
        "  - CNNs are designed to process data that has a grid-like structure, such as images. Instead of connecting every neuron to every other neuron, CNNs use convolutional layers that apply filters to small patches of the image. This allows CNNs to capture spatial features like edges and textures, making them more effective for image-related tasks.\n",
        "\n",
        "### Detailed Explanation of the Code\n",
        "\n",
        "#### Importing and Starting the Timer\n",
        "\n",
        "```python\n",
        "import time\n",
        "start_time = time.time()\n",
        "```\n",
        "\n",
        "- **What it does:**\n",
        "  - Imports the `time` module, which is used to track how long the training process takes.\n",
        "  - `start_time = time.time()` records the current time when the training starts. This will be used later to calculate the total training time.\n",
        "\n",
        "#### Initialize Variables to Track Progress\n",
        "\n",
        "```python\n",
        "epochs = 5\n",
        "train_losses = []\n",
        "train_correct = []\n",
        "test_losses = []\n",
        "test_correct = []\n",
        "```\n",
        "\n",
        "- **What it does:**\n",
        "  - `epochs = 5`: Specifies that the model will go through the entire training dataset 5 times.\n",
        "  - `train_losses = []`: An empty list to store the loss values during training after each epoch.\n",
        "  - `train_correct = []`: An empty list to track the number of correct predictions on the training data for each epoch.\n",
        "  - `test_losses = []`: An empty list to store the loss values during testing after each epoch.\n",
        "  - `test_correct = []`: An empty list to track the number of correct predictions on the test data for each epoch.\n",
        "\n",
        "#### Training and Testing Loop\n",
        "\n",
        "```python\n",
        "for i in range(epochs):\n",
        "  trn_corr = 0\n",
        "  tst_corr = 0\n",
        "```\n",
        "\n",
        "- **What it does:**\n",
        "  - `for i in range(epochs)`: Starts a loop that will iterate `epochs` times (5 in this case). Each iteration corresponds to one full pass through the training dataset.\n",
        "  - `trn_corr = 0`: Initializes a variable to count the correct predictions in the training set during the current epoch.\n",
        "  - `tst_corr = 0`: Initializes a variable to count the correct predictions in the test set during the current epoch.\n",
        "\n",
        "#### Training the Model\n",
        "\n",
        "```python\n",
        "for b, (X_train, y_train) in enumerate(train_loader):\n",
        "  b +=1  # start our batches at 1\n",
        "  y_pred = model(X_train)  # get predicted values from the training set. Not FLATTENED, ITS 2D\n",
        "  loss = criterion(y_pred, y_train)  # compare the predicted\n",
        "```\n",
        "\n",
        "- **What it does:**\n",
        "  - `for b, (X_train, y_train) in enumerate(train_loader)`: Loops through the training data in batches. `b` is the batch number, `X_train` is the batch of input images, and `y_train` is the corresponding batch of labels.\n",
        "  - `b += 1`: Starts batch numbering from 1 instead of 0 (optional, just for display purposes).\n",
        "  - `y_pred = model(X_train)`: Passes the batch of images through the model to get the predicted outputs. Since it's CNN, it processes the 2D image data directly.\n",
        "  - `loss = criterion(y_pred, y_train)`: Calculates the loss by comparing the predicted labels (`y_pred`) with the actual labels (`y_train`) using the loss function (criterion).\n",
        "\n",
        "#### Calculating and Tracking Correct Predictions\n",
        "\n",
        "```python\n",
        "predicted = torch.max(y_pred.data, 1)[1]  # add up the number of correct predictions.\n",
        "batch_corr = (predicted == y_train).sum() # how many we got correct from this batch.\n",
        "trn_corr += batch_corr  # keep track as we go along in training\n",
        "```\n",
        "\n",
        "- **What it does:**\n",
        "  - `predicted = torch.max(y_pred.data, 1)[1]`: Finds the index of the maximum value in the predictions for each image in the batch, which corresponds to the predicted class.\n",
        "  - `batch_corr = (predicted == y_train).sum()`: Compares the predicted classes with the actual classes (`y_train`) and sums up the number of correct predictions in the current batch.\n",
        "  - `trn_corr += batch_corr`: Adds the number of correct predictions from this batch to the running total for the current epoch.\n",
        "\n",
        "#### Updating Model Parameters\n",
        "\n",
        "```python\n",
        "optimizer.zero_grad()\n",
        "loss.backward()\n",
        "optimizer.step()\n",
        "```\n",
        "\n",
        "- **What it does:**\n",
        "  - `optimizer.zero_grad()`: Resets the gradients to zero. This is important because, by default, gradients accumulate after every `backward()` call.\n",
        "  - `loss.backward()`: Computes the gradients of the loss with respect to the model's parameters. These gradients are then used to update the parameters.\n",
        "  - `optimizer.step()`: Updates the model's parameters using the gradients calculated by `loss.backward()` and the learning rate defined in the optimizer.\n",
        "\n",
        "#### Printing Progress\n",
        "\n",
        "```python\n",
        "if b%600 == 0:\n",
        "  print(f'Epoch: {i}  Batch: {b}  Loss: {loss.item()}')\n",
        "```\n",
        "\n",
        "- **What it does:**\n",
        "  - `if b%600 == 0`: Checks if the current batch number `b` is a multiple of 600. This is just an arbitrary choice to print progress every 600 batches.\n",
        "  - `print(f'Epoch: {i}  Batch: {b}  Loss: {loss.item()}')`: Prints the current epoch, batch number, and loss value.\n",
        "\n",
        "#### Storing Results\n",
        "\n",
        "```python\n",
        "train_losses.append(loss)\n",
        "train_correct.append(trn_corr)\n",
        "```\n",
        "\n",
        "- **What it does:**\n",
        "  - `train_losses.append(loss)`: Adds the current loss value to the `train_losses` list after each epoch.\n",
        "  - `train_correct.append(trn_corr)`: Adds the total number of correct predictions in the training set to the `train_correct` list after each epoch.\n",
        "\n",
        "#### Testing the Model\n",
        "\n",
        "```python\n",
        "with torch.no_grad():\n",
        "  for b, (X_test, y_test) in enumerate(test_loader):\n",
        "    y_val = model(X_test)\n",
        "    predicted = torch.max(y_val.data, 1)[1]\n",
        "    tst_corr += (predicted == y_test).sum()\n",
        "```\n",
        "\n",
        "- **What it does:**\n",
        "  - `with torch.no_grad()`: Disables gradient calculation because we don't want to update the model during testing. This makes testing faster and reduces memory usage.\n",
        "  - `for b, (X_test, y_test) in enumerate(test_loader)`: Loops through the test data in batches, just like in training.\n",
        "  - `y_val = model(X_test)`: Passes the test images through the model to get predictions.\n",
        "  - `predicted = torch.max(y_val.data, 1)[1]`: Finds the predicted class for each image.\n",
        "  - `tst_corr += (predicted == y_test).sum()`: Sums up the number of correct predictions for the test set.\n",
        "\n",
        "#### Storing Test Results\n",
        "\n",
        "```python\n",
        "loss = criterion(y_val, y_test)\n",
        "test_losses.append(loss)\n",
        "test_correct.append(tst_corr)\n",
        "```\n",
        "\n",
        "- **What it does:**\n",
        "  - `loss = criterion(y_val, y_test)`: Calculates the loss on the test set.\n",
        "  - `test_losses.append(loss)`: Adds the test loss to the `test_losses` list after each epoch.\n",
        "  - `test_correct.append(tst_corr)`: Adds the number of correct predictions on the test set to `test_correct` after each epoch.\n",
        "\n",
        "#### Calculate and Print Total Training Time\n",
        "\n",
        "```python\n",
        "current_time = time.time()\n",
        "total = current_time - start_time\n",
        "print(f\"Training Took: {total/60} minutes!\")\n",
        "```\n",
        "\n",
        "- **What it does:**\n",
        "  - `current_time = time.time()`: Gets the current time after training is done.\n",
        "  - `total = current_time - start_time`: Calculates the total time spent training by subtracting the start time from the current time.\n",
        "  - `print(f\"Training Took: {total/60} minutes!\")`: Converts the total time from seconds to minutes and prints it.\n",
        "\n",
        "### Plotting Results\n",
        "\n",
        "#### Plotting Loss\n",
        "\n",
        "```python\n",
        "train_losses = [t1.item() for t1 in train_losses]\n",
        "test_losses = [t1.item() for t1 in test_losses]\n",
        "plt.plot(train_losses, label='Training Loss')\n",
        "plt.plot(test_losses, label='Testing Loss')\n",
        "plt.title('Loss at Epoch')\n",
        "plt.legend()\n",
        "```\n",
        "\n",
        "- **What it does:**\n",
        "  - `train_losses = [t1.item() for t1 in train_losses]`: Converts the training losses from tensors to simple numbers (floats) that can be plotted.\n",
        "  - `test_losses = [t1.item() for t1 in test_losses]`: Similarly converts test losses to floats.\n",
        "  - `plt.plot(train_losses, label='Training Loss')`: Plots the training loss over each epoch.\n",
        "  - `plt.plot(test_losses, label='Testing Loss')`: Plots the test loss over each epoch.\n",
        "  - `plt.title('Loss at Epoch')`: Sets the title of the plot.\n",
        "  - `plt.legend()`: Adds a\n",
        "\n",
        " legend to the plot to distinguish between training and testing loss.\n",
        "\n",
        "#### Plotting Accuracy\n",
        "\n",
        "```python\n",
        "plt.plot([t/600 for t in train_correct], label=\"Training Accuracy\")\n",
        "plt.plot([t/100 for t in test_correct], label=\"Testing Accuracy\")\n",
        "plt.title(\"Accuracy at Epoch\")\n",
        "plt.legend()\n",
        "```\n",
        "\n",
        "- **What it does:**\n",
        "  - `plt.plot([t/600 for t in train_correct], label=\"Training Accuracy\")`: Plots the training accuracy over each epoch. Divides by 600 because that's the number of batches.\n",
        "  - `plt.plot([t/100 for t in test_correct], label=\"Testing Accuracy\")`: Plots the test accuracy over each epoch. Divides by 100 for the same reason.\n",
        "  - `plt.title(\"Accuracy at Epoch\")`: Sets the title of the plot.\n",
        "  - `plt.legend()`: Adds a legend to the plot to distinguish between training and testing accuracy.\n",
        "\n",
        "#### Checking Model Accuracy on Entire Test Set\n",
        "\n",
        "```python\n",
        "test_load_everything = DataLoader(test_data, batch_size=10000, shuffle=False)\n",
        "```\n",
        "\n",
        "- **What it does:**\n",
        "  - `test_load_everything = DataLoader(test_data, batch_size=10000, shuffle=False)`: Loads the entire test set in one batch (batch size of 10,000) without shuffling. This is useful for calculating overall accuracy.\n",
        "\n",
        "```python\n",
        "with torch.no_grad():\n",
        "  correct = 0\n",
        "  for X_test, y_test in test_load_everything:\n",
        "    y_val = model(X_test)\n",
        "    predicted = torch.max(y_val.data, 1)[1]\n",
        "    correct += (predicted == y_test).sum()\n",
        "```\n",
        "\n",
        "- **What it does:**\n",
        "  - `with torch.no_grad()`: Again, disables gradient calculation.\n",
        "  - `correct = 0`: Initializes a counter for the correct predictions.\n",
        "  - `for X_test, y_test in test_load_everything`: Loops through the entire test set.\n",
        "  - `y_val = model(X_test)`: Passes the test images through the model.\n",
        "  - `predicted = torch.max(y_val.data, 1)[1]`: Gets the predicted classes.\n",
        "  - `correct += (predicted == y_test).sum()`: Sums up the number of correct predictions.\n",
        "\n",
        "```python\n",
        "correct.item()/len(test_data)*100\n",
        "```\n",
        "\n",
        "- **What it does:**\n",
        "  - `correct.item()/len(test_data)*100`: Calculates the percentage of correct predictions on the test set.\n",
        "\n",
        "### Sending New Images Through the Model\n",
        "\n",
        "#### Loading and Reshaping Images\n",
        "\n",
        "```python\n",
        "test_data[4111]\n",
        "test_data[4143][0]\n",
        "test_data[4143][0].reshape(28,28)\n",
        "plt.imshow(test_data[4143][0].reshape(28,28))\n",
        "```\n",
        "\n",
        "- **What it does:**\n",
        "  - `test_data[4111]`: Accesses the image at index 4111 from the test set.\n",
        "  - `test_data[4143][0]`: Accesses the image at index 4143. The `[0]` is used to get the image itself, excluding the label.\n",
        "  - `test_data[4143][0].reshape(28,28)`: Reshapes the image back to its original 28x28 format.\n",
        "  - `plt.imshow(test_data[4143][0].reshape(28,28))`: Displays the image using Matplotlib.\n",
        "\n",
        "#### Passing the Image Through the Model\n",
        "\n",
        "```python\n",
        "model.eval()\n",
        "with torch.no_grad():\n",
        "  new_prediction = model(test_data[4143][0].view(1,1,28,28)) # batch size of 1, 1 color channel, 28x28 image\n",
        "```\n",
        "\n",
        "- **What it does:**\n",
        "  - `model.eval()`: Puts the model in evaluation mode, meaning it won't update any weights or biases during this process.\n",
        "  - `with torch.no_grad()`: Disables gradient calculations.\n",
        "  - `new_prediction = model(test_data[4143][0].view(1,1,28,28))`: Passes the image through the model after reshaping it to fit the model's expected input format: 1 image, 1 color channel, and 28x28 pixels.\n",
        "\n",
        "#### Checking the Prediction\n",
        "\n",
        "```python\n",
        "new_prediction\n",
        "new_prediction.argmax()\n",
        "```\n",
        "\n",
        "- **What it does:**\n",
        "  - `new_prediction`: The raw output of the model, which contains the predicted scores for each class.\n",
        "  - `new_prediction.argmax()`: Finds the index of the highest score, which corresponds to the predicted digit.\n",
        "\n",
        "### Summary\n",
        "\n",
        "This code performs the training and testing of a Convolutional Neural Network (CNN) on the MNIST dataset, tracks its performance, and even allows for testing on new images. CNNs are specifically effective for image data because they capture spatial features, making them superior to simple neural networks for tasks like image classification. Every line in the code plays a crucial role, from data preprocessing to model evaluation, ensuring that the model learns and makes accurate predictions."
      ],
      "metadata": {
        "id": "efM0MK5Ue_F4"
      }
    },
    {
      "cell_type": "markdown",
      "source": [
        "The method `t1.item()` is used in PyTorch to extract the value of a single-element tensor as a standard Python number (e.g., a float or int). In the context of your code, `t1` represents a tensor object that contains the loss value after each epoch. By using `t1.item()`, you convert this tensor to a regular Python number, which is necessary for plotting and further calculations.\n",
        "\n",
        "### Detailed Explanation\n",
        "\n",
        "- **Tensor in PyTorch:**\n",
        "  - In PyTorch, data (like loss values) is often stored in a structure called a `tensor`, which is similar to a NumPy array but with additional functionality, like GPU acceleration.\n",
        "\n",
        "- **Single-Element Tensor:**\n",
        "  - After the loss is calculated (using the criterion function), it is stored as a tensor with a single element. For example, if the loss is `0.035`, the tensor might look like `tensor(0.035)`.\n",
        "\n",
        "- **Using `.item()`:**\n",
        "  - The `.item()` method is called on this single-element tensor to convert it into a Python scalar (e.g., `0.035`). This makes it easier to handle in standard Python operations like plotting.\n",
        "\n",
        "### Example Output\n",
        "\n",
        "Let’s consider the loss value after an epoch is stored as a tensor:\n",
        "\n",
        "```python\n",
        "loss = tensor(0.035)  # A single-element tensor\n",
        "```\n",
        "\n",
        "- Without using `.item()`, `loss` is still a tensor:\n",
        "\n",
        "```python\n",
        "print(loss)\n",
        "# Output: tensor(0.035)\n",
        "```\n",
        "\n",
        "- Using `.item()`:\n",
        "\n",
        "```python\n",
        "loss_value = loss.item()\n",
        "print(loss_value)\n",
        "# Output: 0.035\n",
        "```\n",
        "\n",
        "- In your code:\n",
        "\n",
        "```python\n",
        "train_losses = [t1.item() for t1 in train_losses]\n",
        "```\n",
        "\n",
        "This line of code iterates over all the loss tensors stored in `train_losses`, converts each one to a Python float, and stores the resulting list of floats in `train_losses`.\n",
        "\n",
        "### Purpose in the Code\n",
        "\n",
        "- **Why use `.item()`?**\n",
        "  - Plotting libraries like Matplotlib expect standard Python data types (like floats or ints) rather than PyTorch tensors. The `item()` method ensures that the data is in the correct format for plotting.\n",
        "\n",
        "- **What happens without `.item()`?**\n",
        "  - If you don’t convert the tensors to floats, you may encounter errors when trying to plot or manipulate these values with standard Python libraries. Even if it doesn't throw an error, the plot might not behave as expected.\n",
        "\n",
        "In summary, `t1.item()` is used to convert the loss tensor into a Python number, making it suitable for plotting and further calculations."
      ],
      "metadata": {
        "id": "61oHUvIdfAQo"
      }
    }
  ]
}