{
  "nbformat": 4,
  "nbformat_minor": 0,
  "metadata": {
    "colab": {
      "provenance": [],
      "gpuType": "T4",
      "authorship_tag": "ABX9TyPPMNWKTUkyD0gFuvZMlnd5",
      "include_colab_link": true
    },
    "kernelspec": {
      "name": "python3",
      "display_name": "Python 3"
    },
    "language_info": {
      "name": "python"
    },
    "accelerator": "GPU",
    "widgets": {
      "application/vnd.jupyter.widget-state+json": {
        "ab606c0a65b54740bb3e50e64aa6cbfe": {
          "model_module": "@jupyter-widgets/controls",
          "model_name": "HBoxModel",
          "model_module_version": "1.5.0",
          "state": {
            "_dom_classes": [],
            "_model_module": "@jupyter-widgets/controls",
            "_model_module_version": "1.5.0",
            "_model_name": "HBoxModel",
            "_view_count": null,
            "_view_module": "@jupyter-widgets/controls",
            "_view_module_version": "1.5.0",
            "_view_name": "HBoxView",
            "box_style": "",
            "children": [
              "IPY_MODEL_bf12206bf04941c4b29607d1f915f6bd",
              "IPY_MODEL_672017eead3a46a8a74b3c47c2b6d9e7",
              "IPY_MODEL_b7f788ef87da49afb87cb2123a6b5f16"
            ],
            "layout": "IPY_MODEL_857308623cf241edbe5a2889eb754c7d"
          }
        },
        "bf12206bf04941c4b29607d1f915f6bd": {
          "model_module": "@jupyter-widgets/controls",
          "model_name": "HTMLModel",
          "model_module_version": "1.5.0",
          "state": {
            "_dom_classes": [],
            "_model_module": "@jupyter-widgets/controls",
            "_model_module_version": "1.5.0",
            "_model_name": "HTMLModel",
            "_view_count": null,
            "_view_module": "@jupyter-widgets/controls",
            "_view_module_version": "1.5.0",
            "_view_name": "HTMLView",
            "description": "",
            "description_tooltip": null,
            "layout": "IPY_MODEL_2bc3f788f0ac4e92891a4903e290cfdd",
            "placeholder": "​",
            "style": "IPY_MODEL_4a8d7c3ba4484496942cb77bea1e7fce",
            "value": "Downloading readme: 100%"
          }
        },
        "672017eead3a46a8a74b3c47c2b6d9e7": {
          "model_module": "@jupyter-widgets/controls",
          "model_name": "FloatProgressModel",
          "model_module_version": "1.5.0",
          "state": {
            "_dom_classes": [],
            "_model_module": "@jupyter-widgets/controls",
            "_model_module_version": "1.5.0",
            "_model_name": "FloatProgressModel",
            "_view_count": null,
            "_view_module": "@jupyter-widgets/controls",
            "_view_module_version": "1.5.0",
            "_view_name": "ProgressView",
            "bar_style": "success",
            "description": "",
            "description_tooltip": null,
            "layout": "IPY_MODEL_90f3d783c58d498fbc47d229433ebac1",
            "max": 5157,
            "min": 0,
            "orientation": "horizontal",
            "style": "IPY_MODEL_be6fade7e1374a96861fd91770177eb2",
            "value": 5157
          }
        },
        "b7f788ef87da49afb87cb2123a6b5f16": {
          "model_module": "@jupyter-widgets/controls",
          "model_name": "HTMLModel",
          "model_module_version": "1.5.0",
          "state": {
            "_dom_classes": [],
            "_model_module": "@jupyter-widgets/controls",
            "_model_module_version": "1.5.0",
            "_model_name": "HTMLModel",
            "_view_count": null,
            "_view_module": "@jupyter-widgets/controls",
            "_view_module_version": "1.5.0",
            "_view_name": "HTMLView",
            "description": "",
            "description_tooltip": null,
            "layout": "IPY_MODEL_12c27bc645f249c6b2775ee9551b1758",
            "placeholder": "​",
            "style": "IPY_MODEL_f8363ab0d81a4b0d8f3e3910f0193e3f",
            "value": " 5.16k/5.16k [00:00&lt;00:00, 36.1kB/s]"
          }
        },
        "857308623cf241edbe5a2889eb754c7d": {
          "model_module": "@jupyter-widgets/base",
          "model_name": "LayoutModel",
          "model_module_version": "1.2.0",
          "state": {
            "_model_module": "@jupyter-widgets/base",
            "_model_module_version": "1.2.0",
            "_model_name": "LayoutModel",
            "_view_count": null,
            "_view_module": "@jupyter-widgets/base",
            "_view_module_version": "1.2.0",
            "_view_name": "LayoutView",
            "align_content": null,
            "align_items": null,
            "align_self": null,
            "border": null,
            "bottom": null,
            "display": null,
            "flex": null,
            "flex_flow": null,
            "grid_area": null,
            "grid_auto_columns": null,
            "grid_auto_flow": null,
            "grid_auto_rows": null,
            "grid_column": null,
            "grid_gap": null,
            "grid_row": null,
            "grid_template_areas": null,
            "grid_template_columns": null,
            "grid_template_rows": null,
            "height": null,
            "justify_content": null,
            "justify_items": null,
            "left": null,
            "margin": null,
            "max_height": null,
            "max_width": null,
            "min_height": null,
            "min_width": null,
            "object_fit": null,
            "object_position": null,
            "order": null,
            "overflow": null,
            "overflow_x": null,
            "overflow_y": null,
            "padding": null,
            "right": null,
            "top": null,
            "visibility": null,
            "width": null
          }
        },
        "2bc3f788f0ac4e92891a4903e290cfdd": {
          "model_module": "@jupyter-widgets/base",
          "model_name": "LayoutModel",
          "model_module_version": "1.2.0",
          "state": {
            "_model_module": "@jupyter-widgets/base",
            "_model_module_version": "1.2.0",
            "_model_name": "LayoutModel",
            "_view_count": null,
            "_view_module": "@jupyter-widgets/base",
            "_view_module_version": "1.2.0",
            "_view_name": "LayoutView",
            "align_content": null,
            "align_items": null,
            "align_self": null,
            "border": null,
            "bottom": null,
            "display": null,
            "flex": null,
            "flex_flow": null,
            "grid_area": null,
            "grid_auto_columns": null,
            "grid_auto_flow": null,
            "grid_auto_rows": null,
            "grid_column": null,
            "grid_gap": null,
            "grid_row": null,
            "grid_template_areas": null,
            "grid_template_columns": null,
            "grid_template_rows": null,
            "height": null,
            "justify_content": null,
            "justify_items": null,
            "left": null,
            "margin": null,
            "max_height": null,
            "max_width": null,
            "min_height": null,
            "min_width": null,
            "object_fit": null,
            "object_position": null,
            "order": null,
            "overflow": null,
            "overflow_x": null,
            "overflow_y": null,
            "padding": null,
            "right": null,
            "top": null,
            "visibility": null,
            "width": null
          }
        },
        "4a8d7c3ba4484496942cb77bea1e7fce": {
          "model_module": "@jupyter-widgets/controls",
          "model_name": "DescriptionStyleModel",
          "model_module_version": "1.5.0",
          "state": {
            "_model_module": "@jupyter-widgets/controls",
            "_model_module_version": "1.5.0",
            "_model_name": "DescriptionStyleModel",
            "_view_count": null,
            "_view_module": "@jupyter-widgets/base",
            "_view_module_version": "1.2.0",
            "_view_name": "StyleView",
            "description_width": ""
          }
        },
        "90f3d783c58d498fbc47d229433ebac1": {
          "model_module": "@jupyter-widgets/base",
          "model_name": "LayoutModel",
          "model_module_version": "1.2.0",
          "state": {
            "_model_module": "@jupyter-widgets/base",
            "_model_module_version": "1.2.0",
            "_model_name": "LayoutModel",
            "_view_count": null,
            "_view_module": "@jupyter-widgets/base",
            "_view_module_version": "1.2.0",
            "_view_name": "LayoutView",
            "align_content": null,
            "align_items": null,
            "align_self": null,
            "border": null,
            "bottom": null,
            "display": null,
            "flex": null,
            "flex_flow": null,
            "grid_area": null,
            "grid_auto_columns": null,
            "grid_auto_flow": null,
            "grid_auto_rows": null,
            "grid_column": null,
            "grid_gap": null,
            "grid_row": null,
            "grid_template_areas": null,
            "grid_template_columns": null,
            "grid_template_rows": null,
            "height": null,
            "justify_content": null,
            "justify_items": null,
            "left": null,
            "margin": null,
            "max_height": null,
            "max_width": null,
            "min_height": null,
            "min_width": null,
            "object_fit": null,
            "object_position": null,
            "order": null,
            "overflow": null,
            "overflow_x": null,
            "overflow_y": null,
            "padding": null,
            "right": null,
            "top": null,
            "visibility": null,
            "width": null
          }
        },
        "be6fade7e1374a96861fd91770177eb2": {
          "model_module": "@jupyter-widgets/controls",
          "model_name": "ProgressStyleModel",
          "model_module_version": "1.5.0",
          "state": {
            "_model_module": "@jupyter-widgets/controls",
            "_model_module_version": "1.5.0",
            "_model_name": "ProgressStyleModel",
            "_view_count": null,
            "_view_module": "@jupyter-widgets/base",
            "_view_module_version": "1.2.0",
            "_view_name": "StyleView",
            "bar_color": null,
            "description_width": ""
          }
        },
        "12c27bc645f249c6b2775ee9551b1758": {
          "model_module": "@jupyter-widgets/base",
          "model_name": "LayoutModel",
          "model_module_version": "1.2.0",
          "state": {
            "_model_module": "@jupyter-widgets/base",
            "_model_module_version": "1.2.0",
            "_model_name": "LayoutModel",
            "_view_count": null,
            "_view_module": "@jupyter-widgets/base",
            "_view_module_version": "1.2.0",
            "_view_name": "LayoutView",
            "align_content": null,
            "align_items": null,
            "align_self": null,
            "border": null,
            "bottom": null,
            "display": null,
            "flex": null,
            "flex_flow": null,
            "grid_area": null,
            "grid_auto_columns": null,
            "grid_auto_flow": null,
            "grid_auto_rows": null,
            "grid_column": null,
            "grid_gap": null,
            "grid_row": null,
            "grid_template_areas": null,
            "grid_template_columns": null,
            "grid_template_rows": null,
            "height": null,
            "justify_content": null,
            "justify_items": null,
            "left": null,
            "margin": null,
            "max_height": null,
            "max_width": null,
            "min_height": null,
            "min_width": null,
            "object_fit": null,
            "object_position": null,
            "order": null,
            "overflow": null,
            "overflow_x": null,
            "overflow_y": null,
            "padding": null,
            "right": null,
            "top": null,
            "visibility": null,
            "width": null
          }
        },
        "f8363ab0d81a4b0d8f3e3910f0193e3f": {
          "model_module": "@jupyter-widgets/controls",
          "model_name": "DescriptionStyleModel",
          "model_module_version": "1.5.0",
          "state": {
            "_model_module": "@jupyter-widgets/controls",
            "_model_module_version": "1.5.0",
            "_model_name": "DescriptionStyleModel",
            "_view_count": null,
            "_view_module": "@jupyter-widgets/base",
            "_view_module_version": "1.2.0",
            "_view_name": "StyleView",
            "description_width": ""
          }
        },
        "774ddc06fe02499780c0a9997b4c4fb1": {
          "model_module": "@jupyter-widgets/controls",
          "model_name": "HBoxModel",
          "model_module_version": "1.5.0",
          "state": {
            "_dom_classes": [],
            "_model_module": "@jupyter-widgets/controls",
            "_model_module_version": "1.5.0",
            "_model_name": "HBoxModel",
            "_view_count": null,
            "_view_module": "@jupyter-widgets/controls",
            "_view_module_version": "1.5.0",
            "_view_name": "HBoxView",
            "box_style": "",
            "children": [
              "IPY_MODEL_8cdb4d684f564ea0b8d8243a223258ba",
              "IPY_MODEL_7c0c45ec0eaa4d59ac002ed31b6059fc",
              "IPY_MODEL_1f61f21f0bc94f2a980d7a8bebd5951d"
            ],
            "layout": "IPY_MODEL_5697cca6f7724d8bb17fb27b67f65836"
          }
        },
        "8cdb4d684f564ea0b8d8243a223258ba": {
          "model_module": "@jupyter-widgets/controls",
          "model_name": "HTMLModel",
          "model_module_version": "1.5.0",
          "state": {
            "_dom_classes": [],
            "_model_module": "@jupyter-widgets/controls",
            "_model_module_version": "1.5.0",
            "_model_name": "HTMLModel",
            "_view_count": null,
            "_view_module": "@jupyter-widgets/controls",
            "_view_module_version": "1.5.0",
            "_view_name": "HTMLView",
            "description": "",
            "description_tooltip": null,
            "layout": "IPY_MODEL_df703f5356b14a47a8cebf30877168bd",
            "placeholder": "​",
            "style": "IPY_MODEL_879f29d0657f4f88b9b3e7b0a370109d",
            "value": "Downloading data: 100%"
          }
        },
        "7c0c45ec0eaa4d59ac002ed31b6059fc": {
          "model_module": "@jupyter-widgets/controls",
          "model_name": "FloatProgressModel",
          "model_module_version": "1.5.0",
          "state": {
            "_dom_classes": [],
            "_model_module": "@jupyter-widgets/controls",
            "_model_module_version": "1.5.0",
            "_model_name": "FloatProgressModel",
            "_view_count": null,
            "_view_module": "@jupyter-widgets/controls",
            "_view_module_version": "1.5.0",
            "_view_name": "ProgressView",
            "bar_style": "success",
            "description": "",
            "description_tooltip": null,
            "layout": "IPY_MODEL_dc1202d2bd3d4a23b7a367945c92cfc9",
            "max": 119705255,
            "min": 0,
            "orientation": "horizontal",
            "style": "IPY_MODEL_8b252ef617c748429b8915c546f46dee",
            "value": 119705255
          }
        },
        "1f61f21f0bc94f2a980d7a8bebd5951d": {
          "model_module": "@jupyter-widgets/controls",
          "model_name": "HTMLModel",
          "model_module_version": "1.5.0",
          "state": {
            "_dom_classes": [],
            "_model_module": "@jupyter-widgets/controls",
            "_model_module_version": "1.5.0",
            "_model_name": "HTMLModel",
            "_view_count": null,
            "_view_module": "@jupyter-widgets/controls",
            "_view_module_version": "1.5.0",
            "_view_name": "HTMLView",
            "description": "",
            "description_tooltip": null,
            "layout": "IPY_MODEL_9dbd2cb9c354451a98f808a32c583a1f",
            "placeholder": "​",
            "style": "IPY_MODEL_da53ac94724e4061b607264ebb69d044",
            "value": " 120M/120M [00:02&lt;00:00, 54.4MB/s]"
          }
        },
        "5697cca6f7724d8bb17fb27b67f65836": {
          "model_module": "@jupyter-widgets/base",
          "model_name": "LayoutModel",
          "model_module_version": "1.2.0",
          "state": {
            "_model_module": "@jupyter-widgets/base",
            "_model_module_version": "1.2.0",
            "_model_name": "LayoutModel",
            "_view_count": null,
            "_view_module": "@jupyter-widgets/base",
            "_view_module_version": "1.2.0",
            "_view_name": "LayoutView",
            "align_content": null,
            "align_items": null,
            "align_self": null,
            "border": null,
            "bottom": null,
            "display": null,
            "flex": null,
            "flex_flow": null,
            "grid_area": null,
            "grid_auto_columns": null,
            "grid_auto_flow": null,
            "grid_auto_rows": null,
            "grid_column": null,
            "grid_gap": null,
            "grid_row": null,
            "grid_template_areas": null,
            "grid_template_columns": null,
            "grid_template_rows": null,
            "height": null,
            "justify_content": null,
            "justify_items": null,
            "left": null,
            "margin": null,
            "max_height": null,
            "max_width": null,
            "min_height": null,
            "min_width": null,
            "object_fit": null,
            "object_position": null,
            "order": null,
            "overflow": null,
            "overflow_x": null,
            "overflow_y": null,
            "padding": null,
            "right": null,
            "top": null,
            "visibility": null,
            "width": null
          }
        },
        "df703f5356b14a47a8cebf30877168bd": {
          "model_module": "@jupyter-widgets/base",
          "model_name": "LayoutModel",
          "model_module_version": "1.2.0",
          "state": {
            "_model_module": "@jupyter-widgets/base",
            "_model_module_version": "1.2.0",
            "_model_name": "LayoutModel",
            "_view_count": null,
            "_view_module": "@jupyter-widgets/base",
            "_view_module_version": "1.2.0",
            "_view_name": "LayoutView",
            "align_content": null,
            "align_items": null,
            "align_self": null,
            "border": null,
            "bottom": null,
            "display": null,
            "flex": null,
            "flex_flow": null,
            "grid_area": null,
            "grid_auto_columns": null,
            "grid_auto_flow": null,
            "grid_auto_rows": null,
            "grid_column": null,
            "grid_gap": null,
            "grid_row": null,
            "grid_template_areas": null,
            "grid_template_columns": null,
            "grid_template_rows": null,
            "height": null,
            "justify_content": null,
            "justify_items": null,
            "left": null,
            "margin": null,
            "max_height": null,
            "max_width": null,
            "min_height": null,
            "min_width": null,
            "object_fit": null,
            "object_position": null,
            "order": null,
            "overflow": null,
            "overflow_x": null,
            "overflow_y": null,
            "padding": null,
            "right": null,
            "top": null,
            "visibility": null,
            "width": null
          }
        },
        "879f29d0657f4f88b9b3e7b0a370109d": {
          "model_module": "@jupyter-widgets/controls",
          "model_name": "DescriptionStyleModel",
          "model_module_version": "1.5.0",
          "state": {
            "_model_module": "@jupyter-widgets/controls",
            "_model_module_version": "1.5.0",
            "_model_name": "DescriptionStyleModel",
            "_view_count": null,
            "_view_module": "@jupyter-widgets/base",
            "_view_module_version": "1.2.0",
            "_view_name": "StyleView",
            "description_width": ""
          }
        },
        "dc1202d2bd3d4a23b7a367945c92cfc9": {
          "model_module": "@jupyter-widgets/base",
          "model_name": "LayoutModel",
          "model_module_version": "1.2.0",
          "state": {
            "_model_module": "@jupyter-widgets/base",
            "_model_module_version": "1.2.0",
            "_model_name": "LayoutModel",
            "_view_count": null,
            "_view_module": "@jupyter-widgets/base",
            "_view_module_version": "1.2.0",
            "_view_name": "LayoutView",
            "align_content": null,
            "align_items": null,
            "align_self": null,
            "border": null,
            "bottom": null,
            "display": null,
            "flex": null,
            "flex_flow": null,
            "grid_area": null,
            "grid_auto_columns": null,
            "grid_auto_flow": null,
            "grid_auto_rows": null,
            "grid_column": null,
            "grid_gap": null,
            "grid_row": null,
            "grid_template_areas": null,
            "grid_template_columns": null,
            "grid_template_rows": null,
            "height": null,
            "justify_content": null,
            "justify_items": null,
            "left": null,
            "margin": null,
            "max_height": null,
            "max_width": null,
            "min_height": null,
            "min_width": null,
            "object_fit": null,
            "object_position": null,
            "order": null,
            "overflow": null,
            "overflow_x": null,
            "overflow_y": null,
            "padding": null,
            "right": null,
            "top": null,
            "visibility": null,
            "width": null
          }
        },
        "8b252ef617c748429b8915c546f46dee": {
          "model_module": "@jupyter-widgets/controls",
          "model_name": "ProgressStyleModel",
          "model_module_version": "1.5.0",
          "state": {
            "_model_module": "@jupyter-widgets/controls",
            "_model_module_version": "1.5.0",
            "_model_name": "ProgressStyleModel",
            "_view_count": null,
            "_view_module": "@jupyter-widgets/base",
            "_view_module_version": "1.2.0",
            "_view_name": "StyleView",
            "bar_color": null,
            "description_width": ""
          }
        },
        "9dbd2cb9c354451a98f808a32c583a1f": {
          "model_module": "@jupyter-widgets/base",
          "model_name": "LayoutModel",
          "model_module_version": "1.2.0",
          "state": {
            "_model_module": "@jupyter-widgets/base",
            "_model_module_version": "1.2.0",
            "_model_name": "LayoutModel",
            "_view_count": null,
            "_view_module": "@jupyter-widgets/base",
            "_view_module_version": "1.2.0",
            "_view_name": "LayoutView",
            "align_content": null,
            "align_items": null,
            "align_self": null,
            "border": null,
            "bottom": null,
            "display": null,
            "flex": null,
            "flex_flow": null,
            "grid_area": null,
            "grid_auto_columns": null,
            "grid_auto_flow": null,
            "grid_auto_rows": null,
            "grid_column": null,
            "grid_gap": null,
            "grid_row": null,
            "grid_template_areas": null,
            "grid_template_columns": null,
            "grid_template_rows": null,
            "height": null,
            "justify_content": null,
            "justify_items": null,
            "left": null,
            "margin": null,
            "max_height": null,
            "max_width": null,
            "min_height": null,
            "min_width": null,
            "object_fit": null,
            "object_position": null,
            "order": null,
            "overflow": null,
            "overflow_x": null,
            "overflow_y": null,
            "padding": null,
            "right": null,
            "top": null,
            "visibility": null,
            "width": null
          }
        },
        "da53ac94724e4061b607264ebb69d044": {
          "model_module": "@jupyter-widgets/controls",
          "model_name": "DescriptionStyleModel",
          "model_module_version": "1.5.0",
          "state": {
            "_model_module": "@jupyter-widgets/controls",
            "_model_module_version": "1.5.0",
            "_model_name": "DescriptionStyleModel",
            "_view_count": null,
            "_view_module": "@jupyter-widgets/base",
            "_view_module_version": "1.2.0",
            "_view_name": "StyleView",
            "description_width": ""
          }
        },
        "dd805c866ffa4e6da35157ad53703933": {
          "model_module": "@jupyter-widgets/controls",
          "model_name": "HBoxModel",
          "model_module_version": "1.5.0",
          "state": {
            "_dom_classes": [],
            "_model_module": "@jupyter-widgets/controls",
            "_model_module_version": "1.5.0",
            "_model_name": "HBoxModel",
            "_view_count": null,
            "_view_module": "@jupyter-widgets/controls",
            "_view_module_version": "1.5.0",
            "_view_name": "HBoxView",
            "box_style": "",
            "children": [
              "IPY_MODEL_65e63cc96db944e9a3e0a92c1681a56f",
              "IPY_MODEL_01a95d512c9846e7ad072ec9a4837012",
              "IPY_MODEL_64267efee4a141638c3e0a078de210fc"
            ],
            "layout": "IPY_MODEL_fcccf97bfb354f31b6d20d9bf9ce9bc4"
          }
        },
        "65e63cc96db944e9a3e0a92c1681a56f": {
          "model_module": "@jupyter-widgets/controls",
          "model_name": "HTMLModel",
          "model_module_version": "1.5.0",
          "state": {
            "_dom_classes": [],
            "_model_module": "@jupyter-widgets/controls",
            "_model_module_version": "1.5.0",
            "_model_name": "HTMLModel",
            "_view_count": null,
            "_view_module": "@jupyter-widgets/controls",
            "_view_module_version": "1.5.0",
            "_view_name": "HTMLView",
            "description": "",
            "description_tooltip": null,
            "layout": "IPY_MODEL_07179eab9d1e4a0198fb971fef5cc076",
            "placeholder": "​",
            "style": "IPY_MODEL_917a9714cde14f109472b888f6256e9e",
            "value": "Downloading data: 100%"
          }
        },
        "01a95d512c9846e7ad072ec9a4837012": {
          "model_module": "@jupyter-widgets/controls",
          "model_name": "FloatProgressModel",
          "model_module_version": "1.5.0",
          "state": {
            "_dom_classes": [],
            "_model_module": "@jupyter-widgets/controls",
            "_model_module_version": "1.5.0",
            "_model_name": "FloatProgressModel",
            "_view_count": null,
            "_view_module": "@jupyter-widgets/controls",
            "_view_module_version": "1.5.0",
            "_view_name": "ProgressView",
            "bar_style": "success",
            "description": "",
            "description_tooltip": null,
            "layout": "IPY_MODEL_901394d1f38e40188cb20d1def45aee1",
            "max": 23940850,
            "min": 0,
            "orientation": "horizontal",
            "style": "IPY_MODEL_648260fbbb134b0aa57619513cf6de5d",
            "value": 23940850
          }
        },
        "64267efee4a141638c3e0a078de210fc": {
          "model_module": "@jupyter-widgets/controls",
          "model_name": "HTMLModel",
          "model_module_version": "1.5.0",
          "state": {
            "_dom_classes": [],
            "_model_module": "@jupyter-widgets/controls",
            "_model_module_version": "1.5.0",
            "_model_name": "HTMLModel",
            "_view_count": null,
            "_view_module": "@jupyter-widgets/controls",
            "_view_module_version": "1.5.0",
            "_view_name": "HTMLView",
            "description": "",
            "description_tooltip": null,
            "layout": "IPY_MODEL_20d73361e14a419eafac8e18b8f3633f",
            "placeholder": "​",
            "style": "IPY_MODEL_beed2897db8a47439758dae4a303037d",
            "value": " 23.9M/23.9M [00:00&lt;00:00, 35.4MB/s]"
          }
        },
        "fcccf97bfb354f31b6d20d9bf9ce9bc4": {
          "model_module": "@jupyter-widgets/base",
          "model_name": "LayoutModel",
          "model_module_version": "1.2.0",
          "state": {
            "_model_module": "@jupyter-widgets/base",
            "_model_module_version": "1.2.0",
            "_model_name": "LayoutModel",
            "_view_count": null,
            "_view_module": "@jupyter-widgets/base",
            "_view_module_version": "1.2.0",
            "_view_name": "LayoutView",
            "align_content": null,
            "align_items": null,
            "align_self": null,
            "border": null,
            "bottom": null,
            "display": null,
            "flex": null,
            "flex_flow": null,
            "grid_area": null,
            "grid_auto_columns": null,
            "grid_auto_flow": null,
            "grid_auto_rows": null,
            "grid_column": null,
            "grid_gap": null,
            "grid_row": null,
            "grid_template_areas": null,
            "grid_template_columns": null,
            "grid_template_rows": null,
            "height": null,
            "justify_content": null,
            "justify_items": null,
            "left": null,
            "margin": null,
            "max_height": null,
            "max_width": null,
            "min_height": null,
            "min_width": null,
            "object_fit": null,
            "object_position": null,
            "order": null,
            "overflow": null,
            "overflow_x": null,
            "overflow_y": null,
            "padding": null,
            "right": null,
            "top": null,
            "visibility": null,
            "width": null
          }
        },
        "07179eab9d1e4a0198fb971fef5cc076": {
          "model_module": "@jupyter-widgets/base",
          "model_name": "LayoutModel",
          "model_module_version": "1.2.0",
          "state": {
            "_model_module": "@jupyter-widgets/base",
            "_model_module_version": "1.2.0",
            "_model_name": "LayoutModel",
            "_view_count": null,
            "_view_module": "@jupyter-widgets/base",
            "_view_module_version": "1.2.0",
            "_view_name": "LayoutView",
            "align_content": null,
            "align_items": null,
            "align_self": null,
            "border": null,
            "bottom": null,
            "display": null,
            "flex": null,
            "flex_flow": null,
            "grid_area": null,
            "grid_auto_columns": null,
            "grid_auto_flow": null,
            "grid_auto_rows": null,
            "grid_column": null,
            "grid_gap": null,
            "grid_row": null,
            "grid_template_areas": null,
            "grid_template_columns": null,
            "grid_template_rows": null,
            "height": null,
            "justify_content": null,
            "justify_items": null,
            "left": null,
            "margin": null,
            "max_height": null,
            "max_width": null,
            "min_height": null,
            "min_width": null,
            "object_fit": null,
            "object_position": null,
            "order": null,
            "overflow": null,
            "overflow_x": null,
            "overflow_y": null,
            "padding": null,
            "right": null,
            "top": null,
            "visibility": null,
            "width": null
          }
        },
        "917a9714cde14f109472b888f6256e9e": {
          "model_module": "@jupyter-widgets/controls",
          "model_name": "DescriptionStyleModel",
          "model_module_version": "1.5.0",
          "state": {
            "_model_module": "@jupyter-widgets/controls",
            "_model_module_version": "1.5.0",
            "_model_name": "DescriptionStyleModel",
            "_view_count": null,
            "_view_module": "@jupyter-widgets/base",
            "_view_module_version": "1.2.0",
            "_view_name": "StyleView",
            "description_width": ""
          }
        },
        "901394d1f38e40188cb20d1def45aee1": {
          "model_module": "@jupyter-widgets/base",
          "model_name": "LayoutModel",
          "model_module_version": "1.2.0",
          "state": {
            "_model_module": "@jupyter-widgets/base",
            "_model_module_version": "1.2.0",
            "_model_name": "LayoutModel",
            "_view_count": null,
            "_view_module": "@jupyter-widgets/base",
            "_view_module_version": "1.2.0",
            "_view_name": "LayoutView",
            "align_content": null,
            "align_items": null,
            "align_self": null,
            "border": null,
            "bottom": null,
            "display": null,
            "flex": null,
            "flex_flow": null,
            "grid_area": null,
            "grid_auto_columns": null,
            "grid_auto_flow": null,
            "grid_auto_rows": null,
            "grid_column": null,
            "grid_gap": null,
            "grid_row": null,
            "grid_template_areas": null,
            "grid_template_columns": null,
            "grid_template_rows": null,
            "height": null,
            "justify_content": null,
            "justify_items": null,
            "left": null,
            "margin": null,
            "max_height": null,
            "max_width": null,
            "min_height": null,
            "min_width": null,
            "object_fit": null,
            "object_position": null,
            "order": null,
            "overflow": null,
            "overflow_x": null,
            "overflow_y": null,
            "padding": null,
            "right": null,
            "top": null,
            "visibility": null,
            "width": null
          }
        },
        "648260fbbb134b0aa57619513cf6de5d": {
          "model_module": "@jupyter-widgets/controls",
          "model_name": "ProgressStyleModel",
          "model_module_version": "1.5.0",
          "state": {
            "_model_module": "@jupyter-widgets/controls",
            "_model_module_version": "1.5.0",
            "_model_name": "ProgressStyleModel",
            "_view_count": null,
            "_view_module": "@jupyter-widgets/base",
            "_view_module_version": "1.2.0",
            "_view_name": "StyleView",
            "bar_color": null,
            "description_width": ""
          }
        },
        "20d73361e14a419eafac8e18b8f3633f": {
          "model_module": "@jupyter-widgets/base",
          "model_name": "LayoutModel",
          "model_module_version": "1.2.0",
          "state": {
            "_model_module": "@jupyter-widgets/base",
            "_model_module_version": "1.2.0",
            "_model_name": "LayoutModel",
            "_view_count": null,
            "_view_module": "@jupyter-widgets/base",
            "_view_module_version": "1.2.0",
            "_view_name": "LayoutView",
            "align_content": null,
            "align_items": null,
            "align_self": null,
            "border": null,
            "bottom": null,
            "display": null,
            "flex": null,
            "flex_flow": null,
            "grid_area": null,
            "grid_auto_columns": null,
            "grid_auto_flow": null,
            "grid_auto_rows": null,
            "grid_column": null,
            "grid_gap": null,
            "grid_row": null,
            "grid_template_areas": null,
            "grid_template_columns": null,
            "grid_template_rows": null,
            "height": null,
            "justify_content": null,
            "justify_items": null,
            "left": null,
            "margin": null,
            "max_height": null,
            "max_width": null,
            "min_height": null,
            "min_width": null,
            "object_fit": null,
            "object_position": null,
            "order": null,
            "overflow": null,
            "overflow_x": null,
            "overflow_y": null,
            "padding": null,
            "right": null,
            "top": null,
            "visibility": null,
            "width": null
          }
        },
        "beed2897db8a47439758dae4a303037d": {
          "model_module": "@jupyter-widgets/controls",
          "model_name": "DescriptionStyleModel",
          "model_module_version": "1.5.0",
          "state": {
            "_model_module": "@jupyter-widgets/controls",
            "_model_module_version": "1.5.0",
            "_model_name": "DescriptionStyleModel",
            "_view_count": null,
            "_view_module": "@jupyter-widgets/base",
            "_view_module_version": "1.2.0",
            "_view_name": "StyleView",
            "description_width": ""
          }
        },
        "97fe3fe003a246c4ac3770c013638f31": {
          "model_module": "@jupyter-widgets/controls",
          "model_name": "HBoxModel",
          "model_module_version": "1.5.0",
          "state": {
            "_dom_classes": [],
            "_model_module": "@jupyter-widgets/controls",
            "_model_module_version": "1.5.0",
            "_model_name": "HBoxModel",
            "_view_count": null,
            "_view_module": "@jupyter-widgets/controls",
            "_view_module_version": "1.5.0",
            "_view_name": "HBoxView",
            "box_style": "",
            "children": [
              "IPY_MODEL_78a2a60a2fab4d758e46184cf4a6c3f6",
              "IPY_MODEL_4274da2297874fa7b547e7540c903ca0",
              "IPY_MODEL_b506358a17e947489942e4a4abc4a13e"
            ],
            "layout": "IPY_MODEL_0f5e8a2250934ae28c94bf2b9cd76d19"
          }
        },
        "78a2a60a2fab4d758e46184cf4a6c3f6": {
          "model_module": "@jupyter-widgets/controls",
          "model_name": "HTMLModel",
          "model_module_version": "1.5.0",
          "state": {
            "_dom_classes": [],
            "_model_module": "@jupyter-widgets/controls",
            "_model_module_version": "1.5.0",
            "_model_name": "HTMLModel",
            "_view_count": null,
            "_view_module": "@jupyter-widgets/controls",
            "_view_module_version": "1.5.0",
            "_view_name": "HTMLView",
            "description": "",
            "description_tooltip": null,
            "layout": "IPY_MODEL_67685f4f8c354813b957867a96116c90",
            "placeholder": "​",
            "style": "IPY_MODEL_266eeab114e34f15a09c3af8dbcba36f",
            "value": "Generating train split: 100%"
          }
        },
        "4274da2297874fa7b547e7540c903ca0": {
          "model_module": "@jupyter-widgets/controls",
          "model_name": "FloatProgressModel",
          "model_module_version": "1.5.0",
          "state": {
            "_dom_classes": [],
            "_model_module": "@jupyter-widgets/controls",
            "_model_module_version": "1.5.0",
            "_model_name": "FloatProgressModel",
            "_view_count": null,
            "_view_module": "@jupyter-widgets/controls",
            "_view_module_version": "1.5.0",
            "_view_name": "ProgressView",
            "bar_style": "success",
            "description": "",
            "description_tooltip": null,
            "layout": "IPY_MODEL_baa01efa981a437f90935bf2be5f08d1",
            "max": 50000,
            "min": 0,
            "orientation": "horizontal",
            "style": "IPY_MODEL_72c86d6c030640d1be39057591dbb8a5",
            "value": 50000
          }
        },
        "b506358a17e947489942e4a4abc4a13e": {
          "model_module": "@jupyter-widgets/controls",
          "model_name": "HTMLModel",
          "model_module_version": "1.5.0",
          "state": {
            "_dom_classes": [],
            "_model_module": "@jupyter-widgets/controls",
            "_model_module_version": "1.5.0",
            "_model_name": "HTMLModel",
            "_view_count": null,
            "_view_module": "@jupyter-widgets/controls",
            "_view_module_version": "1.5.0",
            "_view_name": "HTMLView",
            "description": "",
            "description_tooltip": null,
            "layout": "IPY_MODEL_af85869613464f2a922b559a8abf4631",
            "placeholder": "​",
            "style": "IPY_MODEL_dfdd9a1f34d642d6bcaf50f7f3863be5",
            "value": " 50000/50000 [00:01&lt;00:00, 39801.19 examples/s]"
          }
        },
        "0f5e8a2250934ae28c94bf2b9cd76d19": {
          "model_module": "@jupyter-widgets/base",
          "model_name": "LayoutModel",
          "model_module_version": "1.2.0",
          "state": {
            "_model_module": "@jupyter-widgets/base",
            "_model_module_version": "1.2.0",
            "_model_name": "LayoutModel",
            "_view_count": null,
            "_view_module": "@jupyter-widgets/base",
            "_view_module_version": "1.2.0",
            "_view_name": "LayoutView",
            "align_content": null,
            "align_items": null,
            "align_self": null,
            "border": null,
            "bottom": null,
            "display": null,
            "flex": null,
            "flex_flow": null,
            "grid_area": null,
            "grid_auto_columns": null,
            "grid_auto_flow": null,
            "grid_auto_rows": null,
            "grid_column": null,
            "grid_gap": null,
            "grid_row": null,
            "grid_template_areas": null,
            "grid_template_columns": null,
            "grid_template_rows": null,
            "height": null,
            "justify_content": null,
            "justify_items": null,
            "left": null,
            "margin": null,
            "max_height": null,
            "max_width": null,
            "min_height": null,
            "min_width": null,
            "object_fit": null,
            "object_position": null,
            "order": null,
            "overflow": null,
            "overflow_x": null,
            "overflow_y": null,
            "padding": null,
            "right": null,
            "top": null,
            "visibility": null,
            "width": null
          }
        },
        "67685f4f8c354813b957867a96116c90": {
          "model_module": "@jupyter-widgets/base",
          "model_name": "LayoutModel",
          "model_module_version": "1.2.0",
          "state": {
            "_model_module": "@jupyter-widgets/base",
            "_model_module_version": "1.2.0",
            "_model_name": "LayoutModel",
            "_view_count": null,
            "_view_module": "@jupyter-widgets/base",
            "_view_module_version": "1.2.0",
            "_view_name": "LayoutView",
            "align_content": null,
            "align_items": null,
            "align_self": null,
            "border": null,
            "bottom": null,
            "display": null,
            "flex": null,
            "flex_flow": null,
            "grid_area": null,
            "grid_auto_columns": null,
            "grid_auto_flow": null,
            "grid_auto_rows": null,
            "grid_column": null,
            "grid_gap": null,
            "grid_row": null,
            "grid_template_areas": null,
            "grid_template_columns": null,
            "grid_template_rows": null,
            "height": null,
            "justify_content": null,
            "justify_items": null,
            "left": null,
            "margin": null,
            "max_height": null,
            "max_width": null,
            "min_height": null,
            "min_width": null,
            "object_fit": null,
            "object_position": null,
            "order": null,
            "overflow": null,
            "overflow_x": null,
            "overflow_y": null,
            "padding": null,
            "right": null,
            "top": null,
            "visibility": null,
            "width": null
          }
        },
        "266eeab114e34f15a09c3af8dbcba36f": {
          "model_module": "@jupyter-widgets/controls",
          "model_name": "DescriptionStyleModel",
          "model_module_version": "1.5.0",
          "state": {
            "_model_module": "@jupyter-widgets/controls",
            "_model_module_version": "1.5.0",
            "_model_name": "DescriptionStyleModel",
            "_view_count": null,
            "_view_module": "@jupyter-widgets/base",
            "_view_module_version": "1.2.0",
            "_view_name": "StyleView",
            "description_width": ""
          }
        },
        "baa01efa981a437f90935bf2be5f08d1": {
          "model_module": "@jupyter-widgets/base",
          "model_name": "LayoutModel",
          "model_module_version": "1.2.0",
          "state": {
            "_model_module": "@jupyter-widgets/base",
            "_model_module_version": "1.2.0",
            "_model_name": "LayoutModel",
            "_view_count": null,
            "_view_module": "@jupyter-widgets/base",
            "_view_module_version": "1.2.0",
            "_view_name": "LayoutView",
            "align_content": null,
            "align_items": null,
            "align_self": null,
            "border": null,
            "bottom": null,
            "display": null,
            "flex": null,
            "flex_flow": null,
            "grid_area": null,
            "grid_auto_columns": null,
            "grid_auto_flow": null,
            "grid_auto_rows": null,
            "grid_column": null,
            "grid_gap": null,
            "grid_row": null,
            "grid_template_areas": null,
            "grid_template_columns": null,
            "grid_template_rows": null,
            "height": null,
            "justify_content": null,
            "justify_items": null,
            "left": null,
            "margin": null,
            "max_height": null,
            "max_width": null,
            "min_height": null,
            "min_width": null,
            "object_fit": null,
            "object_position": null,
            "order": null,
            "overflow": null,
            "overflow_x": null,
            "overflow_y": null,
            "padding": null,
            "right": null,
            "top": null,
            "visibility": null,
            "width": null
          }
        },
        "72c86d6c030640d1be39057591dbb8a5": {
          "model_module": "@jupyter-widgets/controls",
          "model_name": "ProgressStyleModel",
          "model_module_version": "1.5.0",
          "state": {
            "_model_module": "@jupyter-widgets/controls",
            "_model_module_version": "1.5.0",
            "_model_name": "ProgressStyleModel",
            "_view_count": null,
            "_view_module": "@jupyter-widgets/base",
            "_view_module_version": "1.2.0",
            "_view_name": "StyleView",
            "bar_color": null,
            "description_width": ""
          }
        },
        "af85869613464f2a922b559a8abf4631": {
          "model_module": "@jupyter-widgets/base",
          "model_name": "LayoutModel",
          "model_module_version": "1.2.0",
          "state": {
            "_model_module": "@jupyter-widgets/base",
            "_model_module_version": "1.2.0",
            "_model_name": "LayoutModel",
            "_view_count": null,
            "_view_module": "@jupyter-widgets/base",
            "_view_module_version": "1.2.0",
            "_view_name": "LayoutView",
            "align_content": null,
            "align_items": null,
            "align_self": null,
            "border": null,
            "bottom": null,
            "display": null,
            "flex": null,
            "flex_flow": null,
            "grid_area": null,
            "grid_auto_columns": null,
            "grid_auto_flow": null,
            "grid_auto_rows": null,
            "grid_column": null,
            "grid_gap": null,
            "grid_row": null,
            "grid_template_areas": null,
            "grid_template_columns": null,
            "grid_template_rows": null,
            "height": null,
            "justify_content": null,
            "justify_items": null,
            "left": null,
            "margin": null,
            "max_height": null,
            "max_width": null,
            "min_height": null,
            "min_width": null,
            "object_fit": null,
            "object_position": null,
            "order": null,
            "overflow": null,
            "overflow_x": null,
            "overflow_y": null,
            "padding": null,
            "right": null,
            "top": null,
            "visibility": null,
            "width": null
          }
        },
        "dfdd9a1f34d642d6bcaf50f7f3863be5": {
          "model_module": "@jupyter-widgets/controls",
          "model_name": "DescriptionStyleModel",
          "model_module_version": "1.5.0",
          "state": {
            "_model_module": "@jupyter-widgets/controls",
            "_model_module_version": "1.5.0",
            "_model_name": "DescriptionStyleModel",
            "_view_count": null,
            "_view_module": "@jupyter-widgets/base",
            "_view_module_version": "1.2.0",
            "_view_name": "StyleView",
            "description_width": ""
          }
        },
        "1057aeebc93a43de815898d8a1173647": {
          "model_module": "@jupyter-widgets/controls",
          "model_name": "HBoxModel",
          "model_module_version": "1.5.0",
          "state": {
            "_dom_classes": [],
            "_model_module": "@jupyter-widgets/controls",
            "_model_module_version": "1.5.0",
            "_model_name": "HBoxModel",
            "_view_count": null,
            "_view_module": "@jupyter-widgets/controls",
            "_view_module_version": "1.5.0",
            "_view_name": "HBoxView",
            "box_style": "",
            "children": [
              "IPY_MODEL_f3faed5f187c4e7693dca4559b5aa0a9",
              "IPY_MODEL_04dfdd0614274b4fb59de79b3b4d26f7",
              "IPY_MODEL_c31e34c8a1cc44a09570c6c5bafb9698"
            ],
            "layout": "IPY_MODEL_b0484877592241b28c2417ad57dcee47"
          }
        },
        "f3faed5f187c4e7693dca4559b5aa0a9": {
          "model_module": "@jupyter-widgets/controls",
          "model_name": "HTMLModel",
          "model_module_version": "1.5.0",
          "state": {
            "_dom_classes": [],
            "_model_module": "@jupyter-widgets/controls",
            "_model_module_version": "1.5.0",
            "_model_name": "HTMLModel",
            "_view_count": null,
            "_view_module": "@jupyter-widgets/controls",
            "_view_module_version": "1.5.0",
            "_view_name": "HTMLView",
            "description": "",
            "description_tooltip": null,
            "layout": "IPY_MODEL_87d70d6ae2254c82a43dc01403bb1654",
            "placeholder": "​",
            "style": "IPY_MODEL_d32f9ad16cb846f39b6fb3caac80cf79",
            "value": "Generating test split: 100%"
          }
        },
        "04dfdd0614274b4fb59de79b3b4d26f7": {
          "model_module": "@jupyter-widgets/controls",
          "model_name": "FloatProgressModel",
          "model_module_version": "1.5.0",
          "state": {
            "_dom_classes": [],
            "_model_module": "@jupyter-widgets/controls",
            "_model_module_version": "1.5.0",
            "_model_name": "FloatProgressModel",
            "_view_count": null,
            "_view_module": "@jupyter-widgets/controls",
            "_view_module_version": "1.5.0",
            "_view_name": "ProgressView",
            "bar_style": "success",
            "description": "",
            "description_tooltip": null,
            "layout": "IPY_MODEL_cc48854e254a4997a0c49057381017ed",
            "max": 10000,
            "min": 0,
            "orientation": "horizontal",
            "style": "IPY_MODEL_80831163518a4cf48cc43c4d1229e905",
            "value": 10000
          }
        },
        "c31e34c8a1cc44a09570c6c5bafb9698": {
          "model_module": "@jupyter-widgets/controls",
          "model_name": "HTMLModel",
          "model_module_version": "1.5.0",
          "state": {
            "_dom_classes": [],
            "_model_module": "@jupyter-widgets/controls",
            "_model_module_version": "1.5.0",
            "_model_name": "HTMLModel",
            "_view_count": null,
            "_view_module": "@jupyter-widgets/controls",
            "_view_module_version": "1.5.0",
            "_view_name": "HTMLView",
            "description": "",
            "description_tooltip": null,
            "layout": "IPY_MODEL_43debd005f9b4f7b91aab82d15c68497",
            "placeholder": "​",
            "style": "IPY_MODEL_11837af317f84602a87fd09ddc235446",
            "value": " 10000/10000 [00:00&lt;00:00, 30793.99 examples/s]"
          }
        },
        "b0484877592241b28c2417ad57dcee47": {
          "model_module": "@jupyter-widgets/base",
          "model_name": "LayoutModel",
          "model_module_version": "1.2.0",
          "state": {
            "_model_module": "@jupyter-widgets/base",
            "_model_module_version": "1.2.0",
            "_model_name": "LayoutModel",
            "_view_count": null,
            "_view_module": "@jupyter-widgets/base",
            "_view_module_version": "1.2.0",
            "_view_name": "LayoutView",
            "align_content": null,
            "align_items": null,
            "align_self": null,
            "border": null,
            "bottom": null,
            "display": null,
            "flex": null,
            "flex_flow": null,
            "grid_area": null,
            "grid_auto_columns": null,
            "grid_auto_flow": null,
            "grid_auto_rows": null,
            "grid_column": null,
            "grid_gap": null,
            "grid_row": null,
            "grid_template_areas": null,
            "grid_template_columns": null,
            "grid_template_rows": null,
            "height": null,
            "justify_content": null,
            "justify_items": null,
            "left": null,
            "margin": null,
            "max_height": null,
            "max_width": null,
            "min_height": null,
            "min_width": null,
            "object_fit": null,
            "object_position": null,
            "order": null,
            "overflow": null,
            "overflow_x": null,
            "overflow_y": null,
            "padding": null,
            "right": null,
            "top": null,
            "visibility": null,
            "width": null
          }
        },
        "87d70d6ae2254c82a43dc01403bb1654": {
          "model_module": "@jupyter-widgets/base",
          "model_name": "LayoutModel",
          "model_module_version": "1.2.0",
          "state": {
            "_model_module": "@jupyter-widgets/base",
            "_model_module_version": "1.2.0",
            "_model_name": "LayoutModel",
            "_view_count": null,
            "_view_module": "@jupyter-widgets/base",
            "_view_module_version": "1.2.0",
            "_view_name": "LayoutView",
            "align_content": null,
            "align_items": null,
            "align_self": null,
            "border": null,
            "bottom": null,
            "display": null,
            "flex": null,
            "flex_flow": null,
            "grid_area": null,
            "grid_auto_columns": null,
            "grid_auto_flow": null,
            "grid_auto_rows": null,
            "grid_column": null,
            "grid_gap": null,
            "grid_row": null,
            "grid_template_areas": null,
            "grid_template_columns": null,
            "grid_template_rows": null,
            "height": null,
            "justify_content": null,
            "justify_items": null,
            "left": null,
            "margin": null,
            "max_height": null,
            "max_width": null,
            "min_height": null,
            "min_width": null,
            "object_fit": null,
            "object_position": null,
            "order": null,
            "overflow": null,
            "overflow_x": null,
            "overflow_y": null,
            "padding": null,
            "right": null,
            "top": null,
            "visibility": null,
            "width": null
          }
        },
        "d32f9ad16cb846f39b6fb3caac80cf79": {
          "model_module": "@jupyter-widgets/controls",
          "model_name": "DescriptionStyleModel",
          "model_module_version": "1.5.0",
          "state": {
            "_model_module": "@jupyter-widgets/controls",
            "_model_module_version": "1.5.0",
            "_model_name": "DescriptionStyleModel",
            "_view_count": null,
            "_view_module": "@jupyter-widgets/base",
            "_view_module_version": "1.2.0",
            "_view_name": "StyleView",
            "description_width": ""
          }
        },
        "cc48854e254a4997a0c49057381017ed": {
          "model_module": "@jupyter-widgets/base",
          "model_name": "LayoutModel",
          "model_module_version": "1.2.0",
          "state": {
            "_model_module": "@jupyter-widgets/base",
            "_model_module_version": "1.2.0",
            "_model_name": "LayoutModel",
            "_view_count": null,
            "_view_module": "@jupyter-widgets/base",
            "_view_module_version": "1.2.0",
            "_view_name": "LayoutView",
            "align_content": null,
            "align_items": null,
            "align_self": null,
            "border": null,
            "bottom": null,
            "display": null,
            "flex": null,
            "flex_flow": null,
            "grid_area": null,
            "grid_auto_columns": null,
            "grid_auto_flow": null,
            "grid_auto_rows": null,
            "grid_column": null,
            "grid_gap": null,
            "grid_row": null,
            "grid_template_areas": null,
            "grid_template_columns": null,
            "grid_template_rows": null,
            "height": null,
            "justify_content": null,
            "justify_items": null,
            "left": null,
            "margin": null,
            "max_height": null,
            "max_width": null,
            "min_height": null,
            "min_width": null,
            "object_fit": null,
            "object_position": null,
            "order": null,
            "overflow": null,
            "overflow_x": null,
            "overflow_y": null,
            "padding": null,
            "right": null,
            "top": null,
            "visibility": null,
            "width": null
          }
        },
        "80831163518a4cf48cc43c4d1229e905": {
          "model_module": "@jupyter-widgets/controls",
          "model_name": "ProgressStyleModel",
          "model_module_version": "1.5.0",
          "state": {
            "_model_module": "@jupyter-widgets/controls",
            "_model_module_version": "1.5.0",
            "_model_name": "ProgressStyleModel",
            "_view_count": null,
            "_view_module": "@jupyter-widgets/base",
            "_view_module_version": "1.2.0",
            "_view_name": "StyleView",
            "bar_color": null,
            "description_width": ""
          }
        },
        "43debd005f9b4f7b91aab82d15c68497": {
          "model_module": "@jupyter-widgets/base",
          "model_name": "LayoutModel",
          "model_module_version": "1.2.0",
          "state": {
            "_model_module": "@jupyter-widgets/base",
            "_model_module_version": "1.2.0",
            "_model_name": "LayoutModel",
            "_view_count": null,
            "_view_module": "@jupyter-widgets/base",
            "_view_module_version": "1.2.0",
            "_view_name": "LayoutView",
            "align_content": null,
            "align_items": null,
            "align_self": null,
            "border": null,
            "bottom": null,
            "display": null,
            "flex": null,
            "flex_flow": null,
            "grid_area": null,
            "grid_auto_columns": null,
            "grid_auto_flow": null,
            "grid_auto_rows": null,
            "grid_column": null,
            "grid_gap": null,
            "grid_row": null,
            "grid_template_areas": null,
            "grid_template_columns": null,
            "grid_template_rows": null,
            "height": null,
            "justify_content": null,
            "justify_items": null,
            "left": null,
            "margin": null,
            "max_height": null,
            "max_width": null,
            "min_height": null,
            "min_width": null,
            "object_fit": null,
            "object_position": null,
            "order": null,
            "overflow": null,
            "overflow_x": null,
            "overflow_y": null,
            "padding": null,
            "right": null,
            "top": null,
            "visibility": null,
            "width": null
          }
        },
        "11837af317f84602a87fd09ddc235446": {
          "model_module": "@jupyter-widgets/controls",
          "model_name": "DescriptionStyleModel",
          "model_module_version": "1.5.0",
          "state": {
            "_model_module": "@jupyter-widgets/controls",
            "_model_module_version": "1.5.0",
            "_model_name": "DescriptionStyleModel",
            "_view_count": null,
            "_view_module": "@jupyter-widgets/base",
            "_view_module_version": "1.2.0",
            "_view_name": "StyleView",
            "description_width": ""
          }
        },
        "8ab7fcf9a49247dd8529c2f6eeb69daa": {
          "model_module": "@jupyter-widgets/controls",
          "model_name": "HBoxModel",
          "model_module_version": "1.5.0",
          "state": {
            "_dom_classes": [],
            "_model_module": "@jupyter-widgets/controls",
            "_model_module_version": "1.5.0",
            "_model_name": "HBoxModel",
            "_view_count": null,
            "_view_module": "@jupyter-widgets/controls",
            "_view_module_version": "1.5.0",
            "_view_name": "HBoxView",
            "box_style": "",
            "children": [
              "IPY_MODEL_6f340ae5bd1445ddb4f2d7e09928f2c3",
              "IPY_MODEL_3348def913b44781af867f3505dd41e5",
              "IPY_MODEL_e1841f4fcff24ad8a283f43f16621ae3"
            ],
            "layout": "IPY_MODEL_22771edbee1f4076b575a5319dd4766f"
          }
        },
        "6f340ae5bd1445ddb4f2d7e09928f2c3": {
          "model_module": "@jupyter-widgets/controls",
          "model_name": "HTMLModel",
          "model_module_version": "1.5.0",
          "state": {
            "_dom_classes": [],
            "_model_module": "@jupyter-widgets/controls",
            "_model_module_version": "1.5.0",
            "_model_name": "HTMLModel",
            "_view_count": null,
            "_view_module": "@jupyter-widgets/controls",
            "_view_module_version": "1.5.0",
            "_view_name": "HTMLView",
            "description": "",
            "description_tooltip": null,
            "layout": "IPY_MODEL_efe44087350a4a8084f5b82c66d25a95",
            "placeholder": "​",
            "style": "IPY_MODEL_288132caa3bb44b39e0b4afe5366acd9",
            "value": "100%"
          }
        },
        "3348def913b44781af867f3505dd41e5": {
          "model_module": "@jupyter-widgets/controls",
          "model_name": "FloatProgressModel",
          "model_module_version": "1.5.0",
          "state": {
            "_dom_classes": [],
            "_model_module": "@jupyter-widgets/controls",
            "_model_module_version": "1.5.0",
            "_model_name": "FloatProgressModel",
            "_view_count": null,
            "_view_module": "@jupyter-widgets/controls",
            "_view_module_version": "1.5.0",
            "_view_name": "ProgressView",
            "bar_style": "success",
            "description": "",
            "description_tooltip": null,
            "layout": "IPY_MODEL_ed8158303ab8466cb577ec292779837b",
            "max": 50000,
            "min": 0,
            "orientation": "horizontal",
            "style": "IPY_MODEL_4074ca5e2a434732a91a8977ffe2ef56",
            "value": 50000
          }
        },
        "e1841f4fcff24ad8a283f43f16621ae3": {
          "model_module": "@jupyter-widgets/controls",
          "model_name": "HTMLModel",
          "model_module_version": "1.5.0",
          "state": {
            "_dom_classes": [],
            "_model_module": "@jupyter-widgets/controls",
            "_model_module_version": "1.5.0",
            "_model_name": "HTMLModel",
            "_view_count": null,
            "_view_module": "@jupyter-widgets/controls",
            "_view_module_version": "1.5.0",
            "_view_name": "HTMLView",
            "description": "",
            "description_tooltip": null,
            "layout": "IPY_MODEL_4fedb1aa946a470e929e6b2f15b8d94c",
            "placeholder": "​",
            "style": "IPY_MODEL_c182e65a36b94e1090b70a042d0b0f78",
            "value": " 50000/50000 [00:58&lt;00:00, 1359.86it/s]"
          }
        },
        "22771edbee1f4076b575a5319dd4766f": {
          "model_module": "@jupyter-widgets/base",
          "model_name": "LayoutModel",
          "model_module_version": "1.2.0",
          "state": {
            "_model_module": "@jupyter-widgets/base",
            "_model_module_version": "1.2.0",
            "_model_name": "LayoutModel",
            "_view_count": null,
            "_view_module": "@jupyter-widgets/base",
            "_view_module_version": "1.2.0",
            "_view_name": "LayoutView",
            "align_content": null,
            "align_items": null,
            "align_self": null,
            "border": null,
            "bottom": null,
            "display": null,
            "flex": null,
            "flex_flow": null,
            "grid_area": null,
            "grid_auto_columns": null,
            "grid_auto_flow": null,
            "grid_auto_rows": null,
            "grid_column": null,
            "grid_gap": null,
            "grid_row": null,
            "grid_template_areas": null,
            "grid_template_columns": null,
            "grid_template_rows": null,
            "height": null,
            "justify_content": null,
            "justify_items": null,
            "left": null,
            "margin": null,
            "max_height": null,
            "max_width": null,
            "min_height": null,
            "min_width": null,
            "object_fit": null,
            "object_position": null,
            "order": null,
            "overflow": null,
            "overflow_x": null,
            "overflow_y": null,
            "padding": null,
            "right": null,
            "top": null,
            "visibility": null,
            "width": null
          }
        },
        "efe44087350a4a8084f5b82c66d25a95": {
          "model_module": "@jupyter-widgets/base",
          "model_name": "LayoutModel",
          "model_module_version": "1.2.0",
          "state": {
            "_model_module": "@jupyter-widgets/base",
            "_model_module_version": "1.2.0",
            "_model_name": "LayoutModel",
            "_view_count": null,
            "_view_module": "@jupyter-widgets/base",
            "_view_module_version": "1.2.0",
            "_view_name": "LayoutView",
            "align_content": null,
            "align_items": null,
            "align_self": null,
            "border": null,
            "bottom": null,
            "display": null,
            "flex": null,
            "flex_flow": null,
            "grid_area": null,
            "grid_auto_columns": null,
            "grid_auto_flow": null,
            "grid_auto_rows": null,
            "grid_column": null,
            "grid_gap": null,
            "grid_row": null,
            "grid_template_areas": null,
            "grid_template_columns": null,
            "grid_template_rows": null,
            "height": null,
            "justify_content": null,
            "justify_items": null,
            "left": null,
            "margin": null,
            "max_height": null,
            "max_width": null,
            "min_height": null,
            "min_width": null,
            "object_fit": null,
            "object_position": null,
            "order": null,
            "overflow": null,
            "overflow_x": null,
            "overflow_y": null,
            "padding": null,
            "right": null,
            "top": null,
            "visibility": null,
            "width": null
          }
        },
        "288132caa3bb44b39e0b4afe5366acd9": {
          "model_module": "@jupyter-widgets/controls",
          "model_name": "DescriptionStyleModel",
          "model_module_version": "1.5.0",
          "state": {
            "_model_module": "@jupyter-widgets/controls",
            "_model_module_version": "1.5.0",
            "_model_name": "DescriptionStyleModel",
            "_view_count": null,
            "_view_module": "@jupyter-widgets/base",
            "_view_module_version": "1.2.0",
            "_view_name": "StyleView",
            "description_width": ""
          }
        },
        "ed8158303ab8466cb577ec292779837b": {
          "model_module": "@jupyter-widgets/base",
          "model_name": "LayoutModel",
          "model_module_version": "1.2.0",
          "state": {
            "_model_module": "@jupyter-widgets/base",
            "_model_module_version": "1.2.0",
            "_model_name": "LayoutModel",
            "_view_count": null,
            "_view_module": "@jupyter-widgets/base",
            "_view_module_version": "1.2.0",
            "_view_name": "LayoutView",
            "align_content": null,
            "align_items": null,
            "align_self": null,
            "border": null,
            "bottom": null,
            "display": null,
            "flex": null,
            "flex_flow": null,
            "grid_area": null,
            "grid_auto_columns": null,
            "grid_auto_flow": null,
            "grid_auto_rows": null,
            "grid_column": null,
            "grid_gap": null,
            "grid_row": null,
            "grid_template_areas": null,
            "grid_template_columns": null,
            "grid_template_rows": null,
            "height": null,
            "justify_content": null,
            "justify_items": null,
            "left": null,
            "margin": null,
            "max_height": null,
            "max_width": null,
            "min_height": null,
            "min_width": null,
            "object_fit": null,
            "object_position": null,
            "order": null,
            "overflow": null,
            "overflow_x": null,
            "overflow_y": null,
            "padding": null,
            "right": null,
            "top": null,
            "visibility": null,
            "width": null
          }
        },
        "4074ca5e2a434732a91a8977ffe2ef56": {
          "model_module": "@jupyter-widgets/controls",
          "model_name": "ProgressStyleModel",
          "model_module_version": "1.5.0",
          "state": {
            "_model_module": "@jupyter-widgets/controls",
            "_model_module_version": "1.5.0",
            "_model_name": "ProgressStyleModel",
            "_view_count": null,
            "_view_module": "@jupyter-widgets/base",
            "_view_module_version": "1.2.0",
            "_view_name": "StyleView",
            "bar_color": null,
            "description_width": ""
          }
        },
        "4fedb1aa946a470e929e6b2f15b8d94c": {
          "model_module": "@jupyter-widgets/base",
          "model_name": "LayoutModel",
          "model_module_version": "1.2.0",
          "state": {
            "_model_module": "@jupyter-widgets/base",
            "_model_module_version": "1.2.0",
            "_model_name": "LayoutModel",
            "_view_count": null,
            "_view_module": "@jupyter-widgets/base",
            "_view_module_version": "1.2.0",
            "_view_name": "LayoutView",
            "align_content": null,
            "align_items": null,
            "align_self": null,
            "border": null,
            "bottom": null,
            "display": null,
            "flex": null,
            "flex_flow": null,
            "grid_area": null,
            "grid_auto_columns": null,
            "grid_auto_flow": null,
            "grid_auto_rows": null,
            "grid_column": null,
            "grid_gap": null,
            "grid_row": null,
            "grid_template_areas": null,
            "grid_template_columns": null,
            "grid_template_rows": null,
            "height": null,
            "justify_content": null,
            "justify_items": null,
            "left": null,
            "margin": null,
            "max_height": null,
            "max_width": null,
            "min_height": null,
            "min_width": null,
            "object_fit": null,
            "object_position": null,
            "order": null,
            "overflow": null,
            "overflow_x": null,
            "overflow_y": null,
            "padding": null,
            "right": null,
            "top": null,
            "visibility": null,
            "width": null
          }
        },
        "c182e65a36b94e1090b70a042d0b0f78": {
          "model_module": "@jupyter-widgets/controls",
          "model_name": "DescriptionStyleModel",
          "model_module_version": "1.5.0",
          "state": {
            "_model_module": "@jupyter-widgets/controls",
            "_model_module_version": "1.5.0",
            "_model_name": "DescriptionStyleModel",
            "_view_count": null,
            "_view_module": "@jupyter-widgets/base",
            "_view_module_version": "1.2.0",
            "_view_name": "StyleView",
            "description_width": ""
          }
        },
        "e61099e7c2f640dc9863000a4dcd151d": {
          "model_module": "@jupyter-widgets/controls",
          "model_name": "HBoxModel",
          "model_module_version": "1.5.0",
          "state": {
            "_dom_classes": [],
            "_model_module": "@jupyter-widgets/controls",
            "_model_module_version": "1.5.0",
            "_model_name": "HBoxModel",
            "_view_count": null,
            "_view_module": "@jupyter-widgets/controls",
            "_view_module_version": "1.5.0",
            "_view_name": "HBoxView",
            "box_style": "",
            "children": [
              "IPY_MODEL_91798cfb9bd142f990be8893f1a623d1",
              "IPY_MODEL_c9144099046442368c004535b46e270a",
              "IPY_MODEL_e9bd99a08c974b92aff02ff7a15a96c4"
            ],
            "layout": "IPY_MODEL_e345019faf814bafa59af8623e399cea"
          }
        },
        "91798cfb9bd142f990be8893f1a623d1": {
          "model_module": "@jupyter-widgets/controls",
          "model_name": "HTMLModel",
          "model_module_version": "1.5.0",
          "state": {
            "_dom_classes": [],
            "_model_module": "@jupyter-widgets/controls",
            "_model_module_version": "1.5.0",
            "_model_name": "HTMLModel",
            "_view_count": null,
            "_view_module": "@jupyter-widgets/controls",
            "_view_module_version": "1.5.0",
            "_view_name": "HTMLView",
            "description": "",
            "description_tooltip": null,
            "layout": "IPY_MODEL_652488e680154f549b208d471f9578c6",
            "placeholder": "​",
            "style": "IPY_MODEL_99d8212681824a229af9bad236501efb",
            "value": "100%"
          }
        },
        "c9144099046442368c004535b46e270a": {
          "model_module": "@jupyter-widgets/controls",
          "model_name": "FloatProgressModel",
          "model_module_version": "1.5.0",
          "state": {
            "_dom_classes": [],
            "_model_module": "@jupyter-widgets/controls",
            "_model_module_version": "1.5.0",
            "_model_name": "FloatProgressModel",
            "_view_count": null,
            "_view_module": "@jupyter-widgets/controls",
            "_view_module_version": "1.5.0",
            "_view_name": "ProgressView",
            "bar_style": "success",
            "description": "",
            "description_tooltip": null,
            "layout": "IPY_MODEL_9a5883f1cdac4ecdb732c0e843762c1c",
            "max": 10000,
            "min": 0,
            "orientation": "horizontal",
            "style": "IPY_MODEL_e80d8d3f76844ce3bd288fc7c09f7e02",
            "value": 10000
          }
        },
        "e9bd99a08c974b92aff02ff7a15a96c4": {
          "model_module": "@jupyter-widgets/controls",
          "model_name": "HTMLModel",
          "model_module_version": "1.5.0",
          "state": {
            "_dom_classes": [],
            "_model_module": "@jupyter-widgets/controls",
            "_model_module_version": "1.5.0",
            "_model_name": "HTMLModel",
            "_view_count": null,
            "_view_module": "@jupyter-widgets/controls",
            "_view_module_version": "1.5.0",
            "_view_name": "HTMLView",
            "description": "",
            "description_tooltip": null,
            "layout": "IPY_MODEL_405f1b00a3404db8898c249c26dbe835",
            "placeholder": "​",
            "style": "IPY_MODEL_53b16b10564a419d81141de4da2678fd",
            "value": " 10000/10000 [00:09&lt;00:00, 1301.71it/s]"
          }
        },
        "e345019faf814bafa59af8623e399cea": {
          "model_module": "@jupyter-widgets/base",
          "model_name": "LayoutModel",
          "model_module_version": "1.2.0",
          "state": {
            "_model_module": "@jupyter-widgets/base",
            "_model_module_version": "1.2.0",
            "_model_name": "LayoutModel",
            "_view_count": null,
            "_view_module": "@jupyter-widgets/base",
            "_view_module_version": "1.2.0",
            "_view_name": "LayoutView",
            "align_content": null,
            "align_items": null,
            "align_self": null,
            "border": null,
            "bottom": null,
            "display": null,
            "flex": null,
            "flex_flow": null,
            "grid_area": null,
            "grid_auto_columns": null,
            "grid_auto_flow": null,
            "grid_auto_rows": null,
            "grid_column": null,
            "grid_gap": null,
            "grid_row": null,
            "grid_template_areas": null,
            "grid_template_columns": null,
            "grid_template_rows": null,
            "height": null,
            "justify_content": null,
            "justify_items": null,
            "left": null,
            "margin": null,
            "max_height": null,
            "max_width": null,
            "min_height": null,
            "min_width": null,
            "object_fit": null,
            "object_position": null,
            "order": null,
            "overflow": null,
            "overflow_x": null,
            "overflow_y": null,
            "padding": null,
            "right": null,
            "top": null,
            "visibility": null,
            "width": null
          }
        },
        "652488e680154f549b208d471f9578c6": {
          "model_module": "@jupyter-widgets/base",
          "model_name": "LayoutModel",
          "model_module_version": "1.2.0",
          "state": {
            "_model_module": "@jupyter-widgets/base",
            "_model_module_version": "1.2.0",
            "_model_name": "LayoutModel",
            "_view_count": null,
            "_view_module": "@jupyter-widgets/base",
            "_view_module_version": "1.2.0",
            "_view_name": "LayoutView",
            "align_content": null,
            "align_items": null,
            "align_self": null,
            "border": null,
            "bottom": null,
            "display": null,
            "flex": null,
            "flex_flow": null,
            "grid_area": null,
            "grid_auto_columns": null,
            "grid_auto_flow": null,
            "grid_auto_rows": null,
            "grid_column": null,
            "grid_gap": null,
            "grid_row": null,
            "grid_template_areas": null,
            "grid_template_columns": null,
            "grid_template_rows": null,
            "height": null,
            "justify_content": null,
            "justify_items": null,
            "left": null,
            "margin": null,
            "max_height": null,
            "max_width": null,
            "min_height": null,
            "min_width": null,
            "object_fit": null,
            "object_position": null,
            "order": null,
            "overflow": null,
            "overflow_x": null,
            "overflow_y": null,
            "padding": null,
            "right": null,
            "top": null,
            "visibility": null,
            "width": null
          }
        },
        "99d8212681824a229af9bad236501efb": {
          "model_module": "@jupyter-widgets/controls",
          "model_name": "DescriptionStyleModel",
          "model_module_version": "1.5.0",
          "state": {
            "_model_module": "@jupyter-widgets/controls",
            "_model_module_version": "1.5.0",
            "_model_name": "DescriptionStyleModel",
            "_view_count": null,
            "_view_module": "@jupyter-widgets/base",
            "_view_module_version": "1.2.0",
            "_view_name": "StyleView",
            "description_width": ""
          }
        },
        "9a5883f1cdac4ecdb732c0e843762c1c": {
          "model_module": "@jupyter-widgets/base",
          "model_name": "LayoutModel",
          "model_module_version": "1.2.0",
          "state": {
            "_model_module": "@jupyter-widgets/base",
            "_model_module_version": "1.2.0",
            "_model_name": "LayoutModel",
            "_view_count": null,
            "_view_module": "@jupyter-widgets/base",
            "_view_module_version": "1.2.0",
            "_view_name": "LayoutView",
            "align_content": null,
            "align_items": null,
            "align_self": null,
            "border": null,
            "bottom": null,
            "display": null,
            "flex": null,
            "flex_flow": null,
            "grid_area": null,
            "grid_auto_columns": null,
            "grid_auto_flow": null,
            "grid_auto_rows": null,
            "grid_column": null,
            "grid_gap": null,
            "grid_row": null,
            "grid_template_areas": null,
            "grid_template_columns": null,
            "grid_template_rows": null,
            "height": null,
            "justify_content": null,
            "justify_items": null,
            "left": null,
            "margin": null,
            "max_height": null,
            "max_width": null,
            "min_height": null,
            "min_width": null,
            "object_fit": null,
            "object_position": null,
            "order": null,
            "overflow": null,
            "overflow_x": null,
            "overflow_y": null,
            "padding": null,
            "right": null,
            "top": null,
            "visibility": null,
            "width": null
          }
        },
        "e80d8d3f76844ce3bd288fc7c09f7e02": {
          "model_module": "@jupyter-widgets/controls",
          "model_name": "ProgressStyleModel",
          "model_module_version": "1.5.0",
          "state": {
            "_model_module": "@jupyter-widgets/controls",
            "_model_module_version": "1.5.0",
            "_model_name": "ProgressStyleModel",
            "_view_count": null,
            "_view_module": "@jupyter-widgets/base",
            "_view_module_version": "1.2.0",
            "_view_name": "StyleView",
            "bar_color": null,
            "description_width": ""
          }
        },
        "405f1b00a3404db8898c249c26dbe835": {
          "model_module": "@jupyter-widgets/base",
          "model_name": "LayoutModel",
          "model_module_version": "1.2.0",
          "state": {
            "_model_module": "@jupyter-widgets/base",
            "_model_module_version": "1.2.0",
            "_model_name": "LayoutModel",
            "_view_count": null,
            "_view_module": "@jupyter-widgets/base",
            "_view_module_version": "1.2.0",
            "_view_name": "LayoutView",
            "align_content": null,
            "align_items": null,
            "align_self": null,
            "border": null,
            "bottom": null,
            "display": null,
            "flex": null,
            "flex_flow": null,
            "grid_area": null,
            "grid_auto_columns": null,
            "grid_auto_flow": null,
            "grid_auto_rows": null,
            "grid_column": null,
            "grid_gap": null,
            "grid_row": null,
            "grid_template_areas": null,
            "grid_template_columns": null,
            "grid_template_rows": null,
            "height": null,
            "justify_content": null,
            "justify_items": null,
            "left": null,
            "margin": null,
            "max_height": null,
            "max_width": null,
            "min_height": null,
            "min_width": null,
            "object_fit": null,
            "object_position": null,
            "order": null,
            "overflow": null,
            "overflow_x": null,
            "overflow_y": null,
            "padding": null,
            "right": null,
            "top": null,
            "visibility": null,
            "width": null
          }
        },
        "53b16b10564a419d81141de4da2678fd": {
          "model_module": "@jupyter-widgets/controls",
          "model_name": "DescriptionStyleModel",
          "model_module_version": "1.5.0",
          "state": {
            "_model_module": "@jupyter-widgets/controls",
            "_model_module_version": "1.5.0",
            "_model_name": "DescriptionStyleModel",
            "_view_count": null,
            "_view_module": "@jupyter-widgets/base",
            "_view_module_version": "1.2.0",
            "_view_name": "StyleView",
            "description_width": ""
          }
        }
      }
    }
  },
  "cells": [
    {
      "cell_type": "markdown",
      "metadata": {
        "id": "view-in-github",
        "colab_type": "text"
      },
      "source": [
        "<a href=\"https://colab.research.google.com/github/MathewS424/PyTorch-Tutorial/blob/main/22_CNN_Implementation_4.ipynb\" target=\"_parent\"><img src=\"https://colab.research.google.com/assets/colab-badge.svg\" alt=\"Open In Colab\"/></a>"
      ]
    },
    {
      "cell_type": "markdown",
      "source": [
        "# **PART 4**"
      ],
      "metadata": {
        "id": "MHnjcpmFi5Bw"
      }
    },
    {
      "cell_type": "markdown",
      "source": [
        "# **IMPLEMENTATION OF CNNs**"
      ],
      "metadata": {
        "id": "XM1cTIa-amBP"
      }
    },
    {
      "cell_type": "code",
      "source": [
        "#Load libraries\n",
        "import torch\n",
        "import torch.nn as nn\n",
        "import torchvision\n",
        "import torchvision.transforms as transforms\n",
        "import matplotlib.pyplot as plt"
      ],
      "metadata": {
        "id": "I9x8rw1TRflR"
      },
      "execution_count": 1,
      "outputs": []
    },
    {
      "cell_type": "code",
      "source": [
        "#Device will determine whether to run the training on gpu or cpu\n",
        "device = torch.device('cuda' if torch.cuda.is_available() else 'cpu')\n",
        "print(device)"
      ],
      "metadata": {
        "colab": {
          "base_uri": "https://localhost:8080/"
        },
        "id": "1jicczeUbll_",
        "outputId": "f6304353-292f-42b4-94fc-b45c6cb4b651"
      },
      "execution_count": 2,
      "outputs": [
        {
          "output_type": "stream",
          "name": "stdout",
          "text": [
            "cpu\n"
          ]
        }
      ]
    },
    {
      "cell_type": "code",
      "source": [
        "!pip install datasets\n"
      ],
      "metadata": {
        "id": "GPEdzCOIgY4f",
        "outputId": "f4b39d20-637c-486c-9104-24da7e89b8cf",
        "colab": {
          "base_uri": "https://localhost:8080/"
        }
      },
      "execution_count": 3,
      "outputs": [
        {
          "output_type": "stream",
          "name": "stdout",
          "text": [
            "Collecting datasets\n",
            "  Downloading datasets-2.21.0-py3-none-any.whl.metadata (21 kB)\n",
            "Requirement already satisfied: filelock in /usr/local/lib/python3.10/dist-packages (from datasets) (3.15.4)\n",
            "Requirement already satisfied: numpy>=1.17 in /usr/local/lib/python3.10/dist-packages (from datasets) (1.26.4)\n",
            "Collecting pyarrow>=15.0.0 (from datasets)\n",
            "  Downloading pyarrow-17.0.0-cp310-cp310-manylinux_2_28_x86_64.whl.metadata (3.3 kB)\n",
            "Collecting dill<0.3.9,>=0.3.0 (from datasets)\n",
            "  Downloading dill-0.3.8-py3-none-any.whl.metadata (10 kB)\n",
            "Requirement already satisfied: pandas in /usr/local/lib/python3.10/dist-packages (from datasets) (2.1.4)\n",
            "Requirement already satisfied: requests>=2.32.2 in /usr/local/lib/python3.10/dist-packages (from datasets) (2.32.3)\n",
            "Requirement already satisfied: tqdm>=4.66.3 in /usr/local/lib/python3.10/dist-packages (from datasets) (4.66.5)\n",
            "Collecting xxhash (from datasets)\n",
            "  Downloading xxhash-3.5.0-cp310-cp310-manylinux_2_17_x86_64.manylinux2014_x86_64.whl.metadata (12 kB)\n",
            "Collecting multiprocess (from datasets)\n",
            "  Downloading multiprocess-0.70.16-py310-none-any.whl.metadata (7.2 kB)\n",
            "Requirement already satisfied: fsspec<=2024.6.1,>=2023.1.0 in /usr/local/lib/python3.10/dist-packages (from fsspec[http]<=2024.6.1,>=2023.1.0->datasets) (2024.6.1)\n",
            "Requirement already satisfied: aiohttp in /usr/local/lib/python3.10/dist-packages (from datasets) (3.10.5)\n",
            "Requirement already satisfied: huggingface-hub>=0.21.2 in /usr/local/lib/python3.10/dist-packages (from datasets) (0.23.5)\n",
            "Requirement already satisfied: packaging in /usr/local/lib/python3.10/dist-packages (from datasets) (24.1)\n",
            "Requirement already satisfied: pyyaml>=5.1 in /usr/local/lib/python3.10/dist-packages (from datasets) (6.0.2)\n",
            "Requirement already satisfied: aiohappyeyeballs>=2.3.0 in /usr/local/lib/python3.10/dist-packages (from aiohttp->datasets) (2.4.0)\n",
            "Requirement already satisfied: aiosignal>=1.1.2 in /usr/local/lib/python3.10/dist-packages (from aiohttp->datasets) (1.3.1)\n",
            "Requirement already satisfied: attrs>=17.3.0 in /usr/local/lib/python3.10/dist-packages (from aiohttp->datasets) (24.2.0)\n",
            "Requirement already satisfied: frozenlist>=1.1.1 in /usr/local/lib/python3.10/dist-packages (from aiohttp->datasets) (1.4.1)\n",
            "Requirement already satisfied: multidict<7.0,>=4.5 in /usr/local/lib/python3.10/dist-packages (from aiohttp->datasets) (6.0.5)\n",
            "Requirement already satisfied: yarl<2.0,>=1.0 in /usr/local/lib/python3.10/dist-packages (from aiohttp->datasets) (1.9.4)\n",
            "Requirement already satisfied: async-timeout<5.0,>=4.0 in /usr/local/lib/python3.10/dist-packages (from aiohttp->datasets) (4.0.3)\n",
            "Requirement already satisfied: typing-extensions>=3.7.4.3 in /usr/local/lib/python3.10/dist-packages (from huggingface-hub>=0.21.2->datasets) (4.12.2)\n",
            "Requirement already satisfied: charset-normalizer<4,>=2 in /usr/local/lib/python3.10/dist-packages (from requests>=2.32.2->datasets) (3.3.2)\n",
            "Requirement already satisfied: idna<4,>=2.5 in /usr/local/lib/python3.10/dist-packages (from requests>=2.32.2->datasets) (3.7)\n",
            "Requirement already satisfied: urllib3<3,>=1.21.1 in /usr/local/lib/python3.10/dist-packages (from requests>=2.32.2->datasets) (2.0.7)\n",
            "Requirement already satisfied: certifi>=2017.4.17 in /usr/local/lib/python3.10/dist-packages (from requests>=2.32.2->datasets) (2024.7.4)\n",
            "Requirement already satisfied: python-dateutil>=2.8.2 in /usr/local/lib/python3.10/dist-packages (from pandas->datasets) (2.8.2)\n",
            "Requirement already satisfied: pytz>=2020.1 in /usr/local/lib/python3.10/dist-packages (from pandas->datasets) (2024.1)\n",
            "Requirement already satisfied: tzdata>=2022.1 in /usr/local/lib/python3.10/dist-packages (from pandas->datasets) (2024.1)\n",
            "Requirement already satisfied: six>=1.5 in /usr/local/lib/python3.10/dist-packages (from python-dateutil>=2.8.2->pandas->datasets) (1.16.0)\n",
            "Downloading datasets-2.21.0-py3-none-any.whl (527 kB)\n",
            "\u001b[2K   \u001b[90m━━━━━━━━━━━━━━━━━━━━━━━━━━━━━━━━━━━━━━━━\u001b[0m \u001b[32m527.3/527.3 kB\u001b[0m \u001b[31m9.7 MB/s\u001b[0m eta \u001b[36m0:00:00\u001b[0m\n",
            "\u001b[?25hDownloading dill-0.3.8-py3-none-any.whl (116 kB)\n",
            "\u001b[2K   \u001b[90m━━━━━━━━━━━━━━━━━━━━━━━━━━━━━━━━━━━━━━━━\u001b[0m \u001b[32m116.3/116.3 kB\u001b[0m \u001b[31m5.2 MB/s\u001b[0m eta \u001b[36m0:00:00\u001b[0m\n",
            "\u001b[?25hDownloading pyarrow-17.0.0-cp310-cp310-manylinux_2_28_x86_64.whl (39.9 MB)\n",
            "\u001b[2K   \u001b[90m━━━━━━━━━━━━━━━━━━━━━━━━━━━━━━━━━━━━━━━━\u001b[0m \u001b[32m39.9/39.9 MB\u001b[0m \u001b[31m10.6 MB/s\u001b[0m eta \u001b[36m0:00:00\u001b[0m\n",
            "\u001b[?25hDownloading multiprocess-0.70.16-py310-none-any.whl (134 kB)\n",
            "\u001b[2K   \u001b[90m━━━━━━━━━━━━━━━━━━━━━━━━━━━━━━━━━━━━━━━━\u001b[0m \u001b[32m134.8/134.8 kB\u001b[0m \u001b[31m8.7 MB/s\u001b[0m eta \u001b[36m0:00:00\u001b[0m\n",
            "\u001b[?25hDownloading xxhash-3.5.0-cp310-cp310-manylinux_2_17_x86_64.manylinux2014_x86_64.whl (194 kB)\n",
            "\u001b[2K   \u001b[90m━━━━━━━━━━━━━━━━━━━━━━━━━━━━━━━━━━━━━━━━\u001b[0m \u001b[32m194.1/194.1 kB\u001b[0m \u001b[31m11.4 MB/s\u001b[0m eta \u001b[36m0:00:00\u001b[0m\n",
            "\u001b[?25hInstalling collected packages: xxhash, pyarrow, dill, multiprocess, datasets\n",
            "  Attempting uninstall: pyarrow\n",
            "    Found existing installation: pyarrow 14.0.2\n",
            "    Uninstalling pyarrow-14.0.2:\n",
            "      Successfully uninstalled pyarrow-14.0.2\n",
            "\u001b[31mERROR: pip's dependency resolver does not currently take into account all the packages that are installed. This behaviour is the source of the following dependency conflicts.\n",
            "cudf-cu12 24.4.1 requires pyarrow<15.0.0a0,>=14.0.1, but you have pyarrow 17.0.0 which is incompatible.\n",
            "ibis-framework 8.0.0 requires pyarrow<16,>=2, but you have pyarrow 17.0.0 which is incompatible.\u001b[0m\u001b[31m\n",
            "\u001b[0mSuccessfully installed datasets-2.21.0 dill-0.3.8 multiprocess-0.70.16 pyarrow-17.0.0 xxhash-3.5.0\n"
          ]
        }
      ]
    },
    {
      "cell_type": "code",
      "source": [
        "# Import CIFAR-10 dataset from huggingFace\n",
        "from datasets import load_dataset\n",
        "\n",
        "dataset_train = load_dataset(\n",
        "                            \"cifar10\",\n",
        "                             split=\"train\",  # training dataset\n",
        "                             ignore_verifications=True  # set to true if seeing splits error\n",
        "                             )\n",
        "dataset_train\n"
      ],
      "metadata": {
        "id": "w4nUj5-nfVoA",
        "outputId": "73d0215e-46a4-4d8e-e6c9-f387235c6f63",
        "colab": {
          "base_uri": "https://localhost:8080/",
          "height": 423,
          "referenced_widgets": [
            "ab606c0a65b54740bb3e50e64aa6cbfe",
            "bf12206bf04941c4b29607d1f915f6bd",
            "672017eead3a46a8a74b3c47c2b6d9e7",
            "b7f788ef87da49afb87cb2123a6b5f16",
            "857308623cf241edbe5a2889eb754c7d",
            "2bc3f788f0ac4e92891a4903e290cfdd",
            "4a8d7c3ba4484496942cb77bea1e7fce",
            "90f3d783c58d498fbc47d229433ebac1",
            "be6fade7e1374a96861fd91770177eb2",
            "12c27bc645f249c6b2775ee9551b1758",
            "f8363ab0d81a4b0d8f3e3910f0193e3f",
            "774ddc06fe02499780c0a9997b4c4fb1",
            "8cdb4d684f564ea0b8d8243a223258ba",
            "7c0c45ec0eaa4d59ac002ed31b6059fc",
            "1f61f21f0bc94f2a980d7a8bebd5951d",
            "5697cca6f7724d8bb17fb27b67f65836",
            "df703f5356b14a47a8cebf30877168bd",
            "879f29d0657f4f88b9b3e7b0a370109d",
            "dc1202d2bd3d4a23b7a367945c92cfc9",
            "8b252ef617c748429b8915c546f46dee",
            "9dbd2cb9c354451a98f808a32c583a1f",
            "da53ac94724e4061b607264ebb69d044",
            "dd805c866ffa4e6da35157ad53703933",
            "65e63cc96db944e9a3e0a92c1681a56f",
            "01a95d512c9846e7ad072ec9a4837012",
            "64267efee4a141638c3e0a078de210fc",
            "fcccf97bfb354f31b6d20d9bf9ce9bc4",
            "07179eab9d1e4a0198fb971fef5cc076",
            "917a9714cde14f109472b888f6256e9e",
            "901394d1f38e40188cb20d1def45aee1",
            "648260fbbb134b0aa57619513cf6de5d",
            "20d73361e14a419eafac8e18b8f3633f",
            "beed2897db8a47439758dae4a303037d",
            "97fe3fe003a246c4ac3770c013638f31",
            "78a2a60a2fab4d758e46184cf4a6c3f6",
            "4274da2297874fa7b547e7540c903ca0",
            "b506358a17e947489942e4a4abc4a13e",
            "0f5e8a2250934ae28c94bf2b9cd76d19",
            "67685f4f8c354813b957867a96116c90",
            "266eeab114e34f15a09c3af8dbcba36f",
            "baa01efa981a437f90935bf2be5f08d1",
            "72c86d6c030640d1be39057591dbb8a5",
            "af85869613464f2a922b559a8abf4631",
            "dfdd9a1f34d642d6bcaf50f7f3863be5",
            "1057aeebc93a43de815898d8a1173647",
            "f3faed5f187c4e7693dca4559b5aa0a9",
            "04dfdd0614274b4fb59de79b3b4d26f7",
            "c31e34c8a1cc44a09570c6c5bafb9698",
            "b0484877592241b28c2417ad57dcee47",
            "87d70d6ae2254c82a43dc01403bb1654",
            "d32f9ad16cb846f39b6fb3caac80cf79",
            "cc48854e254a4997a0c49057381017ed",
            "80831163518a4cf48cc43c4d1229e905",
            "43debd005f9b4f7b91aab82d15c68497",
            "11837af317f84602a87fd09ddc235446"
          ]
        }
      },
      "execution_count": 4,
      "outputs": [
        {
          "output_type": "stream",
          "name": "stderr",
          "text": [
            "/usr/local/lib/python3.10/dist-packages/datasets/load.py:2574: FutureWarning: 'ignore_verifications' was deprecated in favor of 'verification_mode' in version 2.9.1 and will be removed in 3.0.0.\n",
            "You can remove this warning by passing 'verification_mode=no_checks' instead.\n",
            "  warnings.warn(\n",
            "/usr/local/lib/python3.10/dist-packages/huggingface_hub/utils/_token.py:89: UserWarning: \n",
            "The secret `HF_TOKEN` does not exist in your Colab secrets.\n",
            "To authenticate with the Hugging Face Hub, create a token in your settings tab (https://huggingface.co/settings/tokens), set it as secret in your Google Colab and restart your session.\n",
            "You will be able to reuse this secret in all of your notebooks.\n",
            "Please note that authentication is recommended but still optional to access public models or datasets.\n",
            "  warnings.warn(\n"
          ]
        },
        {
          "output_type": "display_data",
          "data": {
            "text/plain": [
              "Downloading readme:   0%|          | 0.00/5.16k [00:00<?, ?B/s]"
            ],
            "application/vnd.jupyter.widget-view+json": {
              "version_major": 2,
              "version_minor": 0,
              "model_id": "ab606c0a65b54740bb3e50e64aa6cbfe"
            }
          },
          "metadata": {}
        },
        {
          "output_type": "display_data",
          "data": {
            "text/plain": [
              "Downloading data:   0%|          | 0.00/120M [00:00<?, ?B/s]"
            ],
            "application/vnd.jupyter.widget-view+json": {
              "version_major": 2,
              "version_minor": 0,
              "model_id": "774ddc06fe02499780c0a9997b4c4fb1"
            }
          },
          "metadata": {}
        },
        {
          "output_type": "display_data",
          "data": {
            "text/plain": [
              "Downloading data:   0%|          | 0.00/23.9M [00:00<?, ?B/s]"
            ],
            "application/vnd.jupyter.widget-view+json": {
              "version_major": 2,
              "version_minor": 0,
              "model_id": "dd805c866ffa4e6da35157ad53703933"
            }
          },
          "metadata": {}
        },
        {
          "output_type": "display_data",
          "data": {
            "text/plain": [
              "Generating train split:   0%|          | 0/50000 [00:00<?, ? examples/s]"
            ],
            "application/vnd.jupyter.widget-view+json": {
              "version_major": 2,
              "version_minor": 0,
              "model_id": "97fe3fe003a246c4ac3770c013638f31"
            }
          },
          "metadata": {}
        },
        {
          "output_type": "display_data",
          "data": {
            "text/plain": [
              "Generating test split:   0%|          | 0/10000 [00:00<?, ? examples/s]"
            ],
            "application/vnd.jupyter.widget-view+json": {
              "version_major": 2,
              "version_minor": 0,
              "model_id": "1057aeebc93a43de815898d8a1173647"
            }
          },
          "metadata": {}
        },
        {
          "output_type": "execute_result",
          "data": {
            "text/plain": [
              "Dataset({\n",
              "    features: ['img', 'label'],\n",
              "    num_rows: 50000\n",
              "})"
            ]
          },
          "metadata": {},
          "execution_count": 4
        }
      ]
    },
    {
      "cell_type": "code",
      "source": [
        "# let's view the image (its very small)\n",
        "dataset_train[0]['img']"
      ],
      "metadata": {
        "id": "ilw5ZXBvgnYg",
        "outputId": "56fdd811-7ee5-4349-c71f-d39269cb88a9",
        "colab": {
          "base_uri": "https://localhost:8080/",
          "height": 49
        }
      },
      "execution_count": 5,
      "outputs": [
        {
          "output_type": "execute_result",
          "data": {
            "text/plain": [
              "<PIL.PngImagePlugin.PngImageFile image mode=RGB size=32x32>"
            ],
            "image/png": "[encoded data removed]"
          },
          "metadata": {},
          "execution_count": 5
        }
      ]
    },
    {
      "cell_type": "code",
      "source": [
        "type(dataset_train[0]['img'])"
      ],
      "metadata": {
        "id": "KTfUuyByhGPY",
        "outputId": "b8eeb09a-b91e-4c40-d6a5-918ecd447242",
        "colab": {
          "base_uri": "https://localhost:8080/",
          "height": 121
        }
      },
      "execution_count": 6,
      "outputs": [
        {
          "output_type": "execute_result",
          "data": {
            "text/plain": [
              "PIL.PngImagePlugin.PngImageFile"
            ],
            "text/html": [
              "<div style=\"max-width:800px; border: 1px solid var(--colab-border-color);\"><style>\n",
              "      pre.function-repr-contents {\n",
              "        overflow-x: auto;\n",
              "        padding: 8px 12px;\n",
              "        max-height: 500px;\n",
              "      }\n",
              "\n",
              "      pre.function-repr-contents.function-repr-contents-collapsed {\n",
              "        cursor: pointer;\n",
              "        max-height: 100px;\n",
              "      }\n",
              "    </style>\n",
              "    <pre style=\"white-space: initial; background:\n",
              "         var(--colab-secondary-surface-color); padding: 8px 12px;\n",
              "         border-bottom: 1px solid var(--colab-border-color);\"><b>PIL.PngImagePlugin.PngImageFile</b><br/>def __init__(fp=None, filename=None)</pre><pre class=\"function-repr-contents function-repr-contents-collapsed\" style=\"\"><a class=\"filepath\" style=\"display:none\" href=\"#\">/usr/local/lib/python3.10/dist-packages/PIL/PngImagePlugin.py</a>Base class for image file format handlers.</pre>\n",
              "      <script>\n",
              "      if (google.colab.kernel.accessAllowed && google.colab.files && google.colab.files.view) {\n",
              "        for (const element of document.querySelectorAll('.filepath')) {\n",
              "          element.style.display = 'block'\n",
              "          element.onclick = (event) => {\n",
              "            event.preventDefault();\n",
              "            event.stopPropagation();\n",
              "            google.colab.files.view(element.textContent, 723);\n",
              "          };\n",
              "        }\n",
              "      }\n",
              "      for (const element of document.querySelectorAll('.function-repr-contents')) {\n",
              "        element.onclick = (event) => {\n",
              "          event.preventDefault();\n",
              "          event.stopPropagation();\n",
              "          element.classList.toggle('function-repr-contents-collapsed');\n",
              "        };\n",
              "      }\n",
              "      </script>\n",
              "      </div>"
            ]
          },
          "metadata": {},
          "execution_count": 6
        }
      ]
    },
    {
      "cell_type": "code",
      "source": [
        "len(dataset_train)"
      ],
      "metadata": {
        "id": "xASxGaYLhUz3",
        "outputId": "6274f58b-30de-4c9d-e51c-1a769e7fb742",
        "colab": {
          "base_uri": "https://localhost:8080/"
        }
      },
      "execution_count": 7,
      "outputs": [
        {
          "output_type": "execute_result",
          "data": {
            "text/plain": [
              "50000"
            ]
          },
          "metadata": {},
          "execution_count": 7
        }
      ]
    },
    {
      "cell_type": "code",
      "source": [
        "# Testing Data\n",
        "dataset_test = load_dataset(\n",
        "                            \"cifar10\",\n",
        "                             split=\"test\",  # testing dataset\n",
        "                             ignore_verifications=True  # set to true if seeing splits error\n",
        "                             )\n",
        "dataset_test"
      ],
      "metadata": {
        "id": "RNy0TnNthOiP",
        "outputId": "14b62fea-103a-4a41-dce9-ca604ed93c1a",
        "colab": {
          "base_uri": "https://localhost:8080/"
        }
      },
      "execution_count": 8,
      "outputs": [
        {
          "output_type": "stream",
          "name": "stderr",
          "text": [
            "/usr/local/lib/python3.10/dist-packages/datasets/load.py:2574: FutureWarning: 'ignore_verifications' was deprecated in favor of 'verification_mode' in version 2.9.1 and will be removed in 3.0.0.\n",
            "You can remove this warning by passing 'verification_mode=no_checks' instead.\n",
            "  warnings.warn(\n"
          ]
        },
        {
          "output_type": "execute_result",
          "data": {
            "text/plain": [
              "Dataset({\n",
              "    features: ['img', 'label'],\n",
              "    num_rows: 10000\n",
              "})"
            ]
          },
          "metadata": {},
          "execution_count": 8
        }
      ]
    },
    {
      "cell_type": "code",
      "source": [
        "# let's view the image (its very small)\n",
        "dataset_test[0]['img']"
      ],
      "metadata": {
        "id": "8LsMS75mhd6H",
        "outputId": "443042e2-351f-46b1-e117-36f3a5af89ba",
        "colab": {
          "base_uri": "https://localhost:8080/",
          "height": 49
        }
      },
      "execution_count": 9,
      "outputs": [
        {
          "output_type": "execute_result",
          "data": {
            "text/plain": [
              "<PIL.PngImagePlugin.PngImageFile image mode=RGB size=32x32>"
            ],
            "image/png": "[encoded data removed]"
          },
          "metadata": {},
          "execution_count": 9
        }
      ]
    },
    {
      "cell_type": "code",
      "source": [
        "dataset_test[0]['label']"
      ],
      "metadata": {
        "id": "r850s667ku2_",
        "outputId": "fb71c327-fae2-4994-f565-2834d14a703d",
        "colab": {
          "base_uri": "https://localhost:8080/"
        }
      },
      "execution_count": 10,
      "outputs": [
        {
          "output_type": "execute_result",
          "data": {
            "text/plain": [
              "3"
            ]
          },
          "metadata": {},
          "execution_count": 10
        }
      ]
    },
    {
      "cell_type": "code",
      "source": [
        "type(dataset_test[0]['img'])"
      ],
      "metadata": {
        "id": "djVEZrXPhh-X",
        "outputId": "2a317618-55e1-4b62-a5d8-4c924e1aba10",
        "colab": {
          "base_uri": "https://localhost:8080/",
          "height": 121
        }
      },
      "execution_count": 11,
      "outputs": [
        {
          "output_type": "execute_result",
          "data": {
            "text/plain": [
              "PIL.PngImagePlugin.PngImageFile"
            ],
            "text/html": [
              "<div style=\"max-width:800px; border: 1px solid var(--colab-border-color);\"><style>\n",
              "      pre.function-repr-contents {\n",
              "        overflow-x: auto;\n",
              "        padding: 8px 12px;\n",
              "        max-height: 500px;\n",
              "      }\n",
              "\n",
              "      pre.function-repr-contents.function-repr-contents-collapsed {\n",
              "        cursor: pointer;\n",
              "        max-height: 100px;\n",
              "      }\n",
              "    </style>\n",
              "    <pre style=\"white-space: initial; background:\n",
              "         var(--colab-secondary-surface-color); padding: 8px 12px;\n",
              "         border-bottom: 1px solid var(--colab-border-color);\"><b>PIL.PngImagePlugin.PngImageFile</b><br/>def __init__(fp=None, filename=None)</pre><pre class=\"function-repr-contents function-repr-contents-collapsed\" style=\"\"><a class=\"filepath\" style=\"display:none\" href=\"#\">/usr/local/lib/python3.10/dist-packages/PIL/PngImagePlugin.py</a>Base class for image file format handlers.</pre>\n",
              "      <script>\n",
              "      if (google.colab.kernel.accessAllowed && google.colab.files && google.colab.files.view) {\n",
              "        for (const element of document.querySelectorAll('.filepath')) {\n",
              "          element.style.display = 'block'\n",
              "          element.onclick = (event) => {\n",
              "            event.preventDefault();\n",
              "            event.stopPropagation();\n",
              "            google.colab.files.view(element.textContent, 723);\n",
              "          };\n",
              "        }\n",
              "      }\n",
              "      for (const element of document.querySelectorAll('.function-repr-contents')) {\n",
              "        element.onclick = (event) => {\n",
              "          event.preventDefault();\n",
              "          event.stopPropagation();\n",
              "          element.classList.toggle('function-repr-contents-collapsed');\n",
              "        };\n",
              "      }\n",
              "      </script>\n",
              "      </div>"
            ]
          },
          "metadata": {},
          "execution_count": 11
        }
      ]
    },
    {
      "cell_type": "code",
      "source": [
        "len(dataset_test)"
      ],
      "metadata": {
        "id": "CSdga2sOhkdf",
        "outputId": "c591d49f-8efa-45fc-8aeb-e64cec3698b2",
        "colab": {
          "base_uri": "https://localhost:8080/"
        }
      },
      "execution_count": 12,
      "outputs": [
        {
          "output_type": "execute_result",
          "data": {
            "text/plain": [
              "10000"
            ]
          },
          "metadata": {},
          "execution_count": 12
        }
      ]
    },
    {
      "cell_type": "markdown",
      "source": [
        "Here we have specified that we want the training split of the dataset with split='train'. We return 50K images split across ten classes from this.\n",
        "\n",
        "Most CNNs can only accept images of a fixed size. To handle this, we will reshape all images to 32x32 pixels using torchvision.transforms; a pipeline built for image preprocessing."
      ],
      "metadata": {
        "id": "sKraIuCsiJMX"
      }
    },
    {
      "cell_type": "code",
      "source": [
        "# Ensure that mean and std do not have zeros\n",
        "mean = [0.485, 0.456, 0.406]  # Example values\n",
        "std = [0.229, 0.224, 0.225]   # Example values"
      ],
      "metadata": {
        "id": "KbEJT_CnujUI"
      },
      "execution_count": 13,
      "outputs": []
    },
    {
      "cell_type": "code",
      "source": [
        "# image size\n",
        "img_size = 32\n",
        "\n",
        "#preprocess variable, to be used ahead\n",
        "preprocess = transforms.Compose([\n",
        "    transforms.Resize((img_size, img_size)),\n",
        "    transforms.ToTensor(),\n",
        "    transforms.Normalize(mean=mean, std=std)\n",
        "])"
      ],
      "metadata": {
        "id": "lQQTmuTDiKpv"
      },
      "execution_count": 14,
      "outputs": []
    },
    {
      "cell_type": "markdown",
      "source": [
        "The preprocess pipeline handles the height and width of our images but not the depth. Every image has a number of “color channels” that define its depth. For RGB images, there are three color channels; red, green, and blue, whereas grayscale images have just one.\n",
        "\n",
        "Datasets commonly contain images with different color profiles, so we must convert them into a set format. We will use RGB, and as our images are all Python PIL objects, the color format is stored in an attribute called mode. The mode will be RGB for RGB images and L for grayscale images.\n",
        "\n",
        "We perform the conversion to RGB and also perform the preprocess transformations like so:"
      ],
      "metadata": {
        "id": "4npdVTCtjUNn"
      }
    },
    {
      "cell_type": "code",
      "source": [
        "from tqdm.auto import tqdm\n",
        "\n",
        "inputs_train = []\n",
        "\n",
        "for record in tqdm(dataset_train):\n",
        "  img = record['img']\n",
        "  label = record['label']\n",
        "\n",
        "  # Convert from grayscale to RGB\n",
        "  if img.mode == 'L':\n",
        "    img = img.convert(\"RGB\")\n",
        "\n",
        "  #preprocessing\n",
        "  input_tensor = preprocess(img)\n",
        "  inputs_train.append([input_tensor,label])\n",
        "\n",
        ""
      ],
      "metadata": {
        "id": "zO7UkemDjVTH",
        "outputId": "5be41be0-343b-4484-9f44-557ceebb3a96",
        "colab": {
          "base_uri": "https://localhost:8080/",
          "height": 49,
          "referenced_widgets": [
            "8ab7fcf9a49247dd8529c2f6eeb69daa",
            "6f340ae5bd1445ddb4f2d7e09928f2c3",
            "3348def913b44781af867f3505dd41e5",
            "e1841f4fcff24ad8a283f43f16621ae3",
            "22771edbee1f4076b575a5319dd4766f",
            "efe44087350a4a8084f5b82c66d25a95",
            "288132caa3bb44b39e0b4afe5366acd9",
            "ed8158303ab8466cb577ec292779837b",
            "4074ca5e2a434732a91a8977ffe2ef56",
            "4fedb1aa946a470e929e6b2f15b8d94c",
            "c182e65a36b94e1090b70a042d0b0f78"
          ]
        }
      },
      "execution_count": 15,
      "outputs": [
        {
          "output_type": "display_data",
          "data": {
            "text/plain": [
              "  0%|          | 0/50000 [00:00<?, ?it/s]"
            ],
            "application/vnd.jupyter.widget-view+json": {
              "version_major": 2,
              "version_minor": 0,
              "model_id": "8ab7fcf9a49247dd8529c2f6eeb69daa"
            }
          },
          "metadata": {}
        }
      ]
    },
    {
      "cell_type": "code",
      "source": [
        "print(len(inputs_train))\n",
        "inputs_train[0][0].shape"
      ],
      "metadata": {
        "id": "gxRdoKOTkb5h",
        "outputId": "baeea112-e74d-4f11-c4d5-5a2622178fb2",
        "colab": {
          "base_uri": "https://localhost:8080/"
        }
      },
      "execution_count": 16,
      "outputs": [
        {
          "output_type": "stream",
          "name": "stdout",
          "text": [
            "50000\n"
          ]
        },
        {
          "output_type": "execute_result",
          "data": {
            "text/plain": [
              "torch.Size([3, 32, 32])"
            ]
          },
          "metadata": {},
          "execution_count": 16
        }
      ]
    },
    {
      "cell_type": "code",
      "source": [
        "print(inputs_train[0][1])"
      ],
      "metadata": {
        "id": "zqU5tFifk15f",
        "outputId": "f928d8a5-afdc-4d15-c0fa-0b20b40916dd",
        "colab": {
          "base_uri": "https://localhost:8080/"
        }
      },
      "execution_count": 17,
      "outputs": [
        {
          "output_type": "stream",
          "name": "stdout",
          "text": [
            "0\n"
          ]
        }
      ]
    },
    {
      "cell_type": "code",
      "source": [
        "#inputs_train[0][1].shape  #label"
      ],
      "metadata": {
        "id": "uYzd5cOJkoZ4"
      },
      "execution_count": 18,
      "outputs": []
    },
    {
      "cell_type": "code",
      "source": [
        "inputs_train[0]"
      ],
      "metadata": {
        "id": "aHp9235uk-53",
        "outputId": "1e23d2b7-816a-4fcc-8e2b-88bc24ec5001",
        "colab": {
          "base_uri": "https://localhost:8080/"
        }
      },
      "execution_count": 19,
      "outputs": [
        {
          "output_type": "execute_result",
          "data": {
            "text/plain": [
              "[tensor([[[ 0.9303,  0.9303,  0.9303,  ...,  0.7933,  0.7591,  0.7077],\n",
              "          [ 0.9646,  0.9474,  0.9646,  ...,  0.8447,  0.8104,  0.7591],\n",
              "          [ 0.9132,  0.9132,  0.9303,  ...,  0.8104,  0.7762,  0.7419],\n",
              "          ...,\n",
              "          [-0.1999, -0.1828, -0.1657,  ..., -0.4054, -0.4397, -0.3883],\n",
              "          [-0.1999, -0.1999, -0.1828,  ..., -0.3712, -0.3712, -0.3712],\n",
              "          [-0.3541, -0.4054, -0.3541,  ..., -0.5424, -0.5253, -0.5596]],\n",
              " \n",
              "         [[ 1.0455,  1.0455,  1.0455,  ...,  0.9055,  0.8704,  0.8179],\n",
              "          [ 1.0805,  1.0630,  1.0805,  ...,  0.9580,  0.9230,  0.8704],\n",
              "          [ 1.0280,  1.0280,  1.0455,  ...,  0.9230,  0.8880,  0.8529],\n",
              "          ...,\n",
              "          [-0.1625, -0.1275, -0.1099,  ..., -0.3375, -0.3901, -0.3725],\n",
              "          [-0.2500, -0.2325, -0.2325,  ..., -0.3725, -0.4076, -0.4251],\n",
              "          [-0.3550, -0.4076, -0.3725,  ..., -0.5651, -0.5301, -0.5651]],\n",
              " \n",
              "         [[ 1.4897,  1.4897,  1.4897,  ...,  1.3328,  1.2805,  1.2282],\n",
              "          [ 1.5245,  1.5071,  1.5245,  ...,  1.3677,  1.3328,  1.2805],\n",
              "          [ 1.4722,  1.4722,  1.4897,  ...,  1.3328,  1.2980,  1.2631],\n",
              "          ...,\n",
              "          [ 0.0605,  0.0779,  0.1128,  ..., -0.1661, -0.1835, -0.1487],\n",
              "          [-0.0441, -0.0267, -0.0092,  ..., -0.1835, -0.2184, -0.2184],\n",
              "          [-0.2010, -0.2358, -0.1661,  ..., -0.4101, -0.4101, -0.4624]]]),\n",
              " 0]"
            ]
          },
          "metadata": {},
          "execution_count": 19
        }
      ]
    },
    {
      "cell_type": "code",
      "source": [
        "inputs_train[12]"
      ],
      "metadata": {
        "id": "rbTkj20tlLi3",
        "outputId": "97973328-cb58-4312-f9a6-920658f60f21",
        "colab": {
          "base_uri": "https://localhost:8080/"
        }
      },
      "execution_count": 20,
      "outputs": [
        {
          "output_type": "execute_result",
          "data": {
            "text/plain": [
              "[tensor([[[ 0.4508,  0.5364,  0.6734,  ..., -0.0458,  0.1083,  0.2111],\n",
              "          [ 0.8618,  0.9303,  0.7248,  ...,  0.2453,  0.2282,  0.2453],\n",
              "          [ 1.1529,  1.2557,  1.1872,  ...,  0.0741,  0.0569,  0.0398],\n",
              "          ...,\n",
              "          [ 1.4440,  1.4269,  1.2899,  ...,  0.8789, -0.0801, -0.2856],\n",
              "          [ 1.3413,  1.2385,  1.2043,  ...,  1.0159,  0.0912,  0.5193],\n",
              "          [ 1.4954,  1.2899,  1.2385,  ...,  1.4612,  1.1529,  1.1529]],\n",
              " \n",
              "         [[ 0.6604,  0.6779,  0.6078,  ..., -0.0399,  0.1001,  0.1702],\n",
              "          [ 0.9230,  0.9755,  0.6954,  ...,  0.2577,  0.2227,  0.2402],\n",
              "          [ 1.0805,  1.2031,  1.1681,  ...,  0.0826,  0.0651,  0.0476],\n",
              "          ...,\n",
              "          [ 0.9930,  0.8704,  0.7304,  ...,  0.6254, -0.3375, -0.5301],\n",
              "          [ 0.7829,  0.6779,  0.6078,  ...,  0.7829, -0.1800,  0.2752],\n",
              "          [ 1.2206,  1.0805,  0.9230,  ...,  1.3431,  1.0280,  1.0280]],\n",
              " \n",
              "         [[ 0.6705,  0.6008,  0.3219,  ..., -0.5844, -0.2707, -0.0615],\n",
              "          [ 0.9494,  0.9319,  0.4962,  ..., -0.3055, -0.2532, -0.1661],\n",
              "          [ 1.1062,  1.1062,  0.9319,  ..., -0.4101, -0.4450, -0.4798],\n",
              "          ...,\n",
              "          [ 0.7925,  0.5485,  0.4265,  ...,  0.6356, -0.2707, -0.3927],\n",
              "          [ 0.5136,  0.4439,  0.3393,  ...,  0.8622, -0.0964,  0.3219],\n",
              "          [ 1.2457,  1.1411,  0.9494,  ...,  1.4200,  1.0714,  1.0191]]]),\n",
              " 6]"
            ]
          },
          "metadata": {},
          "execution_count": 20
        }
      ]
    },
    {
      "cell_type": "markdown",
      "source": [
        "Leaving us with 50,000 training examples, each a 3x32x32-dimensional tensor. The tensors are normalized to a [0,1][0,1] range by the transforms.ToTensor() step.\n",
        "\n",
        "Right now, this normalization does not consider the pixel values of our overall set of images. Ideally, we should normalize by the mean and standard deviation values specific to this dataset."
      ],
      "metadata": {
        "id": "JnNY1myNltHX"
      }
    },
    {
      "cell_type": "code",
      "source": [
        "import numpy as np\n",
        "\n",
        "np.random.seed(0)\n",
        "\n",
        "# calculate mean and std of images, first start by choosing a random\n",
        "idx = np.random.randint(0,len(inputs_train),512)\n",
        "idx.shape"
      ],
      "metadata": {
        "colab": {
          "base_uri": "https://localhost:8080/"
        },
        "id": "8eizahkIlt6f",
        "outputId": "87344264-6393-4337-bb49-19fd29c37022"
      },
      "execution_count": 21,
      "outputs": [
        {
          "output_type": "execute_result",
          "data": {
            "text/plain": [
              "(512,)"
            ]
          },
          "metadata": {},
          "execution_count": 21
        }
      ]
    },
    {
      "cell_type": "code",
      "source": [
        "idx"
      ],
      "metadata": {
        "id": "H9ywnaHvnxUY",
        "outputId": "08dd2904-68bb-44d6-86d7-5e780c5abb03",
        "colab": {
          "base_uri": "https://localhost:8080/"
        }
      },
      "execution_count": 22,
      "outputs": [
        {
          "output_type": "execute_result",
          "data": {
            "text/plain": [
              "array([ 2732, 43567, 42613, 45891, 21243, 30403, 32103, 41993, 20757,\n",
              "       46884, 14935, 15430, 48600, 39512, 14650, 17089, 32230, 18983,\n",
              "       43095, 24152, 35665, 16921, 27469, 38984,  6921, 38804,  2163,\n",
              "        5072, 37619,  7877, 18430,  1871,  7599,  2496, 47954, 24675,\n",
              "       42968, 31921, 33523,   797, 49811,  3219, 15246, 24999, 16321,\n",
              "       19129, 41504, 49866, 18676, 31230, 11723, 43890, 17591, 43136,\n",
              "       26752, 23605,  6021, 20006,  3560, 25332, 31055, 45444, 46522,\n",
              "       47647, 21368, 20737, 28647, 26681, 14627, 12134, 47883, 41390,\n",
              "       20571,  9781, 19340, 27257, 16298, 12372,  4420, 45830, 39876,\n",
              "       17455, 14324, 38019,  7012,  9396, 47080,  3918,  9359, 44259,\n",
              "       23482, 15127, 43727, 35725, 37237, 14165,  8752, 42565, 14505,\n",
              "        5795, 23647, 40133, 28254, 41216, 36530, 25392, 16221, 18819,\n",
              "       34402, 48682,   973, 20848, 10215, 11157, 24777, 13824,  2418,\n",
              "       12843, 13242, 36223,  6521, 22626,  9123, 31454, 42947, 14254,\n",
              "       23700, 37073, 38299, 23310, 31785, 15041, 23306, 36950, 48171,\n",
              "       13160, 26635, 47874, 33075, 13392, 14368,  5302, 33920, 23334,\n",
              "       41235, 38062, 46634, 46451, 35260, 27112, 48717, 47390, 13592,\n",
              "       25213, 33538, 15875,  8286, 44258, 38763, 18728, 13640,  3091,\n",
              "       45663,  3912,  6594, 21752, 23532,  7997, 40800, 15620, 40899,\n",
              "        4845, 26763, 43606,  3533,  2937, 26221, 37707, 42512, 19608,\n",
              "        5021, 26773, 33902, 49177, 42448, 17340,  1913, 13429, 13907,\n",
              "       35489, 10088, 15588, 38395, 38214,   469, 43295,  8717, 34488,\n",
              "       38040, 16975, 38953, 15912, 28086, 16591, 15115, 14447, 28665,\n",
              "       42870, 11052, 15741, 28739, 43986,  5103, 35050,  1740, 12579,\n",
              "        5846, 46078, 47805, 20165,  2775, 18987, 30752, 23563, 13928,\n",
              "        6356, 33930, 46774, 28651, 15997, 33391, 32232,  8962, 20435,\n",
              "       34009, 43671,  4403, 17582, 29844, 19381, 38429, 15939, 10787,\n",
              "       17191,  2121, 45353, 24451,  3886, 41690, 22450, 15212,  9987,\n",
              "       47881, 45485, 16583, 34215,  5181, 43349, 11042, 42914,  5208,\n",
              "        6177, 47749,  4863, 47394,  8389,   894, 48208, 30142, 32904,\n",
              "       26813, 39041, 25968, 47395, 13688,  3419, 16552,  6004, 35620,\n",
              "       45232, 42521, 20803, 15139, 35954, 22302, 21533, 18161, 41106,\n",
              "       14676, 20989,  2562, 22597, 25484, 37420, 13173, 27389, 46402,\n",
              "       28271, 11605, 33191, 28310, 33735, 37138, 41820, 22571, 33201,\n",
              "       13097, 22621, 17813, 44889, 18930, 31200, 14299, 16713, 19996,\n",
              "       16363, 24785, 36736, 24534, 32319,  1040,  6250, 25182,  7704,\n",
              "        6772, 38079, 42179, 25907, 45192,  9144, 27741, 38779, 41120,\n",
              "        2195,  4680, 25687, 32058, 38008, 10100, 15168, 43723, 33500,\n",
              "       45856, 23978, 12046, 20950,  9500, 40212, 32722, 46614, 23418,\n",
              "       49747, 33415, 12232, 16957, 39565, 38405, 27784, 44239, 47567,\n",
              "       32693, 38027, 41988, 39335, 37212, 33354, 14132,  7601, 27867,\n",
              "       11059,   739, 29545, 21266, 28021,  5410, 48691, 48798, 16821,\n",
              "        3898, 28587, 18231,  9724, 23314,   941, 27479, 25025, 11590,\n",
              "       11317,  9008, 31838, 18491, 14672, 26266, 30332, 20643, 11834,\n",
              "       17329,  8393, 18189, 47993,  1862, 41510, 36519, 42632,   903,\n",
              "       30416, 15352, 25080, 24399, 14297,  5896, 12003,  7942, 23761,\n",
              "       42439, 38361, 16322, 30268, 39794, 36589, 19095,  8472,  1028,\n",
              "       35428,  2353, 26967, 22046,  7734, 24729, 28436, 23905, 26981,\n",
              "       10937, 45463, 32155,  1053, 19361, 21875, 36661,  2679, 11187,\n",
              "        4950, 31222,  2665, 19441, 30857, 39606, 36736,   851,  5028,\n",
              "       20177, 23700, 39920, 24702,  8769, 22036, 33572, 38212, 16496,\n",
              "       34735, 17034, 37101,  1384, 46046, 13867,    63, 36767,  3988,\n",
              "       45659, 19055, 46499, 35155, 26444, 21778, 36209,  8010, 13537,\n",
              "        5763, 19340,  7396, 36666, 14705, 21287, 25274, 16676, 31075,\n",
              "       47238,  5346, 23417, 37544, 31164, 13729, 23836,  4122,   736,\n",
              "       26872, 37229, 18355, 11465, 13749, 41157, 45985, 34439, 33374,\n",
              "       18504, 45302, 15835,  7788, 39014, 24404, 26951, 25171])"
            ]
          },
          "metadata": {},
          "execution_count": 22
        }
      ]
    },
    {
      "cell_type": "code",
      "source": [
        "# then we concatenate this subset of image tensors\n",
        "tensors = torch.concat([inputs_train[i][0] for i in idx], axis=1)\n",
        "tensors.shape"
      ],
      "metadata": {
        "colab": {
          "base_uri": "https://localhost:8080/"
        },
        "id": "xjcanegVmWcH",
        "outputId": "daf19909-2470-4971-9b1c-c3cb6b5ac4d1"
      },
      "execution_count": 23,
      "outputs": [
        {
          "output_type": "execute_result",
          "data": {
            "text/plain": [
              "torch.Size([3, 16384, 32])"
            ]
          },
          "metadata": {},
          "execution_count": 23
        }
      ]
    },
    {
      "cell_type": "code",
      "source": [
        "mean = torch.mean(tensors, axis=0)\n",
        "mean"
      ],
      "metadata": {
        "colab": {
          "base_uri": "https://localhost:8080/"
        },
        "id": "UFHrK8WEm4W_",
        "outputId": "76083203-dae0-471f-a731-a6bdf1e49e7b"
      },
      "execution_count": 24,
      "outputs": [
        {
          "output_type": "execute_result",
          "data": {
            "text/plain": [
              "tensor([[2.1264, 2.1958, 2.1785,  ..., 1.4670, 1.4148, 1.2990],\n",
              "        [2.1090, 2.2132, 2.2132,  ..., 1.4960, 1.4496, 1.3221],\n",
              "        [2.1958, 2.2652, 2.2479,  ..., 1.5711, 1.5306, 1.4089],\n",
              "        ...,\n",
              "        [2.4392, 2.3756, 2.4335,  ..., 2.4392, 2.4392, 2.4392],\n",
              "        [2.4392, 2.4218, 2.4102,  ..., 2.4392, 2.4392, 2.4392],\n",
              "        [2.4392, 2.3871, 2.4045,  ..., 2.4045, 2.4045, 2.4045]])"
            ]
          },
          "metadata": {},
          "execution_count": 24
        }
      ]
    },
    {
      "cell_type": "code",
      "source": [
        "std = torch.std(tensors, axis=0)\n",
        "std"
      ],
      "metadata": {
        "colab": {
          "base_uri": "https://localhost:8080/"
        },
        "id": "holBTM9ynC1I",
        "outputId": "9c2f7c2e-7502-49ff-958c-796d6eb54441"
      },
      "execution_count": 25,
      "outputs": [
        {
          "output_type": "execute_result",
          "data": {
            "text/plain": [
              "tensor([[0.1118, 0.1124, 0.1123,  ..., 0.1354, 0.1367, 0.1380],\n",
              "        [0.1116, 0.1126, 0.1126,  ..., 0.1406, 0.1369, 0.1305],\n",
              "        [0.1124, 0.1130, 0.1129,  ..., 0.1361, 0.1414, 0.1309],\n",
              "        ...,\n",
              "        [0.1958, 0.1949, 0.2042,  ..., 0.1958, 0.1958, 0.1958],\n",
              "        [0.1958, 0.1956, 0.1872,  ..., 0.1958, 0.1958, 0.1958],\n",
              "        [0.1958, 0.1953, 0.1955,  ..., 0.1955, 0.1955, 0.1955]])"
            ]
          },
          "metadata": {},
          "execution_count": 25
        }
      ]
    },
    {
      "cell_type": "code",
      "source": [
        "del tensors"
      ],
      "metadata": {
        "id": "97BRyQFknPJQ"
      },
      "execution_count": 26,
      "outputs": []
    },
    {
      "cell_type": "markdown",
      "source": [
        "### **1. Importing Libraries**\n",
        "```python\n",
        "import numpy as np\n",
        "```\n",
        "This imports the NumPy library, which is a powerful library in Python used for numerical computations. It provides support for large multidimensional arrays and matrices, along with a collection of mathematical functions to operate on these arrays.\n",
        "\n",
        "### **2. Setting a Random Seed**\n",
        "```python\n",
        "np.random.seed(0)\n",
        "```\n",
        "- **Purpose**: Setting the seed ensures that the random numbers generated by NumPy are reproducible. This means every time you run this code, the same random numbers will be generated.\n",
        "- **Why `0`?**: The number `0` is just an example seed value. Any integer can be used. It controls the starting point of the random number generation process.\n",
        "\n",
        "### **3. Generating Random Indices**\n",
        "```python\n",
        "idx = np.random.randint(0, len(inputs_train), 512)\n",
        "```\n",
        "- **Purpose**: This line generates an array of random integers.\n",
        "- **Parameters**:\n",
        "  - `0`: The lower bound (inclusive) of the random numbers.\n",
        "  - `len(inputs_train)`: The upper bound (exclusive) of the random numbers, which is the length of the `inputs_train` dataset.\n",
        "  - `512`: The size of the output array, meaning we want 512 random integers.\n",
        "\n",
        "- **What is `idx`?**:\n",
        "  - **Structure**: `idx` is a 1-dimensional NumPy array containing 512 random integers.\n",
        "  - **Purpose**: These integers are used as indices to randomly select a subset of images from the `inputs_train` dataset.\n",
        "\n",
        "### **4. Concatenating Tensors**\n",
        "```python\n",
        "tensors = torch.concat([inputs_train[i][0] for i in idx], axis=1)\n",
        "```\n",
        "- **Purpose**: This line creates a single tensor by concatenating a subset of image tensors.\n",
        "- **Breaking It Down**:\n",
        "  - **List Comprehension**: `[inputs_train[i][0] for i in idx]`\n",
        "    - This creates a list of tensors. For each index `i` in the `idx` array, it selects the `i`-th image from `inputs_train`.\n",
        "    - **`inputs_train[i][0]`**:\n",
        "      - `inputs_train[i]` selects the `i`-th element (likely a tuple or list) from the training dataset.\n",
        "      - `[0]` selects the first element of this tuple/list, which is typically the image tensor.\n",
        "  - **`torch.concat`**:\n",
        "    - This is a method used to concatenate a list of tensors along a specified axis.\n",
        "    - **`axis=1`**: Specifies that the tensors should be concatenated along the second axis (typically width for images).\n",
        "  \n",
        "- **What if `torch.concat` is not used?**:\n",
        "  - If `torch.concat` is not used, you wouldn't be able to combine the selected tensors into a single large tensor. Instead, you'd have a list of separate tensors.\n",
        "\n",
        "### **5. Calculating the Mean and Standard Deviation**\n",
        "```python\n",
        "mean = torch.mean(tensors, axis=0)\n",
        "std = torch.std(tensors, axis=0)\n",
        "```\n",
        "- **Purpose**: These lines calculate the mean and standard deviation across the first axis of the concatenated tensor.\n",
        "- **`torch.mean` and `torch.std`**:\n",
        "  - **`tensors`**: The input tensor that was created by concatenating the images.\n",
        "  - **`axis=0`**: Specifies that the mean and standard deviation should be computed along the first axis (which corresponds to the batch or number of concatenated images).\n",
        "  - **Mean**: Provides the average pixel value across all the selected images for each pixel position.\n",
        "  - **Standard Deviation**: Measures the amount of variation or dispersion of pixel values for each pixel position.\n",
        "\n",
        "### **6. Deleting the Tensor**\n",
        "```python\n",
        "del tensors\n",
        "```\n",
        "- **Purpose**: This line deletes the `tensors` object to free up memory.\n",
        "- **Why?**: The `tensors` object might take up a significant amount of memory. Deleting it when it's no longer needed helps prevent memory overloads, especially in environments with limited resources like Google Colab.\n",
        "\n",
        "### **Summary**\n",
        "- **`np.random.seed(0)`**: Ensures reproducibility of the random numbers.\n",
        "- **`idx = np.random.randint(0, len(inputs_train), 512)`**: Creates an array of 512 random indices within the range of the dataset.\n",
        "- **`tensors = torch.concat([...], axis=1)`**: Concatenates a random subset of image tensors into one large tensor along the specified axis.\n",
        "- **`mean = torch.mean(tensors, axis=0)`**: Computes the mean across all images for each pixel position.\n",
        "- **`std = torch.std(tensors, axis=0)`**: Computes the standard deviation across all images for each pixel position.\n",
        "- **`del tensors`**: Frees up memory by deleting the large tensor.\n",
        "\n",
        "This code snippet is essentially sampling a subset of images from the training set, concatenating them, and then calculating the mean and standard deviation of the pixels to normalize the data. The use of specific parameters and methods ensures that the process is efficient and manageable."
      ],
      "metadata": {
        "id": "gf-ODwwfpXIm"
      }
    },
    {
      "cell_type": "markdown",
      "source": [
        "This normalization step is applied by another transformers.Compose step like so:"
      ],
      "metadata": {
        "id": "zdi-47s5nXrX"
      }
    },
    {
      "cell_type": "markdown",
      "source": [
        "Normalization is a crucial step in the preprocessing pipeline for many machine learning models, particularly those involving neural networks, such as Convolutional Neural Networks (CNNs). Let's break down the code and explain why normalization is important.\n",
        "\n",
        "### **1. Preprocessing Pipeline**\n",
        "```python\n",
        "preprocess = transforms.Compose([\n",
        "    transforms.Normalize(mean=mean, std=std)\n",
        "])\n",
        "```\n",
        "- **Purpose**: This defines a preprocessing pipeline using `transforms.Compose`, which allows you to chain multiple transformations together.\n",
        "- **`transforms.Normalize(mean=mean, std=std)`**:\n",
        "  - This transformation normalizes the tensor using the provided `mean` and `std` (standard deviation) values.\n",
        "  - **Normalization Formula**:\n",
        "    \\[\n",
        "    \\text{normalized\\_pixel} = \\frac{\\text{original\\_pixel} - \\text{mean}}{\\text{std}}\n",
        "    \\]\n",
        "  - **Parameters**:\n",
        "    - **`mean`**: The mean pixel value across the dataset, calculated previously.\n",
        "    - **`std`**: The standard deviation of pixel values across the dataset.\n",
        "  - **Effect**: After normalization, the pixel values will be centered around 0 (since the mean is subtracted) and scaled so that they have a standard deviation of 1.\n",
        "\n",
        "### **2. Normalizing the Training Data**\n",
        "```python\n",
        "for i in tqdm(range(len(inputs_train))):\n",
        "    # preprocessing\n",
        "    input_tensor = preprocess(inputs_train[i][0])\n",
        "    # replace with normalized tensor\n",
        "    inputs_train[i][0] = input_tensor\n",
        "```\n",
        "- **Purpose**: This loop applies the normalization transformation to each image tensor in the `inputs_train` list.\n",
        "\n",
        "### **Understanding Normalization**\n",
        "\n",
        "#### **Why Normalize?**\n",
        "Normalization helps improve the training process of neural networks in several ways:\n",
        "\n",
        "1. **Consistency Across Data**:\n",
        "   - Pixel values in images typically range from 0 to 255. Without normalization, the input data would have large variations in scale, which can lead to inefficient learning.\n",
        "   - By normalizing the data, you ensure that all input features (pixels) have a similar scale, making it easier for the network to learn.\n",
        "\n",
        "2. **Improved Convergence**:\n",
        "   - Neural networks often converge faster when the input data is centered around zero. This is because the gradients of the loss function are more consistent, reducing the chance of getting stuck in local minima.\n",
        "\n",
        "3. **Reduced Internal Covariate Shift**:\n",
        "   - During training, the distribution of each layer's inputs changes as the parameters of the previous layers change. Normalization helps mitigate this effect, known as internal covariate shift, leading to more stable training.\n",
        "\n",
        "#### **How Does Normalization Work?**\n",
        "- **Mean**: Subtracting the mean centers the data around zero, which is important because many activation functions (like ReLU or tanh) work better when their inputs are centered around zero.\n",
        "- **Standard Deviation**: Dividing by the standard deviation scales the data so that it has unit variance, which helps in stabilizing the gradients during training.\n",
        "\n",
        "### **3. Replacing the Original Tensors**\n",
        "```python\n",
        "inputs_train[i][0] = input_tensor\n",
        "```\n",
        "- **Purpose**: After normalizing the tensor, this line replaces the original (non-normalized) tensor with the normalized version in the `inputs_train` list.\n",
        "\n",
        "### **Summary**\n",
        "- **Normalization**: It's a preprocessing step to ensure that all image data has similar scale and mean, which is crucial for efficient and effective training of neural networks.\n",
        "- **Why It's Important**: Normalization leads to faster convergence, better model performance, and more stable training by ensuring that the data fed into the network has a mean of 0 and a standard deviation of 1.\n",
        "- **Code Functionality**: The code is applying this normalization transformation to each image tensor in your training data, replacing the original images with their normalized versions."
      ],
      "metadata": {
        "id": "DG-bG4jqrD4h"
      }
    },
    {
      "cell_type": "markdown",
      "source": [
        "We repeat the steps above for a test set that we will use for validating our CNN classifier performance. The validation set is also downloaded from Hugging Face datasets via load_dataset by switching the earlier split parameter to 'test':"
      ],
      "metadata": {
        "id": "JCn3D9NSsi6f"
      }
    },
    {
      "cell_type": "code",
      "source": [
        "dataset_val = load_dataset(\n",
        "    'cifar10',\n",
        "    split='test',  # test set (used as validation set)\n",
        "    ignore_verifications=False  # set to True if seeing splits Error\n",
        ")"
      ],
      "metadata": {
        "id": "PYJg_85YsmtI",
        "outputId": "fb843afd-55e0-4767-bc9f-930ab631d785",
        "colab": {
          "base_uri": "https://localhost:8080/"
        }
      },
      "execution_count": 27,
      "outputs": [
        {
          "output_type": "stream",
          "name": "stderr",
          "text": [
            "/usr/local/lib/python3.10/dist-packages/datasets/load.py:2574: FutureWarning: 'ignore_verifications' was deprecated in favor of 'verification_mode' in version 2.9.1 and will be removed in 3.0.0.\n",
            "You can remove this warning by passing 'verification_mode=all_checks' instead.\n",
            "  warnings.warn(\n"
          ]
        }
      ]
    },
    {
      "cell_type": "markdown",
      "source": [
        "The validation set must also be preprocessed, find the code for it here.\n",
        "\n",
        "Both train and validation splits are added into DataLoader objects. The data loaders shuffle, batch, and load data into the model during training or inference (validation)."
      ],
      "metadata": {
        "id": "lCydq5Ihs4bn"
      }
    },
    {
      "cell_type": "code",
      "source": [
        "from tqdm.auto import tqdm\n",
        "\n",
        "inputs_val = []\n",
        "i = 0\n",
        "for record in tqdm(dataset_val):\n",
        "    image = record['img']\n",
        "    label = record['label']\n",
        "\n",
        "    # convert from grayscale to RBG\n",
        "    if image.mode == 'L':\n",
        "        image = image.convert(\"RGB\")\n",
        "\n",
        "    # prepocessing\n",
        "    input_tensor_val = preprocess(image)\n",
        "    inputs_val.append((input_tensor_val, label)) # append to batch list"
      ],
      "metadata": {
        "id": "nRRcQ8V4s5B_",
        "outputId": "318b7323-7266-4736-cce1-6daf69deb685",
        "colab": {
          "base_uri": "https://localhost:8080/",
          "height": 49,
          "referenced_widgets": [
            "e61099e7c2f640dc9863000a4dcd151d",
            "91798cfb9bd142f990be8893f1a623d1",
            "c9144099046442368c004535b46e270a",
            "e9bd99a08c974b92aff02ff7a15a96c4",
            "e345019faf814bafa59af8623e399cea",
            "652488e680154f549b208d471f9578c6",
            "99d8212681824a229af9bad236501efb",
            "9a5883f1cdac4ecdb732c0e843762c1c",
            "e80d8d3f76844ce3bd288fc7c09f7e02",
            "405f1b00a3404db8898c249c26dbe835",
            "53b16b10564a419d81141de4da2678fd"
          ]
        }
      },
      "execution_count": 28,
      "outputs": [
        {
          "output_type": "display_data",
          "data": {
            "text/plain": [
              "  0%|          | 0/10000 [00:00<?, ?it/s]"
            ],
            "application/vnd.jupyter.widget-view+json": {
              "version_major": 2,
              "version_minor": 0,
              "model_id": "e61099e7c2f640dc9863000a4dcd151d"
            }
          },
          "metadata": {}
        }
      ]
    },
    {
      "cell_type": "code",
      "source": [
        "batch_size = 64\n",
        "\n",
        "# add to dataloaders\n",
        "dloader_train = torch.utils.data.DataLoader(\n",
        "  \tinputs_train,\n",
        "    batch_size=batch_size,\n",
        "    shuffle=True\n",
        ")\n",
        "\n",
        "dloader_val = torch.utils.data.DataLoader(\n",
        "  \tinputs_val,\n",
        "    batch_size=batch_size,\n",
        "    shuffle=False\n",
        ")"
      ],
      "metadata": {
        "id": "530HtSCQttmI"
      },
      "execution_count": 29,
      "outputs": []
    },
    {
      "cell_type": "markdown",
      "source": [
        "# Normalization for Channel 3 (RGB): Essential due to the variability in pixel values across channels, which helps models learn more effectively.\n",
        "# Normalization for Channel 1 (Grayscale): Less critical for simple datasets like MNIST, where the model can still perform well without it due to the uniformity of the data and the simpler task."
      ],
      "metadata": {
        "id": "BCOMhtknz7Pf"
      }
    },
    {
      "cell_type": "markdown",
      "source": [
        "**CNN Construction\n",
        "We can start building our CNN by creating a ConvNeuralNet class that will contain all our network layers and define the order of transformations through the network. The network will look like this:**"
      ],
      "metadata": {
        "id": "tR5UlQiF0Qwv"
      }
    },
    {
      "cell_type": "code",
      "source": [
        "# creating a CNN class\n",
        "class ConvNeuralNet(nn.Module):\n",
        "\t  #  Determine what layers and their order in CNN object\n",
        "    def __init__(self, num_classes):\n",
        "        super(ConvNeuralNet, self).__init__()\n",
        "        self.conv_layer1 = nn.Conv2d(in_channels=3, out_channels=64, kernel_size=4, padding=1)\n",
        "        self.relu1 = nn.ReLU()\n",
        "        self.max_pool1 = nn.MaxPool2d(kernel_size=3, stride=2)\n",
        "\n",
        "        self.conv_layer2 = nn.Conv2d(in_channels=64, out_channels=192, kernel_size=4, padding=1)\n",
        "        self.relu2 = nn.ReLU()\n",
        "        self.max_pool2 = nn.MaxPool2d(kernel_size=3, stride=2)\n",
        "\n",
        "        self.conv_layer3 = nn.Conv2d(in_channels=192, out_channels=384, kernel_size=3, padding=1)\n",
        "        self.relu3 = nn.ReLU()\n",
        "\n",
        "        self.conv_layer4 = nn.Conv2d(in_channels=384, out_channels=256, kernel_size=3, padding=1)\n",
        "        self.relu4 = nn.ReLU()\n",
        "\n",
        "        self.conv_layer5 = nn.Conv2d(in_channels=256, out_channels=256, kernel_size=3, padding=1)\n",
        "        self.relu5 = nn.ReLU()\n",
        "        self.max_pool5 = nn.MaxPool2d(kernel_size=3, stride=2)\n",
        "\n",
        "        self.dropout6 = nn.Dropout(p=0.5)\n",
        "        self.fc6 = nn.Linear(1024, 512)\n",
        "        self.relu6 = nn.ReLU()\n",
        "        self.dropout7 = nn.Dropout(p=0.5)\n",
        "        self.fc7 = nn.Linear(512, 256)\n",
        "        self.relu7 = nn.ReLU()\n",
        "        self.fc8 = nn.Linear(256, num_classes)\n",
        "\n",
        "    # Progresses data across layers\n",
        "    def forward(self, x):\n",
        "        out = self.conv_layer1(x)\n",
        "        out = self.relu1(out)\n",
        "        out = self.max_pool1(out)\n",
        "\n",
        "        out = self.conv_layer2(out)\n",
        "        out = self.relu2(out)\n",
        "        out = self.max_pool2(out)\n",
        "\n",
        "        out = self.conv_layer3(out)\n",
        "        out = self.relu3(out)\n",
        "\n",
        "        out = self.conv_layer4(out)\n",
        "        out = self.relu4(out)\n",
        "\n",
        "        out = self.conv_layer5(out)\n",
        "        out = self.relu5(out)\n",
        "        out = self.max_pool5(out)\n",
        "\n",
        "        out = out.reshape(out.size(0), -1)\n",
        "\n",
        "        out = self.dropout6(out)\n",
        "        out = self.fc6(out)\n",
        "        out = self.relu6(out)\n",
        "\n",
        "        out = self.dropout7(out)\n",
        "        out = self.fc7(out)\n",
        "        out = self.relu7(out)\n",
        "\n",
        "        out = self.fc8(out)  # final logits\n",
        "        return out"
      ],
      "metadata": {
        "id": "hD8EJVZSz9yP"
      },
      "execution_count": 30,
      "outputs": []
    },
    {
      "cell_type": "markdown",
      "source": [
        "### **Understanding CNN Layers**\n",
        "\n",
        "1. **`nn.Conv2d` (Convolutional Layer)**:\n",
        "   - **Purpose**: This layer applies a convolution operation to the input, which helps in feature extraction. It detects patterns such as edges, textures, or other features in the image.\n",
        "   - **Parameters**:\n",
        "     - `in_channels`: Number of input channels (e.g., 3 for RGB images, 1 for grayscale).\n",
        "     - `out_channels`: Number of output channels (i.e., the number of filters).\n",
        "     - `kernel_size`: Size of the filter (e.g., 3x3 or 4x4).\n",
        "     - `padding`: Padding added to the input image to control the spatial dimensions.\n",
        "\n",
        "2. **`nn.ReLU` (Rectified Linear Unit)**:\n",
        "   - **Purpose**: Applies a non-linear activation function, which introduces non-linearity into the network. This helps the network learn more complex patterns.\n",
        "   - **Usage**: Often used after convolutional layers to introduce non-linearity.\n",
        "\n",
        "3. **`nn.MaxPool2d` (Max Pooling Layer)**:\n",
        "   - **Purpose**: Reduces the spatial dimensions of the feature maps (width and height) while retaining the most important features. This helps in reducing computation and controlling overfitting.\n",
        "   - **Parameters**:\n",
        "     - `kernel_size`: Size of the pooling window.\n",
        "     - `stride`: The step size with which the pooling window moves.\n",
        "\n",
        "### **Typical Layer Combinations**\n",
        "\n",
        "1. **Convolutional Layer + Activation Function**:\n",
        "   - **Example**: `Conv2d` followed by `ReLU`.\n",
        "   - **Purpose**: Detect features and then apply a non-linearity. This is a common pattern to build feature extraction layers.\n",
        "\n",
        "2. **Convolutional Layer + Activation Function + Pooling Layer**:\n",
        "   - **Example**: `Conv2d`, `ReLU`, followed by `MaxPool2d`.\n",
        "   - **Purpose**: Extract features, introduce non-linearity, and then reduce spatial dimensions. This combination is often used to progressively reduce the spatial dimensions while increasing the number of feature channels.\n",
        "\n",
        "3. **Convolutional Layer + Pooling Layer**:\n",
        "   - **Less Common**: Using a convolutional layer directly followed by pooling is less common but can be used in specific architectures.\n",
        "\n",
        "### **Deciding When to Use Which Layers**\n",
        "\n",
        "1. **Feature Extraction**:\n",
        "   - **Use `Conv2d` + `ReLU`**: When you want to extract features and add non-linearity. Typically, every convolutional layer is followed by a non-linear activation like ReLU.\n",
        "\n",
        "2. **Dimensionality Reduction**:\n",
        "   - **Add `MaxPool2d`**: After several convolutional layers, adding a pooling layer helps reduce the spatial dimensions of the feature maps, which can be useful for reducing computational load and avoiding overfitting.\n",
        "\n",
        "3. **Building Blocks**:\n",
        "   - **Convolutional Layers**: Typically, you stack multiple convolutional layers followed by activation functions.\n",
        "   - **Pooling Layers**: Used intermittently to reduce dimensions, usually after a few convolutional layers.\n",
        "\n",
        "### **Example of Layer Combination**\n",
        "\n",
        "Here's a common pattern for a CNN block:\n",
        "\n",
        "```python\n",
        "class ExampleBlock(nn.Module):\n",
        "    def __init__(self):\n",
        "        super(ExampleBlock, self).__init__()\n",
        "        self.conv1 = nn.Conv2d(in_channels=3, out_channels=64, kernel_size=3, padding=1)\n",
        "        self.relu1 = nn.ReLU()\n",
        "        self.conv2 = nn.Conv2d(in_channels=64, out_channels=128, kernel_size=3, padding=1)\n",
        "        self.relu2 = nn.ReLU()\n",
        "        self.pool = nn.MaxPool2d(kernel_size=2, stride=2)\n",
        "\n",
        "    def forward(self, x):\n",
        "        x = self.conv1(x)\n",
        "        x = self.relu1(x)\n",
        "        x = self.conv2(x)\n",
        "        x = self.relu2(x)\n",
        "        x = self.pool(x)\n",
        "        return x\n",
        "```\n",
        "\n",
        "### **How to Decide on Layer Combinations**\n",
        "\n",
        "- **Experimentation**: In practice, the specific combination of layers and their parameters often comes down to experimentation and tuning based on the dataset and problem you are addressing.\n",
        "  \n",
        "- **Architectural Principles**: Follow established architectural principles from successful models like AlexNet, VGG, ResNet, etc. These models have well-defined patterns for layer combinations that have been proven effective.\n",
        "\n",
        "### **Summary**\n",
        "\n",
        "- **`Conv2d`**: For feature extraction.\n",
        "- **`ReLU`**: To introduce non-linearity.\n",
        "- **`MaxPool2d`**: To reduce spatial dimensions and retain essential features.\n",
        "\n",
        "By understanding the purpose of each layer and experimenting with different combinations, you can design effective CNN architectures for various tasks."
      ],
      "metadata": {
        "id": "-vIRy2h327Zn"
      }
    },
    {
      "cell_type": "code",
      "source": [],
      "metadata": {
        "id": "V6Z0P7ou0U0v"
      },
      "execution_count": null,
      "outputs": []
    }
  ]
}